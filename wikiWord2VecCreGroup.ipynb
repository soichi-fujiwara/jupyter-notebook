{
  "nbformat": 4,
  "nbformat_minor": 0,
  "metadata": {
    "colab": {
      "name": "wikiWord2VecCreGroup.ipynb",
      "version": "0.3.2",
      "provenance": [],
      "collapsed_sections": [],
      "include_colab_link": true
    },
    "kernelspec": {
      "name": "python3",
      "display_name": "Python 3"
    },
    "accelerator": "GPU"
  },
  "cells": [
    {
      "cell_type": "markdown",
      "metadata": {
        "id": "view-in-github",
        "colab_type": "text"
      },
      "source": [
        "<a href=\"https://colab.research.google.com/github/soichi-fujiwara/jupyter-notebook/blob/master/wikiWord2VecCreGroup.ipynb\" target=\"_parent\"><img src=\"https://colab.research.google.com/assets/colab-badge.svg\" alt=\"Open In Colab\"/></a>"
      ]
    },
    {
      "cell_type": "markdown",
      "metadata": {
        "id": "3RPLEyZjgMeG",
        "colab_type": "text"
      },
      "source": [
        "##学習済みDoc2Vecモデル\n",
        "https://yag-ays.github.io/project/pretrained_doc2vec_wikipedia/\n",
        "\n",
        "ライブラリ\n",
        "Gensim: 3.6.0"
      ]
    },
    {
      "cell_type": "code",
      "metadata": {
        "id": "WDCNznuyOCuI",
        "colab_type": "code",
        "outputId": "301e46ec-a483-4e82-ac50-c5784bc247f4",
        "colab": {
          "base_uri": "https://localhost:8080/",
          "height": 122
        }
      },
      "source": [
        "from google.colab import drive\n",
        "drive.mount('/content/drive')"
      ],
      "execution_count": 1,
      "outputs": [
        {
          "output_type": "stream",
          "text": [
            "Go to this URL in a browser: https://accounts.google.com/o/oauth2/auth?client_id=947318989803-6bn6qk8qdgf4n4g3pfee6491hc0brc4i.apps.googleusercontent.com&redirect_uri=urn%3Aietf%3Awg%3Aoauth%3A2.0%3Aoob&scope=email%20https%3A%2F%2Fwww.googleapis.com%2Fauth%2Fdocs.test%20https%3A%2F%2Fwww.googleapis.com%2Fauth%2Fdrive%20https%3A%2F%2Fwww.googleapis.com%2Fauth%2Fdrive.photos.readonly%20https%3A%2F%2Fwww.googleapis.com%2Fauth%2Fpeopleapi.readonly&response_type=code\n",
            "\n",
            "Enter your authorization code:\n",
            "··········\n",
            "Mounted at /content/drive\n"
          ],
          "name": "stdout"
        }
      ]
    },
    {
      "cell_type": "code",
      "metadata": {
        "id": "P2L0oI8HO_rM",
        "colab_type": "code",
        "outputId": "c047bc4c-e70e-468d-e4c9-4429807ddc6c",
        "colab": {
          "base_uri": "https://localhost:8080/",
          "height": 71
        }
      },
      "source": [
        "from gensim.models import KeyedVectors\n",
        "from pprint import pprint\n",
        "\n",
        "#Gドライブ保存後の確認\n",
        "model_dir = './drive/My Drive/NLP/wiki_tohoku.model'\n",
        "model = KeyedVectors.load(model_dir)"
      ],
      "execution_count": 2,
      "outputs": [
        {
          "output_type": "stream",
          "text": [
            "/usr/local/lib/python3.6/dist-packages/smart_open/smart_open_lib.py:398: UserWarning: This function is deprecated, use smart_open.open instead. See the migration notes for details: https://github.com/RaRe-Technologies/smart_open/blob/master/README.rst#migrating-to-the-new-open-function\n",
            "  'See the migration notes for details: %s' % _MIGRATION_NOTES_URL\n"
          ],
          "name": "stderr"
        }
      ]
    },
    {
      "cell_type": "code",
      "metadata": {
        "id": "c_AO7KRMigHl",
        "colab_type": "code",
        "outputId": "8a43663e-c32c-4091-f9e0-f005752975f0",
        "colab": {
          "base_uri": "https://localhost:8080/",
          "height": 122
        }
      },
      "source": [
        "!pip install mecab-python3"
      ],
      "execution_count": 3,
      "outputs": [
        {
          "output_type": "stream",
          "text": [
            "Collecting mecab-python3\n",
            "\u001b[?25l  Downloading https://files.pythonhosted.org/packages/b3/92/e7e7f38df8457fa40c1ca86928be5ddbe2bf341e90a35e6ada30d03ef16d/mecab_python3-0.996.2-cp36-cp36m-manylinux1_x86_64.whl (15.9MB)\n",
            "\u001b[K     |████████████████████████████████| 15.9MB 40.7MB/s \n",
            "\u001b[?25hInstalling collected packages: mecab-python3\n",
            "Successfully installed mecab-python3-0.996.2\n"
          ],
          "name": "stdout"
        }
      ]
    },
    {
      "cell_type": "code",
      "metadata": {
        "id": "RmME9rjLyLcz",
        "colab_type": "code",
        "outputId": "0c149eaf-8527-4566-81ff-404cc74659fe",
        "colab": {
          "base_uri": "https://localhost:8080/",
          "height": 51
        }
      },
      "source": [
        "import pandas as pd\n",
        "import itertools\n",
        "#**************************************************************************\n",
        "#分類特定\n",
        "#**************************************************************************\n",
        "max_cate = \"\"\n",
        "\n",
        "is_a_parent = pd.read_table('./drive/My Drive/NLP/is_a_parent_list.txt')\n",
        "\n",
        "#dataframeをlist化\n",
        "is_a_parent_list = is_a_parent.values.tolist()\n",
        "#2次元listから1次元listへ\n",
        "is_a_parent_list = list(itertools.chain.from_iterable(is_a_parent_list))"
      ],
      "execution_count": 4,
      "outputs": [
        {
          "output_type": "stream",
          "text": [
            "/usr/local/lib/python3.6/dist-packages/ipykernel_launcher.py:8: FutureWarning: read_table is deprecated, use read_csv instead, passing sep='\\t'.\n",
            "  \n"
          ],
          "name": "stderr"
        }
      ]
    },
    {
      "cell_type": "code",
      "metadata": {
        "id": "5AOQ5GmRLO7p",
        "colab_type": "code",
        "colab": {}
      },
      "source": [
        "import pandas as pd\n",
        "\n",
        "def group_check(child_wd):\n",
        "\n",
        "  ave_val_list = []\n",
        "  ave_val_list.append(child_wd)\n",
        "  \n",
        "  #is-a関係の判別\n",
        "  for is_a_word in is_a_parent_list:\n",
        "    try:\n",
        "      parent_wd = is_a_word\n",
        "      isa_val_list = []\n",
        "\n",
        "      for i in range(5):\n",
        "        rvs_wd = model.most_similar(positive=[child_wd])[i][0]\n",
        "        if child_wd != rvs_wd.replace('[',\"\").replace(']',\"\"):\n",
        "          wk_val = model.similarity(parent_wd,rvs_wd)\n",
        "          isa_val_list.append(wk_val)\n",
        "\n",
        "          for ii in range(5):\n",
        "            rvs_wd2 = model.most_similar(positive=[rvs_wd])[ii][0]\n",
        "            if rvs_wd != rvs_wd2.replace('[',\"\").replace(']',\"\"):\n",
        "              wk_val = model.similarity(parent_wd,rvs_wd2)\n",
        "              isa_val_list.append(wk_val)\n",
        "\n",
        "    except KeyError as error:\n",
        "      print(error)\n",
        "\n",
        "    ave_val = sum(isa_val_list) / len(isa_val_list)\n",
        "    #max_val = max(isa_val_list)\n",
        "    #min_val = min(isa_val_list)\n",
        "    print(\"【\",parent_wd,\"】is-a:\",ave_val)\n",
        "    ave_val_list.append(ave_val)\n",
        "\n",
        "  return ave_val_list"
      ],
      "execution_count": 0,
      "outputs": []
    },
    {
      "cell_type": "code",
      "metadata": {
        "id": "3rv9ZdoW2tKt",
        "colab_type": "code",
        "outputId": "9780d02f-672c-4917-f4fe-3d28b0a5cabe",
        "colab": {
          "base_uri": "https://localhost:8080/",
          "height": 1000
        }
      },
      "source": [
        "import MeCab\n",
        "cnt = 0\n",
        "\n",
        "del_list =['(',')','-','\"','、','。','/','.',',',':',')。',')、','「','」','『','』','()','』(','=','～','+','']\n",
        "\n",
        "tokenizer = MeCab.Tagger(\"-Ochasen\")\n",
        "\n",
        "for k, v in model.vocab.items():\n",
        "  write_list = []\n",
        "\n",
        "  if not k in del_list:\n",
        "    node = tokenizer.parseToNode(k)\n",
        "    while node:\n",
        "      if node.feature.split(\",\")[0] == u\"名詞\":\n",
        "        if(node.feature.split(\",\")[1] == u\"サ変接続\" or\n",
        "           node.feature.split(\",\")[1] == u\"一般\" or\n",
        "           node.feature.split(\",\")[1] == u\"固有名詞\"):\n",
        "          #グループ判別\n",
        "          rt_ave_val = group_check(k)\n",
        "          #グループ判別値書き込み\n",
        "          write_list.append(rt_ave_val)\n",
        "          print(write_list)\n",
        "          cnt = cnt + 1\n",
        "      else:\n",
        "        pass\n",
        "      node = node.next\n",
        "\n",
        "      if cnt > 5:\n",
        "        break"
      ],
      "execution_count": 75,
      "outputs": [
        {
          "output_type": "stream",
          "text": [
            "/usr/local/lib/python3.6/dist-packages/gensim/matutils.py:737: FutureWarning: Conversion of the second argument of issubdtype from `int` to `np.signedinteger` is deprecated. In future, it will be treated as `np.int64 == np.dtype(int).type`.\n",
            "  if np.issubdtype(vec.dtype, np.int):\n"
          ],
          "name": "stderr"
        },
        {
          "output_type": "stream",
          "text": [
            "【 男性 】is-a: 0.13246950536655883\n",
            "【 女性 】is-a: 0.1667623377094666\n",
            "【 キャラクター 】is-a: 0.20615097285287146\n",
            "【 職業 】is-a: 0.20548359143237274\n",
            "【 組織 】is-a: 0.1514538479425634\n",
            "【 施設 】is-a: 0.16215323271850746\n",
            "【 国家 】is-a: 0.1778785839676857\n",
            "【 都市 】is-a: 0.10374845541179335\n",
            "【 地域 】is-a: 0.1887072365731001\n",
            "【 温泉 】is-a: 0.06706333421170711\n",
            "【 自然 】is-a: 0.2672080773860216\n",
            "【 天体 】is-a: 0.2311511122621596\n",
            "【 道具 】is-a: 0.40936247805754344\n",
            "【 材料 】is-a: 0.34149354298909507\n",
            "【 芸術 】is-a: 0.07796574056070919\n",
            "【 食べ物 】is-a: 0.33833018988370894\n",
            "【 乗り物 】is-a: 0.28926198029269773\n",
            "【 薬 】is-a: 0.26495711306730907\n",
            "【 映画 】is-a: 0.11348534421995282\n",
            "【 音楽 】is-a: 0.1002096096985042\n",
            "【 番組 】is-a: 0.12392674167640508\n",
            "【 家具 】is-a: 0.1557208184696113\n",
            "【 本 】is-a: 0.15785353652512032\n",
            "【 新聞 】is-a: 0.05900798061241706\n",
            "【 ソフトウェア 】is-a: 0.248914592495809\n",
            "【 絵画 】is-a: 0.18994430669893822\n",
            "【 動物 】is-a: 0.29520407238354285\n",
            "【 植物 】is-a: 0.23026406938831012\n",
            "【 身体 】is-a: 0.2941113921503226\n",
            "【 事件 】is-a: 0.19369404564301174\n",
            "【 武器 】is-a: 0.29823676627129314\n",
            "【 戦争 】is-a: 0.18951811914642652\n",
            "【 行事 】is-a: 0.15918446104042233\n",
            "【 天気 】is-a: 0.11586170463512341\n",
            "【 病気 】is-a: 0.20948299244046212\n",
            "【 選挙 】is-a: 0.050552165484502136\n",
            "【 試験 】is-a: 0.046270818942866755\n",
            "【 裁判 】is-a: 0.14330637218469444\n",
            "【 会議 】is-a: -0.029483121074736118\n",
            "【 電気 】is-a: 0.10697118388488888\n",
            "【 熱 】is-a: 0.25122728397448857\n",
            "【 火 】is-a: 0.16834869446853798\n",
            "【 色 】is-a: 0.2028098586325844\n",
            "【 歴史 】is-a: 0.10733591504395008\n",
            "【 経済 】is-a: 0.10932179886537294\n",
            "【 行為 】is-a: 0.415267638862133\n",
            "【 言語 】is-a: 0.2216880281145374\n",
            "【 規則 】is-a: 0.22421618161412576\n",
            "【 賞 】is-a: -0.08050713916309178\n",
            "【 スポーツ 】is-a: 0.03870510647733075\n",
            "【 学問 】is-a: 0.2532725536264479\n",
            "【 現象 】is-a: 0.34336656679709754\n",
            "【 物 】is-a: 0.44930287525057794\n",
            "【 位置 】is-a: 0.06322499409628411\n",
            "['もの', ['もの', 0.13246950536655883, 0.1667623377094666, 0.20615097285287146, 0.20548359143237274, 0.1514538479425634, 0.16215323271850746, 0.1778785839676857, 0.10374845541179335, 0.1887072365731001, 0.06706333421170711, 0.2672080773860216, 0.2311511122621596, 0.40936247805754344, 0.34149354298909507, 0.07796574056070919, 0.33833018988370894, 0.28926198029269773, 0.26495711306730907, 0.11348534421995282, 0.1002096096985042, 0.12392674167640508, 0.1557208184696113, 0.15785353652512032, 0.05900798061241706, 0.248914592495809, 0.18994430669893822, 0.29520407238354285, 0.23026406938831012, 0.2941113921503226, 0.19369404564301174, 0.29823676627129314, 0.18951811914642652, 0.15918446104042233, 0.11586170463512341, 0.20948299244046212, 0.050552165484502136, 0.046270818942866755, 0.14330637218469444, -0.029483121074736118, 0.10697118388488888, 0.25122728397448857, 0.16834869446853798, 0.2028098586325844, 0.10733591504395008, 0.10932179886537294, 0.415267638862133, 0.2216880281145374, 0.22421618161412576, -0.08050713916309178, 0.03870510647733075, 0.2532725536264479, 0.34336656679709754, 0.44930287525057794, 0.06322499409628411]]\n",
            "【 男性 】is-a: 0.008233307333042224\n",
            "【 女性 】is-a: 0.0359468551663061\n",
            "【 キャラクター 】is-a: -0.043154777111097546\n",
            "【 職業 】is-a: -0.03925030558990936\n",
            "【 組織 】is-a: -0.0033655928215011953\n",
            "【 施設 】is-a: -0.020358206890523433\n",
            "【 国家 】is-a: 0.035352445721703894\n",
            "【 都市 】is-a: 0.0536322871184287\n",
            "【 地域 】is-a: 0.03174006186503296\n",
            "【 温泉 】is-a: 0.06469113159691915\n",
            "【 自然 】is-a: 0.010888331946140776\n",
            "【 天体 】is-a: 0.014192858920432627\n",
            "【 道具 】is-a: 0.03899651458486915\n",
            "【 材料 】is-a: -0.026252878038212656\n",
            "【 芸術 】is-a: -0.010907437621305386\n",
            "【 食べ物 】is-a: 0.006310470953273277\n",
            "【 乗り物 】is-a: 0.003188012249302119\n",
            "【 薬 】is-a: 0.038460290043925247\n",
            "【 映画 】is-a: 0.00272087665895621\n",
            "【 音楽 】is-a: -0.007781880674883723\n",
            "【 番組 】is-a: -0.0700101016399761\n",
            "【 家具 】is-a: 0.003911262293695472\n",
            "【 本 】is-a: -0.010698041754464309\n",
            "【 新聞 】is-a: 0.06366449287161231\n",
            "【 ソフトウェア 】is-a: -0.10841999656210342\n",
            "【 絵画 】is-a: 0.014615559189890822\n",
            "【 動物 】is-a: -0.004076463729143142\n",
            "【 植物 】is-a: -0.035760770526637016\n",
            "【 身体 】is-a: 0.014553170542543133\n",
            "【 事件 】is-a: 0.08235799284496655\n",
            "【 武器 】is-a: 0.005860803923375594\n",
            "【 戦争 】is-a: 0.07527636835972468\n",
            "【 行事 】is-a: 0.04239173266105354\n",
            "【 天気 】is-a: 0.025593492070523402\n",
            "【 病気 】is-a: 0.08245611212526759\n",
            "【 選挙 】is-a: -0.00931406559733053\n",
            "【 試験 】is-a: -0.07411819103484353\n",
            "【 裁判 】is-a: 0.005753860188027223\n",
            "【 会議 】is-a: 0.016686763948140046\n",
            "【 電気 】is-a: -0.0398562996648252\n",
            "【 熱 】is-a: 0.04849069188348949\n",
            "【 火 】is-a: 0.09036677524369831\n",
            "【 色 】is-a: -0.012574644821385542\n",
            "【 歴史 】is-a: 0.04392469706363045\n",
            "【 経済 】is-a: 0.03564523948977391\n",
            "【 行為 】is-a: 0.02862426848926892\n",
            "【 言語 】is-a: -0.05373303182423115\n",
            "【 規則 】is-a: -0.025512259065484006\n",
            "【 賞 】is-a: -0.05772812942353388\n",
            "【 スポーツ 】is-a: -0.07174600788081685\n",
            "【 学問 】is-a: -0.0019847208245967825\n",
            "【 現象 】is-a: 0.027098514574269452\n",
            "【 物 】is-a: -0.014205343718640507\n",
            "【 位置 】is-a: -0.011549634486436844\n",
            "['中', ['中', 0.008233307333042224, 0.0359468551663061, -0.043154777111097546, -0.03925030558990936, -0.0033655928215011953, -0.020358206890523433, 0.035352445721703894, 0.0536322871184287, 0.03174006186503296, 0.06469113159691915, 0.010888331946140776, 0.014192858920432627, 0.03899651458486915, -0.026252878038212656, -0.010907437621305386, 0.006310470953273277, 0.003188012249302119, 0.038460290043925247, 0.00272087665895621, -0.007781880674883723, -0.0700101016399761, 0.003911262293695472, -0.010698041754464309, 0.06366449287161231, -0.10841999656210342, 0.014615559189890822, -0.004076463729143142, -0.035760770526637016, 0.014553170542543133, 0.08235799284496655, 0.005860803923375594, 0.07527636835972468, 0.04239173266105354, 0.025593492070523402, 0.08245611212526759, -0.00931406559733053, -0.07411819103484353, 0.005753860188027223, 0.016686763948140046, -0.0398562996648252, 0.04849069188348949, 0.09036677524369831, -0.012574644821385542, 0.04392469706363045, 0.03564523948977391, 0.02862426848926892, -0.05373303182423115, -0.025512259065484006, -0.05772812942353388, -0.07174600788081685, -0.0019847208245967825, 0.027098514574269452, -0.014205343718640507, -0.011549634486436844]]\n",
            "【 男性 】is-a: 0.3348314022024473\n",
            "【 女性 】is-a: 0.38840732276439666\n",
            "【 キャラクター 】is-a: 0.12846113938527803\n",
            "【 職業 】is-a: 0.32599906076987584\n",
            "【 組織 】is-a: 0.20680203698575497\n",
            "【 施設 】is-a: 0.1479342624467487\n"
          ],
          "name": "stdout"
        },
        {
          "output_type": "error",
          "ename": "KeyboardInterrupt",
          "evalue": "ignored",
          "traceback": [
            "\u001b[0;31m---------------------------------------------------------------------------\u001b[0m",
            "\u001b[0;31mKeyboardInterrupt\u001b[0m                         Traceback (most recent call last)",
            "\u001b[0;32m<ipython-input-75-e4efadf2d6b1>\u001b[0m in \u001b[0;36m<module>\u001b[0;34m()\u001b[0m\n\u001b[1;32m     20\u001b[0m            node.feature.split(\",\")[1] == u\"固有名詞\"):\n\u001b[1;32m     21\u001b[0m           \u001b[0;31m#グループ判別\u001b[0m\u001b[0;34m\u001b[0m\u001b[0;34m\u001b[0m\u001b[0;34m\u001b[0m\u001b[0m\n\u001b[0;32m---> 22\u001b[0;31m           \u001b[0mrt_ave_val\u001b[0m \u001b[0;34m=\u001b[0m \u001b[0mgroup_check\u001b[0m\u001b[0;34m(\u001b[0m\u001b[0mk\u001b[0m\u001b[0;34m)\u001b[0m\u001b[0;34m\u001b[0m\u001b[0;34m\u001b[0m\u001b[0m\n\u001b[0m\u001b[1;32m     23\u001b[0m           \u001b[0;31m#グループ判別値書き込み\u001b[0m\u001b[0;34m\u001b[0m\u001b[0;34m\u001b[0m\u001b[0;34m\u001b[0m\u001b[0m\n\u001b[1;32m     24\u001b[0m           \u001b[0mwrite_list\u001b[0m\u001b[0;34m.\u001b[0m\u001b[0mappend\u001b[0m\u001b[0;34m(\u001b[0m\u001b[0mrt_ave_val\u001b[0m\u001b[0;34m)\u001b[0m\u001b[0;34m\u001b[0m\u001b[0;34m\u001b[0m\u001b[0m\n",
            "\u001b[0;32m<ipython-input-74-07b08567b958>\u001b[0m in \u001b[0;36mgroup_check\u001b[0;34m(child_wd)\u001b[0m\n\u001b[1;32m     19\u001b[0m \u001b[0;34m\u001b[0m\u001b[0m\n\u001b[1;32m     20\u001b[0m           \u001b[0;32mfor\u001b[0m \u001b[0mii\u001b[0m \u001b[0;32min\u001b[0m \u001b[0mrange\u001b[0m\u001b[0;34m(\u001b[0m\u001b[0;36m5\u001b[0m\u001b[0;34m)\u001b[0m\u001b[0;34m:\u001b[0m\u001b[0;34m\u001b[0m\u001b[0;34m\u001b[0m\u001b[0m\n\u001b[0;32m---> 21\u001b[0;31m             \u001b[0mrvs_wd2\u001b[0m \u001b[0;34m=\u001b[0m \u001b[0mmodel\u001b[0m\u001b[0;34m.\u001b[0m\u001b[0mmost_similar\u001b[0m\u001b[0;34m(\u001b[0m\u001b[0mpositive\u001b[0m\u001b[0;34m=\u001b[0m\u001b[0;34m[\u001b[0m\u001b[0mrvs_wd\u001b[0m\u001b[0;34m]\u001b[0m\u001b[0;34m)\u001b[0m\u001b[0;34m[\u001b[0m\u001b[0mii\u001b[0m\u001b[0;34m]\u001b[0m\u001b[0;34m[\u001b[0m\u001b[0;36m0\u001b[0m\u001b[0;34m]\u001b[0m\u001b[0;34m\u001b[0m\u001b[0;34m\u001b[0m\u001b[0m\n\u001b[0m\u001b[1;32m     22\u001b[0m             \u001b[0;32mif\u001b[0m \u001b[0mrvs_wd\u001b[0m \u001b[0;34m!=\u001b[0m \u001b[0mrvs_wd2\u001b[0m\u001b[0;34m.\u001b[0m\u001b[0mreplace\u001b[0m\u001b[0;34m(\u001b[0m\u001b[0;34m'['\u001b[0m\u001b[0;34m,\u001b[0m\u001b[0;34m\"\"\u001b[0m\u001b[0;34m)\u001b[0m\u001b[0;34m.\u001b[0m\u001b[0mreplace\u001b[0m\u001b[0;34m(\u001b[0m\u001b[0;34m']'\u001b[0m\u001b[0;34m,\u001b[0m\u001b[0;34m\"\"\u001b[0m\u001b[0;34m)\u001b[0m\u001b[0;34m:\u001b[0m\u001b[0;34m\u001b[0m\u001b[0;34m\u001b[0m\u001b[0m\n\u001b[1;32m     23\u001b[0m               \u001b[0mwk_val\u001b[0m \u001b[0;34m=\u001b[0m \u001b[0mmodel\u001b[0m\u001b[0;34m.\u001b[0m\u001b[0msimilarity\u001b[0m\u001b[0;34m(\u001b[0m\u001b[0mparent_wd\u001b[0m\u001b[0;34m,\u001b[0m\u001b[0mrvs_wd2\u001b[0m\u001b[0;34m)\u001b[0m\u001b[0;34m\u001b[0m\u001b[0;34m\u001b[0m\u001b[0m\n",
            "\u001b[0;32m/usr/local/lib/python3.6/dist-packages/gensim/models/keyedvectors.py\u001b[0m in \u001b[0;36mmost_similar\u001b[0;34m(self, positive, negative, topn, restrict_vocab, indexer)\u001b[0m\n\u001b[1;32m    543\u001b[0m         \u001b[0;32mif\u001b[0m \u001b[0;32mnot\u001b[0m \u001b[0mtopn\u001b[0m\u001b[0;34m:\u001b[0m\u001b[0;34m\u001b[0m\u001b[0;34m\u001b[0m\u001b[0m\n\u001b[1;32m    544\u001b[0m             \u001b[0;32mreturn\u001b[0m \u001b[0mdists\u001b[0m\u001b[0;34m\u001b[0m\u001b[0;34m\u001b[0m\u001b[0m\n\u001b[0;32m--> 545\u001b[0;31m         \u001b[0mbest\u001b[0m \u001b[0;34m=\u001b[0m \u001b[0mmatutils\u001b[0m\u001b[0;34m.\u001b[0m\u001b[0margsort\u001b[0m\u001b[0;34m(\u001b[0m\u001b[0mdists\u001b[0m\u001b[0;34m,\u001b[0m \u001b[0mtopn\u001b[0m\u001b[0;34m=\u001b[0m\u001b[0mtopn\u001b[0m \u001b[0;34m+\u001b[0m \u001b[0mlen\u001b[0m\u001b[0;34m(\u001b[0m\u001b[0mall_words\u001b[0m\u001b[0;34m)\u001b[0m\u001b[0;34m,\u001b[0m \u001b[0mreverse\u001b[0m\u001b[0;34m=\u001b[0m\u001b[0;32mTrue\u001b[0m\u001b[0;34m)\u001b[0m\u001b[0;34m\u001b[0m\u001b[0;34m\u001b[0m\u001b[0m\n\u001b[0m\u001b[1;32m    546\u001b[0m         \u001b[0;31m# ignore (don't return) words from the input\u001b[0m\u001b[0;34m\u001b[0m\u001b[0;34m\u001b[0m\u001b[0;34m\u001b[0m\u001b[0m\n\u001b[1;32m    547\u001b[0m         \u001b[0mresult\u001b[0m \u001b[0;34m=\u001b[0m \u001b[0;34m[\u001b[0m\u001b[0;34m(\u001b[0m\u001b[0mself\u001b[0m\u001b[0;34m.\u001b[0m\u001b[0mindex2word\u001b[0m\u001b[0;34m[\u001b[0m\u001b[0msim\u001b[0m\u001b[0;34m]\u001b[0m\u001b[0;34m,\u001b[0m \u001b[0mfloat\u001b[0m\u001b[0;34m(\u001b[0m\u001b[0mdists\u001b[0m\u001b[0;34m[\u001b[0m\u001b[0msim\u001b[0m\u001b[0;34m]\u001b[0m\u001b[0;34m)\u001b[0m\u001b[0;34m)\u001b[0m \u001b[0;32mfor\u001b[0m \u001b[0msim\u001b[0m \u001b[0;32min\u001b[0m \u001b[0mbest\u001b[0m \u001b[0;32mif\u001b[0m \u001b[0msim\u001b[0m \u001b[0;32mnot\u001b[0m \u001b[0;32min\u001b[0m \u001b[0mall_words\u001b[0m\u001b[0;34m]\u001b[0m\u001b[0;34m\u001b[0m\u001b[0;34m\u001b[0m\u001b[0m\n",
            "\u001b[0;32m/usr/local/lib/python3.6/dist-packages/gensim/matutils.py\u001b[0m in \u001b[0;36margsort\u001b[0;34m(x, topn, reverse)\u001b[0m\n\u001b[1;32m     80\u001b[0m         \u001b[0;32mreturn\u001b[0m \u001b[0mnp\u001b[0m\u001b[0;34m.\u001b[0m\u001b[0margsort\u001b[0m\u001b[0;34m(\u001b[0m\u001b[0mx\u001b[0m\u001b[0;34m)\u001b[0m\u001b[0;34m[\u001b[0m\u001b[0;34m:\u001b[0m\u001b[0mtopn\u001b[0m\u001b[0;34m]\u001b[0m\u001b[0;34m\u001b[0m\u001b[0;34m\u001b[0m\u001b[0m\n\u001b[1;32m     81\u001b[0m     \u001b[0;31m# np >= 1.8 has a fast partial argsort, use that!\u001b[0m\u001b[0;34m\u001b[0m\u001b[0;34m\u001b[0m\u001b[0;34m\u001b[0m\u001b[0m\n\u001b[0;32m---> 82\u001b[0;31m     \u001b[0mmost_extreme\u001b[0m \u001b[0;34m=\u001b[0m \u001b[0mnp\u001b[0m\u001b[0;34m.\u001b[0m\u001b[0margpartition\u001b[0m\u001b[0;34m(\u001b[0m\u001b[0mx\u001b[0m\u001b[0;34m,\u001b[0m \u001b[0mtopn\u001b[0m\u001b[0;34m)\u001b[0m\u001b[0;34m[\u001b[0m\u001b[0;34m:\u001b[0m\u001b[0mtopn\u001b[0m\u001b[0;34m]\u001b[0m\u001b[0;34m\u001b[0m\u001b[0;34m\u001b[0m\u001b[0m\n\u001b[0m\u001b[1;32m     83\u001b[0m     \u001b[0;32mreturn\u001b[0m \u001b[0mmost_extreme\u001b[0m\u001b[0;34m.\u001b[0m\u001b[0mtake\u001b[0m\u001b[0;34m(\u001b[0m\u001b[0mnp\u001b[0m\u001b[0;34m.\u001b[0m\u001b[0margsort\u001b[0m\u001b[0;34m(\u001b[0m\u001b[0mx\u001b[0m\u001b[0;34m.\u001b[0m\u001b[0mtake\u001b[0m\u001b[0;34m(\u001b[0m\u001b[0mmost_extreme\u001b[0m\u001b[0;34m)\u001b[0m\u001b[0;34m)\u001b[0m\u001b[0;34m)\u001b[0m  \u001b[0;31m# resort topn into order\u001b[0m\u001b[0;34m\u001b[0m\u001b[0;34m\u001b[0m\u001b[0m\n\u001b[1;32m     84\u001b[0m \u001b[0;34m\u001b[0m\u001b[0m\n",
            "\u001b[0;32m/usr/local/lib/python3.6/dist-packages/numpy/core/fromnumeric.py\u001b[0m in \u001b[0;36margpartition\u001b[0;34m(a, kth, axis, kind, order)\u001b[0m\n\u001b[1;32m    806\u001b[0m \u001b[0;34m\u001b[0m\u001b[0m\n\u001b[1;32m    807\u001b[0m     \"\"\"\n\u001b[0;32m--> 808\u001b[0;31m     \u001b[0;32mreturn\u001b[0m \u001b[0m_wrapfunc\u001b[0m\u001b[0;34m(\u001b[0m\u001b[0ma\u001b[0m\u001b[0;34m,\u001b[0m \u001b[0;34m'argpartition'\u001b[0m\u001b[0;34m,\u001b[0m \u001b[0mkth\u001b[0m\u001b[0;34m,\u001b[0m \u001b[0maxis\u001b[0m\u001b[0;34m=\u001b[0m\u001b[0maxis\u001b[0m\u001b[0;34m,\u001b[0m \u001b[0mkind\u001b[0m\u001b[0;34m=\u001b[0m\u001b[0mkind\u001b[0m\u001b[0;34m,\u001b[0m \u001b[0morder\u001b[0m\u001b[0;34m=\u001b[0m\u001b[0morder\u001b[0m\u001b[0;34m)\u001b[0m\u001b[0;34m\u001b[0m\u001b[0;34m\u001b[0m\u001b[0m\n\u001b[0m\u001b[1;32m    809\u001b[0m \u001b[0;34m\u001b[0m\u001b[0m\n\u001b[1;32m    810\u001b[0m \u001b[0;34m\u001b[0m\u001b[0m\n",
            "\u001b[0;32m/usr/local/lib/python3.6/dist-packages/numpy/core/fromnumeric.py\u001b[0m in \u001b[0;36m_wrapfunc\u001b[0;34m(obj, method, *args, **kwds)\u001b[0m\n\u001b[1;32m     54\u001b[0m \u001b[0;32mdef\u001b[0m \u001b[0m_wrapfunc\u001b[0m\u001b[0;34m(\u001b[0m\u001b[0mobj\u001b[0m\u001b[0;34m,\u001b[0m \u001b[0mmethod\u001b[0m\u001b[0;34m,\u001b[0m \u001b[0;34m*\u001b[0m\u001b[0margs\u001b[0m\u001b[0;34m,\u001b[0m \u001b[0;34m**\u001b[0m\u001b[0mkwds\u001b[0m\u001b[0;34m)\u001b[0m\u001b[0;34m:\u001b[0m\u001b[0;34m\u001b[0m\u001b[0;34m\u001b[0m\u001b[0m\n\u001b[1;32m     55\u001b[0m     \u001b[0;32mtry\u001b[0m\u001b[0;34m:\u001b[0m\u001b[0;34m\u001b[0m\u001b[0;34m\u001b[0m\u001b[0m\n\u001b[0;32m---> 56\u001b[0;31m         \u001b[0;32mreturn\u001b[0m \u001b[0mgetattr\u001b[0m\u001b[0;34m(\u001b[0m\u001b[0mobj\u001b[0m\u001b[0;34m,\u001b[0m \u001b[0mmethod\u001b[0m\u001b[0;34m)\u001b[0m\u001b[0;34m(\u001b[0m\u001b[0;34m*\u001b[0m\u001b[0margs\u001b[0m\u001b[0;34m,\u001b[0m \u001b[0;34m**\u001b[0m\u001b[0mkwds\u001b[0m\u001b[0;34m)\u001b[0m\u001b[0;34m\u001b[0m\u001b[0;34m\u001b[0m\u001b[0m\n\u001b[0m\u001b[1;32m     57\u001b[0m \u001b[0;34m\u001b[0m\u001b[0m\n\u001b[1;32m     58\u001b[0m     \u001b[0;31m# An AttributeError occurs if the object does not have\u001b[0m\u001b[0;34m\u001b[0m\u001b[0;34m\u001b[0m\u001b[0;34m\u001b[0m\u001b[0m\n",
            "\u001b[0;31mKeyboardInterrupt\u001b[0m: "
          ]
        }
      ]
    }
  ]
}