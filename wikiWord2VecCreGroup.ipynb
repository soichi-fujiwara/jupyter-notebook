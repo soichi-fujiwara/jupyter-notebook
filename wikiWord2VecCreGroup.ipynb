{
  "nbformat": 4,
  "nbformat_minor": 0,
  "metadata": {
    "colab": {
      "name": "wikiWord2VecCreGroup.ipynb",
      "provenance": [],
      "collapsed_sections": [],
      "include_colab_link": true
    },
    "kernelspec": {
      "name": "python3",
      "display_name": "Python 3"
    },
    "accelerator": "GPU"
  },
  "cells": [
    {
      "cell_type": "markdown",
      "metadata": {
        "id": "view-in-github",
        "colab_type": "text"
      },
      "source": [
        "<a href=\"https://colab.research.google.com/github/soichi-fujiwara/jupyter-notebook/blob/master/wikiWord2VecCreGroup.ipynb\" target=\"_parent\"><img src=\"https://colab.research.google.com/assets/colab-badge.svg\" alt=\"Open In Colab\"/></a>"
      ]
    },
    {
      "cell_type": "markdown",
      "metadata": {
        "id": "3RPLEyZjgMeG",
        "colab_type": "text"
      },
      "source": [
        "##学習済みDoc2Vecモデル\n",
        "https://yag-ays.github.io/project/pretrained_doc2vec_wikipedia/\n",
        "\n",
        "ライブラリ\n",
        "Gensim: 3.6.0"
      ]
    },
    {
      "cell_type": "code",
      "metadata": {
        "id": "WDCNznuyOCuI",
        "colab_type": "code",
        "outputId": "da2f5547-fe29-4bad-ba86-c5856f758bee",
        "colab": {
          "base_uri": "https://localhost:8080/",
          "height": 122
        }
      },
      "source": [
        "from google.colab import drive\n",
        "drive.mount('/content/drive')"
      ],
      "execution_count": 1,
      "outputs": [
        {
          "output_type": "stream",
          "text": [
            "Go to this URL in a browser: https://accounts.google.com/o/oauth2/auth?client_id=947318989803-6bn6qk8qdgf4n4g3pfee6491hc0brc4i.apps.googleusercontent.com&redirect_uri=urn%3Aietf%3Awg%3Aoauth%3A2.0%3Aoob&scope=email%20https%3A%2F%2Fwww.googleapis.com%2Fauth%2Fdocs.test%20https%3A%2F%2Fwww.googleapis.com%2Fauth%2Fdrive%20https%3A%2F%2Fwww.googleapis.com%2Fauth%2Fdrive.photos.readonly%20https%3A%2F%2Fwww.googleapis.com%2Fauth%2Fpeopleapi.readonly&response_type=code\n",
            "\n",
            "Enter your authorization code:\n",
            "··········\n",
            "Mounted at /content/drive\n"
          ],
          "name": "stdout"
        }
      ]
    },
    {
      "cell_type": "code",
      "metadata": {
        "id": "P2L0oI8HO_rM",
        "colab_type": "code",
        "outputId": "16358e10-4d0b-4faf-b161-11d91dd329b7",
        "colab": {
          "base_uri": "https://localhost:8080/",
          "height": 71
        }
      },
      "source": [
        "from gensim.models import KeyedVectors\n",
        "from pprint import pprint\n",
        "\n",
        "#Gドライブ保存後の確認\n",
        "model_dir = './drive/My Drive/NLP/wiki_tohoku.model'\n",
        "model = KeyedVectors.load(model_dir)"
      ],
      "execution_count": 2,
      "outputs": [
        {
          "output_type": "stream",
          "text": [
            "/usr/local/lib/python3.6/dist-packages/smart_open/smart_open_lib.py:398: UserWarning: This function is deprecated, use smart_open.open instead. See the migration notes for details: https://github.com/RaRe-Technologies/smart_open/blob/master/README.rst#migrating-to-the-new-open-function\n",
            "  'See the migration notes for details: %s' % _MIGRATION_NOTES_URL\n"
          ],
          "name": "stderr"
        }
      ]
    },
    {
      "cell_type": "code",
      "metadata": {
        "id": "c_AO7KRMigHl",
        "colab_type": "code",
        "outputId": "1eefb9d6-2a7d-4f38-f42c-1b25469fa047",
        "colab": {
          "base_uri": "https://localhost:8080/",
          "height": 122
        }
      },
      "source": [
        "!pip install mecab-python3"
      ],
      "execution_count": 3,
      "outputs": [
        {
          "output_type": "stream",
          "text": [
            "Collecting mecab-python3\n",
            "\u001b[?25l  Downloading https://files.pythonhosted.org/packages/b3/92/e7e7f38df8457fa40c1ca86928be5ddbe2bf341e90a35e6ada30d03ef16d/mecab_python3-0.996.2-cp36-cp36m-manylinux1_x86_64.whl (15.9MB)\n",
            "\u001b[K     |████████████████████████████████| 15.9MB 6.7MB/s \n",
            "\u001b[?25hInstalling collected packages: mecab-python3\n",
            "Successfully installed mecab-python3-0.996.2\n"
          ],
          "name": "stdout"
        }
      ]
    },
    {
      "cell_type": "code",
      "metadata": {
        "id": "RmME9rjLyLcz",
        "colab_type": "code",
        "outputId": "ead0d8e9-0872-4a6e-d449-07afa34b1487",
        "colab": {
          "base_uri": "https://localhost:8080/",
          "height": 51
        }
      },
      "source": [
        "import pandas as pd\n",
        "import itertools\n",
        "#**************************************************************************\n",
        "#分類特定\n",
        "#**************************************************************************\n",
        "is_a_parent = pd.read_table('./drive/My Drive/NLP/is_a_parent_list.txt')\n",
        "\n",
        "#dataframeをlist化\n",
        "is_a_parent_list = is_a_parent.values.tolist()\n",
        "#2次元listから1次元listへ\n",
        "is_a_parent_list = list(itertools.chain.from_iterable(is_a_parent_list))"
      ],
      "execution_count": 4,
      "outputs": [
        {
          "output_type": "stream",
          "text": [
            "/usr/local/lib/python3.6/dist-packages/ipykernel_launcher.py:6: FutureWarning: read_table is deprecated, use read_csv instead, passing sep='\\t'.\n",
            "  \n"
          ],
          "name": "stderr"
        }
      ]
    },
    {
      "cell_type": "code",
      "metadata": {
        "id": "5AOQ5GmRLO7p",
        "colab_type": "code",
        "colab": {}
      },
      "source": [
        "import pandas as pd\n",
        "\n",
        "def group_check(child_wd):\n",
        "  max_val = 0\n",
        "\n",
        "  val_list = []\n",
        "  val_list.append(child_wd)\n",
        "  \n",
        "  #is-a関係の判別\n",
        "  for is_a_word in is_a_parent_list:\n",
        "    try:\n",
        "      parent_wd = is_a_word\n",
        "      isa_val_list = []\n",
        "\n",
        "      for i in range(2):\n",
        "        rvs_wd = model.most_similar(positive=[child_wd])[i][0]\n",
        "        if child_wd != rvs_wd.replace('[',\"\").replace(']',\"\"):\n",
        "          wk_val = model.similarity(parent_wd,rvs_wd)\n",
        "          isa_val_list.append(wk_val)\n",
        "\n",
        "          for ii in range(2):\n",
        "            rvs_wd2 = model.most_similar(positive=[rvs_wd])[ii][0]\n",
        "            if rvs_wd != rvs_wd2.replace('[',\"\").replace(']',\"\"):\n",
        "              wk_val = model.similarity(parent_wd,rvs_wd2)\n",
        "              isa_val_list.append(wk_val)\n",
        "\n",
        "    except KeyError as error:\n",
        "      print(error)\n",
        "\n",
        "    #辞書に登録の無い単語の場合は対応が必要\n",
        "    max_val = max(isa_val_list)\n",
        "    print(\"【\",parent_wd,\"】is-a:\",max_val)\n",
        "    val_list.append(max_val)\n",
        "\n",
        "  return val_list"
      ],
      "execution_count": 0,
      "outputs": []
    },
    {
      "cell_type": "code",
      "metadata": {
        "id": "3rv9ZdoW2tKt",
        "colab_type": "code",
        "colab": {}
      },
      "source": [
        "import MeCab\n",
        "cnt = 0\n",
        "\n",
        "del_list =['(',')','-','\"','、','。','/','.',',',':',')。',')、','「','」','『','』','()','』(','=','～','+','']\n",
        "\n",
        "tokenizer = MeCab.Tagger(\"-Ochasen\")\n",
        "write_list = []\n",
        "done_word = ''\n",
        "\n",
        "for k, v in model.vocab.items():\n",
        "\n",
        "  if len(k) >= 2:\n",
        "    if k not in del_list:\n",
        "      if k != done_word:\n",
        "        node = tokenizer.parseToNode(k)\n",
        "        while node:\n",
        "          if node.feature.split(\",\")[0] == u\"名詞\":\n",
        "            if(node.feature.split(\",\")[1] == u\"サ変接続\" or\n",
        "               node.feature.split(\",\")[1] == u\"一般\" or\n",
        "               node.feature.split(\",\")[1] == u\"固有名詞\"):\n",
        "\n",
        "              #print(\"donewordtype:\",type(done_word),done_word,len(done_word))\n",
        "              #print(\"ktype:\",type(k),k,len(k))\n",
        "              \n",
        "              #グループ判別\n",
        "              ##rt_ave_val = group_check(k)\n",
        "              #グループ判別値書き込み\n",
        "              ##write_list.append(rt_ave_val)\n",
        "              #print(write_list)\n",
        "              cnt = cnt + 1\n",
        "              done_word = k\n",
        "          else:\n",
        "            pass\n",
        "          node = node.next\n",
        "\n",
        "          if cnt > 5:\n",
        "            break\n",
        "        "
      ],
      "execution_count": 0,
      "outputs": []
    },
    {
      "cell_type": "code",
      "metadata": {
        "id": "7rgFZgq-jsG_",
        "colab_type": "code",
        "outputId": "425a5fcb-dcc5-42e0-e9f0-9835de68e0f1",
        "colab": {
          "base_uri": "https://localhost:8080/",
          "height": 97
        }
      },
      "source": [
        "import pandas as pd\n",
        "\n",
        "lst = is_a_parent_list.copy()\n",
        "lst.insert(0,\"WORD\")\n",
        "\n",
        "df = pd.DataFrame(data=write_list,columns=lst)\n",
        "df2 = df.set_index('WORD')\n",
        "df2"
      ],
      "execution_count": 0,
      "outputs": [
        {
          "output_type": "execute_result",
          "data": {
            "text/html": [
              "<div>\n",
              "<style scoped>\n",
              "    .dataframe tbody tr th:only-of-type {\n",
              "        vertical-align: middle;\n",
              "    }\n",
              "\n",
              "    .dataframe tbody tr th {\n",
              "        vertical-align: top;\n",
              "    }\n",
              "\n",
              "    .dataframe thead th {\n",
              "        text-align: right;\n",
              "    }\n",
              "</style>\n",
              "<table border=\"1\" class=\"dataframe\">\n",
              "  <thead>\n",
              "    <tr style=\"text-align: right;\">\n",
              "      <th></th>\n",
              "      <th>男性</th>\n",
              "      <th>女性</th>\n",
              "      <th>キャラクター</th>\n",
              "      <th>職業</th>\n",
              "      <th>組織</th>\n",
              "      <th>施設</th>\n",
              "      <th>都市</th>\n",
              "      <th>地域</th>\n",
              "      <th>自然</th>\n",
              "      <th>天体</th>\n",
              "      <th>道具</th>\n",
              "      <th>芸術</th>\n",
              "      <th>食べ物</th>\n",
              "      <th>乗り物</th>\n",
              "      <th>本</th>\n",
              "      <th>IT</th>\n",
              "      <th>動物</th>\n",
              "      <th>植物</th>\n",
              "      <th>身体</th>\n",
              "      <th>事件</th>\n",
              "      <th>戦争</th>\n",
              "      <th>行事</th>\n",
              "      <th>天気</th>\n",
              "      <th>病気</th>\n",
              "      <th>色</th>\n",
              "      <th>歴史</th>\n",
              "      <th>経済</th>\n",
              "      <th>言語</th>\n",
              "      <th>スポーツ</th>\n",
              "      <th>学問</th>\n",
              "      <th>現象</th>\n",
              "      <th>物</th>\n",
              "      <th>政治</th>\n",
              "    </tr>\n",
              "    <tr>\n",
              "      <th>WORD</th>\n",
              "      <th></th>\n",
              "      <th></th>\n",
              "      <th></th>\n",
              "      <th></th>\n",
              "      <th></th>\n",
              "      <th></th>\n",
              "      <th></th>\n",
              "      <th></th>\n",
              "      <th></th>\n",
              "      <th></th>\n",
              "      <th></th>\n",
              "      <th></th>\n",
              "      <th></th>\n",
              "      <th></th>\n",
              "      <th></th>\n",
              "      <th></th>\n",
              "      <th></th>\n",
              "      <th></th>\n",
              "      <th></th>\n",
              "      <th></th>\n",
              "      <th></th>\n",
              "      <th></th>\n",
              "      <th></th>\n",
              "      <th></th>\n",
              "      <th></th>\n",
              "      <th></th>\n",
              "      <th></th>\n",
              "      <th></th>\n",
              "      <th></th>\n",
              "      <th></th>\n",
              "      <th></th>\n",
              "      <th></th>\n",
              "      <th></th>\n",
              "    </tr>\n",
              "  </thead>\n",
              "  <tbody>\n",
              "  </tbody>\n",
              "</table>\n",
              "</div>"
            ],
            "text/plain": [
              "Empty DataFrame\n",
              "Columns: [男性, 女性, キャラクター, 職業, 組織, 施設, 都市, 地域, 自然, 天体, 道具, 芸術, 食べ物, 乗り物, 本, IT, 動物, 植物, 身体, 事件, 戦争, 行事, 天気, 病気, 色, 歴史, 経済, 言語, スポーツ, 学問, 現象, 物, 政治]\n",
              "Index: []"
            ]
          },
          "metadata": {
            "tags": []
          },
          "execution_count": 163
        }
      ]
    },
    {
      "cell_type": "code",
      "metadata": {
        "id": "k-xz7jJEfZS6",
        "colab_type": "code",
        "colab": {}
      },
      "source": [
        "model.most_similar(positive=[u\"ドイツ\",u\"逆\"])"
      ],
      "execution_count": 0,
      "outputs": []
    },
    {
      "cell_type": "code",
      "metadata": {
        "id": "w9csmwhKuou6",
        "colab_type": "code",
        "outputId": "725bb282-b971-4d3c-d426-5a97b1add193",
        "colab": {
          "base_uri": "https://localhost:8080/",
          "height": 88
        }
      },
      "source": [
        "model.similarity(\"日本\",\"北朝鮮\")"
      ],
      "execution_count": 0,
      "outputs": [
        {
          "output_type": "stream",
          "text": [
            "/usr/local/lib/python3.6/dist-packages/gensim/matutils.py:737: FutureWarning: Conversion of the second argument of issubdtype from `int` to `np.signedinteger` is deprecated. In future, it will be treated as `np.int64 == np.dtype(int).type`.\n",
            "  if np.issubdtype(vec.dtype, np.int):\n"
          ],
          "name": "stderr"
        },
        {
          "output_type": "execute_result",
          "data": {
            "text/plain": [
              "0.4340905"
            ]
          },
          "metadata": {
            "tags": []
          },
          "execution_count": 143
        }
      ]
    },
    {
      "cell_type": "code",
      "metadata": {
        "id": "lk1iX6I4__bS",
        "colab_type": "code",
        "outputId": "fb092303-51f1-4806-9389-4dea8905b859",
        "colab": {
          "base_uri": "https://localhost:8080/",
          "height": 34
        }
      },
      "source": [
        "if \"[日本]\" not in done_list:\n",
        "  print(\"NG\")\n",
        "else:\n",
        "  print(\"OK\")"
      ],
      "execution_count": 11,
      "outputs": [
        {
          "output_type": "stream",
          "text": [
            "OK\n"
          ],
          "name": "stdout"
        }
      ]
    },
    {
      "cell_type": "code",
      "metadata": {
        "id": "tcFuIq5IkXY2",
        "colab_type": "code",
        "colab": {
          "base_uri": "https://localhost:8080/",
          "height": 34
        },
        "outputId": "27250286-ec66-4c3b-e7d5-f4743d13c1e3"
      },
      "source": [
        "done_word"
      ],
      "execution_count": 43,
      "outputs": [
        {
          "output_type": "execute_result",
          "data": {
            "text/plain": [
              "'日本'"
            ]
          },
          "metadata": {
            "tags": []
          },
          "execution_count": 43
        }
      ]
    }
  ]
}