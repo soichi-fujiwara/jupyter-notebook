{
  "nbformat": 4,
  "nbformat_minor": 0,
  "metadata": {
    "colab": {
      "name": "TrainedModelGengim.ipynb",
      "provenance": [],
      "collapsed_sections": [],
      "toc_visible": true
    },
    "kernelspec": {
      "name": "python3",
      "display_name": "Python 3"
    },
    "accelerator": "GPU"
  },
  "cells": [
    {
      "cell_type": "markdown",
      "metadata": {
        "id": "HLd9WPPC7vud"
      },
      "source": [
        "##**1. 学習済モデルの取得･操作方法**"
      ]
    },
    {
      "cell_type": "markdown",
      "metadata": {
        "id": "XhHRBszbzXJ-"
      },
      "source": [
        "####**① Webからダウンロード**\n",
        "####URL：http://www.cl.ecei.tohoku.ac.jp/~m-suzuki/jawiki_vector/\n",
        "####ダウンロード対象：20170201.tar.bz2"
      ]
    },
    {
      "cell_type": "markdown",
      "metadata": {
        "id": "m67Q-el-0KCv"
      },
      "source": [
        "###**② Googleドライブにアップロード**\n",
        "#####アップロード先：「NLP」フォルダ(Googleドライブ直下に新規作成して下さい)\n",
        "#####アップロード対象：20170201.tar.bz2"
      ]
    },
    {
      "cell_type": "markdown",
      "metadata": {
        "id": "hP9Zw12zzLO9"
      },
      "source": [
        "###**③ Googleドライブとマッピング**"
      ]
    },
    {
      "cell_type": "code",
      "metadata": {
        "id": "lDVIuIbd2WYi",
        "colab": {
          "base_uri": "https://localhost:8080/",
          "height": 122
        },
        "outputId": "57ba9aee-7f80-464e-af29-64140ed35106"
      },
      "source": [
        "from google.colab import drive\n",
        "drive.mount('/content/drive')"
      ],
      "execution_count": null,
      "outputs": [
        {
          "output_type": "stream",
          "text": [
            "Go to this URL in a browser: https://accounts.google.com/o/oauth2/auth?client_id=947318989803-6bn6qk8qdgf4n4g3pfee6491hc0brc4i.apps.googleusercontent.com&redirect_uri=urn%3aietf%3awg%3aoauth%3a2.0%3aoob&response_type=code&scope=email%20https%3a%2f%2fwww.googleapis.com%2fauth%2fdocs.test%20https%3a%2f%2fwww.googleapis.com%2fauth%2fdrive%20https%3a%2f%2fwww.googleapis.com%2fauth%2fdrive.photos.readonly%20https%3a%2f%2fwww.googleapis.com%2fauth%2fpeopleapi.readonly\n",
            "\n",
            "Enter your authorization code:\n",
            "··········\n",
            "Mounted at /content/drive\n"
          ],
          "name": "stdout"
        }
      ]
    },
    {
      "cell_type": "markdown",
      "metadata": {
        "id": "Bz9d_TXG1VgT"
      },
      "source": [
        "###**④ 学習済みモデルを解凍**"
      ]
    },
    {
      "cell_type": "code",
      "metadata": {
        "id": "NRJCjIdrc3nQ",
        "colab": {
          "base_uri": "https://localhost:8080/",
          "height": 139
        },
        "outputId": "cc86d13e-b242-4df9-d452-814bdb2fb1bb"
      },
      "source": [
        "import IPython\n",
        "from gensim.models import KeyedVectors\n",
        "\n",
        "#bz2ファイル解凍\n",
        "!bunzip2 -k -q \"./drive/My Drive/NLP/20170201.tar.bz2\"\n",
        "\n",
        "#tarファイル解凍\n",
        "!tar -xvf \"./drive/My Drive/NLP/20170201.tar\"\n",
        "\n",
        "#解凍済みモデル格納パス\n",
        "model_dir = 'entity_vector/entity_vector.model.bin'\n",
        "\n",
        "#学習済みモデルをロード\n",
        "#(語彙数は100万語も要らないので50万語に削減)\n",
        "model = KeyedVectors.load_word2vec_format(model_dir, binary=True,limit=1000000)"
      ],
      "execution_count": null,
      "outputs": [
        {
          "output_type": "stream",
          "text": [
            "bunzip2: Output file ./drive/My Drive/NLP/20170201.tar already exists.\n",
            "entity_vector/\n",
            "entity_vector/entity_vector.model.txt\n",
            "entity_vector/entity_vector.model.bin\n"
          ],
          "name": "stdout"
        },
        {
          "output_type": "stream",
          "text": [
            "/usr/local/lib/python3.6/dist-packages/smart_open/smart_open_lib.py:402: UserWarning: This function is deprecated, use smart_open.open instead. See the migration notes for details: https://github.com/RaRe-Technologies/smart_open/blob/master/README.rst#migrating-to-the-new-open-function\n",
            "  'See the migration notes for details: %s' % _MIGRATION_NOTES_URL\n"
          ],
          "name": "stderr"
        }
      ]
    },
    {
      "cell_type": "code",
      "metadata": {
        "id": "KxKnniCtzfIx",
        "colab": {
          "base_uri": "https://localhost:8080/",
          "height": 241
        },
        "outputId": "b542063b-b632-4739-e09e-6e3200b18c32"
      },
      "source": [
        "#解凍したモデルの検証\n",
        "try:\n",
        "  results = model.most_similar(positive=['プロポーズ','逆'],topn=10)\n",
        "  for result in results:\n",
        "    print(result)\n",
        "except KeyError as error:\n",
        "  print('登録無し')"
      ],
      "execution_count": null,
      "outputs": [
        {
          "output_type": "stream",
          "text": [
            "('仕返し', 0.6406204104423523)\n",
            "('嫉妬', 0.63396817445755)\n",
            "('平手打ち', 0.6316143274307251)\n",
            "('キス', 0.6307986378669739)\n",
            "('誘惑', 0.6261692047119141)\n",
            "('[プロポーズ]', 0.6191442608833313)\n",
            "('求婚', 0.6163374185562134)\n",
            "('一目惚れ', 0.6148863434791565)\n",
            "('八つ当たり', 0.5869423151016235)\n",
            "('[求婚]', 0.5784060955047607)\n"
          ],
          "name": "stdout"
        },
        {
          "output_type": "stream",
          "text": [
            "/usr/local/lib/python3.6/dist-packages/gensim/matutils.py:737: FutureWarning: Conversion of the second argument of issubdtype from `int` to `np.signedinteger` is deprecated. In future, it will be treated as `np.int64 == np.dtype(int).type`.\n",
            "  if np.issubdtype(vec.dtype, np.int):\n"
          ],
          "name": "stderr"
        }
      ]
    },
    {
      "cell_type": "code",
      "metadata": {
        "id": "n_mDGbhlc116",
        "colab": {
          "base_uri": "https://localhost:8080/",
          "height": 88
        },
        "outputId": "64ec8b21-56bf-4b9e-ff82-07169762cd90"
      },
      "source": [
        "#similer_words = ['米国','アメリカ','[アメリカ]','アメリカ合衆国','[アメリカ合衆国]']\n",
        "\n",
        "print(model.similarity('速い', '遅い'))"
      ],
      "execution_count": null,
      "outputs": [
        {
          "output_type": "stream",
          "text": [
            "0.81395894\n"
          ],
          "name": "stdout"
        },
        {
          "output_type": "stream",
          "text": [
            "/usr/local/lib/python3.6/dist-packages/gensim/matutils.py:737: FutureWarning: Conversion of the second argument of issubdtype from `int` to `np.signedinteger` is deprecated. In future, it will be treated as `np.int64 == np.dtype(int).type`.\n",
            "  if np.issubdtype(vec.dtype, np.int):\n"
          ],
          "name": "stderr"
        }
      ]
    },
    {
      "cell_type": "code",
      "metadata": {
        "id": "rNQUVwQudF3d",
        "colab": {
          "base_uri": "https://localhost:8080/",
          "height": 241
        },
        "outputId": "8df337f2-dccc-4710-e978-ebdb353a1ae0"
      },
      "source": [
        "try:\n",
        "  results = model.most_similar(positive=['人間'],negative=['理性'],topn=10)\n",
        "  for result in results:\n",
        "    print(result)\n",
        "except KeyError as error:\n",
        "  print('登録無し')"
      ],
      "execution_count": null,
      "outputs": [
        {
          "output_type": "stream",
          "text": [
            "('[怪獣]', 0.4377594590187073)\n",
            "('[ぬいぐるみ]', 0.4221809208393097)\n",
            "('[ネコ]', 0.4188193082809448)\n",
            "('動物', 0.4162379503250122)\n",
            "('オバケ', 0.4161852300167084)\n",
            "('[金魚]', 0.4128004312515259)\n",
            "('子犬', 0.40786051750183105)\n",
            "('ぬいぐるみ', 0.40734589099884033)\n",
            "('[コアラ]', 0.4029332995414734)\n",
            "('猫', 0.4024137854576111)\n"
          ],
          "name": "stdout"
        },
        {
          "output_type": "stream",
          "text": [
            "/usr/local/lib/python3.6/dist-packages/gensim/matutils.py:737: FutureWarning: Conversion of the second argument of issubdtype from `int` to `np.signedinteger` is deprecated. In future, it will be treated as `np.int64 == np.dtype(int).type`.\n",
            "  if np.issubdtype(vec.dtype, np.int):\n"
          ],
          "name": "stderr"
        }
      ]
    },
    {
      "cell_type": "code",
      "metadata": {
        "id": "qL6osmFrejAI",
        "colab": {
          "base_uri": "https://localhost:8080/",
          "height": 241
        },
        "outputId": "824316bd-a2b0-4924-aed7-f8ca3646a510"
      },
      "source": [
        "try:\n",
        "  results = model.most_similar(positive=['会話','逆'],topn=10)\n",
        "  for result in results:\n",
        "    print(result)\n",
        "except KeyError as error:\n",
        "  print('登録無し')"
      ],
      "execution_count": null,
      "outputs": [
        {
          "output_type": "stream",
          "text": [
            "('[性行為]', 0.5713549852371216)\n",
            "('[会話]', 0.5695682168006897)\n",
            "('話しかける', 0.5680468678474426)\n",
            "('やりとり', 0.5619214773178101)\n",
            "('妄想', 0.5473113656044006)\n",
            "('セックス', 0.5470093488693237)\n",
            "('意図的', 0.5453083515167236)\n",
            "('気', 0.5450543165206909)\n",
            "('[接吻]', 0.5433750748634338)\n",
            "('常に', 0.5427117943763733)\n"
          ],
          "name": "stdout"
        },
        {
          "output_type": "stream",
          "text": [
            "/usr/local/lib/python3.6/dist-packages/gensim/matutils.py:737: FutureWarning: Conversion of the second argument of issubdtype from `int` to `np.signedinteger` is deprecated. In future, it will be treated as `np.int64 == np.dtype(int).type`.\n",
            "  if np.issubdtype(vec.dtype, np.int):\n"
          ],
          "name": "stderr"
        }
      ]
    }
  ]
}