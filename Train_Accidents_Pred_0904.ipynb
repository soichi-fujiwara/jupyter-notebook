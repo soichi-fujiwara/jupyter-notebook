{
  "nbformat": 4,
  "nbformat_minor": 0,
  "metadata": {
    "colab": {
      "name": "Train_Accidents_Pred_0904.ipynb",
      "version": "0.3.2",
      "provenance": [],
      "collapsed_sections": [],
      "include_colab_link": true
    },
    "kernelspec": {
      "name": "python3",
      "display_name": "Python 3"
    },
    "accelerator": "GPU"
  },
  "cells": [
    {
      "cell_type": "markdown",
      "metadata": {
        "id": "view-in-github",
        "colab_type": "text"
      },
      "source": [
        "<a href=\"https://colab.research.google.com/github/soichi-fujiwara/jupyter-notebook/blob/master/Train_Accidents_Pred_0904.ipynb\" target=\"_parent\"><img src=\"https://colab.research.google.com/assets/colab-badge.svg\" alt=\"Open In Colab\"/></a>"
      ]
    },
    {
      "cell_type": "markdown",
      "metadata": {
        "id": "vCMkQx8VAs2r",
        "colab_type": "text"
      },
      "source": [
        "##乗降人数を20段階に分類"
      ]
    },
    {
      "cell_type": "code",
      "metadata": {
        "id": "R2LtPzblnoMl",
        "colab_type": "code",
        "outputId": "60e7610e-f462-423a-c3a3-cb1dcdc933e1",
        "colab": {
          "base_uri": "https://localhost:8080/",
          "height": 122
        }
      },
      "source": [
        "from google.colab import drive\n",
        "drive.mount('/content/drive')"
      ],
      "execution_count": 1,
      "outputs": [
        {
          "output_type": "stream",
          "text": [
            "Go to this URL in a browser: https://accounts.google.com/o/oauth2/auth?client_id=947318989803-6bn6qk8qdgf4n4g3pfee6491hc0brc4i.apps.googleusercontent.com&redirect_uri=urn%3Aietf%3Awg%3Aoauth%3A2.0%3Aoob&scope=email%20https%3A%2F%2Fwww.googleapis.com%2Fauth%2Fdocs.test%20https%3A%2F%2Fwww.googleapis.com%2Fauth%2Fdrive%20https%3A%2F%2Fwww.googleapis.com%2Fauth%2Fdrive.photos.readonly%20https%3A%2F%2Fwww.googleapis.com%2Fauth%2Fpeopleapi.readonly&response_type=code\n",
            "\n",
            "Enter your authorization code:\n",
            "··········\n",
            "Mounted at /content/drive\n"
          ],
          "name": "stdout"
        }
      ]
    },
    {
      "cell_type": "code",
      "metadata": {
        "id": "-BRnbysUNIUP",
        "colab_type": "code",
        "outputId": "1581176f-eb27-4f1f-83dd-c38920e88637",
        "colab": {
          "base_uri": "https://localhost:8080/",
          "height": 204
        }
      },
      "source": [
        "import pandas as pd\n",
        "\n",
        "df_ac = pd.read_csv(\"./drive/My Drive/TrainAccident/Accident_list.csv\")\n",
        "\n",
        "#鉄道会社の人身事故発生順にソート\n",
        "df_line = df_ac[\"line\"].value_counts().reset_index()\n",
        "\n",
        "#SeriseをDataFrameに変換\n",
        "col_name = [\"line\",\"count\"]\n",
        "df_line = pd.DataFrame(df_line)\n",
        "\n",
        "df_line.columns = col_name\n",
        "df_line.head()"
      ],
      "execution_count": 2,
      "outputs": [
        {
          "output_type": "execute_result",
          "data": {
            "text/html": [
              "<div>\n",
              "<style scoped>\n",
              "    .dataframe tbody tr th:only-of-type {\n",
              "        vertical-align: middle;\n",
              "    }\n",
              "\n",
              "    .dataframe tbody tr th {\n",
              "        vertical-align: top;\n",
              "    }\n",
              "\n",
              "    .dataframe thead th {\n",
              "        text-align: right;\n",
              "    }\n",
              "</style>\n",
              "<table border=\"1\" class=\"dataframe\">\n",
              "  <thead>\n",
              "    <tr style=\"text-align: right;\">\n",
              "      <th></th>\n",
              "      <th>line</th>\n",
              "      <th>count</th>\n",
              "    </tr>\n",
              "  </thead>\n",
              "  <tbody>\n",
              "    <tr>\n",
              "      <th>0</th>\n",
              "      <td>東武東上線</td>\n",
              "      <td>291</td>\n",
              "    </tr>\n",
              "    <tr>\n",
              "      <th>1</th>\n",
              "      <td>山陽本線_(JR西日本)</td>\n",
              "      <td>263</td>\n",
              "    </tr>\n",
              "    <tr>\n",
              "      <th>2</th>\n",
              "      <td>京浜東北線</td>\n",
              "      <td>245</td>\n",
              "    </tr>\n",
              "    <tr>\n",
              "      <th>3</th>\n",
              "      <td>中央快速線</td>\n",
              "      <td>244</td>\n",
              "    </tr>\n",
              "    <tr>\n",
              "      <th>4</th>\n",
              "      <td>東海道線_(JR東海)</td>\n",
              "      <td>244</td>\n",
              "    </tr>\n",
              "  </tbody>\n",
              "</table>\n",
              "</div>"
            ],
            "text/plain": [
              "           line  count\n",
              "0         東武東上線    291\n",
              "1  山陽本線_(JR西日本)    263\n",
              "2         京浜東北線    245\n",
              "3         中央快速線    244\n",
              "4   東海道線_(JR東海)    244"
            ]
          },
          "metadata": {
            "tags": []
          },
          "execution_count": 2
        }
      ]
    },
    {
      "cell_type": "code",
      "metadata": {
        "id": "MM5ZTERQx19M",
        "colab_type": "code",
        "colab": {}
      },
      "source": [
        "#件数は削除\n",
        "df_line = df_line.drop(\"count\",axis=1)\n",
        "df_line\n",
        "\n",
        "#CSVに出力\n",
        "df_line.to_csv(\"./drive/My Drive/TrainAccident/line_List_Candidate.csv\", encoding = 'utf-8',index=False,header=False)"
      ],
      "execution_count": 0,
      "outputs": []
    },
    {
      "cell_type": "code",
      "metadata": {
        "id": "nZoYVrjllY1F",
        "colab_type": "code",
        "outputId": "c5a2da7a-2a8c-444c-f87c-929d971a9623",
        "colab": {
          "base_uri": "https://localhost:8080/",
          "height": 88
        }
      },
      "source": [
        "import itertools\n",
        "\n",
        "kanto_line = pd.read_table('./drive/My Drive/TrainAccident/kanto_line.txt', header=None)\n",
        "\n",
        "#dataframeをlist化\n",
        "kanto_line_list = kanto_line.values.tolist()\n",
        "#2次元listから1次元listへ\n",
        "kanto_line_list = list(itertools.chain.from_iterable(kanto_line_list))\n",
        "\n",
        "print(kanto_line_list)"
      ],
      "execution_count": 4,
      "outputs": [
        {
          "output_type": "stream",
          "text": [
            "/usr/local/lib/python3.6/dist-packages/ipykernel_launcher.py:3: FutureWarning: read_table is deprecated, use read_csv instead, passing sep='\\t'.\n",
            "  This is separate from the ipykernel package so we can avoid doing imports until\n"
          ],
          "name": "stderr"
        },
        {
          "output_type": "stream",
          "text": [
            "['東武東上線', '京浜東北線', '中央快速線', '常磐線', '小田急小田原線', '西武新宿線', '宇都宮線', '京王線', '京急本線', '西武池袋線', '東武伊勢崎線', '東海道線_(JR東日本)', '高崎線', '中央・総武緩行線', '東急田園都市線', '山手線', '東北本線', '近鉄大阪線', '京成本線', '横浜線', '横須賀線', '総武快速線', '南武線', '埼京線', '相鉄本線', '東武野田線', '東急東横線', '外房線', '新京成電鉄新京成線', '中央本線_(JR東日本)', '小田急江ノ島線', '武蔵野線', '総武本線', '都電荒川線', '東京メトロ東西線', '青梅線', '関東鉄道常総線', '成田線', '根岸線', '京王井の頭線', '都営地下鉄新宿線', '京葉線', '秩父鉄道秩父本線', '東急大井町線', '東京メトロ千代田線', '八高線', '東急池上線', '京王相模原線', '川越線', '東京メトロ日比谷線', '西武拝島線', '京成押上線', '相模線', '都営地下鉄浅草線', '江ノ島電鉄線', '東武スカイツリーライン', '東京メトロ半蔵門線', '東武アーバンパークライン', '都営地下鉄大江戸線', '東葉高速鉄道東葉高速線', '東京メトロ銀座線', '小田急多摩線', '横浜高速鉄道みなとみらい線', 'JR東西線', '首都圏新都市鉄道つくばエクスプレス', '京急空港線', '相鉄いずみ野線', '東京メトロ有楽町線', '東京臨海高速鉄道りんかい線', '鶴見線', '東京モノレール羽田空港線', '東武亀戸線', '京葉臨海鉄道臨海本線', '京王新線', '西武秩父線', '埼玉高速鉄道線', '横浜市営地下鉄ブルーライン']\n"
          ],
          "name": "stdout"
        }
      ]
    },
    {
      "cell_type": "code",
      "metadata": {
        "id": "ZlDxCe9goErC",
        "colab_type": "code",
        "outputId": "f6584807-53c6-4c87-b4c7-c1c395528442",
        "colab": {
          "base_uri": "https://localhost:8080/",
          "height": 204
        }
      },
      "source": [
        "#関東(首都圏)に影響を与えそうな路線のデータのみ抽出\n",
        "new_data = df_ac[df_ac['line'].isin(kanto_line_list)]\n",
        "new_data = new_data.reset_index()\n",
        "\n",
        "#不要な項目を削除\n",
        "new_data = new_data.drop(\"index\",axis=1)\n",
        "\n",
        "new_data.head(5)"
      ],
      "execution_count": 5,
      "outputs": [
        {
          "output_type": "execute_result",
          "data": {
            "text/html": [
              "<div>\n",
              "<style scoped>\n",
              "    .dataframe tbody tr th:only-of-type {\n",
              "        vertical-align: middle;\n",
              "    }\n",
              "\n",
              "    .dataframe tbody tr th {\n",
              "        vertical-align: top;\n",
              "    }\n",
              "\n",
              "    .dataframe thead th {\n",
              "        text-align: right;\n",
              "    }\n",
              "</style>\n",
              "<table border=\"1\" class=\"dataframe\">\n",
              "  <thead>\n",
              "    <tr style=\"text-align: right;\">\n",
              "      <th></th>\n",
              "      <th>date</th>\n",
              "      <th>time</th>\n",
              "      <th>yobi</th>\n",
              "      <th>line</th>\n",
              "      <th>from_st</th>\n",
              "      <th>to_st</th>\n",
              "      <th>st</th>\n",
              "    </tr>\n",
              "  </thead>\n",
              "  <tbody>\n",
              "    <tr>\n",
              "      <th>0</th>\n",
              "      <td>2019/08/10</td>\n",
              "      <td>20:08</td>\n",
              "      <td>5</td>\n",
              "      <td>八高線</td>\n",
              "      <td>拝島駅</td>\n",
              "      <td>東福生駅</td>\n",
              "      <td>拝島駅</td>\n",
              "    </tr>\n",
              "    <tr>\n",
              "      <th>1</th>\n",
              "      <td>2019/08/09</td>\n",
              "      <td>22:39</td>\n",
              "      <td>4</td>\n",
              "      <td>東急東横線</td>\n",
              "      <td>学芸大学駅</td>\n",
              "      <td>学芸大学駅</td>\n",
              "      <td>学芸大学駅</td>\n",
              "    </tr>\n",
              "    <tr>\n",
              "      <th>2</th>\n",
              "      <td>2019/08/07</td>\n",
              "      <td>18:00</td>\n",
              "      <td>2</td>\n",
              "      <td>宇都宮線</td>\n",
              "      <td>東大宮駅</td>\n",
              "      <td>蓮田駅</td>\n",
              "      <td>東大宮駅</td>\n",
              "    </tr>\n",
              "    <tr>\n",
              "      <th>3</th>\n",
              "      <td>2019/08/06</td>\n",
              "      <td>11:54</td>\n",
              "      <td>1</td>\n",
              "      <td>総武本線</td>\n",
              "      <td>八街駅</td>\n",
              "      <td>日向駅</td>\n",
              "      <td>八街駅</td>\n",
              "    </tr>\n",
              "    <tr>\n",
              "      <th>4</th>\n",
              "      <td>2019/08/05</td>\n",
              "      <td>12:18</td>\n",
              "      <td>0</td>\n",
              "      <td>東急大井町線</td>\n",
              "      <td>自由が丘駅</td>\n",
              "      <td>九品仏駅</td>\n",
              "      <td>自由が丘駅</td>\n",
              "    </tr>\n",
              "  </tbody>\n",
              "</table>\n",
              "</div>"
            ],
            "text/plain": [
              "         date   time  yobi    line from_st  to_st     st\n",
              "0  2019/08/10  20:08     5     八高線     拝島駅   東福生駅    拝島駅\n",
              "1  2019/08/09  22:39     4   東急東横線   学芸大学駅  学芸大学駅  学芸大学駅\n",
              "2  2019/08/07  18:00     2    宇都宮線    東大宮駅    蓮田駅   東大宮駅\n",
              "3  2019/08/06  11:54     1    総武本線     八街駅    日向駅    八街駅\n",
              "4  2019/08/05  12:18     0  東急大井町線   自由が丘駅   九品仏駅  自由が丘駅"
            ]
          },
          "metadata": {
            "tags": []
          },
          "execution_count": 5
        }
      ]
    },
    {
      "cell_type": "code",
      "metadata": {
        "id": "6E9BMrcvJhiZ",
        "colab_type": "code",
        "outputId": "74ec4fb4-858d-4422-eae0-a495c385e206",
        "colab": {
          "base_uri": "https://localhost:8080/",
          "height": 204
        }
      },
      "source": [
        "#乗車人数\n",
        "ninzu_df = pd.read_csv(\"./drive/My Drive/TrainAccident/TrainNinzu.csv\")\n",
        "ninzu_df['ninzu'] = ninzu_df['ninzu'].astype('float')\n",
        "ninzu_df.head()\n"
      ],
      "execution_count": 6,
      "outputs": [
        {
          "output_type": "execute_result",
          "data": {
            "text/html": [
              "<div>\n",
              "<style scoped>\n",
              "    .dataframe tbody tr th:only-of-type {\n",
              "        vertical-align: middle;\n",
              "    }\n",
              "\n",
              "    .dataframe tbody tr th {\n",
              "        vertical-align: top;\n",
              "    }\n",
              "\n",
              "    .dataframe thead th {\n",
              "        text-align: right;\n",
              "    }\n",
              "</style>\n",
              "<table border=\"1\" class=\"dataframe\">\n",
              "  <thead>\n",
              "    <tr style=\"text-align: right;\">\n",
              "      <th></th>\n",
              "      <th>st</th>\n",
              "      <th>ninzu</th>\n",
              "    </tr>\n",
              "  </thead>\n",
              "  <tbody>\n",
              "    <tr>\n",
              "      <th>0</th>\n",
              "      <td>JR三山木駅</td>\n",
              "      <td>1899.0</td>\n",
              "    </tr>\n",
              "    <tr>\n",
              "      <th>1</th>\n",
              "      <td>JR五位堂駅</td>\n",
              "      <td>1567.0</td>\n",
              "    </tr>\n",
              "    <tr>\n",
              "      <th>2</th>\n",
              "      <td>JR俊徳道駅</td>\n",
              "      <td>8147.0</td>\n",
              "    </tr>\n",
              "    <tr>\n",
              "      <th>3</th>\n",
              "      <td>JR小倉駅</td>\n",
              "      <td>3752.0</td>\n",
              "    </tr>\n",
              "    <tr>\n",
              "      <th>4</th>\n",
              "      <td>JR河内永和駅</td>\n",
              "      <td>12844.0</td>\n",
              "    </tr>\n",
              "  </tbody>\n",
              "</table>\n",
              "</div>"
            ],
            "text/plain": [
              "        st    ninzu\n",
              "0   JR三山木駅   1899.0\n",
              "1   JR五位堂駅   1567.0\n",
              "2   JR俊徳道駅   8147.0\n",
              "3    JR小倉駅   3752.0\n",
              "4  JR河内永和駅  12844.0"
            ]
          },
          "metadata": {
            "tags": []
          },
          "execution_count": 6
        }
      ]
    },
    {
      "cell_type": "code",
      "metadata": {
        "id": "RfnSdz67hVBZ",
        "colab_type": "code",
        "outputId": "05c0497f-4632-4dbf-be57-608389eb11d2",
        "colab": {
          "base_uri": "https://localhost:8080/",
          "height": 119
        }
      },
      "source": [
        "import numpy as np\n",
        "import pandas as pd\n",
        "from datetime import date, timedelta\n",
        "import datetime\n",
        "import itertools\n",
        "\n",
        "#祝日\n",
        "holi_df = pd.read_csv(\"./drive/My Drive/TrainAccident/holiday.csv\")\n",
        "#キー結合させる為\n",
        "holi_df[\"date\"] = holi_df['date'].astype('str')\n",
        "\n",
        "#土日\n",
        "donichi_df = pd.DataFrame({\"date\": [pd.to_datetime(\"2010-01-01\") + timedelta(days=i) for i in range(3650)]},dtype=\"object\")\n",
        "donichi_df = donichi_df.assign(yobi=pd.to_datetime(donichi_df['date']).apply(lambda x: x.weekday()))\n",
        "\n",
        "donichi_df['date'] = donichi_df['date'].astype('str')\n",
        "donichi_df['date'] = donichi_df['date'].str[0:10]\n",
        "\n",
        "donichi_df = donichi_df[donichi_df['yobi'] >= 5]\n",
        "donichi_df['date'] = donichi_df['date'].str.replace('-', '/')\n",
        "donichi_list = donichi_df['date'].tolist()\n",
        "\n",
        "donichi_df.to_csv(\"./drive/My Drive/TrainAccident/donichi.csv\")\n",
        "\n",
        "print(holi_df.head())"
      ],
      "execution_count": 7,
      "outputs": [
        {
          "output_type": "stream",
          "text": [
            "         date  holiday_flg\n",
            "0  2010/01/01            1\n",
            "1  2010/01/11            1\n",
            "2  2010/02/11            1\n",
            "3  2010/03/21            1\n",
            "4  2010/03/22            1\n"
          ],
          "name": "stdout"
        }
      ]
    },
    {
      "cell_type": "code",
      "metadata": {
        "id": "z3tC7j8jt4rx",
        "colab_type": "code",
        "outputId": "2f6f92e1-eefb-4efb-976c-6d654a70c86c",
        "colab": {
          "base_uri": "https://localhost:8080/",
          "height": 136
        }
      },
      "source": [
        "import datetime\n",
        "from datetime import date, timedelta\n",
        "\n",
        "new_df = new_data.copy()\n",
        "\n",
        "#-------------------------------------------------------------------------------------------\n",
        "#時間帯\n",
        "#-------------------------------------------------------------------------------------------\n",
        "new_df = new_df.assign(time_category=new_df['time'])\n",
        "\n",
        "new_df.loc[(new_df['time_category'].str[0:2].isin([\"04\",\"05\"])) ,\"time_category\"] = \"morning_time\"\n",
        "new_df.loc[(new_df['time_category'].str[0:2].isin([\"06\",\"07\",\"08\",\"09\"])) ,\"time_category\"] = \"comp_time\"\n",
        "new_df.loc[(new_df['time_category'].str[0:2].isin([\"17\",\"18\",\"19\",\"20\"])) ,\"time_category\"] = \"home_time\"\n",
        "new_df.loc[(new_df['time_category'].str[0:2].isin([\"21\",\"22\",\"23\"])) ,\"time_category\"] = \"night_time\"\n",
        "new_df.loc[(new_df['time_category'].str[0:2].isin([\"00\",\"01\",\"02\",\"03\"])) ,\"time_category\"] = \"midnight_time\"\n",
        "new_df.loc[(new_df['time_category'].str[0:2].isin([\"10\",\"11\",\"12\"])) ,\"time_category\"] = \"day_am_time\"\n",
        "new_df.loc[(new_df['time_category'].str[0:2].isin([\"13\",\"14\",\"15\",\"16\"])) ,\"time_category\"] = \"day_pm_time\"\n",
        "\n",
        "dmy_df = pd.get_dummies(new_df['time_category'])\n",
        "add_df = pd.merge(new_df, dmy_df, left_index=True, right_index=True)\n",
        "add_df = add_df.drop([\"time\",\"time_category\"],axis=1)\n",
        "\n",
        "#-------------------------------------------------------------------------------------------\n",
        "#曜日\n",
        "#-------------------------------------------------------------------------------------------\n",
        "dmy_df = pd.get_dummies(add_df['yobi'],prefix='yobi')\n",
        "add_df = pd.merge(add_df, dmy_df, left_index=True, right_index=True)\n",
        "add_df = add_df.drop(\"yobi\",axis=1)\n",
        "\n",
        "#-------------------------------------------------------------------------------------------\n",
        "#祝日\n",
        "#-------------------------------------------------------------------------------------------\n",
        "add_df = pd.merge(add_df,holi_df, on='date' , how='left')#left join\n",
        "Special_holiday_list = [\"08/13\",\"08/14\",\"08/15\",\"08/16\",\"12/29\",\"12/30\",\"12/31\",\"01/02\",\"01/03\",\"01/04\"]\n",
        "\n",
        "#土日も休日扱いに\n",
        "add_df.loc[(add_df['date'].str[5:10].isin(donichi_list)) ,\"holiday_flg\"] = 1\n",
        "add_df.loc[(add_df['date'].str[5:10].isin(Special_holiday_list)) ,\"holiday_flg\"] = 1\n",
        "add_df.loc[(add_df['holiday_flg'].isnull()) ,\"holiday_flg\"] = 0\n",
        "\n",
        "#-------------------------------------------------------------------------------------------\n",
        "#休み明け\n",
        "#-------------------------------------------------------------------------------------------\n",
        "#祝日\n",
        "holi_df2 = holi_df.drop([\"holiday_flg\"],axis=1)\n",
        "#土日\n",
        "donichi_df2 = donichi_df.drop([\"yobi\"],axis=1)\n",
        "\n",
        "year_list = [\"2010\",\"2011\",\"2012\",\"2013\",\"2014\",\"2015\",\"2016\",\"2017\",\"2018\",\"2019\"]\n",
        "Special_holiday_list = [\"08/13\",\"08/14\",\"08/15\",\"08/16\",\"12/29\",\"12/30\",\"12/31\",\"01/02\",\"01/03\",\"01/04\"]\n",
        "\n",
        "holi_all_list = []\n",
        "\n",
        "for yl in year_list:\n",
        "  for sl in Special_holiday_list:\n",
        "    wk = str(yl) + \"/\" + str(sl)\n",
        "    holi_all_list.append(wk)\n",
        "\n",
        "special_holi_df = pd.DataFrame(holi_all_list,columns=[\"date\"])\n",
        "\n",
        "#全休日\n",
        "holi_all_df = pd.concat([holi_df,donichi_df,special_holi_df],axis=0)\n",
        "holi_all_df = holi_all_df[~holi_all_df.duplicated([\"date\"])].sort_values('date', ascending=True).reset_index(drop=True)\n",
        "\n",
        "holi_all_list = holi_all_df[\"date\"].values.tolist()\n",
        "renkyu_ake_list = []\n",
        "\n",
        "for index,udl in enumerate(holi_all_list):\n",
        "  #最大11連休まで考慮\n",
        "  for i in [1,2,3,4,5,6,7,8,9,10,11]:\n",
        "    chk_date = pd.to_datetime(udl) + timedelta(days=i)\n",
        "    chk_date = str(chk_date)[0:10].replace('-', '/')\n",
        "    \n",
        "    if (index+i) == len(holi_all_list):\n",
        "      break\n",
        "    else:\n",
        "      #次の日付[inidex+1]がlistに無い場合=平日と見なす\n",
        "      if chk_date != holi_all_list[index+i]:\n",
        "        renkyu_ake_list.append(chk_date)\n",
        "        renkyu_cnt = 0\n",
        "        break\n",
        "\n",
        "renkyu_ake_list = set(renkyu_ake_list)\n",
        "renkyu_ake_df = pd.DataFrame(renkyu_ake_list,columns=[\"date\"]).sort_values('date', ascending=True).reset_index(drop=True)\n",
        "renkyu_ake_df = renkyu_ake_df.assign(holi_ake_flg=1)\n",
        "\n",
        "#CSV化\n",
        "renkyu_ake_df.to_csv(\"./drive/My Drive/TrainAccident/renkyu_ake.csv\",index=False)\n",
        "\n",
        "add_df = pd.merge(add_df,renkyu_ake_df, on='date' , how='left')#left join\n",
        "add_df.loc[(add_df['holi_ake_flg'].isnull()) ,\"holi_ake_flg\"] = 0"
      ],
      "execution_count": 8,
      "outputs": [
        {
          "output_type": "stream",
          "text": [
            "/usr/local/lib/python3.6/dist-packages/ipykernel_launcher.py:62: FutureWarning: Sorting because non-concatenation axis is not aligned. A future version\n",
            "of pandas will change to not sort by default.\n",
            "\n",
            "To accept the future behavior, pass 'sort=False'.\n",
            "\n",
            "To retain the current behavior and silence the warning, pass 'sort=True'.\n",
            "\n"
          ],
          "name": "stderr"
        }
      ]
    },
    {
      "cell_type": "code",
      "metadata": {
        "id": "X6Fj8lkYK6rJ",
        "colab_type": "code",
        "colab": {
          "base_uri": "https://localhost:8080/",
          "height": 269
        },
        "outputId": "77694148-ab5f-4046-f34c-e1fb8e3f2363"
      },
      "source": [
        "#キー結合させる為\n",
        "add_df[\"date\"] = add_df['date'].astype('str')\n",
        "\n",
        "#乗車人数\n",
        "base_df = pd.merge(add_df,ninzu_df, on='st' , how='left')#left join\n",
        "\n",
        "#乗車人数を正規化\n",
        "base_df['ninzu'] = base_df['ninzu'].astype('float')\n",
        "base_df = base_df[base_df['ninzu'] > 0]\n",
        "\n",
        "# s = base_df['ninzu']\n",
        "# base_df['ninzu'] = (s - s.min()) / (s.max() - s.min())\n",
        "\n",
        "#対数変換し正規化\n",
        "y = base_df['ninzu'].values\n",
        "base_df['ninzu'] = np.log(y)\n",
        "\n",
        "#人数の可視化\n",
        "import matplotlib.pyplot as plt\n",
        "fig = plt.figure()\n",
        "ax = fig.add_subplot(1,1,1)\n",
        "ax.hist(base_df['ninzu'], bins=100)\n",
        "fig.show()"
      ],
      "execution_count": 14,
      "outputs": [
        {
          "output_type": "display_data",
          "data": {
            "image/png": "[encoded data removed]",
            "text/plain": [
              "<Figure size 432x288 with 1 Axes>"
            ]
          },
          "metadata": {
            "tags": []
          }
        }
      ]
    },
    {
      "cell_type": "code",
      "metadata": {
        "id": "t5MteC8lMJHh",
        "colab_type": "code",
        "colab": {}
      },
      "source": [
        "#人数をカテゴライズ化(20分割)\n",
        "ninzu_num_df = pd.DataFrame(pd.qcut(base_df['ninzu'], 20,\n",
        "                                         labels=[0,0.05,0.1,0.15,0.2,\n",
        "                                                 0.25,0.3,0.35,0.4,0.45,\n",
        "                                                 0.5,0.55,0.6,0.65,0.7,\n",
        "                                                 0.75,0.8,0.85,0.9,0.95]))\n",
        "ninzu_num_df = ninzu_num_df.rename(columns={'ninzu': 'ninzu_cate'})\n",
        "\n",
        "base_df = pd.concat([base_df,ninzu_num_df],axis=1)\n",
        "base_df[\"ninzu\"] = base_df[\"ninzu_cate\"]"
      ],
      "execution_count": 0,
      "outputs": []
    },
    {
      "cell_type": "code",
      "metadata": {
        "id": "xtvnAKLnNf6y",
        "colab_type": "code",
        "outputId": "0fa8eacb-5fc7-4ac1-872c-602814103081",
        "colab": {
          "base_uri": "https://localhost:8080/",
          "height": 379
        }
      },
      "source": [
        "base_df3 = base_df.drop([\"line\",\"from_st\",\"to_st\",\"st\",\"ninzu_cate\"],axis=1)\n",
        "base_df3 = base_df3.assign(flg=1)\n",
        "base_df3.head(10)"
      ],
      "execution_count": 16,
      "outputs": [
        {
          "output_type": "execute_result",
          "data": {
            "text/html": [
              "<div>\n",
              "<style scoped>\n",
              "    .dataframe tbody tr th:only-of-type {\n",
              "        vertical-align: middle;\n",
              "    }\n",
              "\n",
              "    .dataframe tbody tr th {\n",
              "        vertical-align: top;\n",
              "    }\n",
              "\n",
              "    .dataframe thead th {\n",
              "        text-align: right;\n",
              "    }\n",
              "</style>\n",
              "<table border=\"1\" class=\"dataframe\">\n",
              "  <thead>\n",
              "    <tr style=\"text-align: right;\">\n",
              "      <th></th>\n",
              "      <th>date</th>\n",
              "      <th>comp_time</th>\n",
              "      <th>day_am_time</th>\n",
              "      <th>day_pm_time</th>\n",
              "      <th>home_time</th>\n",
              "      <th>midnight_time</th>\n",
              "      <th>morning_time</th>\n",
              "      <th>night_time</th>\n",
              "      <th>yobi_0</th>\n",
              "      <th>yobi_1</th>\n",
              "      <th>yobi_2</th>\n",
              "      <th>yobi_3</th>\n",
              "      <th>yobi_4</th>\n",
              "      <th>yobi_5</th>\n",
              "      <th>yobi_6</th>\n",
              "      <th>holiday_flg</th>\n",
              "      <th>holi_ake_flg</th>\n",
              "      <th>ninzu</th>\n",
              "      <th>flg</th>\n",
              "    </tr>\n",
              "  </thead>\n",
              "  <tbody>\n",
              "    <tr>\n",
              "      <th>0</th>\n",
              "      <td>2019/08/10</td>\n",
              "      <td>0</td>\n",
              "      <td>0</td>\n",
              "      <td>0</td>\n",
              "      <td>1</td>\n",
              "      <td>0</td>\n",
              "      <td>0</td>\n",
              "      <td>0</td>\n",
              "      <td>0</td>\n",
              "      <td>0</td>\n",
              "      <td>0</td>\n",
              "      <td>0</td>\n",
              "      <td>0</td>\n",
              "      <td>1</td>\n",
              "      <td>0</td>\n",
              "      <td>0.0</td>\n",
              "      <td>0.0</td>\n",
              "      <td>0.65</td>\n",
              "      <td>1</td>\n",
              "    </tr>\n",
              "    <tr>\n",
              "      <th>1</th>\n",
              "      <td>2019/08/09</td>\n",
              "      <td>0</td>\n",
              "      <td>0</td>\n",
              "      <td>0</td>\n",
              "      <td>0</td>\n",
              "      <td>0</td>\n",
              "      <td>0</td>\n",
              "      <td>1</td>\n",
              "      <td>0</td>\n",
              "      <td>0</td>\n",
              "      <td>0</td>\n",
              "      <td>0</td>\n",
              "      <td>1</td>\n",
              "      <td>0</td>\n",
              "      <td>0</td>\n",
              "      <td>0.0</td>\n",
              "      <td>0.0</td>\n",
              "      <td>0.65</td>\n",
              "      <td>1</td>\n",
              "    </tr>\n",
              "    <tr>\n",
              "      <th>2</th>\n",
              "      <td>2019/08/07</td>\n",
              "      <td>0</td>\n",
              "      <td>0</td>\n",
              "      <td>0</td>\n",
              "      <td>1</td>\n",
              "      <td>0</td>\n",
              "      <td>0</td>\n",
              "      <td>0</td>\n",
              "      <td>0</td>\n",
              "      <td>0</td>\n",
              "      <td>1</td>\n",
              "      <td>0</td>\n",
              "      <td>0</td>\n",
              "      <td>0</td>\n",
              "      <td>0</td>\n",
              "      <td>0.0</td>\n",
              "      <td>0.0</td>\n",
              "      <td>0.60</td>\n",
              "      <td>1</td>\n",
              "    </tr>\n",
              "    <tr>\n",
              "      <th>3</th>\n",
              "      <td>2019/08/06</td>\n",
              "      <td>0</td>\n",
              "      <td>1</td>\n",
              "      <td>0</td>\n",
              "      <td>0</td>\n",
              "      <td>0</td>\n",
              "      <td>0</td>\n",
              "      <td>0</td>\n",
              "      <td>0</td>\n",
              "      <td>1</td>\n",
              "      <td>0</td>\n",
              "      <td>0</td>\n",
              "      <td>0</td>\n",
              "      <td>0</td>\n",
              "      <td>0</td>\n",
              "      <td>0.0</td>\n",
              "      <td>0.0</td>\n",
              "      <td>0.15</td>\n",
              "      <td>1</td>\n",
              "    </tr>\n",
              "    <tr>\n",
              "      <th>4</th>\n",
              "      <td>2019/08/05</td>\n",
              "      <td>0</td>\n",
              "      <td>1</td>\n",
              "      <td>0</td>\n",
              "      <td>0</td>\n",
              "      <td>0</td>\n",
              "      <td>0</td>\n",
              "      <td>0</td>\n",
              "      <td>1</td>\n",
              "      <td>0</td>\n",
              "      <td>0</td>\n",
              "      <td>0</td>\n",
              "      <td>0</td>\n",
              "      <td>0</td>\n",
              "      <td>0</td>\n",
              "      <td>0.0</td>\n",
              "      <td>1.0</td>\n",
              "      <td>0.75</td>\n",
              "      <td>1</td>\n",
              "    </tr>\n",
              "    <tr>\n",
              "      <th>6</th>\n",
              "      <td>2019/08/03</td>\n",
              "      <td>0</td>\n",
              "      <td>0</td>\n",
              "      <td>0</td>\n",
              "      <td>0</td>\n",
              "      <td>0</td>\n",
              "      <td>0</td>\n",
              "      <td>1</td>\n",
              "      <td>0</td>\n",
              "      <td>0</td>\n",
              "      <td>0</td>\n",
              "      <td>0</td>\n",
              "      <td>0</td>\n",
              "      <td>1</td>\n",
              "      <td>0</td>\n",
              "      <td>0.0</td>\n",
              "      <td>0.0</td>\n",
              "      <td>0.30</td>\n",
              "      <td>1</td>\n",
              "    </tr>\n",
              "    <tr>\n",
              "      <th>7</th>\n",
              "      <td>2019/08/03</td>\n",
              "      <td>1</td>\n",
              "      <td>0</td>\n",
              "      <td>0</td>\n",
              "      <td>0</td>\n",
              "      <td>0</td>\n",
              "      <td>0</td>\n",
              "      <td>0</td>\n",
              "      <td>0</td>\n",
              "      <td>0</td>\n",
              "      <td>0</td>\n",
              "      <td>0</td>\n",
              "      <td>0</td>\n",
              "      <td>1</td>\n",
              "      <td>0</td>\n",
              "      <td>0.0</td>\n",
              "      <td>0.0</td>\n",
              "      <td>0.15</td>\n",
              "      <td>1</td>\n",
              "    </tr>\n",
              "    <tr>\n",
              "      <th>8</th>\n",
              "      <td>2019/08/03</td>\n",
              "      <td>0</td>\n",
              "      <td>0</td>\n",
              "      <td>0</td>\n",
              "      <td>0</td>\n",
              "      <td>0</td>\n",
              "      <td>1</td>\n",
              "      <td>0</td>\n",
              "      <td>0</td>\n",
              "      <td>0</td>\n",
              "      <td>0</td>\n",
              "      <td>0</td>\n",
              "      <td>0</td>\n",
              "      <td>1</td>\n",
              "      <td>0</td>\n",
              "      <td>0.0</td>\n",
              "      <td>0.0</td>\n",
              "      <td>0.35</td>\n",
              "      <td>1</td>\n",
              "    </tr>\n",
              "    <tr>\n",
              "      <th>9</th>\n",
              "      <td>2019/08/03</td>\n",
              "      <td>0</td>\n",
              "      <td>0</td>\n",
              "      <td>0</td>\n",
              "      <td>0</td>\n",
              "      <td>0</td>\n",
              "      <td>1</td>\n",
              "      <td>0</td>\n",
              "      <td>0</td>\n",
              "      <td>0</td>\n",
              "      <td>0</td>\n",
              "      <td>0</td>\n",
              "      <td>0</td>\n",
              "      <td>1</td>\n",
              "      <td>0</td>\n",
              "      <td>0.0</td>\n",
              "      <td>0.0</td>\n",
              "      <td>0.50</td>\n",
              "      <td>1</td>\n",
              "    </tr>\n",
              "    <tr>\n",
              "      <th>10</th>\n",
              "      <td>2019/08/01</td>\n",
              "      <td>0</td>\n",
              "      <td>0</td>\n",
              "      <td>1</td>\n",
              "      <td>0</td>\n",
              "      <td>0</td>\n",
              "      <td>0</td>\n",
              "      <td>0</td>\n",
              "      <td>0</td>\n",
              "      <td>0</td>\n",
              "      <td>0</td>\n",
              "      <td>1</td>\n",
              "      <td>0</td>\n",
              "      <td>0</td>\n",
              "      <td>0</td>\n",
              "      <td>0.0</td>\n",
              "      <td>0.0</td>\n",
              "      <td>0.70</td>\n",
              "      <td>1</td>\n",
              "    </tr>\n",
              "  </tbody>\n",
              "</table>\n",
              "</div>"
            ],
            "text/plain": [
              "          date  comp_time  day_am_time  ...  holi_ake_flg  ninzu  flg\n",
              "0   2019/08/10          0            0  ...           0.0   0.65    1\n",
              "1   2019/08/09          0            0  ...           0.0   0.65    1\n",
              "2   2019/08/07          0            0  ...           0.0   0.60    1\n",
              "3   2019/08/06          0            1  ...           0.0   0.15    1\n",
              "4   2019/08/05          0            1  ...           1.0   0.75    1\n",
              "6   2019/08/03          0            0  ...           0.0   0.30    1\n",
              "7   2019/08/03          1            0  ...           0.0   0.15    1\n",
              "8   2019/08/03          0            0  ...           0.0   0.35    1\n",
              "9   2019/08/03          0            0  ...           0.0   0.50    1\n",
              "10  2019/08/01          0            0  ...           0.0   0.70    1\n",
              "\n",
              "[10 rows x 19 columns]"
            ]
          },
          "metadata": {
            "tags": []
          },
          "execution_count": 16
        }
      ]
    },
    {
      "cell_type": "markdown",
      "metadata": {
        "id": "1do445lDl4uG",
        "colab_type": "text"
      },
      "source": [
        "##▲base_df作成　ここまで\n",
        "##▼make_df作成　ここから"
      ]
    },
    {
      "cell_type": "code",
      "metadata": {
        "id": "oQrPsbjkN8y8",
        "colab_type": "code",
        "outputId": "427ff663-367b-4da6-e6a0-1b7bdfd6b804",
        "colab": {
          "base_uri": "https://localhost:8080/",
          "height": 162
        }
      },
      "source": [
        "import numpy as np\n",
        "from datetime import date, timedelta\n",
        "import itertools\n",
        "\n",
        "#日付データ作成\n",
        "dates_df = pd.DataFrame({\"date\": [pd.to_datetime(\"2010-01-01\") + timedelta(days=i) for i in range(3650)]},dtype=\"object\")\n",
        "date_list = dates_df.values.tolist()\n",
        "\n",
        "#デフォルトでは小数点が付いてしまう為、int型に変換\n",
        "time_cate = np.eye(7).astype(int)\n",
        "yobi_cate = np.eye(7).astype(int)\n",
        "#holiday関連(休日flg,休日明けflg)\n",
        "\n",
        "ninzu_list=[0,0.05,0.1,0.15,0.2,0.25,0.3,0.35,0.4,0.45,\n",
        "            0.5,0.55,0.6,0.65,0.7,0.75,0.8,0.85,0.9,0.95]\n",
        "\n",
        "wk_list = []\n",
        "for wk in date_list:\n",
        "  for wk2 in time_cate:\n",
        "    for wk3 in yobi_cate:\n",
        "      #人数(正規化済)分 繰り返し\n",
        "      for nlist in ninzu_list:\n",
        "        list_parts = np.concatenate((wk,wk2,wk3,0,0,nlist,0), axis=None)\n",
        "        wk_list.append(list_parts.tolist())\n",
        "\n",
        "col=[\"date\",\n",
        "     \"comp_time\",\"day_am_time\",\"day_pm_time\",\"home_time\",\"midnight_time\",\"morning_time\",\"night_time\",\n",
        "     \"yobi_0\",\"yobi_1\",\"yobi_2\",\"yobi_3\",\"yobi_4\",\"yobi_5\",\"yobi_6\",\n",
        "     \"holiday_flg\",\"holi_ake_flg\",\n",
        "     \"ninzu\",\n",
        "     \"flg\"]\n",
        "\n",
        "make_df = pd.DataFrame(data=wk_list,columns=col)\n",
        "\n",
        "make_df['date'] = make_df['date'].astype('str')\n",
        "make_df['date'] = make_df['date'].str.replace('-', '/')\n",
        "\n",
        "#祝日\n",
        "holi_list = holi_df[\"date\"].values.tolist()\n",
        "make_df.loc[(make_df[\"date\"].isin(holi_list)),\"holiday_flg\"] = 1\n",
        "\n",
        "#土日\n",
        "make_df.loc[(make_df['date'].str[5:10].isin(donichi_list)) ,\"holiday_flg\"] = 1\n",
        "\n",
        "#特殊休日\n",
        "Special_holiday_list = [\"08/13\",\"08/14\",\"08/15\",\"08/16\",\"12/29\",\"12/30\",\"12/31\",\"01/02\",\"01/03\",\"01/04\"]\n",
        "make_df.loc[(make_df['date'].str[5:10].isin(Special_holiday_list)) ,\"holiday_flg\"] = 1\n",
        "\n",
        "#平日はALLゼロ\n",
        "make_df.loc[(make_df['holiday_flg'].isnull()) ,\"holiday_flg\"] = 0\n",
        "\n",
        "#休日明け\n",
        "ake_list = renkyu_ake_df[\"date\"].values.tolist()\n",
        "make_df.loc[(make_df[\"date\"].isin(ake_list)),\"holi_ake_flg\"] = 1\n",
        "make_df.loc[(make_df['holi_ake_flg'].isnull()) ,\"holi_ake_flg\"] = 0\n",
        "\n",
        "make_df.head(3)"
      ],
      "execution_count": 0,
      "outputs": [
        {
          "output_type": "execute_result",
          "data": {
            "text/html": [
              "<div>\n",
              "<style scoped>\n",
              "    .dataframe tbody tr th:only-of-type {\n",
              "        vertical-align: middle;\n",
              "    }\n",
              "\n",
              "    .dataframe tbody tr th {\n",
              "        vertical-align: top;\n",
              "    }\n",
              "\n",
              "    .dataframe thead th {\n",
              "        text-align: right;\n",
              "    }\n",
              "</style>\n",
              "<table border=\"1\" class=\"dataframe\">\n",
              "  <thead>\n",
              "    <tr style=\"text-align: right;\">\n",
              "      <th></th>\n",
              "      <th>date</th>\n",
              "      <th>comp_time</th>\n",
              "      <th>day_am_time</th>\n",
              "      <th>day_pm_time</th>\n",
              "      <th>home_time</th>\n",
              "      <th>midnight_time</th>\n",
              "      <th>morning_time</th>\n",
              "      <th>night_time</th>\n",
              "      <th>yobi_0</th>\n",
              "      <th>yobi_1</th>\n",
              "      <th>yobi_2</th>\n",
              "      <th>yobi_3</th>\n",
              "      <th>yobi_4</th>\n",
              "      <th>yobi_5</th>\n",
              "      <th>yobi_6</th>\n",
              "      <th>holiday_flg</th>\n",
              "      <th>holi_ake_flg</th>\n",
              "      <th>ninzu</th>\n",
              "      <th>flg</th>\n",
              "    </tr>\n",
              "  </thead>\n",
              "  <tbody>\n",
              "    <tr>\n",
              "      <th>0</th>\n",
              "      <td>2010/01/01</td>\n",
              "      <td>1</td>\n",
              "      <td>0</td>\n",
              "      <td>0</td>\n",
              "      <td>0</td>\n",
              "      <td>0</td>\n",
              "      <td>0</td>\n",
              "      <td>0</td>\n",
              "      <td>1</td>\n",
              "      <td>0</td>\n",
              "      <td>0</td>\n",
              "      <td>0</td>\n",
              "      <td>0</td>\n",
              "      <td>0</td>\n",
              "      <td>0</td>\n",
              "      <td>1</td>\n",
              "      <td>0</td>\n",
              "      <td>0.00</td>\n",
              "      <td>0</td>\n",
              "    </tr>\n",
              "    <tr>\n",
              "      <th>1</th>\n",
              "      <td>2010/01/01</td>\n",
              "      <td>1</td>\n",
              "      <td>0</td>\n",
              "      <td>0</td>\n",
              "      <td>0</td>\n",
              "      <td>0</td>\n",
              "      <td>0</td>\n",
              "      <td>0</td>\n",
              "      <td>1</td>\n",
              "      <td>0</td>\n",
              "      <td>0</td>\n",
              "      <td>0</td>\n",
              "      <td>0</td>\n",
              "      <td>0</td>\n",
              "      <td>0</td>\n",
              "      <td>1</td>\n",
              "      <td>0</td>\n",
              "      <td>0.05</td>\n",
              "      <td>0</td>\n",
              "    </tr>\n",
              "    <tr>\n",
              "      <th>2</th>\n",
              "      <td>2010/01/01</td>\n",
              "      <td>1</td>\n",
              "      <td>0</td>\n",
              "      <td>0</td>\n",
              "      <td>0</td>\n",
              "      <td>0</td>\n",
              "      <td>0</td>\n",
              "      <td>0</td>\n",
              "      <td>1</td>\n",
              "      <td>0</td>\n",
              "      <td>0</td>\n",
              "      <td>0</td>\n",
              "      <td>0</td>\n",
              "      <td>0</td>\n",
              "      <td>0</td>\n",
              "      <td>1</td>\n",
              "      <td>0</td>\n",
              "      <td>0.10</td>\n",
              "      <td>0</td>\n",
              "    </tr>\n",
              "  </tbody>\n",
              "</table>\n",
              "</div>"
            ],
            "text/plain": [
              "         date  comp_time  day_am_time  ...  holi_ake_flg  ninzu  flg\n",
              "0  2010/01/01          1            0  ...             0   0.00    0\n",
              "1  2010/01/01          1            0  ...             0   0.05    0\n",
              "2  2010/01/01          1            0  ...             0   0.10    0\n",
              "\n",
              "[3 rows x 19 columns]"
            ]
          },
          "metadata": {
            "tags": []
          },
          "execution_count": 20
        }
      ]
    },
    {
      "cell_type": "markdown",
      "metadata": {
        "id": "ajUb2NM_lrjI",
        "colab_type": "text"
      },
      "source": [
        "##★データセットインポート(make_df)\n",
        "\n"
      ]
    },
    {
      "cell_type": "code",
      "metadata": {
        "id": "vcWsBtUEfiWm",
        "colab_type": "code",
        "outputId": "c1a3b95d-29d5-4cc9-f82b-9c327004e2e7",
        "colab": {
          "base_uri": "https://localhost:8080/",
          "height": 71
        }
      },
      "source": [
        "#make_df.to_csv(\"./drive/My Drive/TrainAccident/make_df.csv\")\n",
        "make_df = pd.read_csv(\"./drive/My Drive/TrainAccident/make_df.csv\",index_col=0)"
      ],
      "execution_count": 17,
      "outputs": [
        {
          "output_type": "stream",
          "text": [
            "/usr/local/lib/python3.6/dist-packages/numpy/lib/arraysetops.py:569: FutureWarning: elementwise comparison failed; returning scalar instead, but in the future will perform elementwise comparison\n",
            "  mask |= (ar1 == a)\n"
          ],
          "name": "stderr"
        }
      ]
    },
    {
      "cell_type": "code",
      "metadata": {
        "id": "WgHREPg0cfrO",
        "colab_type": "code",
        "outputId": "2c7797f5-2b65-4d0d-fd0e-4067d35c4f13",
        "colab": {
          "base_uri": "https://localhost:8080/",
          "height": 187
        }
      },
      "source": [
        "print(base_df3.columns)\n",
        "print(make_df.columns)"
      ],
      "execution_count": 18,
      "outputs": [
        {
          "output_type": "stream",
          "text": [
            "Index(['date', 'comp_time', 'day_am_time', 'day_pm_time', 'home_time',\n",
            "       'midnight_time', 'morning_time', 'night_time', 'yobi_0', 'yobi_1',\n",
            "       'yobi_2', 'yobi_3', 'yobi_4', 'yobi_5', 'yobi_6', 'holiday_flg',\n",
            "       'holi_ake_flg', 'ninzu', 'flg'],\n",
            "      dtype='object')\n",
            "Index(['date', 'comp_time', 'day_am_time', 'day_pm_time', 'home_time',\n",
            "       'midnight_time', 'morning_time', 'night_time', 'yobi_0', 'yobi_1',\n",
            "       'yobi_2', 'yobi_3', 'yobi_4', 'yobi_5', 'yobi_6', 'holiday_flg',\n",
            "       'holi_ake_flg', 'ninzu', 'flg'],\n",
            "      dtype='object')\n"
          ],
          "name": "stdout"
        }
      ]
    },
    {
      "cell_type": "code",
      "metadata": {
        "id": "7kPGXH6IS28q",
        "colab_type": "code",
        "outputId": "e7e31432-dc3d-470a-a90e-8c1abef3789e",
        "colab": {
          "base_uri": "https://localhost:8080/",
          "height": 34
        }
      },
      "source": [
        "ret = pd.concat([base_df3, make_df], axis=0)\n",
        "\n",
        "#duplicated()と論理否定演算子~を使って、重複した行を削除したDataFrameを取得できる。\n",
        "ret = ret[~ret.duplicated([\"date\",\n",
        "                           \"comp_time\",\"day_am_time\",\"day_pm_time\",\"home_time\",\"midnight_time\",\"morning_time\",\"night_time\",\n",
        "                           \"yobi_0\",\"yobi_1\",\"yobi_2\",\"yobi_3\",\"yobi_4\",\"yobi_5\",\"yobi_6\",\n",
        "                           \"holiday_flg\",\"holi_ake_flg\",\n",
        "                           \"ninzu\"])]\n",
        "\n",
        "#余分なデータは削除\n",
        "ret = ret[ret[\"date\"] <= \"2019/08/10\"]\n",
        "print(ret.shape)"
      ],
      "execution_count": 19,
      "outputs": [
        {
          "output_type": "stream",
          "text": [
            "(3438820, 19)\n"
          ],
          "name": "stdout"
        }
      ]
    },
    {
      "cell_type": "code",
      "metadata": {
        "id": "TkZH5vs3TN-O",
        "colab_type": "code",
        "outputId": "c935e458-134f-4c63-cb51-ffe62853c333",
        "colab": {
          "base_uri": "https://localhost:8080/",
          "height": 136
        }
      },
      "source": [
        "#補完したい期間の日付を入れたデータフレームを作ってマージ\n",
        "#https://qiita.com/hanon/items/29cf5ed9acb4f731538f\n",
        "\n",
        "#キー結合させる為\n",
        "ret[\"date\"] = ret['date'].astype('str')\n",
        "\n",
        "#気温\n",
        "temp_df = pd.read_csv(\"./drive/My Drive/TrainAccident/temp.csv\")\n",
        "temp_df = temp_df.dropna(subset=[\"max_temp\"])\n",
        "temp_df = temp_df.dropna(subset=[\"min_temp\"])\n",
        "\n",
        "ret2 = pd.merge(ret,temp_df, on='date' , how='left')#left join\n",
        "\n",
        "#日照時間\n",
        "sun_df = pd.read_csv(\"./drive/My Drive/TrainAccident/suntime.csv\")\n",
        "sun_df = sun_df.dropna(subset=[\"suntime\"])\n",
        "\n",
        "ret3 = pd.merge(ret2,sun_df, on='date' , how='left')#left join\n",
        "\n",
        "#降水量/気圧\n",
        "rain_pres_df = pd.read_csv(\"./drive/My Drive/TrainAccident/rain_pres.csv\")\n",
        "rain_pres_df = rain_pres_df.drop('dmy',axis=1)\n",
        "\n",
        "rain_pres_df['rain'] = rain_pres_df['rain'].astype('float')\n",
        "rain_pres_df['pres'] = rain_pres_df['pres'].astype('float')\n",
        "\n",
        "ret3 = pd.merge(ret3,rain_pres_df, on='date' , how='left')#left join\n",
        "\n",
        "print(ret3.head(3))\n",
        "print(ret3.shape)"
      ],
      "execution_count": 20,
      "outputs": [
        {
          "output_type": "stream",
          "text": [
            "         date  comp_time  day_am_time  ...  suntime  rain    pres\n",
            "0  2019/08/10          0            0  ...      9.4   0.0  1005.4\n",
            "1  2019/08/09          0            0  ...     10.8   0.0  1005.5\n",
            "2  2019/08/07          0            0  ...      9.5   0.0  1007.4\n",
            "\n",
            "[3 rows x 24 columns]\n",
            "(3438820, 24)\n"
          ],
          "name": "stdout"
        }
      ]
    },
    {
      "cell_type": "markdown",
      "metadata": {
        "id": "zU7L1WImy-rs",
        "colab_type": "text"
      },
      "source": [
        "##季節ごとの平均気温を算出"
      ]
    },
    {
      "cell_type": "code",
      "metadata": {
        "id": "9cD-mmHsx4Go",
        "colab_type": "code",
        "colab": {}
      },
      "source": [
        "#日付単位で最高気温を集計\n",
        "#()･･･集計単位項目\n",
        "#[]･･･集計対象項目\n",
        "import numpy as np\n",
        "\n",
        "#listからnumpy.darray型にしないとnumpyの集計関数が使用できない\n",
        "temp_mean_ary = []\n",
        "month_list = [\"01\",\"02\",\"03\",\"04\",\"05\",\"06\",\"07\",\"08\",\"09\",\"10\",\"11\",\"12\"]\n",
        "\n",
        "for m_val in month_list:\n",
        "  max_temp = np.array(temp_df[temp_df.date.str[5:7] == m_val][\"max_temp\"]).mean()\n",
        "  min_temp = np.array(temp_df[temp_df.date.str[5:7] == m_val][\"min_temp\"]).mean()\n",
        "\n",
        "  list_parts = np.concatenate((m_val,max_temp,min_temp), axis=None)\n",
        "  temp_mean_ary.append(list_parts.tolist())\n",
        "\n",
        "col=[\"date\",\"max_temp\",\"min_temp\"]\n",
        "temp_mean_df = pd.DataFrame(data=temp_mean_ary,columns=col)"
      ],
      "execution_count": 0,
      "outputs": []
    },
    {
      "cell_type": "markdown",
      "metadata": {
        "id": "QJZuelRCIp4v",
        "colab_type": "text"
      },
      "source": [
        "##季節ごとの日照時間を算出"
      ]
    },
    {
      "cell_type": "code",
      "metadata": {
        "id": "W403t91qIvls",
        "colab_type": "code",
        "colab": {}
      },
      "source": [
        "#日付単位で日照時間を集計\n",
        "#()･･･集計単位項目\n",
        "#[]･･･集計対象項目\n",
        "import numpy as np\n",
        "\n",
        "#欠損値削除\n",
        "sun_df = sun_df.dropna()\n",
        "\n",
        "#listからnumpy.darray型にしないとnumpyの集計関数が使用できない\n",
        "sun_mean_ary = []\n",
        "month_list = [\"01\",\"02\",\"03\",\"04\",\"05\",\"06\",\"07\",\"08\",\"09\",\"10\",\"11\",\"12\"]\n",
        "\n",
        "for m_val in month_list:\n",
        "  sun_mean = np.array(sun_df[sun_df.date.str[5:7] == m_val][\"suntime\"]).mean()\n",
        "\n",
        "  list_parts = np.concatenate((m_val,sun_mean), axis=None)\n",
        "  sun_mean_ary.append(list_parts.tolist())\n",
        "\n",
        "col=[\"date\",\"suntime\"]\n",
        "sun_mean_df = pd.DataFrame(data=sun_mean_ary,columns=col)"
      ],
      "execution_count": 0,
      "outputs": []
    },
    {
      "cell_type": "markdown",
      "metadata": {
        "id": "XYyKb9OmWaYF",
        "colab_type": "text"
      },
      "source": [
        "##欠測値を補完"
      ]
    },
    {
      "cell_type": "code",
      "metadata": {
        "id": "Ae1t1acVQQJ3",
        "colab_type": "code",
        "outputId": "988a3cf6-d627-4eb6-93a5-f9cc766a91d0",
        "colab": {
          "base_uri": "https://localhost:8080/",
          "height": 102
        }
      },
      "source": [
        "#欠測日を確認\n",
        "#(set:listの重複を削除)\n",
        "max_temp_chk = set(ret3[ret3[\"max_temp\"].isnull()][\"date\"].values)\n",
        "print(\"最高気温:\",max_temp_chk)\n",
        "\n",
        "min_temp_chk = set(ret3[ret3[\"min_temp\"].isnull()][\"date\"].values)\n",
        "print(\"最低気温:\",min_temp_chk)\n",
        "\n",
        "sun_chk = set(ret3[ret3[\"suntime\"].isnull()][\"date\"].values)\n",
        "print(\"日照時間:\",sun_chk)\n",
        "\n",
        "rain_chk = set(ret3[ret3[\"rain\"].isnull()][\"date\"].values)\n",
        "print(\"降水量:\",rain_chk)\n",
        "\n",
        "pres_chk = set(ret3[ret3[\"pres\"].isnull()][\"date\"].values)\n",
        "print(\"気圧:\",pres_chk)"
      ],
      "execution_count": 23,
      "outputs": [
        {
          "output_type": "stream",
          "text": [
            "最高気温: {'2012/04/04'}\n",
            "最低気温: {'2012/04/04'}\n",
            "日照時間: {'2017/07/11', '2014/12/05', '2010/02/18', '2012/11/09', '2013/05/21', '2013/05/19', '2012/11/08', '2014/02/20', '2012/07/23', '2017/07/17'}\n",
            "降水量: set()\n",
            "気圧: set()\n"
          ],
          "name": "stdout"
        }
      ]
    },
    {
      "cell_type": "code",
      "metadata": {
        "id": "fBDNLok5XNe6",
        "colab_type": "code",
        "colab": {}
      },
      "source": [
        "#最高気温\n",
        "# ret3.loc[(ret3[\"max_temp\"].isnull()) & (ret3['date'].str[5:7].isin([\"01\"])),\"max_temp\"] = temp_mean_df.loc[0,\"max_temp\"]\n",
        "# ret3.loc[(ret3[\"max_temp\"].isnull()) & (ret3['date'].str[5:7].isin([\"02\"])),\"max_temp\"] = temp_mean_df.loc[1,\"max_temp\"]\n",
        "# ret3.loc[(ret3[\"max_temp\"].isnull()) & (ret3['date'].str[5:7].isin([\"03\"])),\"max_temp\"] = temp_mean_df.loc[2,\"max_temp\"]\n",
        "ret3.loc[(ret3[\"max_temp\"].isnull()) & (ret3['date'].str[5:7].isin([\"04\"])),\"max_temp\"] = temp_mean_df.loc[3,\"max_temp\"]\n",
        "# ret3.loc[(ret3[\"max_temp\"].isnull()) & (ret3['date'].str[5:7].isin([\"05\"])),\"max_temp\"] = temp_mean_df.loc[4,\"max_temp\"]\n",
        "# ret3.loc[(ret3[\"max_temp\"].isnull()) & (ret3['date'].str[5:7].isin([\"06\"])),\"max_temp\"] = temp_mean_df.loc[5,\"max_temp\"]\n",
        "# ret3.loc[(ret3[\"max_temp\"].isnull()) & (ret3['date'].str[5:7].isin([\"07\"])),\"max_temp\"] = temp_mean_df.loc[6,\"max_temp\"]\n",
        "# ret3.loc[(ret3[\"max_temp\"].isnull()) & (ret3['date'].str[5:7].isin([\"08\"])),\"max_temp\"] = temp_mean_df.loc[7,\"max_temp\"]\n",
        "# ret3.loc[(ret3[\"max_temp\"].isnull()) & (ret3['date'].str[5:7].isin([\"09\"])),\"max_temp\"] = temp_mean_df.loc[8,\"max_temp\"]\n",
        "# ret3.loc[(ret3[\"max_temp\"].isnull()) & (ret3['date'].str[5:7].isin([\"10\"])),\"max_temp\"] = temp_mean_df.loc[9,\"max_temp\"]\n",
        "# ret3.loc[(ret3[\"max_temp\"].isnull()) & (ret3['date'].str[5:7].isin([\"11\"])),\"max_temp\"] = temp_mean_df.loc[10,\"max_temp\"]\n",
        "# ret3.loc[(ret3[\"max_temp\"].isnull()) & (ret3['date'].str[5:7].isin([\"12\"])),\"max_temp\"] = temp_mean_df.loc[11,\"max_temp\"]\n",
        "\n",
        "#最低気温\n",
        "# ret3.loc[(ret3[\"min_temp\"].isnull()) & (ret3['date'].str[5:7].isin([\"01\"])),\"min_temp\"] = temp_mean_df.loc[0,\"min_temp\"]\n",
        "# ret3.loc[(ret3[\"min_temp\"].isnull()) & (ret3['date'].str[5:7].isin([\"02\"])),\"min_temp\"] = temp_mean_df.loc[1,\"min_temp\"]\n",
        "# ret3.loc[(ret3[\"min_temp\"].isnull()) & (ret3['date'].str[5:7].isin([\"03\"])),\"min_temp\"] = temp_mean_df.loc[2,\"min_temp\"]\n",
        "ret3.loc[(ret3[\"min_temp\"].isnull()) & (ret3['date'].str[5:7].isin([\"04\"])),\"min_temp\"] = temp_mean_df.loc[3,\"min_temp\"]\n",
        "# ret3.loc[(ret3[\"min_temp\"].isnull()) & (ret3['date'].str[5:7].isin([\"05\"])),\"min_temp\"] = temp_mean_df.loc[4,\"min_temp\"]\n",
        "# ret3.loc[(ret3[\"min_temp\"].isnull()) & (ret3['date'].str[5:7].isin([\"06\"])),\"min_temp\"] = temp_mean_df.loc[5,\"min_temp\"]\n",
        "# ret3.loc[(ret3[\"min_temp\"].isnull()) & (ret3['date'].str[5:7].isin([\"07\"])),\"min_temp\"] = temp_mean_df.loc[6,\"min_temp\"]\n",
        "# ret3.loc[(ret3[\"min_temp\"].isnull()) & (ret3['date'].str[5:7].isin([\"08\"])),\"min_temp\"] = temp_mean_df.loc[7,\"min_temp\"]\n",
        "# ret3.loc[(ret3[\"min_temp\"].isnull()) & (ret3['date'].str[5:7].isin([\"09\"])),\"min_temp\"] = temp_mean_df.loc[8,\"min_temp\"]\n",
        "# ret3.loc[(ret3[\"min_temp\"].isnull()) & (ret3['date'].str[5:7].isin([\"10\"])),\"min_temp\"] = temp_mean_df.loc[9,\"min_temp\"]\n",
        "# ret3.loc[(ret3[\"min_temp\"].isnull()) & (ret3['date'].str[5:7].isin([\"11\"])),\"min_temp\"] = temp_mean_df.loc[10,\"min_temp\"]\n",
        "# ret3.loc[(ret3[\"min_temp\"].isnull()) & (ret3['date'].str[5:7].isin([\"12\"])),\"min_temp\"] = temp_mean_df.loc[11,\"min_temp\"]\n",
        "\n",
        "#日照時間\n",
        "ret3.loc[(ret3[\"suntime\"].isnull()) & (ret3['date'].str[5:7].isin([\"01\"])),\"suntime\"] = sun_mean_df.loc[0,\"suntime\"]\n",
        "ret3.loc[(ret3[\"suntime\"].isnull()) & (ret3['date'].str[5:7].isin([\"02\"])),\"suntime\"] = sun_mean_df.loc[1,\"suntime\"]\n",
        "ret3.loc[(ret3[\"suntime\"].isnull()) & (ret3['date'].str[5:7].isin([\"03\"])),\"suntime\"] = sun_mean_df.loc[2,\"suntime\"]\n",
        "ret3.loc[(ret3[\"suntime\"].isnull()) & (ret3['date'].str[5:7].isin([\"04\"])),\"suntime\"] = sun_mean_df.loc[3,\"suntime\"]\n",
        "ret3.loc[(ret3[\"suntime\"].isnull()) & (ret3['date'].str[5:7].isin([\"05\"])),\"suntime\"] = sun_mean_df.loc[4,\"suntime\"]\n",
        "ret3.loc[(ret3[\"suntime\"].isnull()) & (ret3['date'].str[5:7].isin([\"06\"])),\"suntime\"] = sun_mean_df.loc[5,\"suntime\"]\n",
        "ret3.loc[(ret3[\"suntime\"].isnull()) & (ret3['date'].str[5:7].isin([\"07\"])),\"suntime\"] = sun_mean_df.loc[6,\"suntime\"]\n",
        "ret3.loc[(ret3[\"suntime\"].isnull()) & (ret3['date'].str[5:7].isin([\"08\"])),\"suntime\"] = sun_mean_df.loc[7,\"suntime\"]\n",
        "ret3.loc[(ret3[\"suntime\"].isnull()) & (ret3['date'].str[5:7].isin([\"09\"])),\"suntime\"] = sun_mean_df.loc[8,\"suntime\"]\n",
        "ret3.loc[(ret3[\"suntime\"].isnull()) & (ret3['date'].str[5:7].isin([\"10\"])),\"suntime\"] = sun_mean_df.loc[9,\"suntime\"]\n",
        "ret3.loc[(ret3[\"suntime\"].isnull()) & (ret3['date'].str[5:7].isin([\"11\"])),\"suntime\"] = sun_mean_df.loc[10,\"suntime\"]\n",
        "ret3.loc[(ret3[\"suntime\"].isnull()) & (ret3['date'].str[5:7].isin([\"12\"])),\"suntime\"] = sun_mean_df.loc[11,\"suntime\"]"
      ],
      "execution_count": 0,
      "outputs": []
    },
    {
      "cell_type": "code",
      "metadata": {
        "id": "o2qDKOcSPjrO",
        "colab_type": "code",
        "outputId": "d1232e4a-7c36-40f8-bd95-5fdfe0010af7",
        "colab": {
          "base_uri": "https://localhost:8080/",
          "height": 170
        }
      },
      "source": [
        "#予測に不要な項目を削除\n",
        "ret4 = ret3.copy().drop([\"date\"], axis=1)\n",
        "\n",
        "#カラム「max_temp」「min_temp」を元に「diff_temp」を作成\n",
        "ret5 = ret4.assign(diff_temp=ret4['max_temp'].astype(float)-ret4['min_temp'].astype(float))\n",
        "\n",
        "print(ret5.head())\n",
        "print(ret5.shape)"
      ],
      "execution_count": 25,
      "outputs": [
        {
          "output_type": "stream",
          "text": [
            "   comp_time  day_am_time  day_pm_time  ...  rain    pres  diff_temp\n",
            "0          0            0            0  ...   0.0  1005.4        7.7\n",
            "1          0            0            0  ...   0.0  1005.5        6.4\n",
            "2          0            0            0  ...   0.0  1007.4        6.0\n",
            "3          0            1            0  ...   0.0  1008.4        5.6\n",
            "4          0            1            0  ...   0.0  1009.5        7.7\n",
            "\n",
            "[5 rows x 24 columns]\n",
            "(3438820, 24)\n"
          ],
          "name": "stdout"
        }
      ]
    },
    {
      "cell_type": "code",
      "metadata": {
        "id": "oANaC4eVj2vE",
        "colab_type": "code",
        "outputId": "db085b40-3fcd-49ee-db13-03851cbd5b6b",
        "colab": {
          "base_uri": "https://localhost:8080/",
          "height": 170
        }
      },
      "source": [
        "#型変換\n",
        "ret5['max_temp'] = ret5['max_temp'].astype('float')\n",
        "ret5['min_temp'] = ret5['min_temp'].astype('float')\n",
        "ret5['diff_temp'] = ret5['diff_temp'].astype('float')\n",
        "ret5['suntime'] = ret5['suntime'].astype('float')\n",
        "ret5['rain'] = ret5['rain'].astype('float')\n",
        "ret5['pres'] = ret5['pres'].astype('float')\n",
        "\n",
        "#正規化\n",
        "ret_ = ret5.copy()\n",
        "\n",
        "s = ret_['max_temp']\n",
        "ret_['max_temp'] = (s - s.min()) / (s.max() - s.min())\n",
        "\n",
        "s = ret_['min_temp']\n",
        "ret_['min_temp'] = (s - s.min()) / (s.max() - s.min())\n",
        "\n",
        "s = ret_['suntime']\n",
        "ret_['suntime'] = (s - s.min()) / (s.max() - s.min())\n",
        "\n",
        "s = ret_['rain']\n",
        "ret_['rain'] = (s - s.min()) / (s.max() - s.min())\n",
        "\n",
        "s = ret_['pres']\n",
        "ret_['pres'] = (s - s.min()) / (s.max() - s.min())\n",
        "\n",
        "s = ret_['diff_temp']\n",
        "ret_['diff_temp'] = (s - s.min()) / (s.max() - s.min())\n",
        "\n",
        "ret = ret_.copy()\n",
        "print(ret.head())\n",
        "print(ret.shape)"
      ],
      "execution_count": 26,
      "outputs": [
        {
          "output_type": "stream",
          "text": [
            "   comp_time  day_am_time  day_pm_time  ...  rain      pres  diff_temp\n",
            "0          0            0            0  ...   0.0  0.519626   0.358696\n",
            "1          0            0            0  ...   0.0  0.521495   0.288043\n",
            "2          0            0            0  ...   0.0  0.557009   0.266304\n",
            "3          0            1            0  ...   0.0  0.575701   0.244565\n",
            "4          0            1            0  ...   0.0  0.596262   0.358696\n",
            "\n",
            "[5 rows x 24 columns]\n",
            "(3438820, 24)\n"
          ],
          "name": "stdout"
        }
      ]
    },
    {
      "cell_type": "code",
      "metadata": {
        "id": "ijB-UEAzJlBx",
        "colab_type": "code",
        "outputId": "f409db7a-56c6-40fa-c835-9aef937aceb2",
        "colab": {
          "base_uri": "https://localhost:8080/",
          "height": 68
        }
      },
      "source": [
        "#不均衡データであることを確認する。\n",
        "print(ret[\"flg\"].value_counts())"
      ],
      "execution_count": 27,
      "outputs": [
        {
          "output_type": "stream",
          "text": [
            "0    3433817\n",
            "1       5003\n",
            "Name: flg, dtype: int64\n"
          ],
          "name": "stdout"
        }
      ]
    },
    {
      "cell_type": "code",
      "metadata": {
        "id": "IewDb5IzJyWX",
        "colab_type": "code",
        "outputId": "bd038a81-09b6-4af2-ffaa-f047e83fd011",
        "colab": {
          "base_uri": "https://localhost:8080/",
          "height": 173
        }
      },
      "source": [
        "#ダウンサンプリング\n",
        "!pip install imbalanced-learn\n",
        "\n",
        "from sklearn.metrics import accuracy_score\n",
        "from imblearn.under_sampling import RandomUnderSampler\n",
        "from sklearn.model_selection import cross_val_predict\n",
        "\n",
        "# ラベルと入力データに分離する\n",
        "y = ret.loc[:,\"flg\"]\n",
        "y = y.values.tolist()\n",
        "\n",
        "x = ret.loc[:,[\n",
        "               \"comp_time\",\"day_am_time\",\"day_pm_time\",\"home_time\",\"midnight_time\",\"morning_time\",\"night_time\",\n",
        "               \"yobi_0\",\"yobi_1\",\"yobi_2\",\"yobi_3\",\"yobi_4\",\"yobi_5\",\"yobi_6\",\n",
        "               \"holiday_flg\",\"holi_ake_flg\",\n",
        "               \"ninzu\",\"max_temp\",\"min_temp\",\"suntime\",\"rain\",\"pres\",\"diff_temp\"]]\n",
        "\n",
        "#ダウンサンプリング\n",
        "sampler = RandomUnderSampler(random_state=42)\n",
        "X_resampled, y_resampled = sampler.fit_resample(x, y)\n",
        "print(X_resampled.shape)"
      ],
      "execution_count": 28,
      "outputs": [
        {
          "output_type": "stream",
          "text": [
            "Requirement already satisfied: imbalanced-learn in /usr/local/lib/python3.6/dist-packages (0.4.3)\n",
            "Requirement already satisfied: numpy>=1.8.2 in /usr/local/lib/python3.6/dist-packages (from imbalanced-learn) (1.16.5)\n",
            "Requirement already satisfied: scikit-learn>=0.20 in /usr/local/lib/python3.6/dist-packages (from imbalanced-learn) (0.21.3)\n",
            "Requirement already satisfied: scipy>=0.13.3 in /usr/local/lib/python3.6/dist-packages (from imbalanced-learn) (1.3.1)\n",
            "Requirement already satisfied: joblib>=0.11 in /usr/local/lib/python3.6/dist-packages (from scikit-learn>=0.20->imbalanced-learn) (0.13.2)\n"
          ],
          "name": "stdout"
        },
        {
          "output_type": "stream",
          "text": [
            "/usr/local/lib/python3.6/dist-packages/sklearn/externals/six.py:31: DeprecationWarning: The module is deprecated in version 0.21 and will be removed in version 0.23 since we've dropped support for Python 2.7. Please rely on the official version of six (https://pypi.org/project/six/).\n",
            "  \"(https://pypi.org/project/six/).\", DeprecationWarning)\n"
          ],
          "name": "stderr"
        },
        {
          "output_type": "stream",
          "text": [
            "(10006, 23)\n"
          ],
          "name": "stdout"
        }
      ]
    },
    {
      "cell_type": "code",
      "metadata": {
        "id": "YR0nUQzqaea0",
        "colab_type": "code",
        "outputId": "434a07ff-da0d-4858-a336-bb559d01b160",
        "colab": {
          "base_uri": "https://localhost:8080/",
          "height": 68
        }
      },
      "source": [
        "#再データフレーム化\n",
        "X_resampled2 = pd.DataFrame(X_resampled,columns=[\n",
        "                                                 \"comp_time\",\"day_am_time\",\"day_pm_time\",\"home_time\",\"midnight_time\",\"morning_time\",\"night_time\",\n",
        "                                                 \"yobi_0\",\"yobi_1\",\"yobi_2\",\"yobi_3\",\"yobi_4\",\"yobi_5\",\"yobi_6\",\n",
        "                                                 \"holiday_flg\",\"holi_ake_flg\",\n",
        "                                                 \"ninzu\",\"max_temp\",\"min_temp\",\"suntime\",\"rain\",\"pres\",\"diff_temp\"])\n",
        "y_resampled2 = pd.DataFrame(y_resampled,columns=[\"flg\"])\n",
        "\n",
        "#結合\n",
        "resmp_df = pd.concat([X_resampled2, y_resampled2],axis=1).reset_index(drop=True)\n",
        "\n",
        "resmp_df.to_csv(\"./drive/My Drive/TrainAccident/AccidentResample.csv\",index=False)\n",
        "\n",
        "#均衡データになったことを確認する。\n",
        "print(resmp_df[\"flg\"].value_counts())"
      ],
      "execution_count": 29,
      "outputs": [
        {
          "output_type": "stream",
          "text": [
            "1    5003\n",
            "0    5003\n",
            "Name: flg, dtype: int64\n"
          ],
          "name": "stdout"
        }
      ]
    },
    {
      "cell_type": "markdown",
      "metadata": {
        "id": "FN8VtVlcoH_C",
        "colab_type": "text"
      },
      "source": [
        "##検証1(Classifier)"
      ]
    },
    {
      "cell_type": "code",
      "metadata": {
        "colab_type": "code",
        "id": "4M0LUZlEaXIq",
        "outputId": "55bd3fce-23c6-4eea-ba58-2535e83ddd2c",
        "colab": {
          "base_uri": "https://localhost:8080/",
          "height": 34
        }
      },
      "source": [
        "from sklearn.model_selection import train_test_split\n",
        "from sklearn.ensemble import RandomForestClassifier\n",
        "from sklearn.ensemble import GradientBoostingClassifier\n",
        "from sklearn.linear_model import LogisticRegression\n",
        "\n",
        "# ラベルと入力データに分離する\n",
        "y = resmp_df.loc[:,\"flg\"]\n",
        "y = y.values.tolist()\n",
        "x = resmp_df.drop([\"flg\"],axis=1)\n",
        "\n",
        "# 学習用とテスト用に分離する\n",
        "x_train, x_test, y_train, y_test = train_test_split(x, y, test_size = 0.2, train_size = 0.8, shuffle = True)\n",
        "\n",
        "# 学習する\n",
        "model = GradientBoostingClassifier ()\n",
        "model.fit(x_train, y_train)\n",
        "\n",
        "# 評価する\n",
        "y_pred = model.predict(x_test)\n",
        "print(\"正解率 = \" , accuracy_score(y_test, y_pred))\n",
        "\n",
        "\n",
        "#参考：日本の天気予報は正解率87%"
      ],
      "execution_count": 30,
      "outputs": [
        {
          "output_type": "stream",
          "text": [
            "正解率 =  0.6373626373626373\n"
          ],
          "name": "stdout"
        }
      ]
    },
    {
      "cell_type": "code",
      "metadata": {
        "id": "SS2hrilSOCAO",
        "colab_type": "code",
        "outputId": "a02d9479-4f76-423b-946a-072cf02754ac",
        "colab": {
          "base_uri": "https://localhost:8080/",
          "height": 359
        }
      },
      "source": [
        "#説明変数の影響度合\n",
        "#Classifierの場合\n",
        "importances = model.feature_importances_\n",
        "df_ft_name_df = pd.DataFrame(x.columns.tolist(),columns=[\"name\"])\n",
        "df_ft_val_df = pd.DataFrame(importances.tolist(),columns=[\"val\"])\n",
        "\n",
        "imp_df = pd.concat([df_ft_name_df,df_ft_val_df],axis=1).sort_values('val', ascending=False).reset_index(drop=True)\n",
        "imp_df.head(10)"
      ],
      "execution_count": 31,
      "outputs": [
        {
          "output_type": "execute_result",
          "data": {
            "text/html": [
              "<div>\n",
              "<style scoped>\n",
              "    .dataframe tbody tr th:only-of-type {\n",
              "        vertical-align: middle;\n",
              "    }\n",
              "\n",
              "    .dataframe tbody tr th {\n",
              "        vertical-align: top;\n",
              "    }\n",
              "\n",
              "    .dataframe thead th {\n",
              "        text-align: right;\n",
              "    }\n",
              "</style>\n",
              "<table border=\"1\" class=\"dataframe\">\n",
              "  <thead>\n",
              "    <tr style=\"text-align: right;\">\n",
              "      <th></th>\n",
              "      <th>name</th>\n",
              "      <th>val</th>\n",
              "    </tr>\n",
              "  </thead>\n",
              "  <tbody>\n",
              "    <tr>\n",
              "      <th>0</th>\n",
              "      <td>yobi_0</td>\n",
              "      <td>0.344394</td>\n",
              "    </tr>\n",
              "    <tr>\n",
              "      <th>1</th>\n",
              "      <td>morning_time</td>\n",
              "      <td>0.144319</td>\n",
              "    </tr>\n",
              "    <tr>\n",
              "      <th>2</th>\n",
              "      <td>midnight_time</td>\n",
              "      <td>0.141385</td>\n",
              "    </tr>\n",
              "    <tr>\n",
              "      <th>3</th>\n",
              "      <td>holi_ake_flg</td>\n",
              "      <td>0.066775</td>\n",
              "    </tr>\n",
              "    <tr>\n",
              "      <th>4</th>\n",
              "      <td>pres</td>\n",
              "      <td>0.043247</td>\n",
              "    </tr>\n",
              "    <tr>\n",
              "      <th>5</th>\n",
              "      <td>max_temp</td>\n",
              "      <td>0.042321</td>\n",
              "    </tr>\n",
              "    <tr>\n",
              "      <th>6</th>\n",
              "      <td>diff_temp</td>\n",
              "      <td>0.036353</td>\n",
              "    </tr>\n",
              "    <tr>\n",
              "      <th>7</th>\n",
              "      <td>min_temp</td>\n",
              "      <td>0.029011</td>\n",
              "    </tr>\n",
              "    <tr>\n",
              "      <th>8</th>\n",
              "      <td>suntime</td>\n",
              "      <td>0.026676</td>\n",
              "    </tr>\n",
              "    <tr>\n",
              "      <th>9</th>\n",
              "      <td>ninzu</td>\n",
              "      <td>0.024380</td>\n",
              "    </tr>\n",
              "  </tbody>\n",
              "</table>\n",
              "</div>"
            ],
            "text/plain": [
              "            name       val\n",
              "0         yobi_0  0.344394\n",
              "1   morning_time  0.144319\n",
              "2  midnight_time  0.141385\n",
              "3   holi_ake_flg  0.066775\n",
              "4           pres  0.043247\n",
              "5       max_temp  0.042321\n",
              "6      diff_temp  0.036353\n",
              "7       min_temp  0.029011\n",
              "8        suntime  0.026676\n",
              "9          ninzu  0.024380"
            ]
          },
          "metadata": {
            "tags": []
          },
          "execution_count": 31
        }
      ]
    },
    {
      "cell_type": "code",
      "metadata": {
        "id": "7RsNqqcCUvjY",
        "colab_type": "code",
        "outputId": "e35d8e6c-3a26-4e86-8881-1d6f85b2e5b2",
        "colab": {
          "base_uri": "https://localhost:8080/",
          "height": 34
        }
      },
      "source": [
        "#真陽性率 (Recall)\n",
        "#Positive なデータに対してモデルがどれだけ正解できているかを確認\n",
        "from sklearn.metrics import recall_score\n",
        "print(\"真陽性率 = \",recall_score(y_test, y_pred))"
      ],
      "execution_count": 32,
      "outputs": [
        {
          "output_type": "stream",
          "text": [
            "真陽性率 =  0.7844311377245509\n"
          ],
          "name": "stdout"
        }
      ]
    },
    {
      "cell_type": "code",
      "metadata": {
        "id": "lCCe9jG2YfQN",
        "colab_type": "code",
        "outputId": "7a5c3688-2a4b-40a7-93e7-ecf848c7aa2c",
        "colab": {
          "base_uri": "https://localhost:8080/",
          "height": 34
        }
      },
      "source": [
        "#適合率 (Precision) \n",
        "#モデルが Positive と判断したデータの中に、どれだけ本当に Positive なものがあったかを確認\n",
        "from sklearn.metrics import precision_score\n",
        "print(\"適合率 = \",precision_score(y_test, y_pred))"
      ],
      "execution_count": 33,
      "outputs": [
        {
          "output_type": "stream",
          "text": [
            "適合率 =  0.6064814814814815\n"
          ],
          "name": "stdout"
        }
      ]
    },
    {
      "cell_type": "code",
      "metadata": {
        "id": "JKeucIp_czsR",
        "colab_type": "code",
        "outputId": "2cc427ee-d679-4137-9299-f05d9b163025",
        "colab": {
          "base_uri": "https://localhost:8080/",
          "height": 102
        }
      },
      "source": [
        "#他のアルゴリズムの場合の予測\n",
        "import warnings\n",
        "from sklearn.utils.testing import all_estimators\n",
        "from sklearn.metrics import accuracy_score\n",
        "\n",
        "# classifierのアルゴリズム全てを取得する --- (*1)\n",
        "warnings.filterwarnings('ignore')\n",
        "allAlgorithms = all_estimators(type_filter=\"classifier\")\n",
        "\n",
        "for(name, algorithm) in allAlgorithms:\n",
        "\n",
        "    #エラー回避\n",
        "    if name == 'GradientBoostingClassifier' or name == 'RandomForestClassifier' or name == 'KNeighborsClassifier' or name == 'LogisticRegression' or name == 'LogisticRegressionCV':\n",
        "\n",
        "      # 各アリゴリズムのオブジェクトを作成 --- (*2)\n",
        "      # 注意:一部のアルゴリズムは引数に何かを渡さないとエラーになる。\n",
        "      clf = algorithm()\n",
        "\n",
        "      # 学習して、評価する --- (*3)\n",
        "      #( x_train : 学習用データ / learn_label : ラベル)\n",
        "      clf.fit(x_train, y_train)\n",
        "      y_pred = clf.predict(x_test)\n",
        "      print(name,\"の正解率 = \" , accuracy_score(y_test, y_pred))"
      ],
      "execution_count": 34,
      "outputs": [
        {
          "output_type": "stream",
          "text": [
            "GradientBoostingClassifier の正解率 =  0.6373626373626373\n",
            "KNeighborsClassifier の正解率 =  0.6168831168831169\n",
            "LogisticRegression の正解率 =  0.5834165834165834\n",
            "LogisticRegressionCV の正解率 =  0.583916083916084\n",
            "RandomForestClassifier の正解率 =  0.5824175824175825\n"
          ],
          "name": "stdout"
        }
      ]
    },
    {
      "cell_type": "markdown",
      "metadata": {
        "id": "3Z_afTwPNfE_",
        "colab_type": "text"
      },
      "source": [
        "##ROC曲線"
      ]
    },
    {
      "cell_type": "code",
      "metadata": {
        "id": "nhX0HWEENehe",
        "colab_type": "code",
        "outputId": "29235009-6498-43ec-fd0b-380aeccf2423",
        "colab": {
          "base_uri": "https://localhost:8080/",
          "height": 295
        }
      },
      "source": [
        "#AUC(Area Under Curve)=ROC 曲線下の面積\n",
        "from sklearn import metrics\n",
        "import matplotlib.pyplot as plt\n",
        "import numpy as np\n",
        "%matplotlib inline\n",
        "\n",
        "# FPR,TPR(しきい値)を算出\n",
        "fpr, tpr, thresholds = metrics.roc_curve(y_test, y_pred)\n",
        "\n",
        "# AUC\n",
        "auc = metrics.auc(fpr, tpr)\n",
        "\n",
        "# ROC曲線をプロット\n",
        "plt.plot(fpr, tpr, label='ROC curve (area = %.2f)'%auc)\n",
        "#判例\n",
        "plt.legend()\n",
        "plt.title('ROC curve')\n",
        "plt.xlabel('False Positive Rate')\n",
        "plt.ylabel('True Positive Rate')\n",
        "#目盛り\n",
        "plt.grid(True)\n"
      ],
      "execution_count": 35,
      "outputs": [
        {
          "output_type": "display_data",
          "data": {
            "image/png": "[encoded data removed]",
            "text/plain": [
              "<Figure size 432x288 with 1 Axes>"
            ]
          },
          "metadata": {
            "tags": []
          }
        }
      ]
    },
    {
      "cell_type": "markdown",
      "metadata": {
        "id": "0VSr1z6zMjLh",
        "colab_type": "text"
      },
      "source": [
        "##検証2(スタッキング)"
      ]
    },
    {
      "cell_type": "code",
      "metadata": {
        "id": "GDTtxU5iU92F",
        "colab_type": "code",
        "outputId": "ad706680-212c-4757-936b-7e3b2b9d6ce5",
        "colab": {
          "base_uri": "https://localhost:8080/",
          "height": 255
        }
      },
      "source": [
        "!pip install mlxtend"
      ],
      "execution_count": 36,
      "outputs": [
        {
          "output_type": "stream",
          "text": [
            "Requirement already satisfied: mlxtend in /usr/local/lib/python3.6/dist-packages (0.14.0)\n",
            "Requirement already satisfied: pandas>=0.17.1 in /usr/local/lib/python3.6/dist-packages (from mlxtend) (0.24.2)\n",
            "Requirement already satisfied: numpy>=1.10.4 in /usr/local/lib/python3.6/dist-packages (from mlxtend) (1.16.5)\n",
            "Requirement already satisfied: matplotlib>=1.5.1 in /usr/local/lib/python3.6/dist-packages (from mlxtend) (3.0.3)\n",
            "Requirement already satisfied: setuptools in /usr/local/lib/python3.6/dist-packages (from mlxtend) (41.2.0)\n",
            "Requirement already satisfied: scikit-learn>=0.18 in /usr/local/lib/python3.6/dist-packages (from mlxtend) (0.21.3)\n",
            "Requirement already satisfied: scipy>=0.17 in /usr/local/lib/python3.6/dist-packages (from mlxtend) (1.3.1)\n",
            "Requirement already satisfied: pytz>=2011k in /usr/local/lib/python3.6/dist-packages (from pandas>=0.17.1->mlxtend) (2018.9)\n",
            "Requirement already satisfied: python-dateutil>=2.5.0 in /usr/local/lib/python3.6/dist-packages (from pandas>=0.17.1->mlxtend) (2.5.3)\n",
            "Requirement already satisfied: kiwisolver>=1.0.1 in /usr/local/lib/python3.6/dist-packages (from matplotlib>=1.5.1->mlxtend) (1.1.0)\n",
            "Requirement already satisfied: pyparsing!=2.0.4,!=2.1.2,!=2.1.6,>=2.0.1 in /usr/local/lib/python3.6/dist-packages (from matplotlib>=1.5.1->mlxtend) (2.4.2)\n",
            "Requirement already satisfied: cycler>=0.10 in /usr/local/lib/python3.6/dist-packages (from matplotlib>=1.5.1->mlxtend) (0.10.0)\n",
            "Requirement already satisfied: joblib>=0.11 in /usr/local/lib/python3.6/dist-packages (from scikit-learn>=0.18->mlxtend) (0.13.2)\n",
            "Requirement already satisfied: six>=1.5 in /usr/local/lib/python3.6/dist-packages (from python-dateutil>=2.5.0->pandas>=0.17.1->mlxtend) (1.12.0)\n"
          ],
          "name": "stdout"
        }
      ]
    },
    {
      "cell_type": "code",
      "metadata": {
        "id": "D2sdyyvdTv9U",
        "colab_type": "code",
        "colab": {}
      },
      "source": [
        "from sklearn.ensemble import ExtraTreesClassifier\n",
        "from sklearn.linear_model import LogisticRegression\n",
        "from sklearn.neighbors import KNeighborsClassifier\n",
        "from sklearn.ensemble import RandomForestClassifier \n",
        "\n",
        "extra = ExtraTreesClassifier()\n",
        "log = LogisticRegression()\n",
        "knn = KNeighborsClassifier()\n",
        "\n",
        "rf = RandomForestClassifier()"
      ],
      "execution_count": 0,
      "outputs": []
    },
    {
      "cell_type": "code",
      "metadata": {
        "id": "11bU5Q05Mm_b",
        "colab_type": "code",
        "outputId": "b057ad87-dc7d-4fb9-e67a-81198e6d1b28",
        "colab": {
          "base_uri": "https://localhost:8080/",
          "height": 85
        }
      },
      "source": [
        "from mlxtend.classifier import StackingClassifier\n",
        "from sklearn.model_selection import cross_val_score\n",
        "\n",
        "# ラベルと入力データに分離する\n",
        "y = resmp_df.loc[:,\"flg\"]\n",
        "y = y.values.tolist()\n",
        "x = resmp_df.drop([\"flg\"],axis=1)\n",
        "\n",
        "# 学習用とテスト用に分離する\n",
        "x_train, x_test, y_train, y_test = train_test_split(x, y, test_size = 0.2, train_size = 0.8, shuffle = True)\n",
        "\n",
        "sclf = StackingClassifier(classifiers=[extra, log, knn], meta_classifier= rf)\n",
        "\n",
        "classifiersList = [extra, log, knn, sclf]\n",
        "labelsList = ['Extra Trees', 'Logistic', 'KNN', 'StackingClassifier']\n",
        "\n",
        "for clf, label in zip(classifiersList, labelsList):\n",
        "    scores = cross_val_score(clf, x, y, cv=10, scoring='accuracy')\n",
        "    print(\"Accuracy: {} [{}]\".format(scores.mean(),label))"
      ],
      "execution_count": 38,
      "outputs": [
        {
          "output_type": "stream",
          "text": [
            "Accuracy: 0.5970387225548903 [Extra Trees]\n",
            "Accuracy: 0.594343512974052 [Logistic]\n",
            "Accuracy: 0.6228229540918163 [KNN]\n",
            "Accuracy: 0.6008387225548902 [StackingClassifier]\n"
          ],
          "name": "stdout"
        }
      ]
    },
    {
      "cell_type": "code",
      "metadata": {
        "id": "PPwo6iYAWl4Y",
        "colab_type": "code",
        "outputId": "217bc201-6f4a-442e-ed71-cb751c006602",
        "colab": {
          "base_uri": "https://localhost:8080/",
          "height": 68
        }
      },
      "source": [
        "sclf.fit(x_train, y_train)\n",
        "y_pred = sclf.predict(x_test)\n",
        "print(\"正解率 = \" , accuracy_score(y_test, y_pred))\n",
        "print(\"真陽性率 = \",recall_score(y_test, y_pred))\n",
        "print(\"適合率 = \",precision_score(y_test, y_pred))"
      ],
      "execution_count": 39,
      "outputs": [
        {
          "output_type": "stream",
          "text": [
            "正解率 =  0.6403596403596403\n",
            "真陽性率 =  0.5937803692905733\n",
            "適合率 =  0.6692223439211391\n"
          ],
          "name": "stdout"
        }
      ]
    },
    {
      "cell_type": "code",
      "metadata": {
        "id": "rREX_w-qOzON",
        "colab_type": "code",
        "colab": {}
      },
      "source": [
        "# pickleでモデルを保存\n",
        "import pickle\n",
        "\n",
        "filename = './drive/My Drive/TrainAccident/Accident_model_0910.sav'\n",
        "pickle.dump(model, open(filename, 'wb'))"
      ],
      "execution_count": 0,
      "outputs": []
    }
  ]
}