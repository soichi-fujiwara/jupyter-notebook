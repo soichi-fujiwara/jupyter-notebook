{
  "nbformat": 4,
  "nbformat_minor": 0,
  "metadata": {
    "colab": {
      "name": "Web_scraping_Accidents_plus_temp.ipynb",
      "version": "0.3.2",
      "provenance": [],
      "collapsed_sections": [],
      "include_colab_link": true
    },
    "kernelspec": {
      "name": "python3",
      "display_name": "Python 3"
    },
    "accelerator": "GPU"
  },
  "cells": [
    {
      "cell_type": "markdown",
      "metadata": {
        "id": "view-in-github",
        "colab_type": "text"
      },
      "source": [
        "<a href=\"https://colab.research.google.com/github/soichi-fujiwara/jupyter-notebook/blob/master/Web_scraping_Accidents_plus_temp.ipynb\" target=\"_parent\"><img src=\"https://colab.research.google.com/assets/colab-badge.svg\" alt=\"Open In Colab\"/></a>"
      ]
    },
    {
      "cell_type": "code",
      "metadata": {
        "id": "BmCv19wpeqxa",
        "colab_type": "code",
        "outputId": "874ed934-80aa-4244-8ade-c934f5e9d387",
        "colab": {
          "base_uri": "https://localhost:8080/",
          "height": 139
        }
      },
      "source": [
        "!pip install beautifulsoup4\n",
        "!pip install mecab-python3"
      ],
      "execution_count": 0,
      "outputs": [
        {
          "output_type": "stream",
          "text": [
            "Requirement already satisfied: beautifulsoup4 in /usr/local/lib/python3.6/dist-packages (4.6.3)\n",
            "Collecting mecab-python3\n",
            "\u001b[?25l  Downloading https://files.pythonhosted.org/packages/b3/92/e7e7f38df8457fa40c1ca86928be5ddbe2bf341e90a35e6ada30d03ef16d/mecab_python3-0.996.2-cp36-cp36m-manylinux1_x86_64.whl (15.9MB)\n",
            "\u001b[K     |████████████████████████████████| 15.9MB 1.4MB/s \n",
            "\u001b[?25hInstalling collected packages: mecab-python3\n",
            "Successfully installed mecab-python3-0.996.2\n"
          ],
          "name": "stdout"
        }
      ]
    },
    {
      "cell_type": "code",
      "metadata": {
        "id": "c3JI9veT956o",
        "colab_type": "code",
        "colab": {}
      },
      "source": [
        "import sys\n",
        "from datetime import *\n",
        "from time import *\n",
        "\n",
        "def get_yobi(inDate):\n",
        "  \n",
        "  yobi = [\"月\",\"火\",\"水\",\"木\",\"金\",\"土\",\"日\"]\n",
        "\n",
        "  a = datetime.strptime(inDate,'%Y/%m/%d')\n",
        "\n",
        "  #return yobi[a.weekday()]\n",
        "  return a.weekday()"
      ],
      "execution_count": 0,
      "outputs": []
    },
    {
      "cell_type": "code",
      "metadata": {
        "id": "rNMKawvAeYAu",
        "colab_type": "code",
        "colab": {}
      },
      "source": [
        "from bs4 import BeautifulSoup\n",
        "from urllib.request import urlopen\n",
        "import requests\n",
        "import pandas as pd\n",
        "#import MeCab\n",
        "from google.colab import files\n",
        "\n",
        "#https://accident.laboneko.jp/accidents?limit=10&offset=0\n",
        "#https://accident.laboneko.jp/accidents?limit=11680&offset=0\n",
        "\n",
        "# 親ページURL\n",
        "url_pr = 'https://accident.laboneko.jp/accidents?limit=11680&offset=0'\n",
        "\n",
        "# データフレームを定義\n",
        "columns = [\"date\",\"time\",\"yobi\",\"line\",\"from_st\",\"to_st\",\"st\"]\n",
        "df = pd.DataFrame(columns=columns)\n",
        "\n",
        "html_doc = urlopen(url_pr)\n",
        "\n",
        "# BeautifulSoupでスクレイピング\n",
        "soup = BeautifulSoup(html_doc, 'html.parser')\n",
        "# ラッピング単位のクラスを取得\n",
        "table  = soup.find_all(\"table\", {\"class\": \"table table-striped\"})[0]\n",
        "rows = table.findAll(\"tr\")\n",
        "\n",
        "for row in rows:\n",
        "  dataRow = []\n",
        "  for cell in row.findAll(\"td\"):\n",
        "    dataRow.append(cell.text)\n",
        "\n",
        "  #listに何か入っている場合\n",
        "  if dataRow:\n",
        "\n",
        "    v_date = dataRow[0][0:10]\n",
        "    v_time = dataRow[0][11:16]\n",
        "    v_yobi = get_yobi(v_date)\n",
        "\n",
        "    v_line = dataRow[1]\n",
        "\n",
        "    v_st_info = dataRow[2]\n",
        "    v_st_info_sp = v_st_info.split(\"〜\")\n",
        "\n",
        "    if len(v_st_info_sp) >= 2:\n",
        "      v_from_st = v_st_info_sp[0]\n",
        "      v_to_st = v_st_info_sp[1]\n",
        "      v_st = v_st_info_sp[0]\n",
        "    else:\n",
        "      v_from_st = v_st_info\n",
        "      v_to_st = v_st_info\n",
        "      v_st = v_st_info\n",
        "\n",
        "    # 各データをデータフレームに格納\n",
        "    se = pd.Series([v_date,v_time,v_yobi,v_line,v_from_st,v_to_st,v_st], columns)\n",
        "    df = df.append(se, columns)\n",
        "\n",
        "# 収集したデータをCSV形式で保存\n",
        "filename = \"Accident_list.csv\"\n",
        "df.to_csv(filename, encoding = 'utf-8',index=False)\n",
        "#files.download(filename)\n"
      ],
      "execution_count": 0,
      "outputs": []
    },
    {
      "cell_type": "markdown",
      "metadata": {
        "id": "dOG3o7roALgY",
        "colab_type": "text"
      },
      "source": [
        "##ファイルがあればここから実行"
      ]
    },
    {
      "cell_type": "code",
      "metadata": {
        "id": "-BRnbysUNIUP",
        "colab_type": "code",
        "outputId": "7fc060dd-67c7-43ca-d38d-02ff663c6d32",
        "colab": {
          "base_uri": "https://localhost:8080/",
          "height": 204
        }
      },
      "source": [
        "import pandas as pd\n",
        "\n",
        "df_ac = pd.read_csv(\"Accident_list.csv\")\n",
        "\n",
        "#鉄道会社の人身事故発生順にソート\n",
        "df_line = df_ac[\"line\"].value_counts().reset_index()\n",
        "\n",
        "#SeriseをDataFrameに変換\n",
        "col_name = [\"line\",\"count\"]\n",
        "df_line = pd.DataFrame(df_line)\n",
        "\n",
        "df_line.columns = col_name\n",
        "df_line.head()"
      ],
      "execution_count": 2,
      "outputs": [
        {
          "output_type": "execute_result",
          "data": {
            "text/html": [
              "<div>\n",
              "<style scoped>\n",
              "    .dataframe tbody tr th:only-of-type {\n",
              "        vertical-align: middle;\n",
              "    }\n",
              "\n",
              "    .dataframe tbody tr th {\n",
              "        vertical-align: top;\n",
              "    }\n",
              "\n",
              "    .dataframe thead th {\n",
              "        text-align: right;\n",
              "    }\n",
              "</style>\n",
              "<table border=\"1\" class=\"dataframe\">\n",
              "  <thead>\n",
              "    <tr style=\"text-align: right;\">\n",
              "      <th></th>\n",
              "      <th>line</th>\n",
              "      <th>count</th>\n",
              "    </tr>\n",
              "  </thead>\n",
              "  <tbody>\n",
              "    <tr>\n",
              "      <th>0</th>\n",
              "      <td>東武東上線</td>\n",
              "      <td>291</td>\n",
              "    </tr>\n",
              "    <tr>\n",
              "      <th>1</th>\n",
              "      <td>山陽本線_(JR西日本)</td>\n",
              "      <td>263</td>\n",
              "    </tr>\n",
              "    <tr>\n",
              "      <th>2</th>\n",
              "      <td>京浜東北線</td>\n",
              "      <td>245</td>\n",
              "    </tr>\n",
              "    <tr>\n",
              "      <th>3</th>\n",
              "      <td>東海道線_(JR東海)</td>\n",
              "      <td>244</td>\n",
              "    </tr>\n",
              "    <tr>\n",
              "      <th>4</th>\n",
              "      <td>中央快速線</td>\n",
              "      <td>244</td>\n",
              "    </tr>\n",
              "  </tbody>\n",
              "</table>\n",
              "</div>"
            ],
            "text/plain": [
              "           line  count\n",
              "0         東武東上線    291\n",
              "1  山陽本線_(JR西日本)    263\n",
              "2         京浜東北線    245\n",
              "3   東海道線_(JR東海)    244\n",
              "4         中央快速線    244"
            ]
          },
          "metadata": {
            "tags": []
          },
          "execution_count": 2
        }
      ]
    },
    {
      "cell_type": "code",
      "metadata": {
        "id": "MM5ZTERQx19M",
        "colab_type": "code",
        "colab": {}
      },
      "source": [
        "#件数は削除\n",
        "df_line = df_line.drop(\"count\",axis=1)\n",
        "df_line\n",
        "\n",
        "#CSVに出力\n",
        "df_line.to_csv(\"line_List_Candidate.csv\", encoding = 'utf-8',index=False,header=False)"
      ],
      "execution_count": 0,
      "outputs": []
    },
    {
      "cell_type": "code",
      "metadata": {
        "id": "nZoYVrjllY1F",
        "colab_type": "code",
        "outputId": "6eb945e6-54cf-48e7-fdde-23164840e4e7",
        "colab": {
          "base_uri": "https://localhost:8080/",
          "height": 88
        }
      },
      "source": [
        "import itertools\n",
        "\n",
        "kanto_line = pd.read_table('kanto_line.txt', header=None)\n",
        "\n",
        "#dataframeをlist化\n",
        "kanto_line_list = kanto_line.values.tolist()\n",
        "#2次元listから1次元listへ\n",
        "kanto_line_list = list(itertools.chain.from_iterable(kanto_line_list))\n",
        "\n",
        "print(kanto_line_list)"
      ],
      "execution_count": 4,
      "outputs": [
        {
          "output_type": "stream",
          "text": [
            "['東武東上線', '京浜東北線', '中央快速線', '常磐線', '小田急小田原線', '西武新宿線', '宇都宮線', '京王線', '京急本線', '西武池袋線', '東武伊勢崎線', '東海道線_(JR東日本)', '高崎線', '中央・総武緩行線', '東急田園都市線', '山手線', '東北本線', '近鉄大阪線', '京成本線', '横浜線', '横須賀線', '総武快速線', '南武線', '埼京線', '相鉄本線', '東武野田線', '東急東横線', '外房線', '新京成電鉄新京成線', '中央本線_(JR東日本)', '小田急江ノ島線', '武蔵野線', '総武本線', '都電荒川線', '東京メトロ東西線', '青梅線', '関東鉄道常総線', '成田線', '根岸線', '京王井の頭線', '都営地下鉄新宿線', '京葉線', '秩父鉄道秩父本線', '東急大井町線', '東京メトロ千代田線', '八高線', '東急池上線', '京王相模原線', '川越線', '東京メトロ日比谷線', '西武拝島線', '京成押上線', '相模線', '都営地下鉄浅草線', '江ノ島電鉄線', '東武スカイツリーライン', '東京メトロ半蔵門線', '東武アーバンパークライン', '都営地下鉄大江戸線', '東葉高速鉄道東葉高速線', '東京メトロ銀座線', '小田急多摩線', '横浜高速鉄道みなとみらい線', 'JR東西線', '首都圏新都市鉄道つくばエクスプレス', '京急空港線', '相鉄いずみ野線', '東京メトロ有楽町線', '東京臨海高速鉄道りんかい線', '鶴見線', '東京モノレール羽田空港線', '東武亀戸線', '京葉臨海鉄道臨海本線', '京王新線', '西武秩父線', '埼玉高速鉄道線', '横浜市営地下鉄ブルーライン']\n"
          ],
          "name": "stdout"
        },
        {
          "output_type": "stream",
          "text": [
            "/usr/local/lib/python3.6/dist-packages/ipykernel_launcher.py:3: FutureWarning: read_table is deprecated, use read_csv instead, passing sep='\\t'.\n",
            "  This is separate from the ipykernel package so we can avoid doing imports until\n"
          ],
          "name": "stderr"
        }
      ]
    },
    {
      "cell_type": "code",
      "metadata": {
        "id": "ZlDxCe9goErC",
        "colab_type": "code",
        "outputId": "52a60e81-dc45-4afc-9d56-dd44f36e00c7",
        "colab": {
          "base_uri": "https://localhost:8080/",
          "height": 204
        }
      },
      "source": [
        "#関東(首都圏)に影響を与えそうな路線のデータのみ抽出\n",
        "new_data = df_ac[df_ac['line'].isin(kanto_line_list)]\n",
        "new_data = new_data.reset_index()\n",
        "\n",
        "#不要な項目を削除\n",
        "new_data = new_data.drop(\"index\",axis=1)\n",
        "\n",
        "new_data.head(5)"
      ],
      "execution_count": 5,
      "outputs": [
        {
          "output_type": "execute_result",
          "data": {
            "text/html": [
              "<div>\n",
              "<style scoped>\n",
              "    .dataframe tbody tr th:only-of-type {\n",
              "        vertical-align: middle;\n",
              "    }\n",
              "\n",
              "    .dataframe tbody tr th {\n",
              "        vertical-align: top;\n",
              "    }\n",
              "\n",
              "    .dataframe thead th {\n",
              "        text-align: right;\n",
              "    }\n",
              "</style>\n",
              "<table border=\"1\" class=\"dataframe\">\n",
              "  <thead>\n",
              "    <tr style=\"text-align: right;\">\n",
              "      <th></th>\n",
              "      <th>date</th>\n",
              "      <th>time</th>\n",
              "      <th>yobi</th>\n",
              "      <th>line</th>\n",
              "      <th>from_st</th>\n",
              "      <th>to_st</th>\n",
              "      <th>st</th>\n",
              "    </tr>\n",
              "  </thead>\n",
              "  <tbody>\n",
              "    <tr>\n",
              "      <th>0</th>\n",
              "      <td>2019/08/10</td>\n",
              "      <td>20:08</td>\n",
              "      <td>5</td>\n",
              "      <td>八高線</td>\n",
              "      <td>拝島駅</td>\n",
              "      <td>東福生駅</td>\n",
              "      <td>拝島駅</td>\n",
              "    </tr>\n",
              "    <tr>\n",
              "      <th>1</th>\n",
              "      <td>2019/08/09</td>\n",
              "      <td>22:39</td>\n",
              "      <td>4</td>\n",
              "      <td>東急東横線</td>\n",
              "      <td>学芸大学駅</td>\n",
              "      <td>学芸大学駅</td>\n",
              "      <td>学芸大学駅</td>\n",
              "    </tr>\n",
              "    <tr>\n",
              "      <th>2</th>\n",
              "      <td>2019/08/07</td>\n",
              "      <td>18:00</td>\n",
              "      <td>2</td>\n",
              "      <td>宇都宮線</td>\n",
              "      <td>東大宮駅</td>\n",
              "      <td>蓮田駅</td>\n",
              "      <td>東大宮駅</td>\n",
              "    </tr>\n",
              "    <tr>\n",
              "      <th>3</th>\n",
              "      <td>2019/08/06</td>\n",
              "      <td>11:54</td>\n",
              "      <td>1</td>\n",
              "      <td>総武本線</td>\n",
              "      <td>八街駅</td>\n",
              "      <td>日向駅</td>\n",
              "      <td>八街駅</td>\n",
              "    </tr>\n",
              "    <tr>\n",
              "      <th>4</th>\n",
              "      <td>2019/08/05</td>\n",
              "      <td>12:18</td>\n",
              "      <td>0</td>\n",
              "      <td>東急大井町線</td>\n",
              "      <td>自由が丘駅</td>\n",
              "      <td>九品仏駅</td>\n",
              "      <td>自由が丘駅</td>\n",
              "    </tr>\n",
              "  </tbody>\n",
              "</table>\n",
              "</div>"
            ],
            "text/plain": [
              "         date   time  yobi    line from_st  to_st     st\n",
              "0  2019/08/10  20:08     5     八高線     拝島駅   東福生駅    拝島駅\n",
              "1  2019/08/09  22:39     4   東急東横線   学芸大学駅  学芸大学駅  学芸大学駅\n",
              "2  2019/08/07  18:00     2    宇都宮線    東大宮駅    蓮田駅   東大宮駅\n",
              "3  2019/08/06  11:54     1    総武本線     八街駅    日向駅    八街駅\n",
              "4  2019/08/05  12:18     0  東急大井町線   自由が丘駅   九品仏駅  自由が丘駅"
            ]
          },
          "metadata": {
            "tags": []
          },
          "execution_count": 5
        }
      ]
    },
    {
      "cell_type": "code",
      "metadata": {
        "id": "BfSasH_rJVVn",
        "colab_type": "code",
        "colab": {}
      },
      "source": [
        "!pip install pandas-profiling"
      ],
      "execution_count": 0,
      "outputs": []
    },
    {
      "cell_type": "code",
      "metadata": {
        "id": "KIlNSnI7rN03",
        "colab_type": "code",
        "colab": {}
      },
      "source": [
        "import pandas_profiling as pdp\n",
        "from IPython.display import HTML\n",
        "\n",
        "profile = pdp.ProfileReport(new_data)\n",
        "profile.to_file(outputfile=\"myOutputFile_line.html\")\n",
        "\n",
        "#html化して表示\n",
        "HTML(filename='myOutputFile_line.html')"
      ],
      "execution_count": 0,
      "outputs": []
    },
    {
      "cell_type": "markdown",
      "metadata": {
        "id": "IvT5VBr-t5X0",
        "colab_type": "text"
      },
      "source": [
        "# **profilingの考察**\n",
        "・曜日は関係無さそう\n",
        "\n",
        "・分析する上で情報が不足している\n",
        "\n",
        "・正規化、細分化できる情報は無いか"
      ]
    },
    {
      "cell_type": "code",
      "metadata": {
        "id": "z3tC7j8jt4rx",
        "colab_type": "code",
        "outputId": "46bb1a66-60f3-4693-a5a9-af8150d2506d",
        "colab": {
          "base_uri": "https://localhost:8080/",
          "height": 479
        }
      },
      "source": [
        "# データフレームを定義\n",
        "#通勤時間帯/帰宅時間帯/日中/それ以外で分けてみよう\n",
        "\n",
        "#コピーを付けないとコピー元も変更されてしまう\n",
        "new_df = new_data.copy()\n",
        "\n",
        "#カラム「time」をコピーして追加\n",
        "#(後でカテゴリ分けしたい為)\n",
        "new_df = new_df.assign(time_category=new_df['time'])\n",
        "new_df = new_df.assign(season=new_df['date'])\n",
        "\n",
        "#-------------------------------------------------------------------------------------------\n",
        "#時間帯\n",
        "#-------------------------------------------------------------------------------------------\n",
        "#数値型で比較したい場合は「.str[0:2].astype(int)」を使用する\n",
        "new_df.loc[(new_df['time_category'].str[0:2].isin([\"04\",\"05\"])) ,\"time_category\"] = \"morning_time\"\n",
        "new_df.loc[(new_df['time_category'].str[0:2].isin([\"06\",\"07\",\"08\",\"09\"])) ,\"time_category\"] = \"comp_time\"\n",
        "new_df.loc[(new_df['time_category'].str[0:2].isin([\"17\",\"18\",\"19\",\"20\",\"21\"])) ,\"time_category\"] = \"home_time\"\n",
        "new_df.loc[(new_df['time_category'].str[0:2].isin([\"22\",\"23\",\"00\",\"01\"])) ,\"time_category\"] = \"night_time\"\n",
        "new_df.loc[(new_df['time_category'].str[0:2].isin([\"02\",\"03\",\"10\",\"11\",\"12\",\"13\",\"14\",\"15\",\"16\"])) ,\"time_category\"] = \"etc_time\"\n",
        "\n",
        "dmy_df = pd.get_dummies(new_df['time_category'])\n",
        "add_df = pd.merge(new_df, dmy_df, left_index=True, right_index=True)\n",
        "add_df = add_df.drop(\"time_category\",axis=1)\n",
        "\n",
        "#-------------------------------------------------------------------------------------------\n",
        "#気候\n",
        "#-------------------------------------------------------------------------------------------\n",
        "add_df.loc[(add_df['season'].str[5:7].isin([\"04\",\"05\",\"10\",\"11\"])) ,\"season\"] = \"warm\"\n",
        "add_df.loc[(add_df['season'].str[5:7].isin([\"06\",\"07\",\"08\",\"09\"])) ,\"season\"] = \"hot\"\n",
        "add_df.loc[(add_df['season'].str[5:7].isin([\"12\",\"01\",\"02\",\"03\"])) ,\"season\"] = \"cold\"\n",
        "\n",
        "dmy_df = pd.get_dummies(add_df['season'])\n",
        "add_df = pd.merge(add_df, dmy_df, left_index=True, right_index=True)\n",
        "add_df = add_df.drop(\"season\",axis=1)\n",
        "\n",
        "#-------------------------------------------------------------------------------------------\n",
        "#曜日\n",
        "#-------------------------------------------------------------------------------------------\n",
        "dmy_df = pd.get_dummies(add_df['yobi'],prefix='yobi')\n",
        "add_df = pd.merge(add_df, dmy_df, left_index=True, right_index=True)\n",
        "add_df = add_df.drop(\"yobi\",axis=1)\n",
        "\n",
        "add_df.head(5)"
      ],
      "execution_count": 7,
      "outputs": [
        {
          "output_type": "execute_result",
          "data": {
            "text/html": [
              "<div>\n",
              "<style scoped>\n",
              "    .dataframe tbody tr th:only-of-type {\n",
              "        vertical-align: middle;\n",
              "    }\n",
              "\n",
              "    .dataframe tbody tr th {\n",
              "        vertical-align: top;\n",
              "    }\n",
              "\n",
              "    .dataframe thead th {\n",
              "        text-align: right;\n",
              "    }\n",
              "</style>\n",
              "<table border=\"1\" class=\"dataframe\">\n",
              "  <thead>\n",
              "    <tr style=\"text-align: right;\">\n",
              "      <th></th>\n",
              "      <th>date</th>\n",
              "      <th>time</th>\n",
              "      <th>line</th>\n",
              "      <th>from_st</th>\n",
              "      <th>to_st</th>\n",
              "      <th>st</th>\n",
              "      <th>comp_time</th>\n",
              "      <th>etc_time</th>\n",
              "      <th>home_time</th>\n",
              "      <th>morning_time</th>\n",
              "      <th>night_time</th>\n",
              "      <th>cold</th>\n",
              "      <th>hot</th>\n",
              "      <th>warm</th>\n",
              "      <th>yobi_0</th>\n",
              "      <th>yobi_1</th>\n",
              "      <th>yobi_2</th>\n",
              "      <th>yobi_3</th>\n",
              "      <th>yobi_4</th>\n",
              "      <th>yobi_5</th>\n",
              "      <th>yobi_6</th>\n",
              "    </tr>\n",
              "  </thead>\n",
              "  <tbody>\n",
              "    <tr>\n",
              "      <th>0</th>\n",
              "      <td>2019/08/10</td>\n",
              "      <td>20:08</td>\n",
              "      <td>八高線</td>\n",
              "      <td>拝島駅</td>\n",
              "      <td>東福生駅</td>\n",
              "      <td>拝島駅</td>\n",
              "      <td>0</td>\n",
              "      <td>0</td>\n",
              "      <td>1</td>\n",
              "      <td>0</td>\n",
              "      <td>0</td>\n",
              "      <td>0</td>\n",
              "      <td>1</td>\n",
              "      <td>0</td>\n",
              "      <td>0</td>\n",
              "      <td>0</td>\n",
              "      <td>0</td>\n",
              "      <td>0</td>\n",
              "      <td>0</td>\n",
              "      <td>1</td>\n",
              "      <td>0</td>\n",
              "    </tr>\n",
              "    <tr>\n",
              "      <th>1</th>\n",
              "      <td>2019/08/09</td>\n",
              "      <td>22:39</td>\n",
              "      <td>東急東横線</td>\n",
              "      <td>学芸大学駅</td>\n",
              "      <td>学芸大学駅</td>\n",
              "      <td>学芸大学駅</td>\n",
              "      <td>0</td>\n",
              "      <td>0</td>\n",
              "      <td>0</td>\n",
              "      <td>0</td>\n",
              "      <td>1</td>\n",
              "      <td>0</td>\n",
              "      <td>1</td>\n",
              "      <td>0</td>\n",
              "      <td>0</td>\n",
              "      <td>0</td>\n",
              "      <td>0</td>\n",
              "      <td>0</td>\n",
              "      <td>1</td>\n",
              "      <td>0</td>\n",
              "      <td>0</td>\n",
              "    </tr>\n",
              "    <tr>\n",
              "      <th>2</th>\n",
              "      <td>2019/08/07</td>\n",
              "      <td>18:00</td>\n",
              "      <td>宇都宮線</td>\n",
              "      <td>東大宮駅</td>\n",
              "      <td>蓮田駅</td>\n",
              "      <td>東大宮駅</td>\n",
              "      <td>0</td>\n",
              "      <td>0</td>\n",
              "      <td>1</td>\n",
              "      <td>0</td>\n",
              "      <td>0</td>\n",
              "      <td>0</td>\n",
              "      <td>1</td>\n",
              "      <td>0</td>\n",
              "      <td>0</td>\n",
              "      <td>0</td>\n",
              "      <td>1</td>\n",
              "      <td>0</td>\n",
              "      <td>0</td>\n",
              "      <td>0</td>\n",
              "      <td>0</td>\n",
              "    </tr>\n",
              "    <tr>\n",
              "      <th>3</th>\n",
              "      <td>2019/08/06</td>\n",
              "      <td>11:54</td>\n",
              "      <td>総武本線</td>\n",
              "      <td>八街駅</td>\n",
              "      <td>日向駅</td>\n",
              "      <td>八街駅</td>\n",
              "      <td>0</td>\n",
              "      <td>1</td>\n",
              "      <td>0</td>\n",
              "      <td>0</td>\n",
              "      <td>0</td>\n",
              "      <td>0</td>\n",
              "      <td>1</td>\n",
              "      <td>0</td>\n",
              "      <td>0</td>\n",
              "      <td>1</td>\n",
              "      <td>0</td>\n",
              "      <td>0</td>\n",
              "      <td>0</td>\n",
              "      <td>0</td>\n",
              "      <td>0</td>\n",
              "    </tr>\n",
              "    <tr>\n",
              "      <th>4</th>\n",
              "      <td>2019/08/05</td>\n",
              "      <td>12:18</td>\n",
              "      <td>東急大井町線</td>\n",
              "      <td>自由が丘駅</td>\n",
              "      <td>九品仏駅</td>\n",
              "      <td>自由が丘駅</td>\n",
              "      <td>0</td>\n",
              "      <td>1</td>\n",
              "      <td>0</td>\n",
              "      <td>0</td>\n",
              "      <td>0</td>\n",
              "      <td>0</td>\n",
              "      <td>1</td>\n",
              "      <td>0</td>\n",
              "      <td>1</td>\n",
              "      <td>0</td>\n",
              "      <td>0</td>\n",
              "      <td>0</td>\n",
              "      <td>0</td>\n",
              "      <td>0</td>\n",
              "      <td>0</td>\n",
              "    </tr>\n",
              "  </tbody>\n",
              "</table>\n",
              "</div>"
            ],
            "text/plain": [
              "         date   time    line from_st  ... yobi_3 yobi_4  yobi_5  yobi_6\n",
              "0  2019/08/10  20:08     八高線     拝島駅  ...      0      0       1       0\n",
              "1  2019/08/09  22:39   東急東横線   学芸大学駅  ...      0      1       0       0\n",
              "2  2019/08/07  18:00    宇都宮線    東大宮駅  ...      0      0       0       0\n",
              "3  2019/08/06  11:54    総武本線     八街駅  ...      0      0       0       0\n",
              "4  2019/08/05  12:18  東急大井町線   自由が丘駅  ...      0      0       0       0\n",
              "\n",
              "[5 rows x 21 columns]"
            ]
          },
          "metadata": {
            "tags": []
          },
          "execution_count": 7
        }
      ]
    },
    {
      "cell_type": "code",
      "metadata": {
        "id": "TkZH5vs3TN-O",
        "colab_type": "code",
        "outputId": "7f92a1a4-f17d-40dd-ab72-a41cdb922f57",
        "colab": {
          "base_uri": "https://localhost:8080/",
          "height": 224
        }
      },
      "source": [
        "#補完したい期間の日付を入れたデータフレームを作ってマージ\n",
        "#https://qiita.com/hanon/items/29cf5ed9acb4f731538f\n",
        "\n",
        "#キー結合させる為\n",
        "add_df[\"date\"] = add_df['date'].astype('str')\n",
        "\n",
        "temp_df = pd.read_csv(\"temp.csv\")\n",
        "temp_df = temp_df.drop(\"yobi\", axis=1)\n",
        "\n",
        "df_2 = pd.merge(add_df,temp_df, on='date' , how='left')#left join\n",
        "\n",
        "df_base = df_2.copy().drop([\"date\",\"st\",\"time\",\"line\",\"from_st\",\"to_st\",\"from_st\"], axis=1)\n",
        "df_base = df_base.assign(flg=1)\n",
        "\n",
        "df_base.head()"
      ],
      "execution_count": 8,
      "outputs": [
        {
          "output_type": "execute_result",
          "data": {
            "text/html": [
              "<div>\n",
              "<style scoped>\n",
              "    .dataframe tbody tr th:only-of-type {\n",
              "        vertical-align: middle;\n",
              "    }\n",
              "\n",
              "    .dataframe tbody tr th {\n",
              "        vertical-align: top;\n",
              "    }\n",
              "\n",
              "    .dataframe thead th {\n",
              "        text-align: right;\n",
              "    }\n",
              "</style>\n",
              "<table border=\"1\" class=\"dataframe\">\n",
              "  <thead>\n",
              "    <tr style=\"text-align: right;\">\n",
              "      <th></th>\n",
              "      <th>comp_time</th>\n",
              "      <th>etc_time</th>\n",
              "      <th>home_time</th>\n",
              "      <th>morning_time</th>\n",
              "      <th>night_time</th>\n",
              "      <th>cold</th>\n",
              "      <th>hot</th>\n",
              "      <th>warm</th>\n",
              "      <th>yobi_0</th>\n",
              "      <th>yobi_1</th>\n",
              "      <th>yobi_2</th>\n",
              "      <th>yobi_3</th>\n",
              "      <th>yobi_4</th>\n",
              "      <th>yobi_5</th>\n",
              "      <th>yobi_6</th>\n",
              "      <th>max_temp</th>\n",
              "      <th>min_temp</th>\n",
              "      <th>flg</th>\n",
              "    </tr>\n",
              "  </thead>\n",
              "  <tbody>\n",
              "    <tr>\n",
              "      <th>0</th>\n",
              "      <td>0</td>\n",
              "      <td>0</td>\n",
              "      <td>1</td>\n",
              "      <td>0</td>\n",
              "      <td>0</td>\n",
              "      <td>0</td>\n",
              "      <td>1</td>\n",
              "      <td>0</td>\n",
              "      <td>0</td>\n",
              "      <td>0</td>\n",
              "      <td>0</td>\n",
              "      <td>0</td>\n",
              "      <td>0</td>\n",
              "      <td>1</td>\n",
              "      <td>0</td>\n",
              "      <td>NaN</td>\n",
              "      <td>NaN</td>\n",
              "      <td>1</td>\n",
              "    </tr>\n",
              "    <tr>\n",
              "      <th>1</th>\n",
              "      <td>0</td>\n",
              "      <td>0</td>\n",
              "      <td>0</td>\n",
              "      <td>0</td>\n",
              "      <td>1</td>\n",
              "      <td>0</td>\n",
              "      <td>1</td>\n",
              "      <td>0</td>\n",
              "      <td>0</td>\n",
              "      <td>0</td>\n",
              "      <td>0</td>\n",
              "      <td>0</td>\n",
              "      <td>1</td>\n",
              "      <td>0</td>\n",
              "      <td>0</td>\n",
              "      <td>NaN</td>\n",
              "      <td>NaN</td>\n",
              "      <td>1</td>\n",
              "    </tr>\n",
              "    <tr>\n",
              "      <th>2</th>\n",
              "      <td>0</td>\n",
              "      <td>0</td>\n",
              "      <td>1</td>\n",
              "      <td>0</td>\n",
              "      <td>0</td>\n",
              "      <td>0</td>\n",
              "      <td>1</td>\n",
              "      <td>0</td>\n",
              "      <td>0</td>\n",
              "      <td>0</td>\n",
              "      <td>1</td>\n",
              "      <td>0</td>\n",
              "      <td>0</td>\n",
              "      <td>0</td>\n",
              "      <td>0</td>\n",
              "      <td>NaN</td>\n",
              "      <td>NaN</td>\n",
              "      <td>1</td>\n",
              "    </tr>\n",
              "    <tr>\n",
              "      <th>3</th>\n",
              "      <td>0</td>\n",
              "      <td>1</td>\n",
              "      <td>0</td>\n",
              "      <td>0</td>\n",
              "      <td>0</td>\n",
              "      <td>0</td>\n",
              "      <td>1</td>\n",
              "      <td>0</td>\n",
              "      <td>0</td>\n",
              "      <td>1</td>\n",
              "      <td>0</td>\n",
              "      <td>0</td>\n",
              "      <td>0</td>\n",
              "      <td>0</td>\n",
              "      <td>0</td>\n",
              "      <td>NaN</td>\n",
              "      <td>NaN</td>\n",
              "      <td>1</td>\n",
              "    </tr>\n",
              "    <tr>\n",
              "      <th>4</th>\n",
              "      <td>0</td>\n",
              "      <td>1</td>\n",
              "      <td>0</td>\n",
              "      <td>0</td>\n",
              "      <td>0</td>\n",
              "      <td>0</td>\n",
              "      <td>1</td>\n",
              "      <td>0</td>\n",
              "      <td>1</td>\n",
              "      <td>0</td>\n",
              "      <td>0</td>\n",
              "      <td>0</td>\n",
              "      <td>0</td>\n",
              "      <td>0</td>\n",
              "      <td>0</td>\n",
              "      <td>NaN</td>\n",
              "      <td>NaN</td>\n",
              "      <td>1</td>\n",
              "    </tr>\n",
              "  </tbody>\n",
              "</table>\n",
              "</div>"
            ],
            "text/plain": [
              "   comp_time  etc_time  home_time  ...  max_temp  min_temp  flg\n",
              "0          0         0          1  ...       NaN       NaN    1\n",
              "1          0         0          0  ...       NaN       NaN    1\n",
              "2          0         0          1  ...       NaN       NaN    1\n",
              "3          0         1          0  ...       NaN       NaN    1\n",
              "4          0         1          0  ...       NaN       NaN    1\n",
              "\n",
              "[5 rows x 18 columns]"
            ]
          },
          "metadata": {
            "tags": []
          },
          "execution_count": 8
        }
      ]
    },
    {
      "cell_type": "code",
      "metadata": {
        "id": "7gonn93CNRvp",
        "colab_type": "code",
        "outputId": "218b28ae-fbd8-49e3-bf38-841a871b4220",
        "colab": {
          "base_uri": "https://localhost:8080/",
          "height": 224
        }
      },
      "source": [
        "import numpy as np\n",
        "from datetime import date, timedelta\n",
        "\n",
        "#日付データ作成\n",
        "dates_df = pd.DataFrame({\"date\": [pd.to_datetime(\"2010-01-01\") + timedelta(days=i) for i in range(3650)]},dtype=\"object\")\n",
        "dt_ary = dates_df.values.tolist()\n",
        "\n",
        "#デフォルトでは小数点が付いてしまう為、int型に変換\n",
        "time_cate = np.eye(5).astype(int)\n",
        "yobi_cate = np.eye(7).astype(int)\n",
        "season_cate = ['0','0','0']\n",
        "\n",
        "wk_list = []\n",
        "for wk in dt_ary:\n",
        "  for wk2 in time_cate:\n",
        "    for wk3 in yobi_cate:\n",
        "      list_parts = np.concatenate((wk,wk2,season_cate,wk3), axis=None)\n",
        "      wk_list.append(list_parts.tolist())\n",
        "\n",
        "col=[\"date\",\n",
        "     \"comp_time\",\"etc_time\",\"home_time\",\"morning_time\",\"night_time\",\n",
        "     \"cold\",\"hot\",\"warm\",\n",
        "     \"yobi_0\",\"yobi_1\",\"yobi_2\",\"yobi_3\",\"yobi_4\",\"yobi_5\",\"yobi_6\"]\n",
        "\n",
        "df = pd.DataFrame(data=wk_list,columns=col)\n",
        "\n",
        "#文字列操作をする為、日付型から文字列型へ\n",
        "df['date'] = df['date'].astype('str')\n",
        "\n",
        "#-------------------------------------------------------------------------------------------\n",
        "#気候\n",
        "#-------------------------------------------------------------------------------------------\n",
        "df.loc[(df['date'].str[5:7].isin([\"04\",\"05\",\"10\",\"11\"])) ,\"warm\"] = \"1\"\n",
        "df.loc[(df['date'].str[5:7].isin([\"06\",\"07\",\"08\",\"09\"])) ,\"hot\"] = \"1\"\n",
        "df.loc[(df['date'].str[5:7].isin([\"12\",\"01\",\"02\",\"03\"])) ,\"cold\"] = \"1\"\n",
        "\n",
        "temp_df = pd.read_csv(\"temp.csv\")\n",
        "temp_df = temp_df.drop(\"yobi\", axis=1)\n",
        "\n",
        "df = pd.merge(df,temp_df, on='date' , how='left')#left join\n",
        "\n",
        "df_add = df.drop(\"date\", axis=1)\n",
        "df_add = df_add.assign(flg=0)\n",
        "df_add.head()"
      ],
      "execution_count": 9,
      "outputs": [
        {
          "output_type": "execute_result",
          "data": {
            "text/html": [
              "<div>\n",
              "<style scoped>\n",
              "    .dataframe tbody tr th:only-of-type {\n",
              "        vertical-align: middle;\n",
              "    }\n",
              "\n",
              "    .dataframe tbody tr th {\n",
              "        vertical-align: top;\n",
              "    }\n",
              "\n",
              "    .dataframe thead th {\n",
              "        text-align: right;\n",
              "    }\n",
              "</style>\n",
              "<table border=\"1\" class=\"dataframe\">\n",
              "  <thead>\n",
              "    <tr style=\"text-align: right;\">\n",
              "      <th></th>\n",
              "      <th>comp_time</th>\n",
              "      <th>etc_time</th>\n",
              "      <th>home_time</th>\n",
              "      <th>morning_time</th>\n",
              "      <th>night_time</th>\n",
              "      <th>cold</th>\n",
              "      <th>hot</th>\n",
              "      <th>warm</th>\n",
              "      <th>yobi_0</th>\n",
              "      <th>yobi_1</th>\n",
              "      <th>yobi_2</th>\n",
              "      <th>yobi_3</th>\n",
              "      <th>yobi_4</th>\n",
              "      <th>yobi_5</th>\n",
              "      <th>yobi_6</th>\n",
              "      <th>max_temp</th>\n",
              "      <th>min_temp</th>\n",
              "      <th>flg</th>\n",
              "    </tr>\n",
              "  </thead>\n",
              "  <tbody>\n",
              "    <tr>\n",
              "      <th>0</th>\n",
              "      <td>1</td>\n",
              "      <td>0</td>\n",
              "      <td>0</td>\n",
              "      <td>0</td>\n",
              "      <td>0</td>\n",
              "      <td>1</td>\n",
              "      <td>0</td>\n",
              "      <td>0</td>\n",
              "      <td>1</td>\n",
              "      <td>0</td>\n",
              "      <td>0</td>\n",
              "      <td>0</td>\n",
              "      <td>0</td>\n",
              "      <td>0</td>\n",
              "      <td>0</td>\n",
              "      <td>NaN</td>\n",
              "      <td>NaN</td>\n",
              "      <td>0</td>\n",
              "    </tr>\n",
              "    <tr>\n",
              "      <th>1</th>\n",
              "      <td>1</td>\n",
              "      <td>0</td>\n",
              "      <td>0</td>\n",
              "      <td>0</td>\n",
              "      <td>0</td>\n",
              "      <td>1</td>\n",
              "      <td>0</td>\n",
              "      <td>0</td>\n",
              "      <td>0</td>\n",
              "      <td>1</td>\n",
              "      <td>0</td>\n",
              "      <td>0</td>\n",
              "      <td>0</td>\n",
              "      <td>0</td>\n",
              "      <td>0</td>\n",
              "      <td>NaN</td>\n",
              "      <td>NaN</td>\n",
              "      <td>0</td>\n",
              "    </tr>\n",
              "    <tr>\n",
              "      <th>2</th>\n",
              "      <td>1</td>\n",
              "      <td>0</td>\n",
              "      <td>0</td>\n",
              "      <td>0</td>\n",
              "      <td>0</td>\n",
              "      <td>1</td>\n",
              "      <td>0</td>\n",
              "      <td>0</td>\n",
              "      <td>0</td>\n",
              "      <td>0</td>\n",
              "      <td>1</td>\n",
              "      <td>0</td>\n",
              "      <td>0</td>\n",
              "      <td>0</td>\n",
              "      <td>0</td>\n",
              "      <td>NaN</td>\n",
              "      <td>NaN</td>\n",
              "      <td>0</td>\n",
              "    </tr>\n",
              "    <tr>\n",
              "      <th>3</th>\n",
              "      <td>1</td>\n",
              "      <td>0</td>\n",
              "      <td>0</td>\n",
              "      <td>0</td>\n",
              "      <td>0</td>\n",
              "      <td>1</td>\n",
              "      <td>0</td>\n",
              "      <td>0</td>\n",
              "      <td>0</td>\n",
              "      <td>0</td>\n",
              "      <td>0</td>\n",
              "      <td>1</td>\n",
              "      <td>0</td>\n",
              "      <td>0</td>\n",
              "      <td>0</td>\n",
              "      <td>NaN</td>\n",
              "      <td>NaN</td>\n",
              "      <td>0</td>\n",
              "    </tr>\n",
              "    <tr>\n",
              "      <th>4</th>\n",
              "      <td>1</td>\n",
              "      <td>0</td>\n",
              "      <td>0</td>\n",
              "      <td>0</td>\n",
              "      <td>0</td>\n",
              "      <td>1</td>\n",
              "      <td>0</td>\n",
              "      <td>0</td>\n",
              "      <td>0</td>\n",
              "      <td>0</td>\n",
              "      <td>0</td>\n",
              "      <td>0</td>\n",
              "      <td>1</td>\n",
              "      <td>0</td>\n",
              "      <td>0</td>\n",
              "      <td>NaN</td>\n",
              "      <td>NaN</td>\n",
              "      <td>0</td>\n",
              "    </tr>\n",
              "  </tbody>\n",
              "</table>\n",
              "</div>"
            ],
            "text/plain": [
              "   comp_time  etc_time  home_time  ...  max_temp  min_temp flg\n",
              "0          1         0          0  ...       NaN       NaN   0\n",
              "1          1         0          0  ...       NaN       NaN   0\n",
              "2          1         0          0  ...       NaN       NaN   0\n",
              "3          1         0          0  ...       NaN       NaN   0\n",
              "4          1         0          0  ...       NaN       NaN   0\n",
              "\n",
              "[5 rows x 18 columns]"
            ]
          },
          "metadata": {
            "tags": []
          },
          "execution_count": 9
        }
      ]
    },
    {
      "cell_type": "code",
      "metadata": {
        "id": "ixAXXcQevR64",
        "colab_type": "code",
        "outputId": "f8dc3b45-49a2-46cd-fedd-452f8f27832c",
        "colab": {
          "base_uri": "https://localhost:8080/",
          "height": 224
        }
      },
      "source": [
        "# NegativeデータとPositiveデータを統合\n",
        "ret = pd.concat([df_base, df_add], axis=0)\n",
        "#duplicated()と論理否定演算子~を使って、重複した行を削除したDataFrameを取得できる。\n",
        "ret = ret[~ret.duplicated()]\n",
        "\n",
        "#中央値で埋める\n",
        "ret = ret.fillna(ret.median())\n",
        "ret = ret.reset_index()\n",
        "ret = ret.drop(\"index\", axis=1)\n",
        "\n",
        "#可視化の為\n",
        "ret['cold'] = ret['cold'].astype('int')\n",
        "ret['warm'] = ret['warm'].astype('int')\n",
        "ret['hot'] = ret['hot'].astype('int')\n",
        "\n",
        "ret.head()"
      ],
      "execution_count": 23,
      "outputs": [
        {
          "output_type": "execute_result",
          "data": {
            "text/html": [
              "<div>\n",
              "<style scoped>\n",
              "    .dataframe tbody tr th:only-of-type {\n",
              "        vertical-align: middle;\n",
              "    }\n",
              "\n",
              "    .dataframe tbody tr th {\n",
              "        vertical-align: top;\n",
              "    }\n",
              "\n",
              "    .dataframe thead th {\n",
              "        text-align: right;\n",
              "    }\n",
              "</style>\n",
              "<table border=\"1\" class=\"dataframe\">\n",
              "  <thead>\n",
              "    <tr style=\"text-align: right;\">\n",
              "      <th></th>\n",
              "      <th>comp_time</th>\n",
              "      <th>etc_time</th>\n",
              "      <th>home_time</th>\n",
              "      <th>morning_time</th>\n",
              "      <th>night_time</th>\n",
              "      <th>cold</th>\n",
              "      <th>hot</th>\n",
              "      <th>warm</th>\n",
              "      <th>yobi_0</th>\n",
              "      <th>yobi_1</th>\n",
              "      <th>yobi_2</th>\n",
              "      <th>yobi_3</th>\n",
              "      <th>yobi_4</th>\n",
              "      <th>yobi_5</th>\n",
              "      <th>yobi_6</th>\n",
              "      <th>max_temp</th>\n",
              "      <th>min_temp</th>\n",
              "      <th>flg</th>\n",
              "    </tr>\n",
              "  </thead>\n",
              "  <tbody>\n",
              "    <tr>\n",
              "      <th>0</th>\n",
              "      <td>0</td>\n",
              "      <td>0</td>\n",
              "      <td>1</td>\n",
              "      <td>0</td>\n",
              "      <td>0</td>\n",
              "      <td>0</td>\n",
              "      <td>1</td>\n",
              "      <td>0</td>\n",
              "      <td>0</td>\n",
              "      <td>0</td>\n",
              "      <td>0</td>\n",
              "      <td>0</td>\n",
              "      <td>0</td>\n",
              "      <td>1</td>\n",
              "      <td>0</td>\n",
              "      <td>15.3</td>\n",
              "      <td>8.1</td>\n",
              "      <td>1</td>\n",
              "    </tr>\n",
              "    <tr>\n",
              "      <th>1</th>\n",
              "      <td>0</td>\n",
              "      <td>0</td>\n",
              "      <td>0</td>\n",
              "      <td>0</td>\n",
              "      <td>1</td>\n",
              "      <td>0</td>\n",
              "      <td>1</td>\n",
              "      <td>0</td>\n",
              "      <td>0</td>\n",
              "      <td>0</td>\n",
              "      <td>0</td>\n",
              "      <td>0</td>\n",
              "      <td>1</td>\n",
              "      <td>0</td>\n",
              "      <td>0</td>\n",
              "      <td>15.3</td>\n",
              "      <td>8.1</td>\n",
              "      <td>1</td>\n",
              "    </tr>\n",
              "    <tr>\n",
              "      <th>2</th>\n",
              "      <td>0</td>\n",
              "      <td>0</td>\n",
              "      <td>1</td>\n",
              "      <td>0</td>\n",
              "      <td>0</td>\n",
              "      <td>0</td>\n",
              "      <td>1</td>\n",
              "      <td>0</td>\n",
              "      <td>0</td>\n",
              "      <td>0</td>\n",
              "      <td>1</td>\n",
              "      <td>0</td>\n",
              "      <td>0</td>\n",
              "      <td>0</td>\n",
              "      <td>0</td>\n",
              "      <td>15.3</td>\n",
              "      <td>8.1</td>\n",
              "      <td>1</td>\n",
              "    </tr>\n",
              "    <tr>\n",
              "      <th>3</th>\n",
              "      <td>0</td>\n",
              "      <td>1</td>\n",
              "      <td>0</td>\n",
              "      <td>0</td>\n",
              "      <td>0</td>\n",
              "      <td>0</td>\n",
              "      <td>1</td>\n",
              "      <td>0</td>\n",
              "      <td>0</td>\n",
              "      <td>1</td>\n",
              "      <td>0</td>\n",
              "      <td>0</td>\n",
              "      <td>0</td>\n",
              "      <td>0</td>\n",
              "      <td>0</td>\n",
              "      <td>15.3</td>\n",
              "      <td>8.1</td>\n",
              "      <td>1</td>\n",
              "    </tr>\n",
              "    <tr>\n",
              "      <th>4</th>\n",
              "      <td>0</td>\n",
              "      <td>1</td>\n",
              "      <td>0</td>\n",
              "      <td>0</td>\n",
              "      <td>0</td>\n",
              "      <td>0</td>\n",
              "      <td>1</td>\n",
              "      <td>0</td>\n",
              "      <td>1</td>\n",
              "      <td>0</td>\n",
              "      <td>0</td>\n",
              "      <td>0</td>\n",
              "      <td>0</td>\n",
              "      <td>0</td>\n",
              "      <td>0</td>\n",
              "      <td>15.3</td>\n",
              "      <td>8.1</td>\n",
              "      <td>1</td>\n",
              "    </tr>\n",
              "  </tbody>\n",
              "</table>\n",
              "</div>"
            ],
            "text/plain": [
              "   comp_time  etc_time  home_time  ...  max_temp  min_temp  flg\n",
              "0          0         0          1  ...      15.3       8.1    1\n",
              "1          0         0          0  ...      15.3       8.1    1\n",
              "2          0         0          1  ...      15.3       8.1    1\n",
              "3          0         1          0  ...      15.3       8.1    1\n",
              "4          0         1          0  ...      15.3       8.1    1\n",
              "\n",
              "[5 rows x 18 columns]"
            ]
          },
          "metadata": {
            "tags": []
          },
          "execution_count": 23
        }
      ]
    },
    {
      "cell_type": "code",
      "metadata": {
        "id": "oANaC4eVj2vE",
        "colab_type": "code",
        "colab": {}
      },
      "source": [
        "#正規化\n",
        "ret_ = ret.copy()\n",
        "s = ret_['max_temp']\n",
        "ret_['max_temp'] = (s - s.min()) / (s.max() - s.min())\n",
        "\n",
        "s = ret_['min_temp']\n",
        "ret_['min_temp'] = (s - s.min()) / (s.max() - s.min())\n",
        "\n",
        "ret = ret_.copy()"
      ],
      "execution_count": 0,
      "outputs": []
    },
    {
      "cell_type": "code",
      "metadata": {
        "id": "AkIHswdsvmTi",
        "colab_type": "code",
        "colab": {}
      },
      "source": [
        "from sklearn.model_selection import train_test_split\n",
        "from sklearn.svm import SVC,LinearSVC\n",
        "from sklearn.metrics import accuracy_score\n",
        "\n",
        "# ラベルと入力データに分離する\n",
        "y = ret.loc[:,\"flg\"]\n",
        "y = y.values.tolist()\n",
        "\n",
        "x = ret.loc[:,[\"comp_time\",\"etc_time\",\"home_time\",\"morning_time\",\"night_time\",\"cold\",\"hot\",\"warm\",\"yobi_0\",\"yobi_1\",\"yobi_2\",\"yobi_3\",\"yobi_4\",\"yobi_5\",\"yobi_6\",\"max_temp\",\"min_temp\"]]\n",
        "\n",
        "# 学習用とテスト用に分離する\n",
        "x_train, x_test, y_train, y_test = train_test_split(x, y, test_size = 0.2, train_size = 0.8, shuffle = True)\n",
        "\n",
        "# #グリッドサーチ\n",
        "# best_score = 0\n",
        "# for gamma in [0.001, 0.01, 0.1, 1, 10, 100]:\n",
        "#     for C in [0.001, 0.01, 0.1, 1, 10, 100]:\n",
        "#         #それぞれのパラメータの組み合わせに足してSVCを訓練\n",
        "#         svm = SVC(gamma=gamma, C=C)\n",
        "#         svm.fit(x_train, y_train)\n",
        "#         #SVCをテストセットで評価\n",
        "#         score = svm.score(x_test, y_test)\n",
        "#         #良いスコアであればスコアとパラメータを保持\n",
        "#         if score > best_score:\n",
        "#             best_score = score\n",
        "#             best_parameters = {'C':C, 'gamma':gamma}\n",
        "# print(\"Best score: {:.2f}\".format(best_score))\n",
        "# print(\"Best parameters: {}\".format(best_parameters))"
      ],
      "execution_count": 0,
      "outputs": []
    },
    {
      "cell_type": "code",
      "metadata": {
        "id": "k_tb5VEA2Wdj",
        "colab_type": "code",
        "outputId": "7a018fd8-29f1-408c-d2a6-7e22feeab389",
        "colab": {
          "base_uri": "https://localhost:8080/",
          "height": 34
        }
      },
      "source": [
        "# 学習する\n",
        "# model = SVC(C=0.001,gamma=0.001)\n",
        "model = DecisionTreeClassifier ()\n",
        "\n",
        "model.fit(x_train, y_train)\n",
        "\n",
        "# 評価する\n",
        "y_pred = model.predict(x_test)\n",
        "print(\"正解率 = \" , accuracy_score(y_test, y_pred))"
      ],
      "execution_count": 85,
      "outputs": [
        {
          "output_type": "stream",
          "text": [
            "正解率 =  0.9751119960179193\n"
          ],
          "name": "stdout"
        }
      ]
    },
    {
      "cell_type": "code",
      "metadata": {
        "id": "_H5cCcBWSuuX",
        "colab_type": "code",
        "outputId": "2cf508e5-9b9b-4b51-cf63-de0e8e327a54",
        "colab": {
          "base_uri": "https://localhost:8080/",
          "height": 68
        }
      },
      "source": [
        "#PositiveデータとNegativeデータの割合\n",
        "print(ret[\"flg\"].value_counts())"
      ],
      "execution_count": 86,
      "outputs": [
        {
          "output_type": "stream",
          "text": [
            "0    9940\n",
            "1     105\n",
            "Name: flg, dtype: int64\n"
          ],
          "name": "stdout"
        }
      ]
    },
    {
      "cell_type": "code",
      "metadata": {
        "id": "7RsNqqcCUvjY",
        "colab_type": "code",
        "outputId": "9d731477-0c23-4ae4-dfa6-b9997d2e8977",
        "colab": {
          "base_uri": "https://localhost:8080/",
          "height": 34
        }
      },
      "source": [
        "#真陽性率 (Recall)\n",
        "#Positive なデータに対してモデルがどれだけ正解できているかを確認\n",
        "from sklearn.metrics import recall_score\n",
        "print(\"真陽性率 = \",recall_score(y_test, y_pred))"
      ],
      "execution_count": 87,
      "outputs": [
        {
          "output_type": "stream",
          "text": [
            "真陽性率 =  0.06666666666666667\n"
          ],
          "name": "stdout"
        }
      ]
    },
    {
      "cell_type": "markdown",
      "metadata": {
        "id": "UITzL9WmYkm7",
        "colab_type": "text"
      },
      "source": [
        "###ほとんどのデータを Negative と判断していることになる･･･。"
      ]
    },
    {
      "cell_type": "code",
      "metadata": {
        "id": "lCCe9jG2YfQN",
        "colab_type": "code",
        "outputId": "969d7e01-d31f-411a-da6d-a2e895f58847",
        "colab": {
          "base_uri": "https://localhost:8080/",
          "height": 34
        }
      },
      "source": [
        "#適合率 (Precision) \n",
        "#モデルが Positive と判断したデータの中に、どれだけ本当に Positive なものがあったかを確認\n",
        "from sklearn.metrics import precision_score\n",
        "print(\"適合率 = \",precision_score(y_test, y_pred))"
      ],
      "execution_count": 88,
      "outputs": [
        {
          "output_type": "stream",
          "text": [
            "適合率 =  0.08333333333333333\n"
          ],
          "name": "stdout"
        }
      ]
    },
    {
      "cell_type": "code",
      "metadata": {
        "id": "cGwcvxTwZaJ2",
        "colab_type": "code",
        "colab": {
          "base_uri": "https://localhost:8080/",
          "height": 102
        },
        "outputId": "1ea70d8e-d400-4f1d-d792-d8d4118e46cc"
      },
      "source": [
        "#ダウンサンプリング\n",
        "!pip install imbalanced-learn"
      ],
      "execution_count": 30,
      "outputs": [
        {
          "output_type": "stream",
          "text": [
            "Requirement already satisfied: imbalanced-learn in /usr/local/lib/python3.6/dist-packages (0.4.3)\n",
            "Requirement already satisfied: scikit-learn>=0.20 in /usr/local/lib/python3.6/dist-packages (from imbalanced-learn) (0.21.3)\n",
            "Requirement already satisfied: numpy>=1.8.2 in /usr/local/lib/python3.6/dist-packages (from imbalanced-learn) (1.16.4)\n",
            "Requirement already satisfied: scipy>=0.13.3 in /usr/local/lib/python3.6/dist-packages (from imbalanced-learn) (1.3.1)\n",
            "Requirement already satisfied: joblib>=0.11 in /usr/local/lib/python3.6/dist-packages (from scikit-learn>=0.20->imbalanced-learn) (0.13.2)\n"
          ],
          "name": "stdout"
        }
      ]
    },
    {
      "cell_type": "code",
      "metadata": {
        "id": "LIx8OsE_Z04Z",
        "colab_type": "code",
        "colab": {}
      },
      "source": [
        "from sklearn.linear_model import LogisticRegression\n",
        "from imblearn.under_sampling import RandomUnderSampler\n",
        "from sklearn.model_selection import cross_val_predict\n",
        "\n",
        "sampler = RandomUnderSampler(random_state=42)\n",
        "X_resampled, y_resampled = sampler.fit_resample(x, y)"
      ],
      "execution_count": 0,
      "outputs": []
    },
    {
      "cell_type": "code",
      "metadata": {
        "id": "JKeucIp_czsR",
        "colab_type": "code",
        "outputId": "72391f90-da98-461e-f888-bbb60fef77cc",
        "colab": {
          "base_uri": "https://localhost:8080/",
          "height": 119
        }
      },
      "source": [
        "import warnings\n",
        "from sklearn.utils.testing import all_estimators\n",
        "from sklearn.metrics import accuracy_score\n",
        "\n",
        "# classifierのアルゴリズム全てを取得する --- (*1)\n",
        "warnings.filterwarnings('ignore')\n",
        "allAlgorithms = all_estimators(type_filter=\"classifier\")\n",
        "\n",
        "for(name, algorithm) in allAlgorithms:\n",
        "\n",
        "    #エラー回避\n",
        "    if name == 'GradientBoostingClassifier' or name == 'RandomForestClassifier' or name == 'DecisionTreeClassifier' or name == 'KNeighborsClassifier' or name == 'LogisticRegression' or name == 'LogisticRegressionCV':\n",
        "\n",
        "      # 各アリゴリズムのオブジェクトを作成 --- (*2)\n",
        "      # 注意:一部のアルゴリズムは引数に何かを渡さないとエラーになる。\n",
        "      clf = algorithm()\n",
        "\n",
        "      # 学習して、評価する --- (*3)\n",
        "      #( x_train : 学習用データ / learn_label : ラベル)\n",
        "      clf.fit(X_resampled, y_resampled)\n",
        "      y_pred = clf.predict(x_test)\n",
        "      print(name,\"の正解率 = \" , accuracy_score(y_test, y_pred))"
      ],
      "execution_count": 90,
      "outputs": [
        {
          "output_type": "stream",
          "text": [
            "DecisionTreeClassifier の正解率 =  0.9800895968143355\n",
            "GradientBoostingClassifier の正解率 =  0.9790940766550522\n",
            "KNeighborsClassifier の正解率 =  0.9059233449477352\n",
            "LogisticRegression の正解率 =  0.8222996515679443\n",
            "LogisticRegressionCV の正解率 =  0.6520657043305127\n",
            "RandomForestClassifier の正解率 =  0.9850671976107516\n"
          ],
          "name": "stdout"
        }
      ]
    },
    {
      "cell_type": "code",
      "metadata": {
        "id": "TzZ6Fe99c6oS",
        "colab_type": "code",
        "outputId": "0623c2cb-19dd-4e76-f337-bc24ba98abf5",
        "colab": {
          "base_uri": "https://localhost:8080/",
          "height": 68
        }
      },
      "source": [
        "#決定木\n",
        "from sklearn.tree import DecisionTreeClassifier\n",
        "clf = DecisionTreeClassifier()\n",
        "\n",
        "#可視化する為にはfitする必要がある。\n",
        "clf = clf.fit(X_resampled, y_resampled)\n",
        "\n",
        "y_sampled_pred = cross_val_predict(clf, X_resampled, y_resampled, cv=5)\n",
        "\n",
        "print(\"正解率 = \",accuracy_score(y_resampled, y_sampled_pred))\n",
        "print(\"真陽性率 = \",recall_score(y_resampled, y_sampled_pred))\n",
        "print(\"適合率 = \",precision_score(y_resampled, y_sampled_pred))"
      ],
      "execution_count": 91,
      "outputs": [
        {
          "output_type": "stream",
          "text": [
            "正解率 =  0.9047619047619048\n",
            "真陽性率 =  0.8666666666666667\n",
            "適合率 =  0.9381443298969072\n"
          ],
          "name": "stdout"
        }
      ]
    },
    {
      "cell_type": "code",
      "metadata": {
        "id": "_dAC61b2sRM1",
        "colab_type": "code",
        "colab": {
          "base_uri": "https://localhost:8080/",
          "height": 286
        },
        "outputId": "1a4508e8-2ab9-45c5-fa47-6730594f1762"
      },
      "source": [
        "#5.各特徴量の重要度を可視化\n",
        "import matplotlib.pyplot as plt\n",
        "% matplotlib inline\n",
        "import numpy as np\n",
        " \n",
        "def plot_feature_importances(model):\n",
        "  n_features = X_resampled.data.shape[1] # 全説明変数\n",
        "  plt.barh(range(n_features), model.feature_importances_, align='center') # 描画する際の枠組みを設定\n",
        "  plt.yticks(np.arange(n_features), x.columns) # 縦軸の設定\n",
        "  plt.xlabel('importances') # 横軸の設定\n",
        "  plt.ylabel('features') # 縦軸の設定\n",
        "  plt.show()\n",
        "\n",
        "#実行\n",
        "plot_feature_importances(clf)\n",
        " "
      ],
      "execution_count": 92,
      "outputs": [
        {
          "output_type": "display_data",
          "data": {
            "image/png": "[encoded data removed]",
            "text/plain": [
              "<Figure size 432x288 with 1 Axes>"
            ]
          },
          "metadata": {
            "tags": []
          }
        }
      ]
    }
  ]
}