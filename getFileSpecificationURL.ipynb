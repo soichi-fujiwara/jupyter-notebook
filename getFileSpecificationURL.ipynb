{
  "nbformat": 4,
  "nbformat_minor": 0,
  "metadata": {
    "colab": {
      "name": "getFileSpecificationURL.ipynb",
      "version": "0.3.2",
      "provenance": [],
      "include_colab_link": true
    },
    "kernelspec": {
      "name": "python3",
      "display_name": "Python 3"
    },
    "accelerator": "GPU"
  },
  "cells": [
    {
      "cell_type": "markdown",
      "metadata": {
        "id": "view-in-github",
        "colab_type": "text"
      },
      "source": [
        "<a href=\"https://colab.research.google.com/github/soichi-fujiwara/jupyter-notebook/blob/master/getFileSpecificationURL.ipynb\" target=\"_parent\"><img src=\"https://colab.research.google.com/assets/colab-badge.svg\" alt=\"Open In Colab\"/></a>"
      ]
    },
    {
      "cell_type": "markdown",
      "metadata": {
        "id": "vCMfweVZEzPd",
        "colab_type": "text"
      },
      "source": [
        "##URL指定ファイルダウンロード"
      ]
    },
    {
      "cell_type": "code",
      "metadata": {
        "id": "GhMbBx_ECoOl",
        "colab_type": "code",
        "outputId": "d5332f34-45e6-40aa-d18b-26330dce847d",
        "colab": {
          "base_uri": "https://localhost:8080/",
          "height": 34
        }
      },
      "source": [
        "from google.colab import drive\n",
        "drive.mount('/content/drive')"
      ],
      "execution_count": 0,
      "outputs": [
        {
          "output_type": "stream",
          "text": [
            "Drive already mounted at /content/drive; to attempt to forcibly remount, call drive.mount(\"/content/drive\", force_remount=True).\n"
          ],
          "name": "stdout"
        }
      ]
    },
    {
      "cell_type": "code",
      "metadata": {
        "id": "KvifSzihC5h9",
        "colab_type": "code",
        "colab": {}
      },
      "source": [
        "# ダウンロード\n",
        "import urllib.request\n",
        "import os\n",
        "\n",
        "#URLの末尾を0から1に変える必要がある。\n",
        "DROPBOX_URL = \"https://www.dropbox.com/s/j75s0eq4eeuyt5n/jawiki.doc2vec.dbow300d.tar.bz2?dl=1\"\n",
        "filename = \"wiki_do2vec.model\"\n",
        "directory=\"./drive/My Drive/NLP/\"\n",
        "\n",
        "# 大きなデータは256kb毎に細切りにして読み込む\n",
        "chunk_size = 1024 * 256\n",
        "\n",
        "with urllib.request.urlopen(DROPBOX_URL) as resp:\n",
        "  if not os.path.exists(directory):\n",
        "    os.makedirs(directory)\n",
        "  with open(os.path.join(directory, filename), 'wb') as f:\n",
        "     while 1:\n",
        "        chunk = resp.read(chunk_size)\n",
        "        if not chunk:\n",
        "            break\n",
        "        else : \n",
        "          f.write(chunk)\n",
        "          f.flush()\n",
        "          os.fsync(f.fileno())    "
      ],
      "execution_count": 0,
      "outputs": []
    }
  ]
}