{
  "nbformat": 4,
  "nbformat_minor": 0,
  "metadata": {
    "colab": {
      "name": "getFileSpecificationURL.ipynb",
      "version": "0.3.2",
      "provenance": [],
      "include_colab_link": true
    },
    "kernelspec": {
      "name": "python3",
      "display_name": "Python 3"
    },
    "accelerator": "GPU"
  },
  "cells": [
    {
      "cell_type": "markdown",
      "metadata": {
        "id": "view-in-github",
        "colab_type": "text"
      },
      "source": [
        "<a href=\"https://colab.research.google.com/github/soichi-fujiwara/jupyter-notebook/blob/master/getFileSpecificationURL.ipynb\" target=\"_parent\"><img src=\"https://colab.research.google.com/assets/colab-badge.svg\" alt=\"Open In Colab\"/></a>"
      ]
    },
    {
      "cell_type": "markdown",
      "metadata": {
        "id": "vCMfweVZEzPd",
        "colab_type": "text"
      },
      "source": [
        "##URL指定ファイルダウンロード"
      ]
    },
    {
      "cell_type": "code",
      "metadata": {
        "id": "GhMbBx_ECoOl",
        "colab_type": "code",
        "outputId": "4cee77e2-fb75-4508-d163-3ae0f143f42e",
        "colab": {
          "base_uri": "https://localhost:8080/",
          "height": 34
        }
      },
      "source": [
        "from google.colab import drive\n",
        "drive.mount('/content/drive')"
      ],
      "execution_count": 1,
      "outputs": [
        {
          "output_type": "stream",
          "text": [
            "Drive already mounted at /content/drive; to attempt to forcibly remount, call drive.mount(\"/content/drive\", force_remount=True).\n"
          ],
          "name": "stdout"
        }
      ]
    },
    {
      "cell_type": "code",
      "metadata": {
        "id": "KvifSzihC5h9",
        "colab_type": "code",
        "colab": {}
      },
      "source": [
        "# ダウンロード\n",
        "import urllib.request\n",
        "import os\n",
        "\n",
        "#DROPBOX_URL = \"https://www.dropbox.com/s/j75s0eq4eeuyt5n/jawiki.doc2vec.dbow300d.tar.bz2?dl=1\"\n",
        "DROPBOX_URL = \"http://www.cl.ecei.tohoku.ac.jp/~m-suzuki/jawiki_vector/data/20170201.tar.bz2\"\n",
        "filename = \"20170201.tar.bz2\"\n",
        "directory=\"./drive/My Drive/NLP/\"\n",
        "\n",
        "# 大きなデータは256kb毎に細切りにして読み込む\n",
        "chunk_size = 1024 * 256\n",
        "\n",
        "with urllib.request.urlopen(DROPBOX_URL) as resp:\n",
        "  if not os.path.exists(directory):\n",
        "    os.makedirs(directory)\n",
        "  with open(os.path.join(directory, filename), 'wb') as f:\n",
        "     while 1:\n",
        "        chunk = resp.read(chunk_size)\n",
        "        if not chunk:\n",
        "            break\n",
        "        else : \n",
        "          f.write(chunk)\n",
        "          f.flush()\n",
        "          os.fsync(f.fileno())    "
      ],
      "execution_count": 0,
      "outputs": []
    },
    {
      "cell_type": "code",
      "metadata": {
        "id": "NRJCjIdrc3nQ",
        "colab_type": "code",
        "colab": {}
      },
      "source": [
        "!bzip2 -dc \"./drive/My Drive/NLP/20170201.tar.bz2\""
      ],
      "execution_count": 0,
      "outputs": []
    },
    {
      "cell_type": "code",
      "metadata": {
        "id": "LNrW-QNANIfJ",
        "colab_type": "code",
        "colab": {}
      },
      "source": [
        "# The notebook server will temporarily stop sending output\n",
        "# to the client in order to avoid crashing it.\n",
        "# To change this limit, set the config variable\n",
        "# `--NotebookApp.iopub_data_rate_limit`.\n",
        "\n",
        "# Current values:\n",
        "# NotebookApp.iopub_data_rate_limit=1000000.0 (bytes/sec)\n",
        "# NotebookApp.rate_limit_window=3.0 (secs)\n",
        "\n",
        "#Buffered data was truncated after reaching the output size limit"
      ],
      "execution_count": 0,
      "outputs": []
    }
  ]
}