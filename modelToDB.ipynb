{
  "nbformat": 4,
  "nbformat_minor": 0,
  "metadata": {
    "colab": {
      "name": "modelToDB.ipynb",
      "provenance": [],
      "collapsed_sections": [],
      "include_colab_link": true
    },
    "kernelspec": {
      "name": "python3",
      "display_name": "Python 3"
    },
    "accelerator": "GPU"
  },
  "cells": [
    {
      "cell_type": "markdown",
      "metadata": {
        "id": "view-in-github",
        "colab_type": "text"
      },
      "source": [
        "<a href=\"https://colab.research.google.com/github/soichi-fujiwara/jupyter-notebook/blob/master/modelToDB.ipynb\" target=\"_parent\"><img src=\"https://colab.research.google.com/assets/colab-badge.svg\" alt=\"Open In Colab\"/></a>"
      ]
    },
    {
      "cell_type": "markdown",
      "metadata": {
        "id": "vCMfweVZEzPd",
        "colab_type": "text"
      },
      "source": [
        "##モデルをDB化"
      ]
    },
    {
      "cell_type": "code",
      "metadata": {
        "id": "GhMbBx_ECoOl",
        "colab_type": "code",
        "outputId": "b4614091-c208-4460-816c-703f951644f6",
        "colab": {
          "base_uri": "https://localhost:8080/",
          "height": 122
        }
      },
      "source": [
        "from google.colab import drive\n",
        "drive.mount('/content/drive')"
      ],
      "execution_count": 1,
      "outputs": [
        {
          "output_type": "stream",
          "text": [
            "Go to this URL in a browser: https://accounts.google.com/o/oauth2/auth?client_id=947318989803-6bn6qk8qdgf4n4g3pfee6491hc0brc4i.apps.googleusercontent.com&redirect_uri=urn%3Aietf%3Awg%3Aoauth%3A2.0%3Aoob&scope=email%20https%3A%2F%2Fwww.googleapis.com%2Fauth%2Fdocs.test%20https%3A%2F%2Fwww.googleapis.com%2Fauth%2Fdrive%20https%3A%2F%2Fwww.googleapis.com%2Fauth%2Fdrive.photos.readonly%20https%3A%2F%2Fwww.googleapis.com%2Fauth%2Fpeopleapi.readonly&response_type=code\n",
            "\n",
            "Enter your authorization code:\n",
            "··········\n",
            "Mounted at /content/drive\n"
          ],
          "name": "stdout"
        }
      ]
    },
    {
      "cell_type": "code",
      "metadata": {
        "id": "NRJCjIdrc3nQ",
        "colab_type": "code",
        "outputId": "0e7015e4-ebee-4471-abb0-f7f0c5e3327f",
        "colab": {
          "base_uri": "https://localhost:8080/",
          "height": 85
        }
      },
      "source": [
        "import IPython\n",
        "#bz2ファイル解凍\n",
        "!bunzip2 -k -q \"./drive/My Drive/NLP/20170201.tar.bz2\"\n",
        "\n",
        "#tarファイル解凍\n",
        "!tar -xvf \"./drive/My Drive/NLP/20170201.tar\""
      ],
      "execution_count": 2,
      "outputs": [
        {
          "output_type": "stream",
          "text": [
            "bunzip2: Output file ./drive/My Drive/NLP/20170201.tar already exists.\n",
            "entity_vector/\n",
            "entity_vector/entity_vector.model.txt\n",
            "entity_vector/entity_vector.model.bin\n"
          ],
          "name": "stdout"
        }
      ]
    },
    {
      "cell_type": "code",
      "metadata": {
        "id": "X2jUrFtNeMMH",
        "colab_type": "code",
        "outputId": "812712e2-1b04-43aa-84f3-a43531b68245",
        "colab": {
          "base_uri": "https://localhost:8080/",
          "height": 275
        }
      },
      "source": [
        "from gensim.models import KeyedVectors\n",
        "\n",
        "#解凍時のみ\n",
        "model_dir = 'entity_vector/entity_vector.model.bin'\n",
        "model = KeyedVectors.load_word2vec_format(model_dir, binary=True,limit=500000)\n",
        "\n",
        "#解凍後確認\n",
        "results = model.most_similar(positive=[u'[坂井泉水]',u'逆'])\n",
        "for result in results:\n",
        "  print(result)"
      ],
      "execution_count": 41,
      "outputs": [
        {
          "output_type": "stream",
          "text": [
            "/usr/local/lib/python3.6/dist-packages/smart_open/smart_open_lib.py:398: UserWarning: This function is deprecated, use smart_open.open instead. See the migration notes for details: https://github.com/RaRe-Technologies/smart_open/blob/master/README.rst#migrating-to-the-new-open-function\n",
            "  'See the migration notes for details: %s' % _MIGRATION_NOTES_URL\n"
          ],
          "name": "stderr"
        },
        {
          "output_type": "stream",
          "text": [
            "('[大黒摩季]', 0.551082193851471)\n",
            "('[来生えつこ]', 0.5425988435745239)\n",
            "('[岸田繁]', 0.536811351776123)\n",
            "('[田島貴男]', 0.535373330116272)\n",
            "('原曲', 0.5254271626472473)\n",
            "('[ZARD]', 0.5241447687149048)\n",
            "('[宇徳敬子]', 0.5184545516967773)\n",
            "('[松本隆]', 0.5148824453353882)\n",
            "('[宝野アリカ]', 0.5131203532218933)\n",
            "('[栗林誠一郎]', 0.5111038088798523)\n"
          ],
          "name": "stdout"
        },
        {
          "output_type": "stream",
          "text": [
            "/usr/local/lib/python3.6/dist-packages/gensim/matutils.py:737: FutureWarning: Conversion of the second argument of issubdtype from `int` to `np.signedinteger` is deprecated. In future, it will be treated as `np.int64 == np.dtype(int).type`.\n",
            "  if np.issubdtype(vec.dtype, np.int):\n"
          ],
          "name": "stderr"
        }
      ]
    },
    {
      "cell_type": "code",
      "metadata": {
        "id": "KQGM66ine9J3",
        "colab_type": "code",
        "outputId": "ef0ccf5d-1e78-4ced-c4f0-a6e1836f7af4",
        "colab": {
          "base_uri": "https://localhost:8080/",
          "height": 1000
        }
      },
      "source": [
        "#、。「」(括弧)、数字などの記号は変換しない方針とする\n",
        "cnt = 0\n",
        "\n",
        "for k, v in model.vocab.items():\n",
        "  k = delete_brackets(k)\n",
        "\n",
        "  #数値を含まない単語が対象\n",
        "  if re.match('.*?(\\d+).*', k) is None:\n",
        "    print(k)\n",
        "    cnt = cnt + 1\n",
        "\n",
        "    if cnt > 100:\n",
        "      break\n"
      ],
      "execution_count": 30,
      "outputs": [
        {
          "output_type": "stream",
          "text": [
            "の\n",
            "、\n",
            "。\n",
            "に\n",
            "は\n",
            "を\n",
            "た\n",
            "が\n",
            "で\n",
            "て\n",
            "と\n",
            "し\n",
            "（\n",
            "れ\n",
            "さ\n",
            "）\n",
            "ある\n",
            "いる\n",
            "する\n",
            "も\n",
            "「\n",
            "・\n",
            "」\n",
            "から\n",
            "こと\n",
            "な\n",
            "として\n",
            "い\n",
            "や\n",
            "なっ\n",
            "れる\n",
            "など\n",
            "『\n",
            "この\n",
            "ない\n",
            "-\n",
            "』\n",
            "ため\n",
            "あっ\n",
            "その\n",
            "的\n",
            "また\n",
            "まで\n",
            "よう\n",
            "へ\n",
            "られ\n",
            "あり\n",
            "なる\n",
            "という\n",
            "後\n",
            "もの\n",
            "第\n",
            "\"\n",
            "中\n",
            "だ\n",
            "おり\n",
            "により\n",
            "これ\n",
            "より\n",
            "によって\n",
            ",\n",
            "）、\n",
            "現在\n",
            "による\n",
            "）。\n",
            ".\n",
            "者\n",
            "なり\n",
            "だっ\n",
            "ず\n",
            "か\n",
            "において\n",
            "なかっ\n",
            "られる\n",
            "場合\n",
            "時\n",
            "行わ\n",
            "その後\n",
            "[日本]\n",
            "多く\n",
            "なく\n",
            "について\n",
            "名\n",
            "せ\n",
            "しかし\n",
            "ば\n",
            "間\n",
            "できる\n",
            "それ\n",
            "上\n",
            "使用\n",
            "内\n",
            "日本\n",
            "化\n",
            "他\n",
            "作品\n",
            "放送\n",
            "当時\n",
            "存在\n",
            "数\n",
            "呼ば\n"
          ],
          "name": "stdout"
        }
      ]
    }
  ]
}