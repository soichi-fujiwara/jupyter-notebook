{
  "nbformat": 4,
  "nbformat_minor": 0,
  "metadata": {
    "colab": {
      "name": "modelToDB.ipynb",
      "provenance": [],
      "collapsed_sections": [],
      "toc_visible": true,
      "include_colab_link": true
    },
    "kernelspec": {
      "name": "python3",
      "display_name": "Python 3"
    },
    "accelerator": "GPU"
  },
  "cells": [
    {
      "cell_type": "markdown",
      "metadata": {
        "id": "view-in-github",
        "colab_type": "text"
      },
      "source": [
        "<a href=\"https://colab.research.google.com/github/soichi-fujiwara/jupyter-notebook/blob/master/modelToDB.ipynb\" target=\"_parent\"><img src=\"https://colab.research.google.com/assets/colab-badge.svg\" alt=\"Open In Colab\"/></a>"
      ]
    },
    {
      "cell_type": "markdown",
      "metadata": {
        "id": "vCMfweVZEzPd",
        "colab_type": "text"
      },
      "source": [
        "##モデルをDB化"
      ]
    },
    {
      "cell_type": "code",
      "metadata": {
        "id": "GhMbBx_ECoOl",
        "colab_type": "code",
        "outputId": "25bdeb6a-9d78-4fe0-eb20-0db58a686155",
        "colab": {
          "base_uri": "https://localhost:8080/",
          "height": 122
        }
      },
      "source": [
        "from google.colab import drive\n",
        "drive.mount('/content/drive')"
      ],
      "execution_count": 9,
      "outputs": [
        {
          "output_type": "stream",
          "text": [
            "Go to this URL in a browser: https://accounts.google.com/o/oauth2/auth?client_id=947318989803-6bn6qk8qdgf4n4g3pfee6491hc0brc4i.apps.googleusercontent.com&redirect_uri=urn%3Aietf%3Awg%3Aoauth%3A2.0%3Aoob&scope=email%20https%3A%2F%2Fwww.googleapis.com%2Fauth%2Fdocs.test%20https%3A%2F%2Fwww.googleapis.com%2Fauth%2Fdrive%20https%3A%2F%2Fwww.googleapis.com%2Fauth%2Fdrive.photos.readonly%20https%3A%2F%2Fwww.googleapis.com%2Fauth%2Fpeopleapi.readonly&response_type=code\n",
            "\n",
            "Enter your authorization code:\n",
            "··········\n",
            "Mounted at /content/drive\n"
          ],
          "name": "stdout"
        }
      ]
    },
    {
      "cell_type": "code",
      "metadata": {
        "id": "NRJCjIdrc3nQ",
        "colab_type": "code",
        "outputId": "3bb46db3-8566-4230-adef-261f16ab719b",
        "colab": {
          "base_uri": "https://localhost:8080/",
          "height": 68
        }
      },
      "source": [
        "import IPython\n",
        "#bz2ファイル解凍\n",
        "#!bunzip2 -k -q \"./drive/My Drive/NLP/20170201.tar.bz2\"\n",
        "\n",
        "#tarファイル解凍\n",
        "!tar -xvf \"./drive/My Drive/NLP/20170201.tar\""
      ],
      "execution_count": 10,
      "outputs": [
        {
          "output_type": "stream",
          "text": [
            "entity_vector/\n",
            "entity_vector/entity_vector.model.txt\n",
            "entity_vector/entity_vector.model.bin\n"
          ],
          "name": "stdout"
        }
      ]
    },
    {
      "cell_type": "code",
      "metadata": {
        "id": "X2jUrFtNeMMH",
        "colab_type": "code",
        "outputId": "cd741e22-86e9-45d5-fe69-0e7083af3bf3",
        "colab": {
          "base_uri": "https://localhost:8080/",
          "height": 241
        }
      },
      "source": [
        "from gensim.models import KeyedVectors\n",
        "\n",
        "#解凍時のみ\n",
        "#model_dir = 'entity_vector/entity_vector.model.bin'\n",
        "#model = KeyedVectors.load_word2vec_format(model_dir, binary=True,limit=500000)\n",
        "\n",
        "#解凍後確認\n",
        "results = model.most_similar(positive=[u'数学'])\n",
        "for result in results:\n",
        "  print(result)"
      ],
      "execution_count": 12,
      "outputs": [
        {
          "output_type": "stream",
          "text": [
            "('[数学]', 0.8441122770309448)\n",
            "('物理学', 0.8005046844482422)\n",
            "('算術', 0.7927638292312622)\n",
            "('[幾何学]', 0.7776163220405579)\n",
            "('[物理学]', 0.7547159194946289)\n",
            "('[代数学]', 0.7514173984527588)\n",
            "('代数学', 0.7450574636459351)\n",
            "('[解析学]', 0.741286039352417)\n",
            "('[確率論]', 0.7390509843826294)\n",
            "('[数論]', 0.7337667942047119)\n"
          ],
          "name": "stdout"
        },
        {
          "output_type": "stream",
          "text": [
            "/usr/local/lib/python3.6/dist-packages/gensim/matutils.py:737: FutureWarning: Conversion of the second argument of issubdtype from `int` to `np.signedinteger` is deprecated. In future, it will be treated as `np.int64 == np.dtype(int).type`.\n",
            "  if np.issubdtype(vec.dtype, np.int):\n"
          ],
          "name": "stderr"
        }
      ]
    },
    {
      "cell_type": "code",
      "metadata": {
        "id": "oEruRmNNatxY",
        "colab_type": "code",
        "outputId": "bf158799-358f-4db8-be51-b384f6d09e98",
        "colab": {
          "base_uri": "https://localhost:8080/",
          "height": 122
        }
      },
      "source": [
        "!pip install mecab-python3"
      ],
      "execution_count": 13,
      "outputs": [
        {
          "output_type": "stream",
          "text": [
            "Collecting mecab-python3\n",
            "\u001b[?25l  Downloading https://files.pythonhosted.org/packages/b3/92/e7e7f38df8457fa40c1ca86928be5ddbe2bf341e90a35e6ada30d03ef16d/mecab_python3-0.996.2-cp36-cp36m-manylinux1_x86_64.whl (15.9MB)\n",
            "\u001b[K     |████████████████████████████████| 15.9MB 2.7MB/s \n",
            "\u001b[?25hInstalling collected packages: mecab-python3\n",
            "Successfully installed mecab-python3-0.996.2\n"
          ],
          "name": "stdout"
        }
      ]
    },
    {
      "cell_type": "code",
      "metadata": {
        "id": "E5yIYDAfPHQu",
        "colab_type": "code",
        "colab": {
          "base_uri": "https://localhost:8080/",
          "height": 187
        },
        "outputId": "3ba17247-ae21-47a4-dc57-3e593b751226"
      },
      "source": [
        "import re\n",
        "import pandas as pd\n",
        "\n",
        "cnt = 1\n",
        "model_vocab_list = []\n",
        "\n",
        "for words, v in model.vocab.items():\n",
        "\n",
        "  words = words.replace('_', '')\n",
        "  \n",
        "  #固有名詞用の括弧を削除\n",
        "  words = words.replace('[', '').replace(']', '')\n",
        "\n",
        "  #補足情報の_を削除\n",
        "  words = words.replace(\"_\",\"\")\n",
        "  #括弧文字を抽出\n",
        "  regex = re.compile(\".*?\\((.*?)\\)\")\n",
        "  #括弧文字をlist型で返却\n",
        "  ret_list = re.findall(regex, words)\n",
        "\n",
        "  #括弧文字がある場合は無効化\n",
        "  if len(ret_list) > 0: \n",
        "    words = words.replace(\"(\" + ret_list[0] + \")\",'')\n",
        "    model_vocab_list.append(words)\n",
        "  else:\n",
        "    model_vocab_list.append(words)\n",
        "    \n",
        "  if cnt % 50000 == 0:\n",
        "    print(cnt,\"件 終了\");\n",
        "    \n",
        "  cnt = cnt + 1\n",
        "\n",
        "#重複削除\n",
        "model_vocab_uni_list= list(set(model_vocab_list))\n",
        "  \n",
        "#保存\n",
        "df = pd.DataFrame(model_vocab_uni_list)\n",
        "df.to_csv('./drive/My Drive/NLP/model_vocab_list.csv', header=False, index=False)"
      ],
      "execution_count": 29,
      "outputs": [
        {
          "output_type": "stream",
          "text": [
            "50000 件 終了\n",
            "100000 件 終了\n",
            "150000 件 終了\n",
            "200000 件 終了\n",
            "250000 件 終了\n",
            "300000 件 終了\n",
            "350000 件 終了\n",
            "400000 件 終了\n",
            "450000 件 終了\n",
            "500000 件 終了\n"
          ],
          "name": "stdout"
        }
      ]
    },
    {
      "cell_type": "code",
      "metadata": {
        "id": "pRvxKV48SLUM",
        "colab_type": "code",
        "colab": {
          "base_uri": "https://localhost:8080/",
          "height": 85
        },
        "outputId": "f67800df-d80d-4ab1-91bf-34b6e5355db4"
      },
      "source": [
        "csv_dir = './drive/My Drive/NLP/model_vocab_list.csv'\n",
        "df = pd.read_csv(csv_dir,names=['words'])\n",
        "\n",
        "print(df.count())\n",
        "print(df[df[\"words\"]==\"ゆず\"])"
      ],
      "execution_count": 30,
      "outputs": [
        {
          "output_type": "stream",
          "text": [
            "words    425495\n",
            "dtype: int64\n",
            "       words\n",
            "309355    ゆず\n"
          ],
          "name": "stdout"
        }
      ]
    },
    {
      "cell_type": "code",
      "metadata": {
        "id": "KQGM66ine9J3",
        "colab_type": "code",
        "colab": {}
      },
      "source": [
        "import re\n",
        "import pandas as pd\n",
        "\n",
        "#対義語生成\n",
        "import lib_wordRevChange as lw\n",
        "\n",
        "cnt = 1\n",
        "save_list = []\n",
        "\n",
        "for words, v in model.vocab.items():\n",
        "\n",
        "  words = words.replace('_', '')\n",
        "  \n",
        "  #固有名詞用の括弧を削除\n",
        "  words = words.replace('[', '').replace(']', '')\n",
        "\n",
        "  #補足情報の_を削除\n",
        "  words = words.replace(\"_\",\"\")\n",
        "  #括弧文字を抽出\n",
        "  regex = re.compile(\".*?\\((.*?)\\)\")\n",
        "  #括弧文字をlist型で返却\n",
        "  ret_list = re.findall(regex, words)\n",
        "  #括弧文字がある場合は無効化\n",
        "  if len(ret_list) > 0: \n",
        "    words = words.replace(\"(\" + ret_list[0] + \")\",'')\n",
        "  \n",
        "    gyaku = u\"逆\"\n",
        "    inherent_words = '[' + words + ']'  \n",
        "    rev_list = lw.wordRevChange(words,gyaku,inherent_words,model)\n",
        "    save_list.append(rev_list)\n",
        "\n",
        "  if cnt % 500 == 0:\n",
        "    print(cnt,\"件 終了\");\n",
        "    \n",
        "  cnt = cnt + 1\n",
        "\n",
        "#保存\n",
        "df = pd.DataFrame(save_list)\n",
        "df.to_csv('./drive/My Drive/NLP/modelToCsv.csv', header=False, index=False)"
      ],
      "execution_count": 0,
      "outputs": []
    },
    {
      "cell_type": "code",
      "metadata": {
        "id": "WHsYKa8Acdco",
        "colab_type": "code",
        "colab": {
          "base_uri": "https://localhost:8080/",
          "height": 34
        },
        "outputId": "1a16407b-197f-4389-855d-14ddb8cbf464"
      },
      "source": [
        "import re\n",
        "\n",
        "mystring = \"あいうえお_(補足情報)\"\n",
        "mystring = mystring.replace(\"_\",\"\")\n",
        "\n",
        "regex = re.compile(\".*?\\((.*?)\\)\")\n",
        "\n",
        "#list型で返却\n",
        "result = re.findall(regex, mystring)\n",
        "\n",
        "ret_word = mystring.replace(\"(\" + result[0] + \")\",'')\n",
        "\n",
        "print(ret_word)"
      ],
      "execution_count": 8,
      "outputs": [
        {
          "output_type": "stream",
          "text": [
            "あいうえお\n"
          ],
          "name": "stdout"
        }
      ]
    }
  ]
}