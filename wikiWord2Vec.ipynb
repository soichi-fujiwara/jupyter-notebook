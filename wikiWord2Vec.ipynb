{
  "nbformat": 4,
  "nbformat_minor": 0,
  "metadata": {
    "colab": {
      "name": "wikiWord2Vec.ipynb",
      "version": "0.3.2",
      "provenance": [],
      "include_colab_link": true
    },
    "kernelspec": {
      "name": "python3",
      "display_name": "Python 3"
    },
    "accelerator": "GPU"
  },
  "cells": [
    {
      "cell_type": "markdown",
      "metadata": {
        "id": "view-in-github",
        "colab_type": "text"
      },
      "source": [
        "<a href=\"https://colab.research.google.com/github/soichi-fujiwara/jupyter-notebook/blob/master/wikiWord2Vec.ipynb\" target=\"_parent\"><img src=\"https://colab.research.google.com/assets/colab-badge.svg\" alt=\"Open In Colab\"/></a>"
      ]
    },
    {
      "cell_type": "markdown",
      "metadata": {
        "id": "3RPLEyZjgMeG",
        "colab_type": "text"
      },
      "source": [
        "##学習済みDoc2Vecモデル\n",
        "https://yag-ays.github.io/project/pretrained_doc2vec_wikipedia/\n",
        "\n",
        "ライブラリ\n",
        "Gensim: 3.6.0"
      ]
    },
    {
      "cell_type": "code",
      "metadata": {
        "id": "WDCNznuyOCuI",
        "colab_type": "code",
        "outputId": "97e1003f-ca10-4109-90a1-358c2a6c79eb",
        "colab": {
          "base_uri": "https://localhost:8080/",
          "height": 34
        }
      },
      "source": [
        "from google.colab import drive\n",
        "drive.mount('/content/drive')"
      ],
      "execution_count": 7,
      "outputs": [
        {
          "output_type": "stream",
          "text": [
            "Drive already mounted at /content/drive; to attempt to forcibly remount, call drive.mount(\"/content/drive\", force_remount=True).\n"
          ],
          "name": "stdout"
        }
      ]
    },
    {
      "cell_type": "code",
      "metadata": {
        "id": "P2L0oI8HO_rM",
        "colab_type": "code",
        "outputId": "e9ed3683-b76c-4ca9-cdd5-d47b0df3462e",
        "colab": {
          "base_uri": "https://localhost:8080/",
          "height": 71
        }
      },
      "source": [
        "from gensim.models import KeyedVectors\n",
        "from pprint import pprint\n",
        "\n",
        "#Gドライブ保存後の確認\n",
        "model_dir = './drive/My Drive/NLP/wiki_tohoku.model'\n",
        "model = KeyedVectors.load(model_dir)"
      ],
      "execution_count": 8,
      "outputs": [
        {
          "output_type": "stream",
          "text": [
            "/usr/local/lib/python3.6/dist-packages/smart_open/smart_open_lib.py:398: UserWarning: This function is deprecated, use smart_open.open instead. See the migration notes for details: https://github.com/RaRe-Technologies/smart_open/blob/master/README.rst#migrating-to-the-new-open-function\n",
            "  'See the migration notes for details: %s' % _MIGRATION_NOTES_URL\n"
          ],
          "name": "stderr"
        }
      ]
    },
    {
      "cell_type": "code",
      "metadata": {
        "id": "c_AO7KRMigHl",
        "colab_type": "code",
        "outputId": "d1fa491d-4ce1-4d91-ffda-29794cfd4b28",
        "colab": {
          "base_uri": "https://localhost:8080/",
          "height": 122
        }
      },
      "source": [
        "!pip install mecab-python3"
      ],
      "execution_count": 9,
      "outputs": [
        {
          "output_type": "stream",
          "text": [
            "Collecting mecab-python3\n",
            "\u001b[?25l  Downloading https://files.pythonhosted.org/packages/b3/92/e7e7f38df8457fa40c1ca86928be5ddbe2bf341e90a35e6ada30d03ef16d/mecab_python3-0.996.2-cp36-cp36m-manylinux1_x86_64.whl (15.9MB)\n",
            "\u001b[K     |████████████████████████████████| 15.9MB 3.4MB/s \n",
            "\u001b[?25hInstalling collected packages: mecab-python3\n",
            "Successfully installed mecab-python3-0.996.2\n"
          ],
          "name": "stdout"
        }
      ]
    },
    {
      "cell_type": "code",
      "metadata": {
        "id": "BibdTUU1OEwq",
        "colab_type": "code",
        "outputId": "0e6f69f0-9e5c-48e1-c7fb-c8806c979413",
        "colab": {
          "base_uri": "https://localhost:8080/",
          "height": 122
        }
      },
      "source": [
        "import MeCab\n",
        "\n",
        "def search_similar_texts(p_words):\n",
        "  #パラメータから括弧が消えている？\n",
        "  p_words = \"[\" + p_words + \"]\"\n",
        "  try:\n",
        "    print(model.similarity('[ポケモン]',p_words))\n",
        "  except KeyError as error:\n",
        "    pass\n",
        "\n",
        "words = 'マツコ・デラックス'\n",
        "inherent_words = '[' + words + ']'\n",
        "  \n",
        "#**************************************************************************\n",
        "#そのまま対義化\n",
        "#**************************************************************************\n",
        "asitis_cng_words = ''\n",
        "try:\n",
        "  for i in range(5):\n",
        "    rvs_wd = model.most_similar(positive=[inherent_words,u\"逆\"])[i][0]\n",
        "    if inherent_words.replace('[',\"\").replace(']',\"\") != rvs_wd.replace('[',\"\").replace(']',\"\"):\n",
        "      asitis_cng_words = model.most_similar(positive=[inherent_words,u\"逆\"])[i][0]\n",
        "      break\n",
        "    else:\n",
        "      asitis_cng_words = words + \"(変換なし)\"\n",
        "except KeyError as error:\n",
        "  #辞書に登録の無い単語の場合\n",
        "  search_similar_texts(inherent_words)\n",
        "\n",
        "#**************************************************************************\n",
        "#形態素分析後に対義化\n",
        "#**************************************************************************\n",
        "word_cng_list = []\n",
        "tokenizer = MeCab.Tagger(\"-Ochasen\")\n",
        "node = tokenizer.parseToNode(words)\n",
        "  \n",
        "while node:\n",
        "  cut_wd = node.surface\n",
        "\n",
        "  if node.feature.split(\",\")[0] == u\"名詞\":\n",
        "    try:\n",
        "      for i in range(5):\n",
        "        rvs_wd = model.most_similar(positive=[cut_wd,u\"逆\"])[i][0]\n",
        "        if cut_wd != rvs_wd.replace('[',\"\").replace(']',\"\"):\n",
        "          #◆結合\n",
        "          word_cng_list.append(rvs_wd.replace('[',\"\").replace(']',\"\"))\n",
        "          break\n",
        "    except KeyError as error:\n",
        "      print(\"名詞キーエラー\")\n",
        "      #辞書に登録の無い単語の場合\n",
        "      search_similar_texts(cut_wd)\n",
        "\n",
        "  elif node.feature.split(\",\")[0] == u\"形容詞\":\n",
        "    cut_wd = node.feature.split(\",\")[6]\n",
        "\n",
        "    try:\n",
        "      for i in range(5):\n",
        "        rvs_wd = model.most_similar(positive=[cut_wd,u\"逆\"])[i][0]\n",
        "        if cut_wd != rvs_wd.replace('[',\"\").replace(']',\"\"):\n",
        "          #◆結合\n",
        "          word_cng_list.append(rvs_wd.replace('[',\"\").replace(']',\"\"))\n",
        "          break\n",
        "    except KeyError as error:\n",
        "      print(\"形容詞キーエラー\")\n",
        "      #辞書に登録の無い単語の場合\n",
        "      search_similar_texts(cut_wd)\n",
        "\n",
        "  elif node.feature.split(\",\")[0] == u\"動詞\":\n",
        "    cu_wd = node.feature.split(\",\")[6]\n",
        "\n",
        "    try:\n",
        "      for i in range(5):\n",
        "        rvs_wd = model.most_similar(positive=[cut_wd,u\"逆\"])[i][0]\n",
        "        if cut_wd != rvs_wd.replace('[',\"\").replace(']',\"\"):\n",
        "          #◆結合\n",
        "          word_cng_list.append(rvs_wd.replace('[',\"\").replace(']',\"\"))\n",
        "          break\n",
        "    except KeyError as error:\n",
        "      print(\"動詞キーエラー\")\n",
        "      #辞書に登録の無い単語の場合\n",
        "      search_similar_texts(cut_wd)\n",
        "\n",
        "  else:\n",
        "    #◆結合\n",
        "    word_cng_list.append(cut_wd.replace('[',\"\").replace(']',\"\"))\n",
        "\n",
        "  node = node.next\n",
        "\n",
        "print(words)\n",
        "print(asitis_cng_words)\n",
        "print(word_cng_list)"
      ],
      "execution_count": 126,
      "outputs": [
        {
          "output_type": "stream",
          "text": [
            "/usr/local/lib/python3.6/dist-packages/gensim/matutils.py:737: FutureWarning: Conversion of the second argument of issubdtype from `int` to `np.signedinteger` is deprecated. In future, it will be treated as `np.int64 == np.dtype(int).type`.\n",
            "  if np.issubdtype(vec.dtype, np.int):\n"
          ],
          "name": "stderr"
        },
        {
          "output_type": "stream",
          "text": [
            "マツコ・デラックス\n",
            "ボケ\n",
            "['', 'ボケ', '・', 'ノーマル', '']\n"
          ],
          "name": "stdout"
        }
      ]
    },
    {
      "cell_type": "code",
      "metadata": {
        "id": "OVweZJEM_4hc",
        "colab_type": "code",
        "colab": {
          "base_uri": "https://localhost:8080/",
          "height": 88
        },
        "outputId": "258a27fb-da55-49cd-a91a-67d77183ad42"
      },
      "source": [
        "print(model.similarity('凶悪', '[サイドン]'))\n"
      ],
      "execution_count": 96,
      "outputs": [
        {
          "output_type": "stream",
          "text": [
            "0.036208138\n"
          ],
          "name": "stdout"
        },
        {
          "output_type": "stream",
          "text": [
            "/usr/local/lib/python3.6/dist-packages/gensim/matutils.py:737: FutureWarning: Conversion of the second argument of issubdtype from `int` to `np.signedinteger` is deprecated. In future, it will be treated as `np.int64 == np.dtype(int).type`.\n",
            "  if np.issubdtype(vec.dtype, np.int):\n"
          ],
          "name": "stderr"
        }
      ]
    },
    {
      "cell_type": "code",
      "metadata": {
        "id": "5AOQ5GmRLO7p",
        "colab_type": "code",
        "outputId": "7fe92831-d252-43dc-e319-5cea42fdb143",
        "colab": {
          "base_uri": "https://localhost:8080/",
          "height": 241
        }
      },
      "source": [
        "#r'文字列'　→　正規表現。\n",
        "#u'文字列'　→　日本語。Ver.2.7のとき必要。Ver.3では付けても付けなくてもよい。\n",
        "try:\n",
        "  #pprint(model.wv.most_similar(positive=[u'世界'],negative=[u\"紫金山\"]))\n",
        "  pprint(model.most_similar(positive=[u'[サイドン]',u'逆']))\n",
        "  #pprint(model.wv.most_similar(negative=[u'世界'], topn=10))\n",
        "except KeyError as error:\n",
        "  print(error)"
      ],
      "execution_count": 92,
      "outputs": [
        {
          "output_type": "stream",
          "text": [
            "[('[ベロリンガ]', 0.6900442242622375),\n",
            " ('modify', 0.6766635179519653),\n",
            " ('つるぎのまい', 0.676105260848999),\n",
            " ('ョウ', 0.673792839050293),\n",
            " ('[板チタン石]', 0.6733494997024536),\n",
            " ('spinalis', 0.6712069511413574),\n",
            " ('銀漢', 0.6707651615142822),\n",
            " ('[太極拳釋名]', 0.670268177986145),\n",
            " ('火遠理命', 0.6698230504989624),\n",
            " ('[ルクソン]', 0.6689685583114624)]\n"
          ],
          "name": "stdout"
        },
        {
          "output_type": "stream",
          "text": [
            "/usr/local/lib/python3.6/dist-packages/gensim/matutils.py:737: FutureWarning: Conversion of the second argument of issubdtype from `int` to `np.signedinteger` is deprecated. In future, it will be treated as `np.int64 == np.dtype(int).type`.\n",
            "  if np.issubdtype(vec.dtype, np.int):\n"
          ],
          "name": "stderr"
        }
      ]
    }
  ]
}