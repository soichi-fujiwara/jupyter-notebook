{
  "nbformat": 4,
  "nbformat_minor": 0,
  "metadata": {
    "colab": {
      "name": "wikiWord2Vec.ipynb",
      "version": "0.3.2",
      "provenance": [],
      "collapsed_sections": [],
      "include_colab_link": true
    },
    "kernelspec": {
      "name": "python3",
      "display_name": "Python 3"
    },
    "accelerator": "GPU"
  },
  "cells": [
    {
      "cell_type": "markdown",
      "metadata": {
        "id": "view-in-github",
        "colab_type": "text"
      },
      "source": [
        "<a href=\"https://colab.research.google.com/github/soichi-fujiwara/jupyter-notebook/blob/master/wikiWord2Vec.ipynb\" target=\"_parent\"><img src=\"https://colab.research.google.com/assets/colab-badge.svg\" alt=\"Open In Colab\"/></a>"
      ]
    },
    {
      "cell_type": "markdown",
      "metadata": {
        "id": "3RPLEyZjgMeG",
        "colab_type": "text"
      },
      "source": [
        "##学習済みDoc2Vecモデル\n",
        "https://yag-ays.github.io/project/pretrained_doc2vec_wikipedia/\n",
        "\n",
        "ライブラリ\n",
        "Gensim: 3.6.0"
      ]
    },
    {
      "cell_type": "code",
      "metadata": {
        "id": "WDCNznuyOCuI",
        "colab_type": "code",
        "outputId": "76d81673-9335-4a00-b022-a3637a6f6950",
        "colab": {
          "base_uri": "https://localhost:8080/",
          "height": 34
        }
      },
      "source": [
        "from google.colab import drive\n",
        "drive.mount('/content/drive')"
      ],
      "execution_count": 68,
      "outputs": [
        {
          "output_type": "stream",
          "text": [
            "Drive already mounted at /content/drive; to attempt to forcibly remount, call drive.mount(\"/content/drive\", force_remount=True).\n"
          ],
          "name": "stdout"
        }
      ]
    },
    {
      "cell_type": "code",
      "metadata": {
        "id": "P2L0oI8HO_rM",
        "colab_type": "code",
        "outputId": "46223f76-da9f-4c12-d033-ce708c27d9c3",
        "colab": {
          "base_uri": "https://localhost:8080/",
          "height": 71
        }
      },
      "source": [
        "from gensim.models import KeyedVectors\n",
        "from pprint import pprint\n",
        "\n",
        "#Gドライブ保存後の確認\n",
        "model_dir = './drive/My Drive/NLP/wiki_tohoku.model'\n",
        "model = KeyedVectors.load(model_dir)"
      ],
      "execution_count": 2,
      "outputs": [
        {
          "output_type": "stream",
          "text": [
            "/usr/local/lib/python3.6/dist-packages/smart_open/smart_open_lib.py:398: UserWarning: This function is deprecated, use smart_open.open instead. See the migration notes for details: https://github.com/RaRe-Technologies/smart_open/blob/master/README.rst#migrating-to-the-new-open-function\n",
            "  'See the migration notes for details: %s' % _MIGRATION_NOTES_URL\n"
          ],
          "name": "stderr"
        }
      ]
    },
    {
      "cell_type": "code",
      "metadata": {
        "id": "c_AO7KRMigHl",
        "colab_type": "code",
        "outputId": "3a333cc6-ab71-42ab-c5d0-b6ad42c662d4",
        "colab": {
          "base_uri": "https://localhost:8080/",
          "height": 122
        }
      },
      "source": [
        "!pip install mecab-python3"
      ],
      "execution_count": 3,
      "outputs": [
        {
          "output_type": "stream",
          "text": [
            "Collecting mecab-python3\n",
            "\u001b[?25l  Downloading https://files.pythonhosted.org/packages/b3/92/e7e7f38df8457fa40c1ca86928be5ddbe2bf341e90a35e6ada30d03ef16d/mecab_python3-0.996.2-cp36-cp36m-manylinux1_x86_64.whl (15.9MB)\n",
            "\u001b[K     |████████████████████████████████| 15.9MB 3.6MB/s \n",
            "\u001b[?25hInstalling collected packages: mecab-python3\n",
            "Successfully installed mecab-python3-0.996.2\n"
          ],
          "name": "stdout"
        }
      ]
    },
    {
      "cell_type": "code",
      "metadata": {
        "id": "BibdTUU1OEwq",
        "colab_type": "code",
        "outputId": "3db4048a-4752-4f61-f665-a621cff2484e",
        "colab": {
          "base_uri": "https://localhost:8080/",
          "height": 122
        }
      },
      "source": [
        "import MeCab\n",
        "\n",
        "def search_similar_texts(p_words):\n",
        "  try:\n",
        "    print(model.similarity('[ポケモン]',p_words))\n",
        "  except KeyError as error:\n",
        "    word_cng_list.append(cut_wd.replace('[',\"\").replace(']',\"\"))\n",
        "\n",
        "words = '君の名は'\n",
        "inherent_words = '[' + words + ']'\n",
        "word_cng_list = []\n",
        "\n",
        "#**************************************************************************\n",
        "#そのまま対義化\n",
        "#**************************************************************************\n",
        "asitis_cng_words = ''\n",
        "try:\n",
        "  for i in range(5):\n",
        "    rvs_wd = model.most_similar(positive=[inherent_words,u\"逆\"])[i][0]\n",
        "    if inherent_words.replace('[',\"\").replace(']',\"\") != rvs_wd.replace('[',\"\").replace(']',\"\"):\n",
        "      asitis_cng_words = model.most_similar(positive=[inherent_words,u\"逆\"])[i][0]\n",
        "      break\n",
        "    else:\n",
        "      asitis_cng_words = words + \"(変換なし)\"\n",
        "except KeyError as error:\n",
        "  #辞書に登録の無い単語の場合\n",
        "  search_similar_texts(inherent_words)\n",
        "\n",
        "#**************************************************************************\n",
        "#形態素分析後に対義化\n",
        "#**************************************************************************\n",
        "#tokenizer = MeCab.Tagger(\"-Ochasen\")\n",
        "node = tokenizer.parseToNode(words)\n",
        "  \n",
        "while node:\n",
        "  cut_wd = node.surface\n",
        "\n",
        "  if node.feature.split(\",\")[0] == u\"名詞\":\n",
        "    try:\n",
        "      for i in range(5):\n",
        "        rvs_wd = model.most_similar(positive=[cut_wd,u\"逆\"])[i][0]\n",
        "        if cut_wd != rvs_wd.replace('[',\"\").replace(']',\"\"):\n",
        "          #◆結合\n",
        "          word_cng_list.append(rvs_wd.replace('[',\"\").replace(']',\"\"))\n",
        "          break\n",
        "    except KeyError as error:\n",
        "      print(\"名詞キーエラー\")\n",
        "      #辞書に登録の無い単語の場合\n",
        "      search_similar_texts(cut_wd)\n",
        "\n",
        "  elif node.feature.split(\",\")[0] == u\"形容詞\":\n",
        "    cut_wd = node.feature.split(\",\")[6]\n",
        "\n",
        "    try:\n",
        "      for i in range(5):\n",
        "        rvs_wd = model.most_similar(positive=[cut_wd,u\"逆\"])[i][0]\n",
        "        if cut_wd != rvs_wd.replace('[',\"\").replace(']',\"\"):\n",
        "          #◆結合\n",
        "          word_cng_list.append(rvs_wd.replace('[',\"\").replace(']',\"\"))\n",
        "          break\n",
        "    except KeyError as error:\n",
        "      print(\"形容詞キーエラー\")\n",
        "      #辞書に登録の無い単語の場合\n",
        "      search_similar_texts(cut_wd)\n",
        "\n",
        "  elif node.feature.split(\",\")[0] == u\"動詞\":\n",
        "    cu_wd = node.feature.split(\",\")[6]\n",
        "\n",
        "    try:\n",
        "      for i in range(5):\n",
        "        rvs_wd = model.most_similar(positive=[cut_wd,u\"逆\"])[i][0]\n",
        "        if cut_wd != rvs_wd.replace('[',\"\").replace(']',\"\"):\n",
        "          #◆結合\n",
        "          word_cng_list.append(rvs_wd.replace('[',\"\").replace(']',\"\"))\n",
        "          break\n",
        "    except KeyError as error:\n",
        "      print(\"動詞キーエラー\")\n",
        "      #辞書に登録の無い単語の場合\n",
        "      search_similar_texts(cut_wd)\n",
        "\n",
        "  else:\n",
        "    #◆結合\n",
        "    word_cng_list.append(cut_wd.replace('[',\"\").replace(']',\"\"))\n",
        "\n",
        "  node = node.next\n",
        "\n",
        "print(words)\n",
        "print(asitis_cng_words)\n",
        "print(word_cng_list)"
      ],
      "execution_count": 0,
      "outputs": [
        {
          "output_type": "stream",
          "text": [
            "/usr/local/lib/python3.6/dist-packages/gensim/matutils.py:737: FutureWarning: Conversion of the second argument of issubdtype from `int` to `np.signedinteger` is deprecated. In future, it will be treated as `np.int64 == np.dtype(int).type`.\n",
            "  if np.issubdtype(vec.dtype, np.int):\n"
          ],
          "name": "stderr"
        },
        {
          "output_type": "stream",
          "text": [
            "君の名は\n",
            "[あぶない刑事]\n",
            "['', 'お前', 'の', '首', 'は', '']\n"
          ],
          "name": "stdout"
        }
      ]
    },
    {
      "cell_type": "code",
      "metadata": {
        "id": "RmME9rjLyLcz",
        "colab_type": "code",
        "outputId": "249445e4-123d-4a7b-a706-3ca38353aac3",
        "colab": {
          "base_uri": "https://localhost:8080/",
          "height": 51
        }
      },
      "source": [
        "import pandas as pd\n",
        "import itertools\n",
        "#**************************************************************************\n",
        "#分類特定\n",
        "#**************************************************************************\n",
        "max_cate = \"\"\n",
        "\n",
        "is_a_parent = pd.read_table('./drive/My Drive/NLP/is_a_parent_list.txt')\n",
        "\n",
        "#dataframeをlist化\n",
        "is_a_parent_list = is_a_parent.values.tolist()\n",
        "#2次元listから1次元listへ\n",
        "is_a_parent_list = list(itertools.chain.from_iterable(is_a_parent_list))"
      ],
      "execution_count": 69,
      "outputs": [
        {
          "output_type": "stream",
          "text": [
            "/usr/local/lib/python3.6/dist-packages/ipykernel_launcher.py:8: FutureWarning: read_table is deprecated, use read_csv instead, passing sep='\\t'.\n",
            "  \n"
          ],
          "name": "stderr"
        }
      ]
    },
    {
      "cell_type": "code",
      "metadata": {
        "id": "5AOQ5GmRLO7p",
        "colab_type": "code",
        "colab": {}
      },
      "source": [
        "#r'文字列'　→　正規表現。\n",
        "#u'文字列'　→　日本語。Ver.2.7のとき必要。Ver.3では付けても付けなくてもよい。\n",
        "#  pprint(model.most_similar(positive=[u'独立'],negative=[u\"依存\"],topn=2))\n",
        "\n",
        "def group_check(child_wd):\n",
        "\n",
        "  print(\"word:\",child_wd)\n",
        "\n",
        "  #is-a関係の判別\n",
        "  for is_a_word in is_a_parent_list:\n",
        "    try:\n",
        "      parent_wd = is_a_word\n",
        "      isa_val_list = []\n",
        "\n",
        "      for i in range(5):\n",
        "        rvs_wd = model.most_similar(positive=[child_wd])[i][0]\n",
        "        if child_wd != rvs_wd.replace('[',\"\").replace(']',\"\"):\n",
        "          isa_val_list.append(model.similarity(parent_wd,rvs_wd))\n",
        "\n",
        "          for ii in range(5):\n",
        "            rvs_wd2 = model.most_similar(positive=[rvs_wd])[ii][0]\n",
        "            if rvs_wd != rvs_wd2.replace('[',\"\").replace(']',\"\"):\n",
        "              isa_val_list.append(model.similarity(parent_wd,rvs_wd2))\n",
        "\n",
        "    except KeyError as error:\n",
        "      print(error)\n",
        "\n",
        "    ave_val = sum(isa_val_list) / len(isa_val_list)\n",
        "    #max_val = max(isa_val_list)\n",
        "    #min_val = min(isa_val_list)\n",
        "\n",
        "    print(\"【\",parent_wd,\"】is-a:\",ave_val)\n",
        "    # print(\"最大値:\",max_val)\n",
        "    # print(\"最小値:\",min_val)\n",
        "\n",
        "    #類似度が0.5以上の場合はカテゴリ特定と見なし処理終了\n",
        "    if ave_val >= 0.5:\n",
        "      break\n"
      ],
      "execution_count": 0,
      "outputs": []
    },
    {
      "cell_type": "code",
      "metadata": {
        "id": "3rv9ZdoW2tKt",
        "colab_type": "code",
        "outputId": "332f291f-9483-4533-df39-4c3a5dd6944e",
        "colab": {
          "base_uri": "https://localhost:8080/",
          "height": 467
        }
      },
      "source": [
        "import MeCab\n",
        "cnt = 0\n",
        "\n",
        "del_list =['(',')','-','\"','、','。','/','.',',',':',')。',')、','「','」','『','』','()','』(','=','～','+','']\n",
        "\n",
        "tokenizer = MeCab.Tagger(\"-Ochasen\")\n",
        "#TODO:フィラーや記号は排除\n",
        "\n",
        "for k, v in model.vocab.items():\n",
        "\n",
        "  if not k in del_list:\n",
        "    node = tokenizer.parseToNode(k)\n",
        "    while node:\n",
        "      if node.feature.split(\",\")[0] == u\"名詞\":\n",
        "        if(node.feature.split(\",\")[1] == u\"サ変接続\" or\n",
        "           node.feature.split(\",\")[1] == u\"一般\" or\n",
        "           node.feature.split(\",\")[1] == u\"固有名詞\"):\n",
        "          #★グループ判別\n",
        "          group_check(k)\n",
        "          cnt = cnt + 1\n",
        "      else:\n",
        "        pass\n",
        "      node = node.next\n",
        "\n",
        "      if cnt > 5:\n",
        "        break\n"
      ],
      "execution_count": 64,
      "outputs": [
        {
          "output_type": "stream",
          "text": [
            "word: もの\n"
          ],
          "name": "stdout"
        },
        {
          "output_type": "stream",
          "text": [
            "/usr/local/lib/python3.6/dist-packages/gensim/matutils.py:737: FutureWarning: Conversion of the second argument of issubdtype from `int` to `np.signedinteger` is deprecated. In future, it will be treated as `np.int64 == np.dtype(int).type`.\n",
            "  if np.issubdtype(vec.dtype, np.int):\n"
          ],
          "name": "stderr"
        },
        {
          "output_type": "stream",
          "text": [
            "【 男性 】is-a: 0.13246950536655883\n"
          ],
          "name": "stdout"
        },
        {
          "output_type": "error",
          "ename": "KeyboardInterrupt",
          "evalue": "ignored",
          "traceback": [
            "\u001b[0;31m---------------------------------------------------------------------------\u001b[0m",
            "\u001b[0;31mKeyboardInterrupt\u001b[0m                         Traceback (most recent call last)",
            "\u001b[0;32m<ipython-input-64-95c41206131a>\u001b[0m in \u001b[0;36m<module>\u001b[0;34m()\u001b[0m\n\u001b[1;32m     17\u001b[0m            node.feature.split(\",\")[1] == u\"固有名詞\"):\n\u001b[1;32m     18\u001b[0m           \u001b[0;31m#★グループ判別\u001b[0m\u001b[0;34m\u001b[0m\u001b[0;34m\u001b[0m\u001b[0;34m\u001b[0m\u001b[0m\n\u001b[0;32m---> 19\u001b[0;31m           \u001b[0mgroup_check\u001b[0m\u001b[0;34m(\u001b[0m\u001b[0mk\u001b[0m\u001b[0;34m)\u001b[0m\u001b[0;34m\u001b[0m\u001b[0;34m\u001b[0m\u001b[0m\n\u001b[0m\u001b[1;32m     20\u001b[0m           \u001b[0mcnt\u001b[0m \u001b[0;34m=\u001b[0m \u001b[0mcnt\u001b[0m \u001b[0;34m+\u001b[0m \u001b[0;36m1\u001b[0m\u001b[0;34m\u001b[0m\u001b[0;34m\u001b[0m\u001b[0m\n\u001b[1;32m     21\u001b[0m       \u001b[0;32melse\u001b[0m\u001b[0;34m:\u001b[0m\u001b[0;34m\u001b[0m\u001b[0;34m\u001b[0m\u001b[0m\n",
            "\u001b[0;32m<ipython-input-62-6561b80f42e5>\u001b[0m in \u001b[0;36mgroup_check\u001b[0;34m(child_wd)\u001b[0m\n\u001b[1;32m     16\u001b[0m \u001b[0;34m\u001b[0m\u001b[0m\n\u001b[1;32m     17\u001b[0m           \u001b[0;32mfor\u001b[0m \u001b[0mii\u001b[0m \u001b[0;32min\u001b[0m \u001b[0mrange\u001b[0m\u001b[0;34m(\u001b[0m\u001b[0;36m5\u001b[0m\u001b[0;34m)\u001b[0m\u001b[0;34m:\u001b[0m\u001b[0;34m\u001b[0m\u001b[0;34m\u001b[0m\u001b[0m\n\u001b[0;32m---> 18\u001b[0;31m             \u001b[0mrvs_wd2\u001b[0m \u001b[0;34m=\u001b[0m \u001b[0mmodel\u001b[0m\u001b[0;34m.\u001b[0m\u001b[0mmost_similar\u001b[0m\u001b[0;34m(\u001b[0m\u001b[0mpositive\u001b[0m\u001b[0;34m=\u001b[0m\u001b[0;34m[\u001b[0m\u001b[0mrvs_wd\u001b[0m\u001b[0;34m]\u001b[0m\u001b[0;34m)\u001b[0m\u001b[0;34m[\u001b[0m\u001b[0mii\u001b[0m\u001b[0;34m]\u001b[0m\u001b[0;34m[\u001b[0m\u001b[0;36m0\u001b[0m\u001b[0;34m]\u001b[0m\u001b[0;34m\u001b[0m\u001b[0;34m\u001b[0m\u001b[0m\n\u001b[0m\u001b[1;32m     19\u001b[0m             \u001b[0;32mif\u001b[0m \u001b[0mrvs_wd\u001b[0m \u001b[0;34m!=\u001b[0m \u001b[0mrvs_wd2\u001b[0m\u001b[0;34m.\u001b[0m\u001b[0mreplace\u001b[0m\u001b[0;34m(\u001b[0m\u001b[0;34m'['\u001b[0m\u001b[0;34m,\u001b[0m\u001b[0;34m\"\"\u001b[0m\u001b[0;34m)\u001b[0m\u001b[0;34m.\u001b[0m\u001b[0mreplace\u001b[0m\u001b[0;34m(\u001b[0m\u001b[0;34m']'\u001b[0m\u001b[0;34m,\u001b[0m\u001b[0;34m\"\"\u001b[0m\u001b[0;34m)\u001b[0m\u001b[0;34m:\u001b[0m\u001b[0;34m\u001b[0m\u001b[0;34m\u001b[0m\u001b[0m\n\u001b[1;32m     20\u001b[0m               \u001b[0misa_val_list\u001b[0m\u001b[0;34m.\u001b[0m\u001b[0mappend\u001b[0m\u001b[0;34m(\u001b[0m\u001b[0mmodel\u001b[0m\u001b[0;34m.\u001b[0m\u001b[0msimilarity\u001b[0m\u001b[0;34m(\u001b[0m\u001b[0mparent_wd\u001b[0m\u001b[0;34m,\u001b[0m\u001b[0mrvs_wd2\u001b[0m\u001b[0;34m)\u001b[0m\u001b[0;34m)\u001b[0m\u001b[0;34m\u001b[0m\u001b[0;34m\u001b[0m\u001b[0m\n",
            "\u001b[0;32m/usr/local/lib/python3.6/dist-packages/gensim/models/keyedvectors.py\u001b[0m in \u001b[0;36mmost_similar\u001b[0;34m(self, positive, negative, topn, restrict_vocab, indexer)\u001b[0m\n\u001b[1;32m    540\u001b[0m \u001b[0;34m\u001b[0m\u001b[0m\n\u001b[1;32m    541\u001b[0m         \u001b[0mlimited\u001b[0m \u001b[0;34m=\u001b[0m \u001b[0mself\u001b[0m\u001b[0;34m.\u001b[0m\u001b[0mvectors_norm\u001b[0m \u001b[0;32mif\u001b[0m \u001b[0mrestrict_vocab\u001b[0m \u001b[0;32mis\u001b[0m \u001b[0;32mNone\u001b[0m \u001b[0;32melse\u001b[0m \u001b[0mself\u001b[0m\u001b[0;34m.\u001b[0m\u001b[0mvectors_norm\u001b[0m\u001b[0;34m[\u001b[0m\u001b[0;34m:\u001b[0m\u001b[0mrestrict_vocab\u001b[0m\u001b[0;34m]\u001b[0m\u001b[0;34m\u001b[0m\u001b[0;34m\u001b[0m\u001b[0m\n\u001b[0;32m--> 542\u001b[0;31m         \u001b[0mdists\u001b[0m \u001b[0;34m=\u001b[0m \u001b[0mdot\u001b[0m\u001b[0;34m(\u001b[0m\u001b[0mlimited\u001b[0m\u001b[0;34m,\u001b[0m \u001b[0mmean\u001b[0m\u001b[0;34m)\u001b[0m\u001b[0;34m\u001b[0m\u001b[0;34m\u001b[0m\u001b[0m\n\u001b[0m\u001b[1;32m    543\u001b[0m         \u001b[0;32mif\u001b[0m \u001b[0;32mnot\u001b[0m \u001b[0mtopn\u001b[0m\u001b[0;34m:\u001b[0m\u001b[0;34m\u001b[0m\u001b[0;34m\u001b[0m\u001b[0m\n\u001b[1;32m    544\u001b[0m             \u001b[0;32mreturn\u001b[0m \u001b[0mdists\u001b[0m\u001b[0;34m\u001b[0m\u001b[0;34m\u001b[0m\u001b[0m\n",
            "\u001b[0;31mKeyboardInterrupt\u001b[0m: "
          ]
        }
      ]
    },
    {
      "cell_type": "code",
      "metadata": {
        "id": "2LyVrVzKu4dC",
        "colab_type": "code",
        "colab": {
          "base_uri": "https://localhost:8080/",
          "height": 34
        },
        "outputId": "21ce2af7-465d-4b08-cec1-726dbcad749b"
      },
      "source": [
        "'l' in del_list"
      ],
      "execution_count": 42,
      "outputs": [
        {
          "output_type": "execute_result",
          "data": {
            "text/plain": [
              "False"
            ]
          },
          "metadata": {
            "tags": []
          },
          "execution_count": 42
        }
      ]
    },
    {
      "cell_type": "code",
      "metadata": {
        "id": "dxpmds9YplJN",
        "colab_type": "code",
        "colab": {
          "base_uri": "https://localhost:8080/",
          "height": 68
        },
        "outputId": "f5a0c757-9d7a-4980-e551-83b5bb4b52a7"
      },
      "source": [
        "text = tokenizer.parse('こと')\n",
        "print(text)"
      ],
      "execution_count": 12,
      "outputs": [
        {
          "output_type": "stream",
          "text": [
            "こと\tコト\tこと\t名詞-非自立-一般\t\t\n",
            "EOS\n",
            "\n"
          ],
          "name": "stdout"
        }
      ]
    },
    {
      "cell_type": "code",
      "metadata": {
        "id": "olkb0b1g6k8r",
        "colab_type": "code",
        "outputId": "01e08c13-0d23-4f3c-beb4-33d5087e32cf",
        "colab": {
          "base_uri": "https://localhost:8080/",
          "height": 1000
        }
      },
      "source": [
        "cnt = 0\n",
        "for k, v in model.vocab.items():\n",
        "  print(k)\n",
        "  cnt = cnt + 1\n",
        "  if cnt > 100:\n",
        "    break\n",
        "  "
      ],
      "execution_count": 6,
      "outputs": [
        {
          "output_type": "stream",
          "text": [
            "の\n",
            "、\n",
            "。\n",
            "に\n",
            "は\n",
            "を\n",
            "た\n",
            "が\n",
            "で\n",
            "て\n",
            "と\n",
            "し\n",
            "(\n",
            "れ\n",
            "さ\n",
            ")\n",
            "ある\n",
            "いる\n",
            "する\n",
            "も\n",
            "「\n",
            "・\n",
            "」\n",
            "から\n",
            "こと\n",
            "な\n",
            "として\n",
            "い\n",
            "や\n",
            "なっ\n",
            "れる\n",
            "など\n",
            "『\n",
            "この\n",
            "ない\n",
            "-\n",
            "』\n",
            "ため\n",
            "あっ\n",
            "その\n",
            "的\n",
            "また\n",
            "まで\n",
            "よう\n",
            "へ\n",
            "られ\n",
            "あり\n",
            "なる\n",
            "という\n",
            "後\n",
            "もの\n",
            "2\n",
            "1\n",
            "第\n",
            "\"\n",
            "中\n",
            "だ\n",
            "おり\n",
            "により\n",
            "これ\n",
            "より\n",
            "によって\n",
            ",\n",
            ")、\n",
            "現在\n",
            "による\n",
            ")。\n",
            "3\n",
            ".\n",
            "者\n",
            "なり\n",
            "だっ\n",
            "ず\n",
            "か\n",
            "において\n",
            "なかっ\n",
            "られる\n",
            "場合\n",
            "時\n",
            "行わ\n",
            "その後\n",
            "[日本]\n",
            "多く\n",
            "なく\n",
            "について\n",
            "名\n",
            "せ\n",
            "しかし\n",
            "ば\n",
            "間\n",
            "4\n",
            "できる\n",
            "それ\n",
            "上\n",
            "使用\n",
            "内\n",
            "日本\n",
            "化\n",
            "他\n",
            "作品\n",
            "放送\n"
          ],
          "name": "stdout"
        }
      ]
    },
    {
      "cell_type": "code",
      "metadata": {
        "id": "AtwF4sOzjNLg",
        "colab_type": "code",
        "outputId": "0012220a-2302-4dac-ed62-638d4371980c",
        "colab": {
          "base_uri": "https://localhost:8080/",
          "height": 88
        }
      },
      "source": [
        "print(model.similarity('動物','[イヌ]'))\n"
      ],
      "execution_count": 0,
      "outputs": [
        {
          "output_type": "stream",
          "text": [
            "0.70940584\n"
          ],
          "name": "stdout"
        },
        {
          "output_type": "stream",
          "text": [
            "/usr/local/lib/python3.6/dist-packages/gensim/matutils.py:737: FutureWarning: Conversion of the second argument of issubdtype from `int` to `np.signedinteger` is deprecated. In future, it will be treated as `np.int64 == np.dtype(int).type`.\n",
            "  if np.issubdtype(vec.dtype, np.int):\n"
          ],
          "name": "stderr"
        }
      ]
    }
  ]
}