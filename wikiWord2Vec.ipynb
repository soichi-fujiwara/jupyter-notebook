{
  "nbformat": 4,
  "nbformat_minor": 0,
  "metadata": {
    "colab": {
      "name": "wikiWord2Vec.ipynb",
      "version": "0.3.2",
      "provenance": [],
      "collapsed_sections": [],
      "include_colab_link": true
    },
    "kernelspec": {
      "name": "python3",
      "display_name": "Python 3"
    },
    "accelerator": "GPU"
  },
  "cells": [
    {
      "cell_type": "markdown",
      "metadata": {
        "id": "view-in-github",
        "colab_type": "text"
      },
      "source": [
        "<a href=\"https://colab.research.google.com/github/soichi-fujiwara/jupyter-notebook/blob/master/wikiWord2Vec.ipynb\" target=\"_parent\"><img src=\"https://colab.research.google.com/assets/colab-badge.svg\" alt=\"Open In Colab\"/></a>"
      ]
    },
    {
      "cell_type": "markdown",
      "metadata": {
        "id": "3RPLEyZjgMeG",
        "colab_type": "text"
      },
      "source": [
        "##学習済みDoc2Vecモデル\n",
        "https://yag-ays.github.io/project/pretrained_doc2vec_wikipedia/\n",
        "\n",
        "ライブラリ\n",
        "Gensim: 3.6.0"
      ]
    },
    {
      "cell_type": "code",
      "metadata": {
        "id": "WDCNznuyOCuI",
        "colab_type": "code",
        "outputId": "4193b84d-ddf0-4ec6-cf35-335c25b547e8",
        "colab": {
          "base_uri": "https://localhost:8080/",
          "height": 122
        }
      },
      "source": [
        "from google.colab import drive\n",
        "drive.mount('/content/drive')"
      ],
      "execution_count": 1,
      "outputs": [
        {
          "output_type": "stream",
          "text": [
            "Go to this URL in a browser: https://accounts.google.com/o/oauth2/auth?client_id=947318989803-6bn6qk8qdgf4n4g3pfee6491hc0brc4i.apps.googleusercontent.com&redirect_uri=urn%3Aietf%3Awg%3Aoauth%3A2.0%3Aoob&scope=email%20https%3A%2F%2Fwww.googleapis.com%2Fauth%2Fdocs.test%20https%3A%2F%2Fwww.googleapis.com%2Fauth%2Fdrive%20https%3A%2F%2Fwww.googleapis.com%2Fauth%2Fdrive.photos.readonly%20https%3A%2F%2Fwww.googleapis.com%2Fauth%2Fpeopleapi.readonly&response_type=code\n",
            "\n",
            "Enter your authorization code:\n",
            "··········\n",
            "Mounted at /content/drive\n"
          ],
          "name": "stdout"
        }
      ]
    },
    {
      "cell_type": "code",
      "metadata": {
        "id": "P2L0oI8HO_rM",
        "colab_type": "code",
        "outputId": "296eba88-c203-4261-effd-947d08bbf4b3",
        "colab": {
          "base_uri": "https://localhost:8080/",
          "height": 71
        }
      },
      "source": [
        "from gensim.models import KeyedVectors\n",
        "from pprint import pprint\n",
        "\n",
        "#Gドライブ保存後の確認\n",
        "model_dir = './drive/My Drive/NLP/wiki_tohoku.model'\n",
        "model = KeyedVectors.load(model_dir)"
      ],
      "execution_count": 2,
      "outputs": [
        {
          "output_type": "stream",
          "text": [
            "/usr/local/lib/python3.6/dist-packages/smart_open/smart_open_lib.py:398: UserWarning: This function is deprecated, use smart_open.open instead. See the migration notes for details: https://github.com/RaRe-Technologies/smart_open/blob/master/README.rst#migrating-to-the-new-open-function\n",
            "  'See the migration notes for details: %s' % _MIGRATION_NOTES_URL\n"
          ],
          "name": "stderr"
        }
      ]
    },
    {
      "cell_type": "code",
      "metadata": {
        "id": "c_AO7KRMigHl",
        "colab_type": "code",
        "outputId": "3d92b712-370e-45c6-ffd9-f27bbb863500",
        "colab": {
          "base_uri": "https://localhost:8080/",
          "height": 122
        }
      },
      "source": [
        "!pip install mecab-python3"
      ],
      "execution_count": 7,
      "outputs": [
        {
          "output_type": "stream",
          "text": [
            "Collecting mecab-python3\n",
            "\u001b[?25l  Downloading https://files.pythonhosted.org/packages/b3/92/e7e7f38df8457fa40c1ca86928be5ddbe2bf341e90a35e6ada30d03ef16d/mecab_python3-0.996.2-cp36-cp36m-manylinux1_x86_64.whl (15.9MB)\n",
            "\u001b[K     |████████████████████████████████| 15.9MB 2.9MB/s \n",
            "\u001b[?25hInstalling collected packages: mecab-python3\n",
            "Successfully installed mecab-python3-0.996.2\n"
          ],
          "name": "stdout"
        }
      ]
    },
    {
      "cell_type": "code",
      "metadata": {
        "id": "BibdTUU1OEwq",
        "colab_type": "code",
        "outputId": "18e50457-9ad8-4075-efea-e3c9627c925b",
        "colab": {
          "base_uri": "https://localhost:8080/",
          "height": 122
        }
      },
      "source": [
        "import MeCab\n",
        "\n",
        "def search_similar_texts(p_words):\n",
        "  try:\n",
        "    print(model.similarity('[ポケモン]',p_words))\n",
        "  except KeyError as error:\n",
        "    word_cng_list.append(cut_wd.replace('[',\"\").replace(']',\"\"))\n",
        "\n",
        "words = '奥様は魔女'\n",
        "inherent_words = '[' + words + ']'\n",
        "word_cng_list = []\n",
        "\n",
        "#**************************************************************************\n",
        "#そのまま対義化\n",
        "#**************************************************************************\n",
        "asitis_cng_words = ''\n",
        "try:\n",
        "  for i in range(5):\n",
        "    rvs_wd = model.most_similar(positive=[inherent_words,u\"逆\"])[i][0]\n",
        "    if inherent_words.replace('[',\"\").replace(']',\"\") != rvs_wd.replace('[',\"\").replace(']',\"\"):\n",
        "      asitis_cng_words = model.most_similar(positive=[inherent_words,u\"逆\"])[i][0]\n",
        "      break\n",
        "    else:\n",
        "      asitis_cng_words = words + \"(変換なし)\"\n",
        "except KeyError as error:\n",
        "  #辞書に登録の無い単語の場合\n",
        "  search_similar_texts(inherent_words)\n",
        "\n",
        "#**************************************************************************\n",
        "#形態素分析後に対義化\n",
        "#**************************************************************************\n",
        "tokenizer = MeCab.Tagger(\"-Ochasen\")\n",
        "node = tokenizer.parseToNode(words)\n",
        "  \n",
        "while node:\n",
        "  cut_wd = node.surface\n",
        "\n",
        "  if node.feature.split(\",\")[0] == u\"名詞\":\n",
        "    try:\n",
        "      for i in range(5):\n",
        "        rvs_wd = model.most_similar(positive=[cut_wd,u\"逆\"])[i][0]\n",
        "        if cut_wd != rvs_wd.replace('[',\"\").replace(']',\"\"):\n",
        "          #◆結合\n",
        "          word_cng_list.append(rvs_wd.replace('[',\"\").replace(']',\"\"))\n",
        "          break\n",
        "    except KeyError as error:\n",
        "      print(\"名詞キーエラー\")\n",
        "      #辞書に登録の無い単語の場合\n",
        "      search_similar_texts(cut_wd)\n",
        "\n",
        "  elif node.feature.split(\",\")[0] == u\"形容詞\":\n",
        "    cut_wd = node.feature.split(\",\")[6]\n",
        "\n",
        "    try:\n",
        "      for i in range(5):\n",
        "        rvs_wd = model.most_similar(positive=[cut_wd,u\"逆\"])[i][0]\n",
        "        if cut_wd != rvs_wd.replace('[',\"\").replace(']',\"\"):\n",
        "          #◆結合\n",
        "          word_cng_list.append(rvs_wd.replace('[',\"\").replace(']',\"\"))\n",
        "          break\n",
        "    except KeyError as error:\n",
        "      print(\"形容詞キーエラー\")\n",
        "      #辞書に登録の無い単語の場合\n",
        "      search_similar_texts(cut_wd)\n",
        "\n",
        "  elif node.feature.split(\",\")[0] == u\"動詞\":\n",
        "    cu_wd = node.feature.split(\",\")[6]\n",
        "\n",
        "    try:\n",
        "      for i in range(5):\n",
        "        rvs_wd = model.most_similar(positive=[cut_wd,u\"逆\"])[i][0]\n",
        "        if cut_wd != rvs_wd.replace('[',\"\").replace(']',\"\"):\n",
        "          #◆結合\n",
        "          word_cng_list.append(rvs_wd.replace('[',\"\").replace(']',\"\"))\n",
        "          break\n",
        "    except KeyError as error:\n",
        "      print(\"動詞キーエラー\")\n",
        "      #辞書に登録の無い単語の場合\n",
        "      search_similar_texts(cut_wd)\n",
        "\n",
        "  else:\n",
        "    #◆結合\n",
        "    word_cng_list.append(cut_wd.replace('[',\"\").replace(']',\"\"))\n",
        "\n",
        "  node = node.next\n",
        "\n",
        "print(words)\n",
        "print(asitis_cng_words)\n",
        "print(word_cng_list)"
      ],
      "execution_count": 84,
      "outputs": [
        {
          "output_type": "stream",
          "text": [
            "/usr/local/lib/python3.6/dist-packages/gensim/matutils.py:737: FutureWarning: Conversion of the second argument of issubdtype from `int` to `np.signedinteger` is deprecated. In future, it will be treated as `np.int64 == np.dtype(int).type`.\n",
            "  if np.issubdtype(vec.dtype, np.int):\n"
          ],
          "name": "stderr"
        },
        {
          "output_type": "stream",
          "text": [
            "奥様は魔女\n",
            "\n",
            "['', '', '旦那', 'は', '魔法使い', '']\n"
          ],
          "name": "stdout"
        }
      ]
    },
    {
      "cell_type": "code",
      "metadata": {
        "id": "5AOQ5GmRLO7p",
        "colab_type": "code",
        "outputId": "9d63753b-d6e9-4b08-94a0-e1496382b7c1",
        "colab": {
          "base_uri": "https://localhost:8080/",
          "height": 122
        }
      },
      "source": [
        "#r'文字列'　→　正規表現。\n",
        "#u'文字列'　→　日本語。Ver.2.7のとき必要。Ver.3では付けても付けなくてもよい。\n",
        "try:\n",
        "#  pprint(model.most_similar(positive=[u'犬',u'動物']))\n",
        "#  pprint(model.most_similar(positive=[u'団体'],negative=[u\"個人\"],topn=2))\n",
        "#  pprint(model.most_similar(positive=[u'独立'],negative=[u\"依存\"],topn=2))\n",
        "#  pprint(model.wv.most_similar(negative=[u'世界'], topn=10))\n",
        "\n",
        "#is-a関係の判別\n",
        "\n",
        "  parent_wd = \"動物\"\n",
        "  child_wd = \"[北川景子]\"\n",
        "  isa_val_list = []\n",
        "  \n",
        "  for i in range(5):\n",
        "    rvs_wd = model.most_similar(positive=[child_wd])[i][0]\n",
        "    if child_wd != rvs_wd.replace('[',\"\").replace(']',\"\"):\n",
        "      isa_val_list.append(model.similarity(parent_wd,rvs_wd))\n",
        "\n",
        "      for ii in range(5):\n",
        "        rvs_wd2 = model.most_similar(positive=[rvs_wd])[ii][0]\n",
        "        if rvs_wd != rvs_wd2.replace('[',\"\").replace(']',\"\"):\n",
        "          isa_val_list.append(model.similarity(parent_wd,rvs_wd2))\n",
        "\n",
        "except KeyError as error:\n",
        "  print(error)\n",
        "\n",
        "ave_val = sum(isa_val_list) / len(isa_val_list)\n",
        "max_val = max(isa_val_list)\n",
        "min_val = min(isa_val_list)\n",
        "\n",
        "print(\"平均:\",ave_val)\n",
        "print(\"最大値:\",max_val)\n",
        "print(\"最小値:\",min_val)\n"
      ],
      "execution_count": 156,
      "outputs": [
        {
          "output_type": "stream",
          "text": [
            "/usr/local/lib/python3.6/dist-packages/gensim/matutils.py:737: FutureWarning: Conversion of the second argument of issubdtype from `int` to `np.signedinteger` is deprecated. In future, it will be treated as `np.int64 == np.dtype(int).type`.\n",
            "  if np.issubdtype(vec.dtype, np.int):\n"
          ],
          "name": "stderr"
        },
        {
          "output_type": "stream",
          "text": [
            "平均: 0.03867989321006462\n",
            "最大値: 0.09460669\n",
            "最小値: -0.051938225\n"
          ],
          "name": "stdout"
        }
      ]
    },
    {
      "cell_type": "code",
      "metadata": {
        "id": "AtwF4sOzjNLg",
        "colab_type": "code",
        "colab": {
          "base_uri": "https://localhost:8080/",
          "height": 88
        },
        "outputId": "0012220a-2302-4dac-ed62-638d4371980c"
      },
      "source": [
        "print(model.similarity('動物','[イヌ]'))\n"
      ],
      "execution_count": 128,
      "outputs": [
        {
          "output_type": "stream",
          "text": [
            "0.70940584\n"
          ],
          "name": "stdout"
        },
        {
          "output_type": "stream",
          "text": [
            "/usr/local/lib/python3.6/dist-packages/gensim/matutils.py:737: FutureWarning: Conversion of the second argument of issubdtype from `int` to `np.signedinteger` is deprecated. In future, it will be treated as `np.int64 == np.dtype(int).type`.\n",
            "  if np.issubdtype(vec.dtype, np.int):\n"
          ],
          "name": "stderr"
        }
      ]
    }
  ]
}