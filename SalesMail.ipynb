{
  "nbformat": 4,
  "nbformat_minor": 0,
  "metadata": {
    "colab": {
      "name": "SalesMail.ipynb",
      "version": "0.3.2",
      "provenance": [],
      "include_colab_link": true
    },
    "kernelspec": {
      "name": "python3",
      "display_name": "Python 3"
    },
    "accelerator": "GPU"
  },
  "cells": [
    {
      "cell_type": "markdown",
      "metadata": {
        "id": "view-in-github",
        "colab_type": "text"
      },
      "source": [
        "<a href=\"https://colab.research.google.com/github/soichi-fujiwara/jupyter-notebook/blob/master/SalesMail.ipynb\" target=\"_parent\"><img src=\"https://colab.research.google.com/assets/colab-badge.svg\" alt=\"Open In Colab\"/></a>"
      ]
    },
    {
      "cell_type": "code",
      "metadata": {
        "id": "tsPDJ88qX8gK",
        "colab_type": "code",
        "outputId": "198ffcb4-4d8b-4124-9fff-d498d7f84bb9",
        "colab": {
          "base_uri": "https://localhost:8080/",
          "height": 51
        }
      },
      "source": [
        "!pip install mecab-python3\n",
        "!pip install mojimoji"
      ],
      "execution_count": 6,
      "outputs": [
        {
          "output_type": "stream",
          "text": [
            "Requirement already satisfied: mecab-python3 in /usr/local/lib/python3.6/dist-packages (0.996.2)\n",
            "Requirement already satisfied: mojimoji in /usr/local/lib/python3.6/dist-packages (0.0.9)\n"
          ],
          "name": "stdout"
        }
      ]
    },
    {
      "cell_type": "code",
      "metadata": {
        "id": "ogVzV5qAruWM",
        "colab_type": "code",
        "colab": {}
      },
      "source": [
        "import re\n",
        "import MeCab\n",
        "import mojimoji\n",
        "\n",
        "def serialize(words):\n",
        "    #大文字統一\n",
        "    words = words.upper()\n",
        "\n",
        "    #改行コード無効\n",
        "    words = words.replace(\"\\n\",\"\")\n",
        "    \n",
        "    #チルダ統一\n",
        "    ser_word = [\"～\", \"-\",\"－\",\"から\",\"MAX\",\"~~\"]\n",
        "    for word in ser_word:\n",
        "      words = words.replace(word,\"~\")\n",
        "    \n",
        "    #スキル見合い\n",
        "    ser_word = [\"スキル見合い\",\"スキル見合\",\"ご相談\",\"相談\"]\n",
        "    for word in ser_word:\n",
        "      words = words.replace(word,\"00\")\n",
        "\n",
        "    #英数字のみ半角統一\n",
        "    words = mojimoji.zen_to_han(words, kana=False)\n",
        "      \n",
        "    return words"
      ],
      "execution_count": 0,
      "outputs": []
    },
    {
      "cell_type": "code",
      "metadata": {
        "id": "42mErKSBbpki",
        "colab_type": "code",
        "colab": {}
      },
      "source": [
        "def tanka_pickup(str_wk):\n",
        "  #======================================================\n",
        "  #スキップワード削除\n",
        "  #======================================================\n",
        "  del_word = [\"<\",\">\",\"＜\",\"＞\",\"[\",\"]\",\"《\",\"》\",\"≪\",\"≫\",\"【\", \"】\",\"(\",\")\",\"（\",\"）\",\" \",\"　\",\":\",\"：\",\"完全\",\"位\",\"くらい\",\"ぐらい\",\"およそ\",\"大体\",\"だいたい\",\"約\",\"前後\",\"円\",\"万\",\"下さい\",\"ください\"]\n",
        "  \n",
        "  base_word = '単価'\n",
        "  tanka_yuragi = [\"単金\",\"金額\",\"価格\",\"月額\",\"予算\"]\n",
        "\n",
        "  #◆単価が含まれるであろう箇所だけ渡す\n",
        "  #正規化\n",
        "  str_wk = serialize(str_wk)\n",
        "\n",
        "  #削除\n",
        "  for word in del_word:\n",
        "    str_wk = str_wk.replace(word,'')\n",
        "\n",
        "  #ゆらぎ統一\n",
        "  for tanka in tanka_yuragi:\n",
        "    str_wk = str_wk.replace(tanka,base_word)\n",
        "\n",
        "  #======================================================\n",
        "  #分かち書き\n",
        "  #======================================================\n",
        "  tagger = MeCab.Tagger(\"-Owakati\")\n",
        "  list_output = (tagger.parse(str_wk)).split(' ')\n",
        "\n",
        "  #======================================================\n",
        "  #「単価」に最も近い位置で書かれている数字が含まれる文節を抽出\n",
        "  #======================================================\n",
        "  tanka_str = \"\"\n",
        "\n",
        "  #上限範囲指定\n",
        "  if list_output.count(base_word) == 1:\n",
        "    if list_output[list_output.index(base_word)+1] == \"~\":\n",
        "      tanka_str = \"00~\" + list_output[list_output.index(base_word)+2]\n",
        "\n",
        "  #上限下限指定\n",
        "  if list_output.count(base_word) == 1:\n",
        "    if list_output[list_output.index(base_word)+2] == \"~\":\n",
        "      tanka_str = tanka_str + \"~\" + list_output[list_output.index(base_word)+3]\n",
        "\n",
        "  #上限のみ指定\n",
        "  #★エラー有り\n",
        "  if list_output[list_output.index(base_word)+1] == \"MAX\":\n",
        "    tanka_str =\"00~\" + list_output[list_output.index(base_word)+2]\n",
        "    \n",
        "  return tanka_str\n"
      ],
      "execution_count": 0,
      "outputs": []
    },
    {
      "cell_type": "code",
      "metadata": {
        "id": "k2oDI0OHbQfT",
        "colab_type": "code",
        "colab": {
          "base_uri": "https://localhost:8080/",
          "height": 389
        },
        "outputId": "fd3aa495-b064-471f-ebc7-e28b5fbddb72"
      },
      "source": [
        "import pandas as pd\n",
        "import codecs\n",
        "\n",
        "#utf-8で作られていないファイルの場合のCSV読み込み方法\n",
        "with codecs.open(\"python.CSV\", \"r\", \"Shift-JIS\", \"ignore\") as file:\n",
        "    df = pd.read_table(file, delimiter=\",\")\n",
        "\n",
        "df2 = df[[\"件名\",\"本文\"]]\n",
        "\n",
        "#行単位の繰り返し\n",
        "for index,item in df2.iterrows():\n",
        "  str_wk = item['本文']\n",
        "  pickup_str = tanka_pickup(str_wk)\n",
        "  print(pickup_str)"
      ],
      "execution_count": 24,
      "outputs": [
        {
          "output_type": "stream",
          "text": [
            "\n"
          ],
          "name": "stdout"
        },
        {
          "output_type": "stream",
          "text": [
            "/usr/local/lib/python3.6/dist-packages/ipykernel_launcher.py:6: FutureWarning: read_table is deprecated, use read_csv instead.\n",
            "  \n"
          ],
          "name": "stderr"
        },
        {
          "output_type": "error",
          "ename": "ValueError",
          "evalue": "ignored",
          "traceback": [
            "\u001b[0;31m---------------------------------------------------------------------------\u001b[0m",
            "\u001b[0;31mValueError\u001b[0m                                Traceback (most recent call last)",
            "\u001b[0;32m<ipython-input-24-986f00628c08>\u001b[0m in \u001b[0;36m<module>\u001b[0;34m()\u001b[0m\n\u001b[1;32m     11\u001b[0m \u001b[0;32mfor\u001b[0m \u001b[0mindex\u001b[0m\u001b[0;34m,\u001b[0m\u001b[0mitem\u001b[0m \u001b[0;32min\u001b[0m \u001b[0mdf2\u001b[0m\u001b[0;34m.\u001b[0m\u001b[0miterrows\u001b[0m\u001b[0;34m(\u001b[0m\u001b[0;34m)\u001b[0m\u001b[0;34m:\u001b[0m\u001b[0;34m\u001b[0m\u001b[0;34m\u001b[0m\u001b[0m\n\u001b[1;32m     12\u001b[0m   \u001b[0mstr_wk\u001b[0m \u001b[0;34m=\u001b[0m \u001b[0mitem\u001b[0m\u001b[0;34m[\u001b[0m\u001b[0;34m'本文'\u001b[0m\u001b[0;34m]\u001b[0m\u001b[0;34m\u001b[0m\u001b[0;34m\u001b[0m\u001b[0m\n\u001b[0;32m---> 13\u001b[0;31m   \u001b[0mpickup_str\u001b[0m \u001b[0;34m=\u001b[0m \u001b[0mtanka_pickup\u001b[0m\u001b[0;34m(\u001b[0m\u001b[0mstr_wk\u001b[0m\u001b[0;34m)\u001b[0m\u001b[0;34m\u001b[0m\u001b[0;34m\u001b[0m\u001b[0m\n\u001b[0m\u001b[1;32m     14\u001b[0m   \u001b[0mprint\u001b[0m\u001b[0;34m(\u001b[0m\u001b[0mpickup_str\u001b[0m\u001b[0;34m)\u001b[0m\u001b[0;34m\u001b[0m\u001b[0;34m\u001b[0m\u001b[0m\n",
            "\u001b[0;32m<ipython-input-8-4d14e6c4421b>\u001b[0m in \u001b[0;36mtanka_pickup\u001b[0;34m(str_wk)\u001b[0m\n\u001b[1;32m     42\u001b[0m \u001b[0;34m\u001b[0m\u001b[0m\n\u001b[1;32m     43\u001b[0m   \u001b[0;31m#上限のみ指定\u001b[0m\u001b[0;34m\u001b[0m\u001b[0;34m\u001b[0m\u001b[0;34m\u001b[0m\u001b[0m\n\u001b[0;32m---> 44\u001b[0;31m   \u001b[0;32mif\u001b[0m \u001b[0mlist_output\u001b[0m\u001b[0;34m[\u001b[0m\u001b[0mlist_output\u001b[0m\u001b[0;34m.\u001b[0m\u001b[0mindex\u001b[0m\u001b[0;34m(\u001b[0m\u001b[0mbase_word\u001b[0m\u001b[0;34m)\u001b[0m\u001b[0;34m+\u001b[0m\u001b[0;36m1\u001b[0m\u001b[0;34m]\u001b[0m \u001b[0;34m==\u001b[0m \u001b[0;34m\"MAX\"\u001b[0m\u001b[0;34m:\u001b[0m\u001b[0;34m\u001b[0m\u001b[0;34m\u001b[0m\u001b[0m\n\u001b[0m\u001b[1;32m     45\u001b[0m     \u001b[0mtanka_str\u001b[0m \u001b[0;34m=\u001b[0m\u001b[0;34m\"00~\"\u001b[0m \u001b[0;34m+\u001b[0m \u001b[0mlist_output\u001b[0m\u001b[0;34m[\u001b[0m\u001b[0mlist_output\u001b[0m\u001b[0;34m.\u001b[0m\u001b[0mindex\u001b[0m\u001b[0;34m(\u001b[0m\u001b[0mbase_word\u001b[0m\u001b[0;34m)\u001b[0m\u001b[0;34m+\u001b[0m\u001b[0;36m2\u001b[0m\u001b[0;34m]\u001b[0m\u001b[0;34m\u001b[0m\u001b[0;34m\u001b[0m\u001b[0m\n\u001b[1;32m     46\u001b[0m \u001b[0;34m\u001b[0m\u001b[0m\n",
            "\u001b[0;31mValueError\u001b[0m: '単価' is not in list"
          ]
        }
      ]
    },
    {
      "cell_type": "code",
      "metadata": {
        "id": "KnqyrIxNOLEZ",
        "colab_type": "code",
        "outputId": "1df03bd2-ffa5-42cc-d480-29cd5950f569",
        "colab": {
          "base_uri": "https://localhost:8080/",
          "height": 68
        }
      },
      "source": [
        "#単価変数初期化\n",
        "min_tanka = 0\n",
        "max_tanka = 0\n",
        "med_tanka = 0\n",
        "\n",
        "#======================================================\n",
        "#範囲指定単価(exp:A～B) 編集\n",
        "#======================================================\n",
        "tanka_range = re.findall('[0-9]{2}~[0-9]{2}',pickup_str)\n",
        "\n",
        "#中間値算出\n",
        "#if len(tanka_range) == 1:\n",
        "#  tanka1 = int(tanka_range[0].split('~')[0])\n",
        "#  tanka2 = int(tanka_range[0].split('~')[1])\n",
        "#  med_tanka = round((tanka1+tanka2)/2)\n",
        "#else:\n",
        "#  med_tanka = \"0\"\n",
        "\n",
        "#下限算出\n",
        "if len(tanka_range) == 1:\n",
        "  min_tanka = int(tanka_range[0].split('~')[0])\n",
        "else:\n",
        "  min_tanka = 0\n",
        "\n",
        "#上限算出\n",
        "if len(tanka_range) == 1:\n",
        "  max_tanka = int(tanka_range[0].split('~')[1])\n",
        "else:\n",
        "  max_tanka = 0\n",
        "\n",
        "print(\"MIN:\" + str(min_tanka))\n",
        "print(\"MAX:\" + str(max_tanka))\n"
      ],
      "execution_count": 5,
      "outputs": [
        {
          "output_type": "stream",
          "text": [
            "00~55\n",
            "MIN:0\n",
            "MAX:55\n"
          ],
          "name": "stdout"
        }
      ]
    }
  ]
}