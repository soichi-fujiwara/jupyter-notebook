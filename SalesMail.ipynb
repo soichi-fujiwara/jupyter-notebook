{
  "nbformat": 4,
  "nbformat_minor": 0,
  "metadata": {
    "colab": {
      "name": "SalesMail.ipynb",
      "version": "0.3.2",
      "provenance": [],
      "include_colab_link": true
    },
    "kernelspec": {
      "name": "python3",
      "display_name": "Python 3"
    },
    "accelerator": "GPU"
  },
  "cells": [
    {
      "cell_type": "markdown",
      "metadata": {
        "id": "view-in-github",
        "colab_type": "text"
      },
      "source": [
        "<a href=\"https://colab.research.google.com/github/soichi-fujiwara/jupyter-notebook/blob/master/SalesMail.ipynb\" target=\"_parent\"><img src=\"https://colab.research.google.com/assets/colab-badge.svg\" alt=\"Open In Colab\"/></a>"
      ]
    },
    {
      "cell_type": "code",
      "metadata": {
        "id": "tsPDJ88qX8gK",
        "colab_type": "code",
        "outputId": "05b867cc-7556-431b-a7c0-b0de13c47f76",
        "colab": {
          "base_uri": "https://localhost:8080/",
          "height": 258
        }
      },
      "source": [
        "!pip install mecab-python3\n",
        "!pip install mojimoji"
      ],
      "execution_count": 1,
      "outputs": [
        {
          "output_type": "stream",
          "text": [
            "Collecting mecab-python3\n",
            "\u001b[?25l  Downloading https://files.pythonhosted.org/packages/b3/92/e7e7f38df8457fa40c1ca86928be5ddbe2bf341e90a35e6ada30d03ef16d/mecab_python3-0.996.2-cp36-cp36m-manylinux1_x86_64.whl (15.9MB)\n",
            "\u001b[K     |████████████████████████████████| 15.9MB 3.3MB/s \n",
            "\u001b[?25hInstalling collected packages: mecab-python3\n",
            "Successfully installed mecab-python3-0.996.2\n",
            "Collecting mojimoji\n",
            "  Downloading https://files.pythonhosted.org/packages/10/2d/f5d58e74af1c1b4eeea66ecc14f35ae8f275f39bc7158ba51a6e8a86dfdf/mojimoji-0.0.9.post0.tar.gz\n",
            "Building wheels for collected packages: mojimoji\n",
            "  Building wheel for mojimoji (setup.py) ... \u001b[?25l\u001b[?25hdone\n",
            "  Stored in directory: /root/.cache/pip/wheels/67/f0/6e/03e5c5017afc8230e19abeacad57189138207fea2f5dd71880\n",
            "Successfully built mojimoji\n",
            "Installing collected packages: mojimoji\n",
            "Successfully installed mojimoji-0.0.9\n"
          ],
          "name": "stdout"
        }
      ]
    },
    {
      "cell_type": "code",
      "metadata": {
        "id": "ogVzV5qAruWM",
        "colab_type": "code",
        "colab": {}
      },
      "source": [
        "import re\n",
        "import MeCab\n",
        "import mojimoji\n",
        "\n",
        "def serialize(words):\n",
        "    #大文字統一\n",
        "    words = words.upper()\n",
        "\n",
        "    #改行コード無効\n",
        "    words = words.replace(\"\\n\",\"\")\n",
        "    \n",
        "    #チルダ統一\n",
        "    ser_word = [\"～\", \"-\",\"－\",\"から\",\"MAX\",\"~~\"]\n",
        "    for word in ser_word:\n",
        "      words = words.replace(word,\"~\")\n",
        "    \n",
        "    #スキル見合い\n",
        "    ser_word = [\"スキル見合い\",\"スキル見合\",\"ご相談\",\"相談\"]\n",
        "    for word in ser_word:\n",
        "      words = words.replace(word,\"00\")\n",
        "\n",
        "    #英数字のみ半角統一\n",
        "    words = mojimoji.zen_to_han(words, kana=False)\n",
        "      \n",
        "    return words"
      ],
      "execution_count": 0,
      "outputs": []
    },
    {
      "cell_type": "code",
      "metadata": {
        "id": "42mErKSBbpki",
        "colab_type": "code",
        "colab": {}
      },
      "source": [
        "def tanka_pickup(str_wk):\n",
        "  #======================================================\n",
        "  #スキップワード削除\n",
        "  #======================================================\n",
        "  del_word = [\"<\",\">\",\"＜\",\"＞\",\"[\",\"]\",\"《\",\"》\",\"≪\",\"≫\",\"【\", \"】\",\"(\",\")\",\"（\",\"）\",\" \",\"　\",\":\",\"：\",\"完全\",\"位\",\"くらい\",\"ぐらい\",\"およそ\",\"大体\",\"だいたい\",\"約\",\"前後\",\"円\",\"万\",\"下さい\",\"ください\"]\n",
        "  \n",
        "  base_word = '単価'\n",
        "  tanka_yuragi = [\"単金\",\"金額\",\"価格\",\"月額\",\"予算\"]\n",
        "\n",
        "  #◆単価が含まれるであろう箇所だけ渡す\n",
        "  #正規化\n",
        "  str_wk = serialize(str_wk)\n",
        "\n",
        "  #削除\n",
        "  for word in del_word:\n",
        "    str_wk = str_wk.replace(word,'')\n",
        "\n",
        "  #ゆらぎ統一\n",
        "  for tanka in tanka_yuragi:\n",
        "    str_wk = str_wk.replace(tanka,base_word)\n",
        "\n",
        "  #======================================================\n",
        "  #分かち書き\n",
        "  #======================================================\n",
        "  tagger = MeCab.Tagger(\"-Owakati\")\n",
        "  list_output = (tagger.parse(str_wk)).split(' ')\n",
        "\n",
        "  #======================================================\n",
        "  #「単価」に最も近い位置で書かれている数字が含まれる文節を抽出\n",
        "  #======================================================\n",
        "  tanka_str = \"\"\n",
        "\n",
        "  #上限範囲指定\n",
        "  if list_output.count(base_word) == 1:\n",
        "    if list_output[list_output.index(base_word)+1] == \"~\":\n",
        "      tanka_str = \"00~\" + list_output[list_output.index(base_word)+2]\n",
        "\n",
        "  #上限下限指定\n",
        "  if list_output.count(base_word) == 1:\n",
        "    if list_output[list_output.index(base_word)+2] == \"~\":\n",
        "      tanka_str = tanka_str + \"~\" + list_output[list_output.index(base_word)+3]\n",
        "\n",
        "  #上限のみ指定\n",
        "  if list_output[list_output.index(base_word)+1] == \"MAX\":\n",
        "    tanka_str =\"00~\" + list_output[list_output.index(base_word)+2]\n",
        "    \n",
        "  return tanka_str\n"
      ],
      "execution_count": 0,
      "outputs": []
    },
    {
      "cell_type": "code",
      "metadata": {
        "id": "KnqyrIxNOLEZ",
        "colab_type": "code",
        "outputId": "c8a317c9-01c1-417a-80b8-012b4bae7ba3",
        "colab": {
          "base_uri": "https://localhost:8080/",
          "height": 68
        }
      },
      "source": [
        "str_wk = '【金　額】～MAX45万'\n",
        "pickup_str = tanka_pickup(str_wk)\n",
        "\n",
        "print(pickup_str)\n",
        "\n",
        "#単価変数初期化\n",
        "min_tanka = 0\n",
        "max_tanka = 0\n",
        "med_tanka = 0\n",
        "\n",
        "#======================================================\n",
        "#範囲指定単価(exp:A～B) 編集\n",
        "#======================================================\n",
        "tanka_range = re.findall('[0-9]{2}~[0-9]{2}',tanka_str)\n",
        "\n",
        "#中間値算出\n",
        "#if len(tanka_range) == 1:\n",
        "#  tanka1 = int(tanka_range[0].split('~')[0])\n",
        "#  tanka2 = int(tanka_range[0].split('~')[1])\n",
        "#  med_tanka = round((tanka1+tanka2)/2)\n",
        "#else:\n",
        "#  med_tanka = \"0\"\n",
        "\n",
        "#下限算出\n",
        "if len(tanka_range) == 1:\n",
        "  min_tanka = int(tanka_range[0].split('~')[0])\n",
        "else:\n",
        "  min_tanka = 0\n",
        "\n",
        "#上限算出\n",
        "if len(tanka_range) == 1:\n",
        "  max_tanka = int(tanka_range[0].split('~')[1])\n",
        "else:\n",
        "  max_tanka = 0\n",
        "\n",
        "#======================================================\n",
        "#上限指定単価2(exp:70まで) 編集\n",
        "#======================================================\n",
        "if max_tanka == 0:\n",
        "  max_specify = re.findall('[0-9]{2}まで',str_wk)\n",
        "\n",
        "  if len(max_specify) == 1:\n",
        "    max_tanka = int(max_specify[0].replace(\"まで\",\"\"))\n",
        "  else:\n",
        "    max_tanka = 0\n",
        "\n",
        "print(\"MIN:\" + str(min_tanka))\n",
        "print(\"MAX:\" + str(max_tanka))\n",
        "#print(\"MED:\" + str(med_tanka))"
      ],
      "execution_count": 11,
      "outputs": [
        {
          "output_type": "stream",
          "text": [
            "00~45\n",
            "MIN:0\n",
            "MAX:45\n"
          ],
          "name": "stdout"
        }
      ]
    }
  ]
}