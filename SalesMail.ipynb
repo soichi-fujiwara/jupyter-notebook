{
  "nbformat": 4,
  "nbformat_minor": 0,
  "metadata": {
    "colab": {
      "name": "SalesMail.ipynb",
      "version": "0.3.2",
      "provenance": [],
      "include_colab_link": true
    },
    "kernelspec": {
      "name": "python3",
      "display_name": "Python 3"
    }
  },
  "cells": [
    {
      "cell_type": "markdown",
      "metadata": {
        "id": "view-in-github",
        "colab_type": "text"
      },
      "source": [
        "<a href=\"https://colab.research.google.com/github/soichi-fujiwara/jupyter-notebook/blob/master/SalesMail.ipynb\" target=\"_parent\"><img src=\"https://colab.research.google.com/assets/colab-badge.svg\" alt=\"Open In Colab\"/></a>"
      ]
    },
    {
      "cell_type": "code",
      "metadata": {
        "id": "tsPDJ88qX8gK",
        "colab_type": "code",
        "outputId": "4ca2ac1c-746f-4db3-f49d-a4dd267d89b2",
        "colab": {
          "base_uri": "https://localhost:8080/",
          "height": 122
        }
      },
      "source": [
        "!pip install mecab-python3"
      ],
      "execution_count": 0,
      "outputs": [
        {
          "output_type": "stream",
          "text": [
            "Collecting mecab-python3\n",
            "\u001b[?25l  Downloading https://files.pythonhosted.org/packages/b3/92/e7e7f38df8457fa40c1ca86928be5ddbe2bf341e90a35e6ada30d03ef16d/mecab_python3-0.996.2-cp36-cp36m-manylinux1_x86_64.whl (15.9MB)\n",
            "\u001b[K     |████████████████████████████████| 15.9MB 4.6MB/s \n",
            "\u001b[?25hInstalling collected packages: mecab-python3\n",
            "Successfully installed mecab-python3-0.996.2\n"
          ],
          "name": "stdout"
        }
      ]
    },
    {
      "cell_type": "code",
      "metadata": {
        "id": "ogVzV5qAruWM",
        "colab_type": "code",
        "colab": {
          "base_uri": "https://localhost:8080/",
          "height": 34
        },
        "outputId": "adf0dc55-d36b-469d-dc90-304616c2cf9f"
      },
      "source": [
        "#======================================================\n",
        "#単価スキップワード削除\n",
        "#======================================================\n",
        "str_wk = '【金　額】60万'\n",
        "\n",
        "del_word = [\"【\", \"】\",\"(\",\")\",\"（\",\"）\",\" \",\"　\"]\n",
        "\n",
        "tanka_base = '単価'\n",
        "tanka_yuragi = [\"単金\", \"金額\"]\n",
        "\n",
        "#削除\n",
        "for word in del_word:\n",
        "  str_wk = str_wk.replace(word,\"\")\n",
        "\n",
        "  #ゆらぎ統一\n",
        "for tanka in tanka_yuragi:\n",
        "  str_wk = str_wk.replace(tanka,tanka_base)\n",
        "\n",
        "print(str_wk)\n"
      ],
      "execution_count": 22,
      "outputs": [
        {
          "output_type": "stream",
          "text": [
            "単価60万\n"
          ],
          "name": "stdout"
        }
      ]
    },
    {
      "cell_type": "code",
      "metadata": {
        "id": "KnqyrIxNOLEZ",
        "colab_type": "code",
        "colab": {}
      },
      "source": [
        ""
      ],
      "execution_count": 0,
      "outputs": []
    },
    {
      "cell_type": "code",
      "metadata": {
        "id": "j4xbsc2gn5vv",
        "colab_type": "code",
        "outputId": "0c6b2bd2-3885-47c4-edb7-cbe4d3c7c548",
        "colab": {
          "base_uri": "https://localhost:8080/",
          "height": 51
        }
      },
      "source": [
        "import MeCab\n",
        "\n",
        "\n",
        "#---------------------------------------------------------------------\n",
        "#1.クリーニング処理\n",
        "#(テキスト中のノイズを削除)\n",
        "#---------------------------------------------------------------------\n",
        "\n",
        "\n",
        "#---------------------------------------------------------------------\n",
        "#2.単語の正規化\n",
        "#(文字種の統一や大文字･小文字を揃える)\n",
        "#---------------------------------------------------------------------\n",
        "\n",
        "\n",
        "#---------------------------------------------------------------------\n",
        "#3.文章の単語分割\n",
        "#---------------------------------------------------------------------\n",
        "tagger = MeCab.Tagger(\"-Owakati\")\n",
        "sample = \"今日は天気が良いですね\"\n",
        "\n",
        "print(tagger.parse(sample))\n",
        "\n",
        "#---------------------------------------------------------------------\n",
        "#4.ストップワード除去\n",
        "#---------------------------------------------------------------------\n",
        "\n",
        "\n",
        "#---------------------------------------------------------------------\n",
        "#5.単語のベクトル化\n",
        "#---------------------------------------------------------------------\n",
        "\n"
      ],
      "execution_count": 0,
      "outputs": [
        {
          "output_type": "stream",
          "text": [
            "今日 は 天気 が 良い です ね \n",
            "\n"
          ],
          "name": "stdout"
        }
      ]
    }
  ]
}