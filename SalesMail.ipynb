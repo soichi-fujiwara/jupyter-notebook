{
  "nbformat": 4,
  "nbformat_minor": 0,
  "metadata": {
    "colab": {
      "name": "SalesMail.ipynb",
      "version": "0.3.2",
      "provenance": [],
      "include_colab_link": true
    },
    "kernelspec": {
      "name": "python3",
      "display_name": "Python 3"
    },
    "accelerator": "GPU"
  },
  "cells": [
    {
      "cell_type": "markdown",
      "metadata": {
        "id": "view-in-github",
        "colab_type": "text"
      },
      "source": [
        "<a href=\"https://colab.research.google.com/github/soichi-fujiwara/jupyter-notebook/blob/master/SalesMail.ipynb\" target=\"_parent\"><img src=\"https://colab.research.google.com/assets/colab-badge.svg\" alt=\"Open In Colab\"/></a>"
      ]
    },
    {
      "cell_type": "code",
      "metadata": {
        "id": "tsPDJ88qX8gK",
        "colab_type": "code",
        "outputId": "124202b5-f17f-4313-d8f8-1d342d8c9f87",
        "colab": {
          "base_uri": "https://localhost:8080/",
          "height": 170
        }
      },
      "source": [
        "!pip install mecab-python3\n",
        "!pip install mojimoji"
      ],
      "execution_count": 6,
      "outputs": [
        {
          "output_type": "stream",
          "text": [
            "Requirement already satisfied: mecab-python3 in /usr/local/lib/python3.6/dist-packages (0.996.2)\n",
            "Collecting mojimoji\n",
            "  Downloading https://files.pythonhosted.org/packages/10/2d/f5d58e74af1c1b4eeea66ecc14f35ae8f275f39bc7158ba51a6e8a86dfdf/mojimoji-0.0.9.post0.tar.gz\n",
            "Building wheels for collected packages: mojimoji\n",
            "  Building wheel for mojimoji (setup.py) ... \u001b[?25l\u001b[?25hdone\n",
            "  Stored in directory: /root/.cache/pip/wheels/67/f0/6e/03e5c5017afc8230e19abeacad57189138207fea2f5dd71880\n",
            "Successfully built mojimoji\n",
            "Installing collected packages: mojimoji\n",
            "Successfully installed mojimoji-0.0.9\n"
          ],
          "name": "stdout"
        }
      ]
    },
    {
      "cell_type": "code",
      "metadata": {
        "id": "ogVzV5qAruWM",
        "colab_type": "code",
        "outputId": "c90150f9-204e-45c3-b1df-cd95f94013b5",
        "colab": {
          "base_uri": "https://localhost:8080/",
          "height": 51
        }
      },
      "source": [
        "import re\n",
        "import MeCab\n",
        "import mojimoji\n",
        "\n",
        "def serialize(words):\n",
        "    #大文字統一\n",
        "    words = words.upper()\n",
        "\n",
        "    #英数字のみ半角統一\n",
        "    words = mojimoji.zen_to_han(words)\n",
        "    \n",
        "    #チルダ統一\n",
        "    ser_word = [\"~\", \"-\",\"－\",\"から\"]\n",
        "    for word in ser_word:\n",
        "      words = words.replace(word,\"～\")\n",
        "    \n",
        "    #スキル見合い\n",
        "    ser_word = [\"スキル見合い\",\"スキル見合\",\"ご相談\",\"相談\"]\n",
        "    for word in ser_word:\n",
        "      words = words.replace(word,\"0\")\n",
        "\n",
        "    return words\n",
        "\n",
        "#======================================================\n",
        "#スキップワード削除\n",
        "#======================================================\n",
        "str_wk = '【金　額】３0～90万円'\n",
        "del_word = [\"<\",\">\",\"＜\",\"＞\",\"[\",\"]\",\"《\",\"》\",\"≪\",\"≫\",\"【\", \"】\",\"(\",\")\",\"（\",\"）\",\" \",\"　\",\":\",\"：\",\"位\",\"くらい\",\"ぐらい\",\"およそ\",\"大体\",\"だいたい\",\"約\",\"前後\",\"円\",\"万\",\"下さい\",\"ください\"]\n",
        "\n",
        "base_word = '単価'\n",
        "tanka_yuragi = [\"単金\",\"金額\",\"価格\",\"月額\"]\n",
        "\n",
        "#◆単価が含まれるであろう箇所だけ渡す\n",
        "#正規化\n",
        "str_wk = serialize(str_wk)\n",
        "\n",
        "#削除\n",
        "for word in del_word:\n",
        "  str_wk = str_wk.replace(word,'')\n",
        "\n",
        "#ゆらぎ統一\n",
        "for tanka in tanka_yuragi:\n",
        "  str_wk = str_wk.replace(tanka,base_word)\n",
        "\n",
        "#======================================================\n",
        "#分かち書き\n",
        "#======================================================\n",
        "tagger = MeCab.Tagger(\"-Owakati\")\n",
        "print(tagger.parse(str_wk))\n",
        "\n",
        "#======================================================\n",
        "#「単価」に最も近い位置で書かれている数字が含まれる文節を抽出\n",
        "#======================================================\n",
        "\n",
        "\n"
      ],
      "execution_count": 7,
      "outputs": [
        {
          "output_type": "stream",
          "text": [
            "単価 30 ～ 90 \n",
            "\n"
          ],
          "name": "stdout"
        }
      ]
    },
    {
      "cell_type": "code",
      "metadata": {
        "id": "KnqyrIxNOLEZ",
        "colab_type": "code",
        "colab": {}
      },
      "source": [
        "#単価変数初期化\n",
        "min_tanka = 0\n",
        "max_tanka = 0\n",
        "med_tanka = 0\n",
        "\n",
        "#======================================================\n",
        "#範囲指定単価(exp:A～B) 編集\n",
        "#======================================================\n",
        "tanka_range = re.findall('[0-9]{2}～[0-9]{2}',str_wk)\n",
        "\n",
        "#中間値算出\n",
        "if len(tanka_range) == 1:\n",
        "  tanka1 = int(tanka_range[0].split('～')[0])\n",
        "  tanka2 = int(tanka_range[0].split('～')[1])\n",
        "  med_tanka = round((tanka1+tanka2)/2)\n",
        "else:\n",
        "  med_tanka = \"0\"\n",
        "\n",
        "#下限算出\n",
        "if len(tanka_range) == 1:\n",
        "  min_tanka = int(tanka_range[0].split('～')[0])\n",
        "else:\n",
        "  min_tanka = 0\n",
        "\n",
        "#上限算出\n",
        "if len(tanka_range) == 1:\n",
        "  max_tanka = int(tanka_range[0].split('～')[1])\n",
        "else:\n",
        "  max_tanka = 0\n",
        "\n",
        "#======================================================\n",
        "#上限指定単価1(exp:Max70) 編集\n",
        "#======================================================\n",
        "if max_tanka == 0:\n",
        "  max_specify = re.findall('MAX[0-9]{2}',str_wk)\n",
        "\n",
        "  if len(max_specify) == 1:\n",
        "    max_tanka = int(max_specify[0].replace(\"MAX\",\"\"))\n",
        "  else:\n",
        "    max_tanka = 0\n",
        "\n",
        "#======================================================\n",
        "#上限指定単価2(exp:70まで) 編集\n",
        "#======================================================\n",
        "if max_tanka == 0:\n",
        "  max_specify = re.findall('[0-9]{2}まで',str_wk)\n",
        "\n",
        "  if len(max_specify) == 1:\n",
        "    max_tanka = int(max_specify[0].replace(\"まで\",\"\"))\n",
        "  else:\n",
        "    max_tanka = 0\n",
        "\n",
        "print(\"MIN:\" + str(min_tanka))\n",
        "print(\"MAX:\" + str(max_tanka))\n",
        "print(\"MED:\" + str(med_tanka))\n",
        "\n"
      ],
      "execution_count": 0,
      "outputs": []
    }
  ]
}