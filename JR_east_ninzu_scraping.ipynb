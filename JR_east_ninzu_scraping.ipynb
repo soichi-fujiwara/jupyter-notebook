{
  "nbformat": 4,
  "nbformat_minor": 0,
  "metadata": {
    "colab": {
      "name": "JR_east_ninzu_scraping.ipynb",
      "version": "0.3.2",
      "provenance": [],
      "include_colab_link": true
    },
    "kernelspec": {
      "name": "python3",
      "display_name": "Python 3"
    }
  },
  "cells": [
    {
      "cell_type": "markdown",
      "metadata": {
        "id": "view-in-github",
        "colab_type": "text"
      },
      "source": [
        "<a href=\"https://colab.research.google.com/github/soichi-fujiwara/jupyter-notebook/blob/master/JR_east_ninzu_scraping.ipynb\" target=\"_parent\"><img src=\"https://colab.research.google.com/assets/colab-badge.svg\" alt=\"Open In Colab\"/></a>"
      ]
    },
    {
      "cell_type": "markdown",
      "metadata": {
        "id": "hUYu1w9xHcml",
        "colab_type": "text"
      },
      "source": [
        "# JR東日本 乗降人数"
      ]
    },
    {
      "cell_type": "code",
      "metadata": {
        "id": "HQZchPDcIK8p",
        "colab_type": "code",
        "colab": {}
      },
      "source": [
        "!pip install beautifulsoup4"
      ],
      "execution_count": 0,
      "outputs": []
    },
    {
      "cell_type": "code",
      "metadata": {
        "id": "XSq636DWHVZZ",
        "colab_type": "code",
        "colab": {}
      },
      "source": [
        "from bs4 import BeautifulSoup\n",
        "from urllib.request import urlopen\n",
        "import pandas as pd\n",
        "\n",
        "# 親ページURL\n",
        "url_pr = 'https://www.jreast.co.jp/passenger/index.html'\n",
        "\n",
        "# データフレームを定義\n",
        "columns = [\"st\",\"ninzu\"]\n",
        "df_ppl = pd.DataFrame(columns=columns)\n",
        "\n",
        "html_doc = urlopen(url_pr)\n",
        "\n",
        "# BeautifulSoupでスクレイピング\n",
        "soup = BeautifulSoup(html_doc, 'html.parser')\n",
        "# ラッピング単位のクラスを取得1\n",
        "table  = soup.find_all(\"table\", {\"class\": \"passengerTable fl\"})[0]\n",
        "rows = table.findAll(\"tr\")\n",
        "\n",
        "for row in rows:\n",
        "  dataRow = []\n",
        "  for cell in row.findAll(\"td\"):\n",
        "    dataRow.append(cell.text)\n",
        "\n",
        "  #listに何か入っている場合\n",
        "  if dataRow:\n",
        "\n",
        "    v_stname = dataRow[1]+\"駅\"\n",
        "    v_ppl = dataRow[4].replace(\",\",\"\")\n",
        "\n",
        "    # 各データをデータフレームに格納\n",
        "    se = pd.Series([v_stname,v_ppl], columns)\n",
        "    df_ppl = df_ppl.append(se, columns)\n",
        "\n",
        "# ラッピング単位のクラスを取得2\n",
        "table  = soup.find_all(\"table\", {\"class\": \"passengerTable fr\"})[0]\n",
        "rows = table.findAll(\"tr\")\n",
        "\n",
        "for row in rows:\n",
        "  dataRow = []\n",
        "  for cell in row.findAll(\"td\"):\n",
        "    dataRow.append(cell.text)\n",
        "\n",
        "  #listに何か入っている場合\n",
        "  if dataRow:\n",
        "\n",
        "    v_stname = dataRow[1]+\"駅\"\n",
        "    v_ppl = dataRow[4].replace(\",\",\"\")\n",
        "\n",
        "    # 各データをデータフレームに格納\n",
        "    se = pd.Series([v_stname,v_ppl], columns)\n",
        "    df_ppl = df_ppl.append(se, columns)\n",
        "\n",
        "#TOP100以下\n",
        "# 親ページURL\n",
        "url_pr = 'https://www.jreast.co.jp/passenger/2018_0{0}.html'\n",
        "\n",
        "for i in range(1,6):\n",
        "  html_doc = urlopen(url_pr.format(i))\n",
        "\n",
        "  # BeautifulSoupでスクレイピング\n",
        "  soup = BeautifulSoup(html_doc, 'html.parser')\n",
        "  # ラッピング単位のクラスを取得1\n",
        "  table  = soup.find_all(\"table\", {\"class\": \"passengerTable fl\"})[0]\n",
        "  rows = table.findAll(\"tr\")\n",
        "\n",
        "  for row in rows:\n",
        "    dataRow = []\n",
        "    for cell in row.findAll(\"td\"):\n",
        "      dataRow.append(cell.text)\n",
        "\n",
        "    #listに何か入っている場合\n",
        "    if dataRow:\n",
        "\n",
        "      v_stname = dataRow[0]+\"駅\"\n",
        "      v_ppl = dataRow[3].replace(\",\",\"\")\n",
        "\n",
        "      # 各データをデータフレームに格納\n",
        "      se = pd.Series([v_stname,v_ppl], columns)\n",
        "      df_ppl = df_ppl.append(se, columns)\n",
        "\n",
        "  # ラッピング単位のクラスを取得2\n",
        "  table  = soup.find_all(\"table\", {\"class\": \"passengerTable fr\"})[0]\n",
        "  rows = table.findAll(\"tr\")\n",
        "\n",
        "  for row in rows:\n",
        "    dataRow = []\n",
        "    for cell in row.findAll(\"td\"):\n",
        "      dataRow.append(cell.text)\n",
        "\n",
        "    #listに何か入っている場合\n",
        "    if dataRow:\n",
        "\n",
        "      v_stname = dataRow[0]+\"駅\"\n",
        "      v_ppl = dataRow[3].replace(\",\",\"\")\n",
        "\n",
        "      # 各データをデータフレームに格納\n",
        "      se = pd.Series([v_stname,v_ppl], columns)\n",
        "      df_ppl = df_ppl.append(se, columns)\n",
        "\n",
        "# 収集したデータをCSV形式で保存\n",
        "filename = \"Train_People.csv\"\n",
        "df_ppl.to_csv(filename, encoding = 'utf-8')\n",
        "df_ppl.head()\n"
      ],
      "execution_count": 0,
      "outputs": []
    }
  ]
}