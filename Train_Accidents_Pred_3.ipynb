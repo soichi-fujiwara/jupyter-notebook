{
  "nbformat": 4,
  "nbformat_minor": 0,
  "metadata": {
    "colab": {
      "name": "Train_Accidents_Pred_3.ipynb",
      "version": "0.3.2",
      "provenance": [],
      "collapsed_sections": [],
      "include_colab_link": true
    },
    "kernelspec": {
      "name": "python3",
      "display_name": "Python 3"
    },
    "accelerator": "TPU"
  },
  "cells": [
    {
      "cell_type": "markdown",
      "metadata": {
        "id": "view-in-github",
        "colab_type": "text"
      },
      "source": [
        "<a href=\"https://colab.research.google.com/github/soichi-fujiwara/jupyter-notebook/blob/master/Train_Accidents_Pred_3.ipynb\" target=\"_parent\"><img src=\"https://colab.research.google.com/assets/colab-badge.svg\" alt=\"Open In Colab\"/></a>"
      ]
    },
    {
      "cell_type": "markdown",
      "metadata": {
        "id": "dOG3o7roALgY",
        "colab_type": "text"
      },
      "source": [
        "##ファイルがあればここから実行"
      ]
    },
    {
      "cell_type": "code",
      "metadata": {
        "id": "R2LtPzblnoMl",
        "colab_type": "code",
        "outputId": "0aaf7b9b-5476-4b7c-ba3d-0a1f9f74f597",
        "colab": {
          "base_uri": "https://localhost:8080/",
          "height": 125
        }
      },
      "source": [
        "from google.colab import drive\n",
        "drive.mount('/content/drive')"
      ],
      "execution_count": 3,
      "outputs": [
        {
          "output_type": "stream",
          "text": [
            "Go to this URL in a browser: https://accounts.google.com/o/oauth2/auth?client_id=947318989803-6bn6qk8qdgf4n4g3pfee6491hc0brc4i.apps.googleusercontent.com&redirect_uri=urn%3Aietf%3Awg%3Aoauth%3A2.0%3Aoob&scope=email%20https%3A%2F%2Fwww.googleapis.com%2Fauth%2Fdocs.test%20https%3A%2F%2Fwww.googleapis.com%2Fauth%2Fdrive%20https%3A%2F%2Fwww.googleapis.com%2Fauth%2Fdrive.photos.readonly%20https%3A%2F%2Fwww.googleapis.com%2Fauth%2Fpeopleapi.readonly&response_type=code\n",
            "\n",
            "Enter your authorization code:\n",
            "··········\n",
            "Mounted at /content/drive\n"
          ],
          "name": "stdout"
        }
      ]
    },
    {
      "cell_type": "code",
      "metadata": {
        "id": "-BRnbysUNIUP",
        "colab_type": "code",
        "outputId": "ca9b974d-ce72-458b-9e90-63478ef26a43",
        "colab": {
          "base_uri": "https://localhost:8080/",
          "height": 197
        }
      },
      "source": [
        "import pandas as pd\n",
        "\n",
        "df_ac = pd.read_csv(\"./drive/My Drive/TrainAccident/Accident_list.csv\")\n",
        "\n",
        "#鉄道会社の人身事故発生順にソート\n",
        "df_line = df_ac[\"line\"].value_counts().reset_index()\n",
        "\n",
        "#SeriseをDataFrameに変換\n",
        "col_name = [\"line\",\"count\"]\n",
        "df_line = pd.DataFrame(df_line)\n",
        "\n",
        "df_line.columns = col_name\n",
        "df_line.head()"
      ],
      "execution_count": 4,
      "outputs": [
        {
          "output_type": "execute_result",
          "data": {
            "text/html": [
              "<div>\n",
              "<style scoped>\n",
              "    .dataframe tbody tr th:only-of-type {\n",
              "        vertical-align: middle;\n",
              "    }\n",
              "\n",
              "    .dataframe tbody tr th {\n",
              "        vertical-align: top;\n",
              "    }\n",
              "\n",
              "    .dataframe thead th {\n",
              "        text-align: right;\n",
              "    }\n",
              "</style>\n",
              "<table border=\"1\" class=\"dataframe\">\n",
              "  <thead>\n",
              "    <tr style=\"text-align: right;\">\n",
              "      <th></th>\n",
              "      <th>line</th>\n",
              "      <th>count</th>\n",
              "    </tr>\n",
              "  </thead>\n",
              "  <tbody>\n",
              "    <tr>\n",
              "      <th>0</th>\n",
              "      <td>東武東上線</td>\n",
              "      <td>291</td>\n",
              "    </tr>\n",
              "    <tr>\n",
              "      <th>1</th>\n",
              "      <td>山陽本線_(JR西日本)</td>\n",
              "      <td>263</td>\n",
              "    </tr>\n",
              "    <tr>\n",
              "      <th>2</th>\n",
              "      <td>京浜東北線</td>\n",
              "      <td>245</td>\n",
              "    </tr>\n",
              "    <tr>\n",
              "      <th>3</th>\n",
              "      <td>中央快速線</td>\n",
              "      <td>244</td>\n",
              "    </tr>\n",
              "    <tr>\n",
              "      <th>4</th>\n",
              "      <td>東海道線_(JR東海)</td>\n",
              "      <td>244</td>\n",
              "    </tr>\n",
              "  </tbody>\n",
              "</table>\n",
              "</div>"
            ],
            "text/plain": [
              "           line  count\n",
              "0         東武東上線    291\n",
              "1  山陽本線_(JR西日本)    263\n",
              "2         京浜東北線    245\n",
              "3         中央快速線    244\n",
              "4   東海道線_(JR東海)    244"
            ]
          },
          "metadata": {
            "tags": []
          },
          "execution_count": 4
        }
      ]
    },
    {
      "cell_type": "code",
      "metadata": {
        "id": "MM5ZTERQx19M",
        "colab_type": "code",
        "colab": {}
      },
      "source": [
        "#件数は削除\n",
        "df_line = df_line.drop(\"count\",axis=1)\n",
        "df_line\n",
        "\n",
        "#CSVに出力\n",
        "df_line.to_csv(\"./drive/My Drive/TrainAccident/line_List_Candidate.csv\", encoding = 'utf-8',index=False,header=False)"
      ],
      "execution_count": 0,
      "outputs": []
    },
    {
      "cell_type": "code",
      "metadata": {
        "id": "nZoYVrjllY1F",
        "colab_type": "code",
        "outputId": "15acaf56-2b4e-46dd-e2fe-eb6245ab7ea7",
        "colab": {
          "base_uri": "https://localhost:8080/",
          "height": 90
        }
      },
      "source": [
        "import itertools\n",
        "\n",
        "kanto_line = pd.read_table('./drive/My Drive/TrainAccident/kanto_line.txt', header=None)\n",
        "\n",
        "#dataframeをlist化\n",
        "kanto_line_list = kanto_line.values.tolist()\n",
        "#2次元listから1次元listへ\n",
        "kanto_line_list = list(itertools.chain.from_iterable(kanto_line_list))\n",
        "\n",
        "print(kanto_line_list)"
      ],
      "execution_count": 6,
      "outputs": [
        {
          "output_type": "stream",
          "text": [
            "/usr/local/lib/python3.6/dist-packages/ipykernel_launcher.py:3: FutureWarning: read_table is deprecated, use read_csv instead, passing sep='\\t'.\n",
            "  This is separate from the ipykernel package so we can avoid doing imports until\n"
          ],
          "name": "stderr"
        },
        {
          "output_type": "stream",
          "text": [
            "['東武東上線', '京浜東北線', '中央快速線', '常磐線', '小田急小田原線', '西武新宿線', '宇都宮線', '京王線', '京急本線', '西武池袋線', '東武伊勢崎線', '東海道線_(JR東日本)', '高崎線', '中央・総武緩行線', '東急田園都市線', '山手線', '東北本線', '近鉄大阪線', '京成本線', '横浜線', '横須賀線', '総武快速線', '南武線', '埼京線', '相鉄本線', '東武野田線', '東急東横線', '外房線', '新京成電鉄新京成線', '中央本線_(JR東日本)', '小田急江ノ島線', '武蔵野線', '総武本線', '都電荒川線', '東京メトロ東西線', '青梅線', '関東鉄道常総線', '成田線', '根岸線', '京王井の頭線', '都営地下鉄新宿線', '京葉線', '秩父鉄道秩父本線', '東急大井町線', '東京メトロ千代田線', '八高線', '東急池上線', '京王相模原線', '川越線', '東京メトロ日比谷線', '西武拝島線', '京成押上線', '相模線', '都営地下鉄浅草線', '江ノ島電鉄線', '東武スカイツリーライン', '東京メトロ半蔵門線', '東武アーバンパークライン', '都営地下鉄大江戸線', '東葉高速鉄道東葉高速線', '東京メトロ銀座線', '小田急多摩線', '横浜高速鉄道みなとみらい線', 'JR東西線', '首都圏新都市鉄道つくばエクスプレス', '京急空港線', '相鉄いずみ野線', '東京メトロ有楽町線', '東京臨海高速鉄道りんかい線', '鶴見線', '東京モノレール羽田空港線', '東武亀戸線', '京葉臨海鉄道臨海本線', '京王新線', '西武秩父線', '埼玉高速鉄道線', '横浜市営地下鉄ブルーライン']\n"
          ],
          "name": "stdout"
        }
      ]
    },
    {
      "cell_type": "code",
      "metadata": {
        "id": "ZlDxCe9goErC",
        "colab_type": "code",
        "outputId": "e5dd08bf-41ab-4e45-95f1-d9ef61266c97",
        "colab": {
          "base_uri": "https://localhost:8080/",
          "height": 197
        }
      },
      "source": [
        "#関東(首都圏)に影響を与えそうな路線のデータのみ抽出\n",
        "new_data = df_ac[df_ac['line'].isin(kanto_line_list)]\n",
        "new_data = new_data.reset_index()\n",
        "\n",
        "#不要な項目を削除\n",
        "new_data = new_data.drop(\"index\",axis=1)\n",
        "\n",
        "new_data.head(5)"
      ],
      "execution_count": 7,
      "outputs": [
        {
          "output_type": "execute_result",
          "data": {
            "text/html": [
              "<div>\n",
              "<style scoped>\n",
              "    .dataframe tbody tr th:only-of-type {\n",
              "        vertical-align: middle;\n",
              "    }\n",
              "\n",
              "    .dataframe tbody tr th {\n",
              "        vertical-align: top;\n",
              "    }\n",
              "\n",
              "    .dataframe thead th {\n",
              "        text-align: right;\n",
              "    }\n",
              "</style>\n",
              "<table border=\"1\" class=\"dataframe\">\n",
              "  <thead>\n",
              "    <tr style=\"text-align: right;\">\n",
              "      <th></th>\n",
              "      <th>date</th>\n",
              "      <th>time</th>\n",
              "      <th>yobi</th>\n",
              "      <th>line</th>\n",
              "      <th>from_st</th>\n",
              "      <th>to_st</th>\n",
              "      <th>st</th>\n",
              "    </tr>\n",
              "  </thead>\n",
              "  <tbody>\n",
              "    <tr>\n",
              "      <th>0</th>\n",
              "      <td>2019/08/10</td>\n",
              "      <td>20:08</td>\n",
              "      <td>5</td>\n",
              "      <td>八高線</td>\n",
              "      <td>拝島駅</td>\n",
              "      <td>東福生駅</td>\n",
              "      <td>拝島駅</td>\n",
              "    </tr>\n",
              "    <tr>\n",
              "      <th>1</th>\n",
              "      <td>2019/08/09</td>\n",
              "      <td>22:39</td>\n",
              "      <td>4</td>\n",
              "      <td>東急東横線</td>\n",
              "      <td>学芸大学駅</td>\n",
              "      <td>学芸大学駅</td>\n",
              "      <td>学芸大学駅</td>\n",
              "    </tr>\n",
              "    <tr>\n",
              "      <th>2</th>\n",
              "      <td>2019/08/07</td>\n",
              "      <td>18:00</td>\n",
              "      <td>2</td>\n",
              "      <td>宇都宮線</td>\n",
              "      <td>東大宮駅</td>\n",
              "      <td>蓮田駅</td>\n",
              "      <td>東大宮駅</td>\n",
              "    </tr>\n",
              "    <tr>\n",
              "      <th>3</th>\n",
              "      <td>2019/08/06</td>\n",
              "      <td>11:54</td>\n",
              "      <td>1</td>\n",
              "      <td>総武本線</td>\n",
              "      <td>八街駅</td>\n",
              "      <td>日向駅</td>\n",
              "      <td>八街駅</td>\n",
              "    </tr>\n",
              "    <tr>\n",
              "      <th>4</th>\n",
              "      <td>2019/08/05</td>\n",
              "      <td>12:18</td>\n",
              "      <td>0</td>\n",
              "      <td>東急大井町線</td>\n",
              "      <td>自由が丘駅</td>\n",
              "      <td>九品仏駅</td>\n",
              "      <td>自由が丘駅</td>\n",
              "    </tr>\n",
              "  </tbody>\n",
              "</table>\n",
              "</div>"
            ],
            "text/plain": [
              "         date   time  yobi    line from_st  to_st     st\n",
              "0  2019/08/10  20:08     5     八高線     拝島駅   東福生駅    拝島駅\n",
              "1  2019/08/09  22:39     4   東急東横線   学芸大学駅  学芸大学駅  学芸大学駅\n",
              "2  2019/08/07  18:00     2    宇都宮線    東大宮駅    蓮田駅   東大宮駅\n",
              "3  2019/08/06  11:54     1    総武本線     八街駅    日向駅    八街駅\n",
              "4  2019/08/05  12:18     0  東急大井町線   自由が丘駅   九品仏駅  自由が丘駅"
            ]
          },
          "metadata": {
            "tags": []
          },
          "execution_count": 7
        }
      ]
    },
    {
      "cell_type": "code",
      "metadata": {
        "id": "6E9BMrcvJhiZ",
        "colab_type": "code",
        "outputId": "47836d7e-01bb-4ab9-84b5-adf063e0dcc5",
        "colab": {
          "base_uri": "https://localhost:8080/",
          "height": 197
        }
      },
      "source": [
        "#乗車人数\n",
        "ninzu_df = pd.read_csv(\"./drive/My Drive/TrainAccident/TrainNinzu.csv\")\n",
        "ninzu_df['ninzu'] = ninzu_df['ninzu'].astype('float')\n",
        "ninzu_df.head()\n"
      ],
      "execution_count": 8,
      "outputs": [
        {
          "output_type": "execute_result",
          "data": {
            "text/html": [
              "<div>\n",
              "<style scoped>\n",
              "    .dataframe tbody tr th:only-of-type {\n",
              "        vertical-align: middle;\n",
              "    }\n",
              "\n",
              "    .dataframe tbody tr th {\n",
              "        vertical-align: top;\n",
              "    }\n",
              "\n",
              "    .dataframe thead th {\n",
              "        text-align: right;\n",
              "    }\n",
              "</style>\n",
              "<table border=\"1\" class=\"dataframe\">\n",
              "  <thead>\n",
              "    <tr style=\"text-align: right;\">\n",
              "      <th></th>\n",
              "      <th>st</th>\n",
              "      <th>ninzu</th>\n",
              "    </tr>\n",
              "  </thead>\n",
              "  <tbody>\n",
              "    <tr>\n",
              "      <th>0</th>\n",
              "      <td>JR三山木駅</td>\n",
              "      <td>1899.0</td>\n",
              "    </tr>\n",
              "    <tr>\n",
              "      <th>1</th>\n",
              "      <td>JR五位堂駅</td>\n",
              "      <td>1567.0</td>\n",
              "    </tr>\n",
              "    <tr>\n",
              "      <th>2</th>\n",
              "      <td>JR俊徳道駅</td>\n",
              "      <td>8147.0</td>\n",
              "    </tr>\n",
              "    <tr>\n",
              "      <th>3</th>\n",
              "      <td>JR小倉駅</td>\n",
              "      <td>3752.0</td>\n",
              "    </tr>\n",
              "    <tr>\n",
              "      <th>4</th>\n",
              "      <td>JR河内永和駅</td>\n",
              "      <td>12844.0</td>\n",
              "    </tr>\n",
              "  </tbody>\n",
              "</table>\n",
              "</div>"
            ],
            "text/plain": [
              "        st    ninzu\n",
              "0   JR三山木駅   1899.0\n",
              "1   JR五位堂駅   1567.0\n",
              "2   JR俊徳道駅   8147.0\n",
              "3    JR小倉駅   3752.0\n",
              "4  JR河内永和駅  12844.0"
            ]
          },
          "metadata": {
            "tags": []
          },
          "execution_count": 8
        }
      ]
    },
    {
      "cell_type": "code",
      "metadata": {
        "id": "z3tC7j8jt4rx",
        "colab_type": "code",
        "outputId": "b682fb6a-d361-4322-d786-de8bd1b4ef6b",
        "colab": {
          "base_uri": "https://localhost:8080/",
          "height": 467
        }
      },
      "source": [
        "new_df = new_data.copy()\n",
        "\n",
        "#カラム「time」をコピーして「time_hh」を作成\n",
        "new_df = new_df.assign(time_hh=new_df['time'].str[0:2])\n",
        "\n",
        "#-------------------------------------------------------------------------------------------\n",
        "#時間帯\n",
        "#-------------------------------------------------------------------------------------------\n",
        "dmy_df = pd.get_dummies(new_df['time_hh'],prefix='hh')\n",
        "add_df = pd.merge(new_df, dmy_df, left_index=True, right_index=True)\n",
        "add_df = add_df.drop([\"time_hh\",\"time\"],axis=1)\n",
        "\n",
        "#-------------------------------------------------------------------------------------------\n",
        "#曜日\n",
        "#-------------------------------------------------------------------------------------------\n",
        "dmy_df = pd.get_dummies(add_df['yobi'],prefix='yobi')\n",
        "add_df = pd.merge(add_df, dmy_df, left_index=True, right_index=True)\n",
        "add_df = add_df.drop(\"yobi\",axis=1)\n",
        "\n",
        "add_df.head(5)"
      ],
      "execution_count": 9,
      "outputs": [
        {
          "output_type": "execute_result",
          "data": {
            "text/html": [
              "<div>\n",
              "<style scoped>\n",
              "    .dataframe tbody tr th:only-of-type {\n",
              "        vertical-align: middle;\n",
              "    }\n",
              "\n",
              "    .dataframe tbody tr th {\n",
              "        vertical-align: top;\n",
              "    }\n",
              "\n",
              "    .dataframe thead th {\n",
              "        text-align: right;\n",
              "    }\n",
              "</style>\n",
              "<table border=\"1\" class=\"dataframe\">\n",
              "  <thead>\n",
              "    <tr style=\"text-align: right;\">\n",
              "      <th></th>\n",
              "      <th>date</th>\n",
              "      <th>line</th>\n",
              "      <th>from_st</th>\n",
              "      <th>to_st</th>\n",
              "      <th>st</th>\n",
              "      <th>hh_00</th>\n",
              "      <th>hh_01</th>\n",
              "      <th>hh_02</th>\n",
              "      <th>hh_03</th>\n",
              "      <th>hh_04</th>\n",
              "      <th>hh_05</th>\n",
              "      <th>hh_06</th>\n",
              "      <th>hh_07</th>\n",
              "      <th>hh_08</th>\n",
              "      <th>hh_09</th>\n",
              "      <th>hh_10</th>\n",
              "      <th>hh_11</th>\n",
              "      <th>hh_12</th>\n",
              "      <th>hh_13</th>\n",
              "      <th>hh_14</th>\n",
              "      <th>hh_15</th>\n",
              "      <th>hh_16</th>\n",
              "      <th>hh_17</th>\n",
              "      <th>hh_18</th>\n",
              "      <th>hh_19</th>\n",
              "      <th>hh_20</th>\n",
              "      <th>hh_21</th>\n",
              "      <th>hh_22</th>\n",
              "      <th>hh_23</th>\n",
              "      <th>yobi_0</th>\n",
              "      <th>yobi_1</th>\n",
              "      <th>yobi_2</th>\n",
              "      <th>yobi_3</th>\n",
              "      <th>yobi_4</th>\n",
              "      <th>yobi_5</th>\n",
              "      <th>yobi_6</th>\n",
              "    </tr>\n",
              "  </thead>\n",
              "  <tbody>\n",
              "    <tr>\n",
              "      <th>0</th>\n",
              "      <td>2019/08/10</td>\n",
              "      <td>八高線</td>\n",
              "      <td>拝島駅</td>\n",
              "      <td>東福生駅</td>\n",
              "      <td>拝島駅</td>\n",
              "      <td>0</td>\n",
              "      <td>0</td>\n",
              "      <td>0</td>\n",
              "      <td>0</td>\n",
              "      <td>0</td>\n",
              "      <td>0</td>\n",
              "      <td>0</td>\n",
              "      <td>0</td>\n",
              "      <td>0</td>\n",
              "      <td>0</td>\n",
              "      <td>0</td>\n",
              "      <td>0</td>\n",
              "      <td>0</td>\n",
              "      <td>0</td>\n",
              "      <td>0</td>\n",
              "      <td>0</td>\n",
              "      <td>0</td>\n",
              "      <td>0</td>\n",
              "      <td>0</td>\n",
              "      <td>0</td>\n",
              "      <td>1</td>\n",
              "      <td>0</td>\n",
              "      <td>0</td>\n",
              "      <td>0</td>\n",
              "      <td>0</td>\n",
              "      <td>0</td>\n",
              "      <td>0</td>\n",
              "      <td>0</td>\n",
              "      <td>0</td>\n",
              "      <td>1</td>\n",
              "      <td>0</td>\n",
              "    </tr>\n",
              "    <tr>\n",
              "      <th>1</th>\n",
              "      <td>2019/08/09</td>\n",
              "      <td>東急東横線</td>\n",
              "      <td>学芸大学駅</td>\n",
              "      <td>学芸大学駅</td>\n",
              "      <td>学芸大学駅</td>\n",
              "      <td>0</td>\n",
              "      <td>0</td>\n",
              "      <td>0</td>\n",
              "      <td>0</td>\n",
              "      <td>0</td>\n",
              "      <td>0</td>\n",
              "      <td>0</td>\n",
              "      <td>0</td>\n",
              "      <td>0</td>\n",
              "      <td>0</td>\n",
              "      <td>0</td>\n",
              "      <td>0</td>\n",
              "      <td>0</td>\n",
              "      <td>0</td>\n",
              "      <td>0</td>\n",
              "      <td>0</td>\n",
              "      <td>0</td>\n",
              "      <td>0</td>\n",
              "      <td>0</td>\n",
              "      <td>0</td>\n",
              "      <td>0</td>\n",
              "      <td>0</td>\n",
              "      <td>1</td>\n",
              "      <td>0</td>\n",
              "      <td>0</td>\n",
              "      <td>0</td>\n",
              "      <td>0</td>\n",
              "      <td>0</td>\n",
              "      <td>1</td>\n",
              "      <td>0</td>\n",
              "      <td>0</td>\n",
              "    </tr>\n",
              "    <tr>\n",
              "      <th>2</th>\n",
              "      <td>2019/08/07</td>\n",
              "      <td>宇都宮線</td>\n",
              "      <td>東大宮駅</td>\n",
              "      <td>蓮田駅</td>\n",
              "      <td>東大宮駅</td>\n",
              "      <td>0</td>\n",
              "      <td>0</td>\n",
              "      <td>0</td>\n",
              "      <td>0</td>\n",
              "      <td>0</td>\n",
              "      <td>0</td>\n",
              "      <td>0</td>\n",
              "      <td>0</td>\n",
              "      <td>0</td>\n",
              "      <td>0</td>\n",
              "      <td>0</td>\n",
              "      <td>0</td>\n",
              "      <td>0</td>\n",
              "      <td>0</td>\n",
              "      <td>0</td>\n",
              "      <td>0</td>\n",
              "      <td>0</td>\n",
              "      <td>0</td>\n",
              "      <td>1</td>\n",
              "      <td>0</td>\n",
              "      <td>0</td>\n",
              "      <td>0</td>\n",
              "      <td>0</td>\n",
              "      <td>0</td>\n",
              "      <td>0</td>\n",
              "      <td>0</td>\n",
              "      <td>1</td>\n",
              "      <td>0</td>\n",
              "      <td>0</td>\n",
              "      <td>0</td>\n",
              "      <td>0</td>\n",
              "    </tr>\n",
              "    <tr>\n",
              "      <th>3</th>\n",
              "      <td>2019/08/06</td>\n",
              "      <td>総武本線</td>\n",
              "      <td>八街駅</td>\n",
              "      <td>日向駅</td>\n",
              "      <td>八街駅</td>\n",
              "      <td>0</td>\n",
              "      <td>0</td>\n",
              "      <td>0</td>\n",
              "      <td>0</td>\n",
              "      <td>0</td>\n",
              "      <td>0</td>\n",
              "      <td>0</td>\n",
              "      <td>0</td>\n",
              "      <td>0</td>\n",
              "      <td>0</td>\n",
              "      <td>0</td>\n",
              "      <td>1</td>\n",
              "      <td>0</td>\n",
              "      <td>0</td>\n",
              "      <td>0</td>\n",
              "      <td>0</td>\n",
              "      <td>0</td>\n",
              "      <td>0</td>\n",
              "      <td>0</td>\n",
              "      <td>0</td>\n",
              "      <td>0</td>\n",
              "      <td>0</td>\n",
              "      <td>0</td>\n",
              "      <td>0</td>\n",
              "      <td>0</td>\n",
              "      <td>1</td>\n",
              "      <td>0</td>\n",
              "      <td>0</td>\n",
              "      <td>0</td>\n",
              "      <td>0</td>\n",
              "      <td>0</td>\n",
              "    </tr>\n",
              "    <tr>\n",
              "      <th>4</th>\n",
              "      <td>2019/08/05</td>\n",
              "      <td>東急大井町線</td>\n",
              "      <td>自由が丘駅</td>\n",
              "      <td>九品仏駅</td>\n",
              "      <td>自由が丘駅</td>\n",
              "      <td>0</td>\n",
              "      <td>0</td>\n",
              "      <td>0</td>\n",
              "      <td>0</td>\n",
              "      <td>0</td>\n",
              "      <td>0</td>\n",
              "      <td>0</td>\n",
              "      <td>0</td>\n",
              "      <td>0</td>\n",
              "      <td>0</td>\n",
              "      <td>0</td>\n",
              "      <td>0</td>\n",
              "      <td>1</td>\n",
              "      <td>0</td>\n",
              "      <td>0</td>\n",
              "      <td>0</td>\n",
              "      <td>0</td>\n",
              "      <td>0</td>\n",
              "      <td>0</td>\n",
              "      <td>0</td>\n",
              "      <td>0</td>\n",
              "      <td>0</td>\n",
              "      <td>0</td>\n",
              "      <td>0</td>\n",
              "      <td>1</td>\n",
              "      <td>0</td>\n",
              "      <td>0</td>\n",
              "      <td>0</td>\n",
              "      <td>0</td>\n",
              "      <td>0</td>\n",
              "      <td>0</td>\n",
              "    </tr>\n",
              "  </tbody>\n",
              "</table>\n",
              "</div>"
            ],
            "text/plain": [
              "         date    line from_st  to_st  ... yobi_3  yobi_4  yobi_5  yobi_6\n",
              "0  2019/08/10     八高線     拝島駅   東福生駅  ...      0       0       1       0\n",
              "1  2019/08/09   東急東横線   学芸大学駅  学芸大学駅  ...      0       1       0       0\n",
              "2  2019/08/07    宇都宮線    東大宮駅    蓮田駅  ...      0       0       0       0\n",
              "3  2019/08/06    総武本線     八街駅    日向駅  ...      0       0       0       0\n",
              "4  2019/08/05  東急大井町線   自由が丘駅   九品仏駅  ...      0       0       0       0\n",
              "\n",
              "[5 rows x 36 columns]"
            ]
          },
          "metadata": {
            "tags": []
          },
          "execution_count": 9
        }
      ]
    },
    {
      "cell_type": "code",
      "metadata": {
        "id": "X6Fj8lkYK6rJ",
        "colab_type": "code",
        "outputId": "42a3235a-787f-480c-9668-f058399e1e6f",
        "colab": {
          "base_uri": "https://localhost:8080/",
          "height": 123
        }
      },
      "source": [
        "#キー結合させる為\n",
        "add_df[\"date\"] = add_df['date'].astype('str')\n",
        "\n",
        "#乗車人数\n",
        "base_df = pd.merge(add_df,ninzu_df, on='st' , how='left')#left join\n",
        "\n",
        "#乗車人数を正規化\n",
        "base_df['ninzu'] = base_df['ninzu'].astype('float')\n",
        "base_df = base_df[base_df['ninzu'] > 0]\n",
        "\n",
        "s = base_df['ninzu']\n",
        "base_df['ninzu'] = (s - s.min()) / (s.max() - s.min())\n",
        "\n",
        "#人数をカテゴライズ化(5分割)\n",
        "ninzu_cate_num_df = pd.DataFrame(pd.qcut(base_df['ninzu'], 5, labels=[1,2,3,4,5])).reset_index(drop=True)\n",
        "#カラム名変更(ninzu -> ninzu_cate)\n",
        "ninzu_cate_num_df = ninzu_cate_num_df.rename(columns={'ninzu': 'ninzu_cate'})\n",
        "base_df = pd.concat([base_df,ninzu_cate_num_df],axis=1)\n",
        "\n",
        "#乗車人数を5分類に分ける\n",
        "# base_df.loc[(base_df['ninzu'] >= 0) & (base_df['ninzu'] < 0.2 ) ,\"ninzu_cate\"] = 1\n",
        "# base_df.loc[(base_df['ninzu'] >= 0.2) & (base_df['ninzu'] < 0.4 ) ,\"ninzu_cate\"] = 2\n",
        "# base_df.loc[(base_df['ninzu'] >= 0.4) & (base_df['ninzu'] < 0.6 ) ,\"ninzu_cate\"] = 3\n",
        "# base_df.loc[(base_df['ninzu'] >= 0.6) & (base_df['ninzu'] < 0.8 ) ,\"ninzu_cate\"] = 4\n",
        "# base_df.loc[(base_df['ninzu'] >= 0.8) & (base_df['ninzu'] <= 1.0 ) ,\"ninzu_cate\"] = 5\n",
        "\n",
        "print(base_df[\"ninzu_cate\"].value_counts())"
      ],
      "execution_count": 40,
      "outputs": [
        {
          "output_type": "stream",
          "text": [
            "3    1021\n",
            "1    1017\n",
            "5    1000\n",
            "2    1000\n",
            "4     995\n",
            "Name: ninzu_cate, dtype: int64\n"
          ],
          "name": "stdout"
        }
      ]
    },
    {
      "cell_type": "code",
      "metadata": {
        "id": "xtvnAKLnNf6y",
        "colab_type": "code",
        "outputId": "7c6898dd-150e-4cbf-f903-a5c1f822a69f",
        "colab": {
          "base_uri": "https://localhost:8080/",
          "height": 217
        }
      },
      "source": [
        "#結合後にダミー変数化\n",
        "dmy_df = pd.get_dummies(base_df['ninzu_cate'],prefix='ninzu')\n",
        "base_df2 = pd.merge(base_df, dmy_df, left_index=True, right_index=True)\n",
        "base_df3 = base_df2.drop([\"ninzu\",\"ninzu_cate\",\"line\",\"from_st\",\"to_st\",\"st\"],axis=1)\n",
        "base_df3 = base_df3.assign(flg=1)\n",
        "base_df3.head()"
      ],
      "execution_count": 39,
      "outputs": [
        {
          "output_type": "execute_result",
          "data": {
            "text/html": [
              "<div>\n",
              "<style scoped>\n",
              "    .dataframe tbody tr th:only-of-type {\n",
              "        vertical-align: middle;\n",
              "    }\n",
              "\n",
              "    .dataframe tbody tr th {\n",
              "        vertical-align: top;\n",
              "    }\n",
              "\n",
              "    .dataframe thead th {\n",
              "        text-align: right;\n",
              "    }\n",
              "</style>\n",
              "<table border=\"1\" class=\"dataframe\">\n",
              "  <thead>\n",
              "    <tr style=\"text-align: right;\">\n",
              "      <th></th>\n",
              "      <th>date</th>\n",
              "      <th>hh_00</th>\n",
              "      <th>hh_01</th>\n",
              "      <th>hh_02</th>\n",
              "      <th>hh_03</th>\n",
              "      <th>hh_04</th>\n",
              "      <th>hh_05</th>\n",
              "      <th>hh_06</th>\n",
              "      <th>hh_07</th>\n",
              "      <th>hh_08</th>\n",
              "      <th>hh_09</th>\n",
              "      <th>hh_10</th>\n",
              "      <th>hh_11</th>\n",
              "      <th>hh_12</th>\n",
              "      <th>hh_13</th>\n",
              "      <th>hh_14</th>\n",
              "      <th>hh_15</th>\n",
              "      <th>hh_16</th>\n",
              "      <th>hh_17</th>\n",
              "      <th>hh_18</th>\n",
              "      <th>hh_19</th>\n",
              "      <th>hh_20</th>\n",
              "      <th>hh_21</th>\n",
              "      <th>hh_22</th>\n",
              "      <th>hh_23</th>\n",
              "      <th>yobi_0</th>\n",
              "      <th>yobi_1</th>\n",
              "      <th>yobi_2</th>\n",
              "      <th>yobi_3</th>\n",
              "      <th>yobi_4</th>\n",
              "      <th>yobi_5</th>\n",
              "      <th>yobi_6</th>\n",
              "      <th>ninzu_1</th>\n",
              "      <th>ninzu_2</th>\n",
              "      <th>ninzu_3</th>\n",
              "      <th>ninzu_4</th>\n",
              "      <th>ninzu_5</th>\n",
              "      <th>flg</th>\n",
              "    </tr>\n",
              "  </thead>\n",
              "  <tbody>\n",
              "    <tr>\n",
              "      <th>0</th>\n",
              "      <td>2019/08/10</td>\n",
              "      <td>0.0</td>\n",
              "      <td>0.0</td>\n",
              "      <td>0.0</td>\n",
              "      <td>0.0</td>\n",
              "      <td>0.0</td>\n",
              "      <td>0.0</td>\n",
              "      <td>0.0</td>\n",
              "      <td>0.0</td>\n",
              "      <td>0.0</td>\n",
              "      <td>0.0</td>\n",
              "      <td>0.0</td>\n",
              "      <td>0.0</td>\n",
              "      <td>0.0</td>\n",
              "      <td>0.0</td>\n",
              "      <td>0.0</td>\n",
              "      <td>0.0</td>\n",
              "      <td>0.0</td>\n",
              "      <td>0.0</td>\n",
              "      <td>0.0</td>\n",
              "      <td>0.0</td>\n",
              "      <td>1.0</td>\n",
              "      <td>0.0</td>\n",
              "      <td>0.0</td>\n",
              "      <td>0.0</td>\n",
              "      <td>0.0</td>\n",
              "      <td>0.0</td>\n",
              "      <td>0.0</td>\n",
              "      <td>0.0</td>\n",
              "      <td>0.0</td>\n",
              "      <td>1.0</td>\n",
              "      <td>0.0</td>\n",
              "      <td>0</td>\n",
              "      <td>0</td>\n",
              "      <td>0</td>\n",
              "      <td>1</td>\n",
              "      <td>0</td>\n",
              "      <td>1</td>\n",
              "    </tr>\n",
              "    <tr>\n",
              "      <th>1</th>\n",
              "      <td>2019/08/09</td>\n",
              "      <td>0.0</td>\n",
              "      <td>0.0</td>\n",
              "      <td>0.0</td>\n",
              "      <td>0.0</td>\n",
              "      <td>0.0</td>\n",
              "      <td>0.0</td>\n",
              "      <td>0.0</td>\n",
              "      <td>0.0</td>\n",
              "      <td>0.0</td>\n",
              "      <td>0.0</td>\n",
              "      <td>0.0</td>\n",
              "      <td>0.0</td>\n",
              "      <td>0.0</td>\n",
              "      <td>0.0</td>\n",
              "      <td>0.0</td>\n",
              "      <td>0.0</td>\n",
              "      <td>0.0</td>\n",
              "      <td>0.0</td>\n",
              "      <td>0.0</td>\n",
              "      <td>0.0</td>\n",
              "      <td>0.0</td>\n",
              "      <td>0.0</td>\n",
              "      <td>1.0</td>\n",
              "      <td>0.0</td>\n",
              "      <td>0.0</td>\n",
              "      <td>0.0</td>\n",
              "      <td>0.0</td>\n",
              "      <td>0.0</td>\n",
              "      <td>1.0</td>\n",
              "      <td>0.0</td>\n",
              "      <td>0.0</td>\n",
              "      <td>0</td>\n",
              "      <td>0</td>\n",
              "      <td>0</td>\n",
              "      <td>1</td>\n",
              "      <td>0</td>\n",
              "      <td>1</td>\n",
              "    </tr>\n",
              "    <tr>\n",
              "      <th>2</th>\n",
              "      <td>2019/08/07</td>\n",
              "      <td>0.0</td>\n",
              "      <td>0.0</td>\n",
              "      <td>0.0</td>\n",
              "      <td>0.0</td>\n",
              "      <td>0.0</td>\n",
              "      <td>0.0</td>\n",
              "      <td>0.0</td>\n",
              "      <td>0.0</td>\n",
              "      <td>0.0</td>\n",
              "      <td>0.0</td>\n",
              "      <td>0.0</td>\n",
              "      <td>0.0</td>\n",
              "      <td>0.0</td>\n",
              "      <td>0.0</td>\n",
              "      <td>0.0</td>\n",
              "      <td>0.0</td>\n",
              "      <td>0.0</td>\n",
              "      <td>0.0</td>\n",
              "      <td>1.0</td>\n",
              "      <td>0.0</td>\n",
              "      <td>0.0</td>\n",
              "      <td>0.0</td>\n",
              "      <td>0.0</td>\n",
              "      <td>0.0</td>\n",
              "      <td>0.0</td>\n",
              "      <td>0.0</td>\n",
              "      <td>1.0</td>\n",
              "      <td>0.0</td>\n",
              "      <td>0.0</td>\n",
              "      <td>0.0</td>\n",
              "      <td>0.0</td>\n",
              "      <td>0</td>\n",
              "      <td>0</td>\n",
              "      <td>0</td>\n",
              "      <td>1</td>\n",
              "      <td>0</td>\n",
              "      <td>1</td>\n",
              "    </tr>\n",
              "    <tr>\n",
              "      <th>3</th>\n",
              "      <td>2019/08/06</td>\n",
              "      <td>0.0</td>\n",
              "      <td>0.0</td>\n",
              "      <td>0.0</td>\n",
              "      <td>0.0</td>\n",
              "      <td>0.0</td>\n",
              "      <td>0.0</td>\n",
              "      <td>0.0</td>\n",
              "      <td>0.0</td>\n",
              "      <td>0.0</td>\n",
              "      <td>0.0</td>\n",
              "      <td>0.0</td>\n",
              "      <td>1.0</td>\n",
              "      <td>0.0</td>\n",
              "      <td>0.0</td>\n",
              "      <td>0.0</td>\n",
              "      <td>0.0</td>\n",
              "      <td>0.0</td>\n",
              "      <td>0.0</td>\n",
              "      <td>0.0</td>\n",
              "      <td>0.0</td>\n",
              "      <td>0.0</td>\n",
              "      <td>0.0</td>\n",
              "      <td>0.0</td>\n",
              "      <td>0.0</td>\n",
              "      <td>0.0</td>\n",
              "      <td>1.0</td>\n",
              "      <td>0.0</td>\n",
              "      <td>0.0</td>\n",
              "      <td>0.0</td>\n",
              "      <td>0.0</td>\n",
              "      <td>0.0</td>\n",
              "      <td>1</td>\n",
              "      <td>0</td>\n",
              "      <td>0</td>\n",
              "      <td>0</td>\n",
              "      <td>0</td>\n",
              "      <td>1</td>\n",
              "    </tr>\n",
              "    <tr>\n",
              "      <th>4</th>\n",
              "      <td>2019/08/05</td>\n",
              "      <td>0.0</td>\n",
              "      <td>0.0</td>\n",
              "      <td>0.0</td>\n",
              "      <td>0.0</td>\n",
              "      <td>0.0</td>\n",
              "      <td>0.0</td>\n",
              "      <td>0.0</td>\n",
              "      <td>0.0</td>\n",
              "      <td>0.0</td>\n",
              "      <td>0.0</td>\n",
              "      <td>0.0</td>\n",
              "      <td>0.0</td>\n",
              "      <td>1.0</td>\n",
              "      <td>0.0</td>\n",
              "      <td>0.0</td>\n",
              "      <td>0.0</td>\n",
              "      <td>0.0</td>\n",
              "      <td>0.0</td>\n",
              "      <td>0.0</td>\n",
              "      <td>0.0</td>\n",
              "      <td>0.0</td>\n",
              "      <td>0.0</td>\n",
              "      <td>0.0</td>\n",
              "      <td>0.0</td>\n",
              "      <td>1.0</td>\n",
              "      <td>0.0</td>\n",
              "      <td>0.0</td>\n",
              "      <td>0.0</td>\n",
              "      <td>0.0</td>\n",
              "      <td>0.0</td>\n",
              "      <td>0.0</td>\n",
              "      <td>0</td>\n",
              "      <td>0</td>\n",
              "      <td>0</td>\n",
              "      <td>1</td>\n",
              "      <td>0</td>\n",
              "      <td>1</td>\n",
              "    </tr>\n",
              "  </tbody>\n",
              "</table>\n",
              "</div>"
            ],
            "text/plain": [
              "         date  hh_00  hh_01  hh_02  ...  ninzu_3  ninzu_4  ninzu_5  flg\n",
              "0  2019/08/10    0.0    0.0    0.0  ...        0        1        0    1\n",
              "1  2019/08/09    0.0    0.0    0.0  ...        0        1        0    1\n",
              "2  2019/08/07    0.0    0.0    0.0  ...        0        1        0    1\n",
              "3  2019/08/06    0.0    0.0    0.0  ...        0        0        0    1\n",
              "4  2019/08/05    0.0    0.0    0.0  ...        0        1        0    1\n",
              "\n",
              "[5 rows x 38 columns]"
            ]
          },
          "metadata": {
            "tags": []
          },
          "execution_count": 39
        }
      ]
    },
    {
      "cell_type": "markdown",
      "metadata": {
        "id": "1do445lDl4uG",
        "colab_type": "text"
      },
      "source": [
        "##▲base_df作成　ここまで\n",
        "##▼make_df作成　ここから"
      ]
    },
    {
      "cell_type": "code",
      "metadata": {
        "id": "oQrPsbjkN8y8",
        "colab_type": "code",
        "outputId": "c85443ed-9154-44f6-da94-8a8a7a50fe60",
        "colab": {
          "base_uri": "https://localhost:8080/",
          "height": 157
        }
      },
      "source": [
        "import numpy as np\n",
        "from datetime import date, timedelta\n",
        "\n",
        "#日付データ作成\n",
        "dates_df = pd.DataFrame({\"date\": [pd.to_datetime(\"2010-01-01\") + timedelta(days=i) for i in range(3650)]},dtype=\"object\")\n",
        "date_list = dates_df.values.tolist()\n",
        "\n",
        "#デフォルトでは小数点が付いてしまう為、int型に変換\n",
        "time_hh_cate = np.eye(24).astype(int)\n",
        "yobi_cate = np.eye(7).astype(int)\n",
        "ninzu_cate = np.eye(5).astype(int)\n",
        "\n",
        "wk_list = []\n",
        "for wk in date_list:\n",
        "  for wk2 in time_hh_cate:\n",
        "    for wk3 in yobi_cate:\n",
        "      for wk4 in ninzu_cate:\n",
        "        list_parts = np.concatenate((wk,wk2,wk3,wk4,0), axis=None)\n",
        "        wk_list.append(list_parts.tolist())\n",
        "\n",
        "col=[\"date\",\n",
        "     \"hh_00\",\"hh_01\",\"hh_02\",\"hh_03\",\"hh_04\",\"hh_05\",\"hh_06\",\"hh_07\",\"hh_08\",\"hh_09\",\"hh_10\",\"hh_11\",\n",
        "     \"hh_12\",\"hh_13\",\"hh_14\",\"hh_15\",\"hh_16\",\"hh_17\",\"hh_18\",\"hh_19\",\"hh_20\",\"hh_21\",\"hh_22\",\"hh_23\",\n",
        "     \"yobi_0\",\"yobi_1\",\"yobi_2\",\"yobi_3\",\"yobi_4\",\"yobi_5\",\"yobi_6\",\n",
        "     \"ninzu_1\",\"ninzu_2\",\"ninzu_3\",\"ninzu_4\",\"ninzu_5\",\n",
        "     \"flg\"]\n",
        "\n",
        "make_df = pd.DataFrame(data=wk_list,columns=col)\n",
        "\n",
        "make_df['date'] = make_df['date'].astype('str')\n",
        "make_df['date'] = make_df['date'].str.replace('-', '/')\n",
        "\n",
        "make_df.head(3)\n"
      ],
      "execution_count": 0,
      "outputs": [
        {
          "output_type": "execute_result",
          "data": {
            "text/html": [
              "<div>\n",
              "<style scoped>\n",
              "    .dataframe tbody tr th:only-of-type {\n",
              "        vertical-align: middle;\n",
              "    }\n",
              "\n",
              "    .dataframe tbody tr th {\n",
              "        vertical-align: top;\n",
              "    }\n",
              "\n",
              "    .dataframe thead th {\n",
              "        text-align: right;\n",
              "    }\n",
              "</style>\n",
              "<table border=\"1\" class=\"dataframe\">\n",
              "  <thead>\n",
              "    <tr style=\"text-align: right;\">\n",
              "      <th></th>\n",
              "      <th>date</th>\n",
              "      <th>hh_00</th>\n",
              "      <th>hh_01</th>\n",
              "      <th>hh_02</th>\n",
              "      <th>hh_03</th>\n",
              "      <th>hh_04</th>\n",
              "      <th>hh_05</th>\n",
              "      <th>hh_06</th>\n",
              "      <th>hh_07</th>\n",
              "      <th>hh_08</th>\n",
              "      <th>hh_09</th>\n",
              "      <th>hh_10</th>\n",
              "      <th>hh_11</th>\n",
              "      <th>hh_12</th>\n",
              "      <th>hh_13</th>\n",
              "      <th>hh_14</th>\n",
              "      <th>hh_15</th>\n",
              "      <th>hh_16</th>\n",
              "      <th>hh_17</th>\n",
              "      <th>hh_18</th>\n",
              "      <th>hh_19</th>\n",
              "      <th>hh_20</th>\n",
              "      <th>hh_21</th>\n",
              "      <th>hh_22</th>\n",
              "      <th>hh_23</th>\n",
              "      <th>yobi_0</th>\n",
              "      <th>yobi_1</th>\n",
              "      <th>yobi_2</th>\n",
              "      <th>yobi_3</th>\n",
              "      <th>yobi_4</th>\n",
              "      <th>yobi_5</th>\n",
              "      <th>yobi_6</th>\n",
              "      <th>ninzu_1</th>\n",
              "      <th>ninzu_2</th>\n",
              "      <th>ninzu_3</th>\n",
              "      <th>ninzu_4</th>\n",
              "      <th>ninzu_5</th>\n",
              "      <th>flg</th>\n",
              "    </tr>\n",
              "  </thead>\n",
              "  <tbody>\n",
              "    <tr>\n",
              "      <th>0</th>\n",
              "      <td>2010/01/01</td>\n",
              "      <td>1</td>\n",
              "      <td>0</td>\n",
              "      <td>0</td>\n",
              "      <td>0</td>\n",
              "      <td>0</td>\n",
              "      <td>0</td>\n",
              "      <td>0</td>\n",
              "      <td>0</td>\n",
              "      <td>0</td>\n",
              "      <td>0</td>\n",
              "      <td>0</td>\n",
              "      <td>0</td>\n",
              "      <td>0</td>\n",
              "      <td>0</td>\n",
              "      <td>0</td>\n",
              "      <td>0</td>\n",
              "      <td>0</td>\n",
              "      <td>0</td>\n",
              "      <td>0</td>\n",
              "      <td>0</td>\n",
              "      <td>0</td>\n",
              "      <td>0</td>\n",
              "      <td>0</td>\n",
              "      <td>0</td>\n",
              "      <td>1</td>\n",
              "      <td>0</td>\n",
              "      <td>0</td>\n",
              "      <td>0</td>\n",
              "      <td>0</td>\n",
              "      <td>0</td>\n",
              "      <td>0</td>\n",
              "      <td>1</td>\n",
              "      <td>0</td>\n",
              "      <td>0</td>\n",
              "      <td>0</td>\n",
              "      <td>0</td>\n",
              "      <td>0</td>\n",
              "    </tr>\n",
              "    <tr>\n",
              "      <th>1</th>\n",
              "      <td>2010/01/01</td>\n",
              "      <td>1</td>\n",
              "      <td>0</td>\n",
              "      <td>0</td>\n",
              "      <td>0</td>\n",
              "      <td>0</td>\n",
              "      <td>0</td>\n",
              "      <td>0</td>\n",
              "      <td>0</td>\n",
              "      <td>0</td>\n",
              "      <td>0</td>\n",
              "      <td>0</td>\n",
              "      <td>0</td>\n",
              "      <td>0</td>\n",
              "      <td>0</td>\n",
              "      <td>0</td>\n",
              "      <td>0</td>\n",
              "      <td>0</td>\n",
              "      <td>0</td>\n",
              "      <td>0</td>\n",
              "      <td>0</td>\n",
              "      <td>0</td>\n",
              "      <td>0</td>\n",
              "      <td>0</td>\n",
              "      <td>0</td>\n",
              "      <td>1</td>\n",
              "      <td>0</td>\n",
              "      <td>0</td>\n",
              "      <td>0</td>\n",
              "      <td>0</td>\n",
              "      <td>0</td>\n",
              "      <td>0</td>\n",
              "      <td>0</td>\n",
              "      <td>1</td>\n",
              "      <td>0</td>\n",
              "      <td>0</td>\n",
              "      <td>0</td>\n",
              "      <td>0</td>\n",
              "    </tr>\n",
              "    <tr>\n",
              "      <th>2</th>\n",
              "      <td>2010/01/01</td>\n",
              "      <td>1</td>\n",
              "      <td>0</td>\n",
              "      <td>0</td>\n",
              "      <td>0</td>\n",
              "      <td>0</td>\n",
              "      <td>0</td>\n",
              "      <td>0</td>\n",
              "      <td>0</td>\n",
              "      <td>0</td>\n",
              "      <td>0</td>\n",
              "      <td>0</td>\n",
              "      <td>0</td>\n",
              "      <td>0</td>\n",
              "      <td>0</td>\n",
              "      <td>0</td>\n",
              "      <td>0</td>\n",
              "      <td>0</td>\n",
              "      <td>0</td>\n",
              "      <td>0</td>\n",
              "      <td>0</td>\n",
              "      <td>0</td>\n",
              "      <td>0</td>\n",
              "      <td>0</td>\n",
              "      <td>0</td>\n",
              "      <td>1</td>\n",
              "      <td>0</td>\n",
              "      <td>0</td>\n",
              "      <td>0</td>\n",
              "      <td>0</td>\n",
              "      <td>0</td>\n",
              "      <td>0</td>\n",
              "      <td>0</td>\n",
              "      <td>0</td>\n",
              "      <td>1</td>\n",
              "      <td>0</td>\n",
              "      <td>0</td>\n",
              "      <td>0</td>\n",
              "    </tr>\n",
              "  </tbody>\n",
              "</table>\n",
              "</div>"
            ],
            "text/plain": [
              "         date  hh_00  hh_01  hh_02  ...  ninzu_3  ninzu_4  ninzu_5  flg\n",
              "0  2010/01/01      1      0      0  ...        0        0        0    0\n",
              "1  2010/01/01      1      0      0  ...        0        0        0    0\n",
              "2  2010/01/01      1      0      0  ...        1        0        0    0\n",
              "\n",
              "[3 rows x 38 columns]"
            ]
          },
          "metadata": {
            "tags": []
          },
          "execution_count": 57
        }
      ]
    },
    {
      "cell_type": "markdown",
      "metadata": {
        "id": "ajUb2NM_lrjI",
        "colab_type": "text"
      },
      "source": [
        "##★データセットインポート(make_df)\n",
        "\n"
      ]
    },
    {
      "cell_type": "code",
      "metadata": {
        "id": "vcWsBtUEfiWm",
        "colab_type": "code",
        "outputId": "d3a0867c-4713-4aff-8379-15563e46a1ea",
        "colab": {
          "base_uri": "https://localhost:8080/",
          "height": 72
        }
      },
      "source": [
        "#make_df.to_csv(\"./drive/My Drive/TrainAccident/make_df.csv\",index=False)\n",
        "make_df = pd.read_csv(\"./drive/My Drive/TrainAccident/make_df.csv\",index_col=0)"
      ],
      "execution_count": 41,
      "outputs": [
        {
          "output_type": "stream",
          "text": [
            "/usr/local/lib/python3.6/dist-packages/numpy/lib/arraysetops.py:569: FutureWarning: elementwise comparison failed; returning scalar instead, but in the future will perform elementwise comparison\n",
            "  mask |= (ar1 == a)\n"
          ],
          "name": "stderr"
        }
      ]
    },
    {
      "cell_type": "code",
      "metadata": {
        "id": "WgHREPg0cfrO",
        "colab_type": "code",
        "outputId": "0d5e96e9-d688-43c6-a484-f8ae123e8ed4",
        "colab": {
          "base_uri": "https://localhost:8080/",
          "height": 230
        }
      },
      "source": [
        "print(base_df3.columns)\n",
        "print(make_df.columns)"
      ],
      "execution_count": 42,
      "outputs": [
        {
          "output_type": "stream",
          "text": [
            "Index(['date', 'hh_00', 'hh_01', 'hh_02', 'hh_03', 'hh_04', 'hh_05', 'hh_06',\n",
            "       'hh_07', 'hh_08', 'hh_09', 'hh_10', 'hh_11', 'hh_12', 'hh_13', 'hh_14',\n",
            "       'hh_15', 'hh_16', 'hh_17', 'hh_18', 'hh_19', 'hh_20', 'hh_21', 'hh_22',\n",
            "       'hh_23', 'yobi_0', 'yobi_1', 'yobi_2', 'yobi_3', 'yobi_4', 'yobi_5',\n",
            "       'yobi_6', 'ninzu_1', 'ninzu_2', 'ninzu_3', 'ninzu_4', 'ninzu_5', 'flg'],\n",
            "      dtype='object')\n",
            "Index(['date', 'hh_00', 'hh_01', 'hh_02', 'hh_03', 'hh_04', 'hh_05', 'hh_06',\n",
            "       'hh_07', 'hh_08', 'hh_09', 'hh_10', 'hh_11', 'hh_12', 'hh_13', 'hh_14',\n",
            "       'hh_15', 'hh_16', 'hh_17', 'hh_18', 'hh_19', 'hh_20', 'hh_21', 'hh_22',\n",
            "       'hh_23', 'yobi_0', 'yobi_1', 'yobi_2', 'yobi_3', 'yobi_4', 'yobi_5',\n",
            "       'yobi_6', 'ninzu_1', 'ninzu_2', 'ninzu_3', 'ninzu_4', 'ninzu_5', 'flg'],\n",
            "      dtype='object')\n"
          ],
          "name": "stdout"
        }
      ]
    },
    {
      "cell_type": "code",
      "metadata": {
        "id": "7kPGXH6IS28q",
        "colab_type": "code",
        "outputId": "fa2bb314-f1a9-4577-fa94-3389d8943486",
        "colab": {
          "base_uri": "https://localhost:8080/",
          "height": 34
        }
      },
      "source": [
        "ret = pd.concat([base_df3, make_df], axis=0)\n",
        "\n",
        "#duplicated()と論理否定演算子~を使って、重複した行を削除したDataFrameを取得できる。\n",
        "ret = ret[~ret.duplicated([\"date\",\n",
        "                           \"hh_00\",\"hh_01\",\"hh_02\",\"hh_03\",\"hh_04\",\"hh_05\",\"hh_06\",\"hh_07\",\"hh_08\",\"hh_09\",\"hh_10\",\"hh_11\",\n",
        "                           \"hh_12\",\"hh_13\",\"hh_14\",\"hh_15\",\"hh_16\",\"hh_17\",\"hh_18\",\"hh_19\",\"hh_20\",\"hh_21\",\"hh_22\",\"hh_23\",\n",
        "                           \"yobi_0\",\"yobi_1\",\"yobi_2\",\"yobi_3\",\"yobi_4\",\"yobi_5\",\"yobi_6\",\n",
        "                           \"ninzu_1\",\"ninzu_2\",\"ninzu_3\",\"ninzu_4\",\"ninzu_5\"])]\n",
        "\n",
        "#余分なデータは削除\n",
        "ret = ret[ret[\"date\"] <= \"2019/08/10\"]\n",
        "print(ret.shape)"
      ],
      "execution_count": 43,
      "outputs": [
        {
          "output_type": "stream",
          "text": [
            "(2947671, 38)\n"
          ],
          "name": "stdout"
        }
      ]
    },
    {
      "cell_type": "code",
      "metadata": {
        "id": "TkZH5vs3TN-O",
        "colab_type": "code",
        "outputId": "fb14f3f2-35ac-4ca3-f639-83609b150f9c",
        "colab": {
          "base_uri": "https://localhost:8080/",
          "height": 141
        }
      },
      "source": [
        "#補完したい期間の日付を入れたデータフレームを作ってマージ\n",
        "#https://qiita.com/hanon/items/29cf5ed9acb4f731538f\n",
        "\n",
        "#キー結合させる為\n",
        "ret[\"date\"] = ret['date'].astype('str')\n",
        "\n",
        "#気温\n",
        "temp_df = pd.read_csv(\"./drive/My Drive/TrainAccident/temp.csv\")\n",
        "temp_df = temp_df.dropna(subset=[\"max_temp\"])\n",
        "temp_df = temp_df.dropna(subset=[\"min_temp\"])\n",
        "\n",
        "ret2 = pd.merge(ret,temp_df, on='date' , how='left')#left join\n",
        "\n",
        "#日照時間\n",
        "sun_df = pd.read_csv(\"./drive/My Drive/TrainAccident/suntime.csv\")\n",
        "sun_df = sun_df.dropna(subset=[\"suntime\"])\n",
        "\n",
        "ret3 = pd.merge(ret2,sun_df, on='date' , how='left')#left join\n",
        "\n",
        "print(ret3.head(3))\n",
        "print(ret3.shape)"
      ],
      "execution_count": 44,
      "outputs": [
        {
          "output_type": "stream",
          "text": [
            "         date  hh_00  hh_01  hh_02  ...  flg  max_temp  min_temp  suntime\n",
            "0  2019/08/10    0.0    0.0    0.0  ...    1      34.0      26.3      9.4\n",
            "1  2019/08/09    0.0    0.0    0.0  ...    1      33.7      27.3     10.8\n",
            "2  2019/08/07    0.0    0.0    0.0  ...    1      33.6      27.6      9.5\n",
            "\n",
            "[3 rows x 41 columns]\n",
            "(2947671, 41)\n"
          ],
          "name": "stdout"
        }
      ]
    },
    {
      "cell_type": "markdown",
      "metadata": {
        "id": "zU7L1WImy-rs",
        "colab_type": "text"
      },
      "source": [
        "##季節ごとの平均気温を算出"
      ]
    },
    {
      "cell_type": "code",
      "metadata": {
        "id": "9cD-mmHsx4Go",
        "colab_type": "code",
        "outputId": "1fad0ec3-c341-4125-9068-2ab6cd553e0b",
        "colab": {
          "base_uri": "https://localhost:8080/",
          "height": 407
        }
      },
      "source": [
        "#日付単位で最高気温を集計\n",
        "#()･･･集計単位項目\n",
        "#[]･･･集計対象項目\n",
        "import numpy as np\n",
        "\n",
        "#listからnumpy.darray型にしないとnumpyの集計関数が使用できない\n",
        "temp_mean_ary = []\n",
        "month_list = [\"01\",\"02\",\"03\",\"04\",\"05\",\"06\",\"07\",\"08\",\"09\",\"10\",\"11\",\"12\"]\n",
        "\n",
        "for m_val in month_list:\n",
        "  max_temp = np.array(temp_df[temp_df.date.str[5:7] == m_val][\"max_temp\"]).mean()\n",
        "  min_temp = np.array(temp_df[temp_df.date.str[5:7] == m_val][\"min_temp\"]).mean()\n",
        "\n",
        "  list_parts = np.concatenate((m_val,max_temp,min_temp), axis=None)\n",
        "  temp_mean_ary.append(list_parts.tolist())\n",
        "\n",
        "col=[\"date\",\"max_temp\",\"min_temp\"]\n",
        "temp_mean_df = pd.DataFrame(data=temp_mean_ary,columns=col)\n",
        "temp_mean_df"
      ],
      "execution_count": 45,
      "outputs": [
        {
          "output_type": "execute_result",
          "data": {
            "text/html": [
              "<div>\n",
              "<style scoped>\n",
              "    .dataframe tbody tr th:only-of-type {\n",
              "        vertical-align: middle;\n",
              "    }\n",
              "\n",
              "    .dataframe tbody tr th {\n",
              "        vertical-align: top;\n",
              "    }\n",
              "\n",
              "    .dataframe thead th {\n",
              "        text-align: right;\n",
              "    }\n",
              "</style>\n",
              "<table border=\"1\" class=\"dataframe\">\n",
              "  <thead>\n",
              "    <tr style=\"text-align: right;\">\n",
              "      <th></th>\n",
              "      <th>date</th>\n",
              "      <th>max_temp</th>\n",
              "      <th>min_temp</th>\n",
              "    </tr>\n",
              "  </thead>\n",
              "  <tbody>\n",
              "    <tr>\n",
              "      <th>0</th>\n",
              "      <td>01</td>\n",
              "      <td>9.794838709677418</td>\n",
              "      <td>2.507741935483871</td>\n",
              "    </tr>\n",
              "    <tr>\n",
              "      <th>1</th>\n",
              "      <td>02</td>\n",
              "      <td>10.226595744680852</td>\n",
              "      <td>3.3365248226950355</td>\n",
              "    </tr>\n",
              "    <tr>\n",
              "      <th>2</th>\n",
              "      <td>03</td>\n",
              "      <td>13.839354838709676</td>\n",
              "      <td>6.3590322580645156</td>\n",
              "    </tr>\n",
              "    <tr>\n",
              "      <th>3</th>\n",
              "      <td>04</td>\n",
              "      <td>18.512709030100336</td>\n",
              "      <td>10.966220735785955</td>\n",
              "    </tr>\n",
              "    <tr>\n",
              "      <th>4</th>\n",
              "      <td>05</td>\n",
              "      <td>23.480967741935483</td>\n",
              "      <td>16.16548387096774</td>\n",
              "    </tr>\n",
              "    <tr>\n",
              "      <th>5</th>\n",
              "      <td>06</td>\n",
              "      <td>25.544333333333334</td>\n",
              "      <td>19.536</td>\n",
              "    </tr>\n",
              "    <tr>\n",
              "      <th>6</th>\n",
              "      <td>07</td>\n",
              "      <td>29.809354838709684</td>\n",
              "      <td>23.691935483870967</td>\n",
              "    </tr>\n",
              "    <tr>\n",
              "      <th>7</th>\n",
              "      <td>08</td>\n",
              "      <td>31.556055363321803</td>\n",
              "      <td>25.126643598615917</td>\n",
              "    </tr>\n",
              "    <tr>\n",
              "      <th>8</th>\n",
              "      <td>09</td>\n",
              "      <td>27.33074074074074</td>\n",
              "      <td>21.60222222222222</td>\n",
              "    </tr>\n",
              "    <tr>\n",
              "      <th>9</th>\n",
              "      <td>10</td>\n",
              "      <td>21.92688172043011</td>\n",
              "      <td>16.513261648745523</td>\n",
              "    </tr>\n",
              "    <tr>\n",
              "      <th>10</th>\n",
              "      <td>11</td>\n",
              "      <td>16.85</td>\n",
              "      <td>10.752592592592592</td>\n",
              "    </tr>\n",
              "    <tr>\n",
              "      <th>11</th>\n",
              "      <td>12</td>\n",
              "      <td>12.179569892473117</td>\n",
              "      <td>5.196057347670251</td>\n",
              "    </tr>\n",
              "  </tbody>\n",
              "</table>\n",
              "</div>"
            ],
            "text/plain": [
              "   date            max_temp            min_temp\n",
              "0    01   9.794838709677418   2.507741935483871\n",
              "1    02  10.226595744680852  3.3365248226950355\n",
              "2    03  13.839354838709676  6.3590322580645156\n",
              "3    04  18.512709030100336  10.966220735785955\n",
              "4    05  23.480967741935483   16.16548387096774\n",
              "5    06  25.544333333333334              19.536\n",
              "6    07  29.809354838709684  23.691935483870967\n",
              "7    08  31.556055363321803  25.126643598615917\n",
              "8    09   27.33074074074074   21.60222222222222\n",
              "9    10   21.92688172043011  16.513261648745523\n",
              "10   11               16.85  10.752592592592592\n",
              "11   12  12.179569892473117   5.196057347670251"
            ]
          },
          "metadata": {
            "tags": []
          },
          "execution_count": 45
        }
      ]
    },
    {
      "cell_type": "markdown",
      "metadata": {
        "id": "QJZuelRCIp4v",
        "colab_type": "text"
      },
      "source": [
        "##季節ごとの日照時間を算出"
      ]
    },
    {
      "cell_type": "code",
      "metadata": {
        "id": "W403t91qIvls",
        "colab_type": "code",
        "outputId": "dd3d6b02-a606-4e76-fd66-9f79442cc8b4",
        "colab": {
          "base_uri": "https://localhost:8080/",
          "height": 407
        }
      },
      "source": [
        "#日付単位で日照時間を集計\n",
        "#()･･･集計単位項目\n",
        "#[]･･･集計対象項目\n",
        "import numpy as np\n",
        "\n",
        "#欠損値削除\n",
        "sun_df = sun_df.dropna()\n",
        "\n",
        "#listからnumpy.darray型にしないとnumpyの集計関数が使用できない\n",
        "sun_mean_ary = []\n",
        "month_list = [\"01\",\"02\",\"03\",\"04\",\"05\",\"06\",\"07\",\"08\",\"09\",\"10\",\"11\",\"12\"]\n",
        "\n",
        "for m_val in month_list:\n",
        "  sun_mean = np.array(sun_df[sun_df.date.str[5:7] == m_val][\"suntime\"]).mean()\n",
        "\n",
        "  list_parts = np.concatenate((m_val,sun_mean), axis=None)\n",
        "  sun_mean_ary.append(list_parts.tolist())\n",
        "\n",
        "col=[\"date\",\"suntime\"]\n",
        "sun_mean_df = pd.DataFrame(data=sun_mean_ary,columns=col)\n",
        "sun_mean_df"
      ],
      "execution_count": 46,
      "outputs": [
        {
          "output_type": "execute_result",
          "data": {
            "text/html": [
              "<div>\n",
              "<style scoped>\n",
              "    .dataframe tbody tr th:only-of-type {\n",
              "        vertical-align: middle;\n",
              "    }\n",
              "\n",
              "    .dataframe tbody tr th {\n",
              "        vertical-align: top;\n",
              "    }\n",
              "\n",
              "    .dataframe thead th {\n",
              "        text-align: right;\n",
              "    }\n",
              "</style>\n",
              "<table border=\"1\" class=\"dataframe\">\n",
              "  <thead>\n",
              "    <tr style=\"text-align: right;\">\n",
              "      <th></th>\n",
              "      <th>date</th>\n",
              "      <th>suntime</th>\n",
              "    </tr>\n",
              "  </thead>\n",
              "  <tbody>\n",
              "    <tr>\n",
              "      <th>0</th>\n",
              "      <td>01</td>\n",
              "      <td>6.786774193548386</td>\n",
              "    </tr>\n",
              "    <tr>\n",
              "      <th>1</th>\n",
              "      <td>02</td>\n",
              "      <td>5.540714285714286</td>\n",
              "    </tr>\n",
              "    <tr>\n",
              "      <th>2</th>\n",
              "      <td>03</td>\n",
              "      <td>5.874516129032258</td>\n",
              "    </tr>\n",
              "    <tr>\n",
              "      <th>3</th>\n",
              "      <td>04</td>\n",
              "      <td>6.047666666666667</td>\n",
              "    </tr>\n",
              "    <tr>\n",
              "      <th>4</th>\n",
              "      <td>05</td>\n",
              "      <td>6.768506493506495</td>\n",
              "    </tr>\n",
              "    <tr>\n",
              "      <th>5</th>\n",
              "      <td>06</td>\n",
              "      <td>4.625333333333333</td>\n",
              "    </tr>\n",
              "    <tr>\n",
              "      <th>6</th>\n",
              "      <td>07</td>\n",
              "      <td>5.521824104234528</td>\n",
              "    </tr>\n",
              "    <tr>\n",
              "      <th>7</th>\n",
              "      <td>08</td>\n",
              "      <td>5.953103448275862</td>\n",
              "    </tr>\n",
              "    <tr>\n",
              "      <th>8</th>\n",
              "      <td>09</td>\n",
              "      <td>4.515925925925925</td>\n",
              "    </tr>\n",
              "    <tr>\n",
              "      <th>9</th>\n",
              "      <td>10</td>\n",
              "      <td>4.155913978494624</td>\n",
              "    </tr>\n",
              "    <tr>\n",
              "      <th>10</th>\n",
              "      <td>11</td>\n",
              "      <td>4.936194029850746</td>\n",
              "    </tr>\n",
              "    <tr>\n",
              "      <th>11</th>\n",
              "      <td>12</td>\n",
              "      <td>5.842446043165467</td>\n",
              "    </tr>\n",
              "  </tbody>\n",
              "</table>\n",
              "</div>"
            ],
            "text/plain": [
              "   date            suntime\n",
              "0    01  6.786774193548386\n",
              "1    02  5.540714285714286\n",
              "2    03  5.874516129032258\n",
              "3    04  6.047666666666667\n",
              "4    05  6.768506493506495\n",
              "5    06  4.625333333333333\n",
              "6    07  5.521824104234528\n",
              "7    08  5.953103448275862\n",
              "8    09  4.515925925925925\n",
              "9    10  4.155913978494624\n",
              "10   11  4.936194029850746\n",
              "11   12  5.842446043165467"
            ]
          },
          "metadata": {
            "tags": []
          },
          "execution_count": 46
        }
      ]
    },
    {
      "cell_type": "markdown",
      "metadata": {
        "id": "XYyKb9OmWaYF",
        "colab_type": "text"
      },
      "source": [
        "##欠測値を補完"
      ]
    },
    {
      "cell_type": "code",
      "metadata": {
        "id": "Ae1t1acVQQJ3",
        "colab_type": "code",
        "colab": {
          "base_uri": "https://localhost:8080/",
          "height": 70
        },
        "outputId": "a689ecd2-2fb8-4bab-aae1-b012eeb91c46"
      },
      "source": [
        "#欠測日を確認\n",
        "max_temp_chk = set(ret3[ret3[\"max_temp\"].isnull()][\"date\"].values)\n",
        "print(\"最高気温:\",max_temp_chk)\n",
        "\n",
        "min_temp_chk = set(ret3[ret3[\"min_temp\"].isnull()][\"date\"].values)\n",
        "print(\"最低気温:\",min_temp_chk)\n",
        "\n",
        "sun_chk = set(ret3[ret3[\"suntime\"].isnull()][\"date\"].values)\n",
        "print(\"日照時間:\",sun_chk)"
      ],
      "execution_count": 56,
      "outputs": [
        {
          "output_type": "stream",
          "text": [
            "最高気温: {'2012/04/04'}\n",
            "最低気温: {'2012/04/04'}\n",
            "日照時間: {'2017/07/17', '2012/11/08', '2014/12/05', '2013/05/19', '2010/02/18', '2017/07/11', '2012/07/23', '2013/05/21', '2014/02/20', '2012/11/09'}\n"
          ],
          "name": "stdout"
        }
      ]
    },
    {
      "cell_type": "code",
      "metadata": {
        "id": "fBDNLok5XNe6",
        "colab_type": "code",
        "colab": {}
      },
      "source": [
        "#最高気温\n",
        "# ret3.loc[(ret3[\"max_temp\"].isnull()) & (ret3['date'].str[5:7].isin([\"01\"])),\"max_temp\"] = temp_mean_df.loc[0,\"max_temp\"]\n",
        "# ret3.loc[(ret3[\"max_temp\"].isnull()) & (ret3['date'].str[5:7].isin([\"02\"])),\"max_temp\"] = temp_mean_df.loc[1,\"max_temp\"]\n",
        "# ret3.loc[(ret3[\"max_temp\"].isnull()) & (ret3['date'].str[5:7].isin([\"03\"])),\"max_temp\"] = temp_mean_df.loc[2,\"max_temp\"]\n",
        "ret3.loc[(ret3[\"max_temp\"].isnull()) & (ret3['date'].str[5:7].isin([\"04\"])),\"max_temp\"] = temp_mean_df.loc[3,\"max_temp\"]\n",
        "# ret3.loc[(ret3[\"max_temp\"].isnull()) & (ret3['date'].str[5:7].isin([\"05\"])),\"max_temp\"] = temp_mean_df.loc[4,\"max_temp\"]\n",
        "# ret3.loc[(ret3[\"max_temp\"].isnull()) & (ret3['date'].str[5:7].isin([\"06\"])),\"max_temp\"] = temp_mean_df.loc[5,\"max_temp\"]\n",
        "# ret3.loc[(ret3[\"max_temp\"].isnull()) & (ret3['date'].str[5:7].isin([\"07\"])),\"max_temp\"] = temp_mean_df.loc[6,\"max_temp\"]\n",
        "# ret3.loc[(ret3[\"max_temp\"].isnull()) & (ret3['date'].str[5:7].isin([\"08\"])),\"max_temp\"] = temp_mean_df.loc[7,\"max_temp\"]\n",
        "# ret3.loc[(ret3[\"max_temp\"].isnull()) & (ret3['date'].str[5:7].isin([\"09\"])),\"max_temp\"] = temp_mean_df.loc[8,\"max_temp\"]\n",
        "# ret3.loc[(ret3[\"max_temp\"].isnull()) & (ret3['date'].str[5:7].isin([\"10\"])),\"max_temp\"] = temp_mean_df.loc[9,\"max_temp\"]\n",
        "# ret3.loc[(ret3[\"max_temp\"].isnull()) & (ret3['date'].str[5:7].isin([\"11\"])),\"max_temp\"] = temp_mean_df.loc[10,\"max_temp\"]\n",
        "# ret3.loc[(ret3[\"max_temp\"].isnull()) & (ret3['date'].str[5:7].isin([\"12\"])),\"max_temp\"] = temp_mean_df.loc[11,\"max_temp\"]\n",
        "\n",
        "#最低気温\n",
        "# ret3.loc[(ret3[\"min_temp\"].isnull()) & (ret3['date'].str[5:7].isin([\"01\"])),\"min_temp\"] = temp_mean_df.loc[0,\"min_temp\"]\n",
        "# ret3.loc[(ret3[\"min_temp\"].isnull()) & (ret3['date'].str[5:7].isin([\"02\"])),\"min_temp\"] = temp_mean_df.loc[1,\"min_temp\"]\n",
        "# ret3.loc[(ret3[\"min_temp\"].isnull()) & (ret3['date'].str[5:7].isin([\"03\"])),\"min_temp\"] = temp_mean_df.loc[2,\"min_temp\"]\n",
        "ret3.loc[(ret3[\"min_temp\"].isnull()) & (ret3['date'].str[5:7].isin([\"04\"])),\"min_temp\"] = temp_mean_df.loc[3,\"min_temp\"]\n",
        "# ret3.loc[(ret3[\"min_temp\"].isnull()) & (ret3['date'].str[5:7].isin([\"05\"])),\"min_temp\"] = temp_mean_df.loc[4,\"min_temp\"]\n",
        "# ret3.loc[(ret3[\"min_temp\"].isnull()) & (ret3['date'].str[5:7].isin([\"06\"])),\"min_temp\"] = temp_mean_df.loc[5,\"min_temp\"]\n",
        "# ret3.loc[(ret3[\"min_temp\"].isnull()) & (ret3['date'].str[5:7].isin([\"07\"])),\"min_temp\"] = temp_mean_df.loc[6,\"min_temp\"]\n",
        "# ret3.loc[(ret3[\"min_temp\"].isnull()) & (ret3['date'].str[5:7].isin([\"08\"])),\"min_temp\"] = temp_mean_df.loc[7,\"min_temp\"]\n",
        "# ret3.loc[(ret3[\"min_temp\"].isnull()) & (ret3['date'].str[5:7].isin([\"09\"])),\"min_temp\"] = temp_mean_df.loc[8,\"min_temp\"]\n",
        "# ret3.loc[(ret3[\"min_temp\"].isnull()) & (ret3['date'].str[5:7].isin([\"10\"])),\"min_temp\"] = temp_mean_df.loc[9,\"min_temp\"]\n",
        "# ret3.loc[(ret3[\"min_temp\"].isnull()) & (ret3['date'].str[5:7].isin([\"11\"])),\"min_temp\"] = temp_mean_df.loc[10,\"min_temp\"]\n",
        "# ret3.loc[(ret3[\"min_temp\"].isnull()) & (ret3['date'].str[5:7].isin([\"12\"])),\"min_temp\"] = temp_mean_df.loc[11,\"min_temp\"]\n",
        "\n",
        "#日照時間\n",
        "ret3.loc[(ret3[\"suntime\"].isnull()) & (ret3['date'].str[5:7].isin([\"01\"])),\"suntime\"] = sun_mean_df.loc[0,\"suntime\"]\n",
        "ret3.loc[(ret3[\"suntime\"].isnull()) & (ret3['date'].str[5:7].isin([\"02\"])),\"suntime\"] = sun_mean_df.loc[1,\"suntime\"]\n",
        "ret3.loc[(ret3[\"suntime\"].isnull()) & (ret3['date'].str[5:7].isin([\"03\"])),\"suntime\"] = sun_mean_df.loc[2,\"suntime\"]\n",
        "ret3.loc[(ret3[\"suntime\"].isnull()) & (ret3['date'].str[5:7].isin([\"04\"])),\"suntime\"] = sun_mean_df.loc[3,\"suntime\"]\n",
        "ret3.loc[(ret3[\"suntime\"].isnull()) & (ret3['date'].str[5:7].isin([\"05\"])),\"suntime\"] = sun_mean_df.loc[4,\"suntime\"]\n",
        "ret3.loc[(ret3[\"suntime\"].isnull()) & (ret3['date'].str[5:7].isin([\"06\"])),\"suntime\"] = sun_mean_df.loc[5,\"suntime\"]\n",
        "ret3.loc[(ret3[\"suntime\"].isnull()) & (ret3['date'].str[5:7].isin([\"07\"])),\"suntime\"] = sun_mean_df.loc[6,\"suntime\"]\n",
        "ret3.loc[(ret3[\"suntime\"].isnull()) & (ret3['date'].str[5:7].isin([\"08\"])),\"suntime\"] = sun_mean_df.loc[7,\"suntime\"]\n",
        "ret3.loc[(ret3[\"suntime\"].isnull()) & (ret3['date'].str[5:7].isin([\"09\"])),\"suntime\"] = sun_mean_df.loc[8,\"suntime\"]\n",
        "ret3.loc[(ret3[\"suntime\"].isnull()) & (ret3['date'].str[5:7].isin([\"10\"])),\"suntime\"] = sun_mean_df.loc[9,\"suntime\"]\n",
        "ret3.loc[(ret3[\"suntime\"].isnull()) & (ret3['date'].str[5:7].isin([\"11\"])),\"suntime\"] = sun_mean_df.loc[10,\"suntime\"]\n",
        "ret3.loc[(ret3[\"suntime\"].isnull()) & (ret3['date'].str[5:7].isin([\"12\"])),\"suntime\"] = sun_mean_df.loc[11,\"suntime\"]"
      ],
      "execution_count": 0,
      "outputs": []
    },
    {
      "cell_type": "code",
      "metadata": {
        "id": "o2qDKOcSPjrO",
        "colab_type": "code",
        "outputId": "e33dd813-fc23-4f46-c82f-fe4dd718b80d",
        "colab": {
          "base_uri": "https://localhost:8080/",
          "height": 176
        }
      },
      "source": [
        "#予測に不要な項目を削除\n",
        "ret4 = ret3.copy().drop([\"date\"], axis=1)\n",
        "\n",
        "print(ret4.head())\n",
        "print(ret4.shape)"
      ],
      "execution_count": 58,
      "outputs": [
        {
          "output_type": "stream",
          "text": [
            "   hh_00  hh_01  hh_02  hh_03  hh_04  ...  ninzu_5  flg  max_temp  min_temp  suntime\n",
            "0    0.0    0.0    0.0    0.0    0.0  ...        0    1        34      26.3      9.4\n",
            "1    0.0    0.0    0.0    0.0    0.0  ...        0    1      33.7      27.3     10.8\n",
            "2    0.0    0.0    0.0    0.0    0.0  ...        0    1      33.6      27.6      9.5\n",
            "3    0.0    0.0    0.0    0.0    0.0  ...        0    1      33.4      27.8     10.5\n",
            "4    0.0    0.0    0.0    0.0    0.0  ...        0    1      33.9      26.2     11.1\n",
            "\n",
            "[5 rows x 40 columns]\n",
            "(2947671, 40)\n"
          ],
          "name": "stdout"
        }
      ]
    },
    {
      "cell_type": "code",
      "metadata": {
        "id": "PDTUxAd5G-k6",
        "colab_type": "code",
        "outputId": "0a9b72b8-3249-493e-f800-aeccad615487",
        "colab": {
          "base_uri": "https://localhost:8080/",
          "height": 176
        }
      },
      "source": [
        "#カラム「max_temp」「min_temp」を元に「diff_temp」を作成\n",
        "ret5 = ret4.assign(diff_temp=ret4['max_temp'].astype(float)-ret4['min_temp'].astype(float))\n",
        "\n",
        "print(ret5.head())\n",
        "print(ret5.shape)"
      ],
      "execution_count": 59,
      "outputs": [
        {
          "output_type": "stream",
          "text": [
            "   hh_00  hh_01  hh_02  hh_03  hh_04  ...  flg  max_temp  min_temp  suntime  diff_temp\n",
            "0    0.0    0.0    0.0    0.0    0.0  ...    1        34      26.3      9.4        7.7\n",
            "1    0.0    0.0    0.0    0.0    0.0  ...    1      33.7      27.3     10.8        6.4\n",
            "2    0.0    0.0    0.0    0.0    0.0  ...    1      33.6      27.6      9.5        6.0\n",
            "3    0.0    0.0    0.0    0.0    0.0  ...    1      33.4      27.8     10.5        5.6\n",
            "4    0.0    0.0    0.0    0.0    0.0  ...    1      33.9      26.2     11.1        7.7\n",
            "\n",
            "[5 rows x 41 columns]\n",
            "(2947671, 41)\n"
          ],
          "name": "stdout"
        }
      ]
    },
    {
      "cell_type": "code",
      "metadata": {
        "id": "oANaC4eVj2vE",
        "colab_type": "code",
        "outputId": "52b57532-0a61-41c2-e47e-9c3d6af1f553",
        "colab": {
          "base_uri": "https://localhost:8080/",
          "height": 176
        }
      },
      "source": [
        "#型変換\n",
        "ret5['max_temp'] = ret5['max_temp'].astype('float')\n",
        "ret5['min_temp'] = ret5['min_temp'].astype('float')\n",
        "ret5['diff_temp'] = ret5['diff_temp'].astype('float')\n",
        "ret5['suntime'] = ret5['suntime'].astype('float')\n",
        "\n",
        "#正規化\n",
        "ret_ = ret5.copy()\n",
        "\n",
        "s = ret_['max_temp']\n",
        "ret_['max_temp'] = (s - s.min()) / (s.max() - s.min())\n",
        "\n",
        "s = ret_['min_temp']\n",
        "ret_['min_temp'] = (s - s.min()) / (s.max() - s.min())\n",
        "\n",
        "s = ret_['suntime']\n",
        "ret_['suntime'] = (s - s.min()) / (s.max() - s.min())\n",
        "\n",
        "s = ret_['diff_temp']\n",
        "ret_['diff_temp'] = (s - s.min()) / (s.max() - s.min())\n",
        "\n",
        "ret = ret_.copy()\n",
        "print(ret.head())\n",
        "print(ret.shape)"
      ],
      "execution_count": 60,
      "outputs": [
        {
          "output_type": "stream",
          "text": [
            "   hh_00  hh_01  hh_02  hh_03  ...  max_temp  min_temp   suntime  diff_temp\n",
            "0    0.0    0.0    0.0    0.0  ...  0.877551  0.914013  0.691176   0.358696\n",
            "1    0.0    0.0    0.0    0.0  ...  0.868805  0.945860  0.794118   0.288043\n",
            "2    0.0    0.0    0.0    0.0  ...  0.865889  0.955414  0.698529   0.266304\n",
            "3    0.0    0.0    0.0    0.0  ...  0.860058  0.961783  0.772059   0.244565\n",
            "4    0.0    0.0    0.0    0.0  ...  0.874636  0.910828  0.816176   0.358696\n",
            "\n",
            "[5 rows x 41 columns]\n",
            "(2947671, 41)\n"
          ],
          "name": "stdout"
        }
      ]
    },
    {
      "cell_type": "code",
      "metadata": {
        "id": "ijB-UEAzJlBx",
        "colab_type": "code",
        "outputId": "b63a1a79-5089-45a8-d9c8-ab49d5aa651c",
        "colab": {
          "base_uri": "https://localhost:8080/",
          "height": 70
        }
      },
      "source": [
        "#不均衡データであることを確認する。\n",
        "print(ret[\"flg\"].value_counts())"
      ],
      "execution_count": 61,
      "outputs": [
        {
          "output_type": "stream",
          "text": [
            "0    2942675\n",
            "1       4996\n",
            "Name: flg, dtype: int64\n"
          ],
          "name": "stdout"
        }
      ]
    },
    {
      "cell_type": "code",
      "metadata": {
        "id": "IewDb5IzJyWX",
        "colab_type": "code",
        "outputId": "f709ad88-1a40-4d0b-9ed6-9fc992486dcb",
        "colab": {
          "base_uri": "https://localhost:8080/",
          "height": 178
        }
      },
      "source": [
        "#ダウンサンプリング\n",
        "!pip install imbalanced-learn\n",
        "\n",
        "from sklearn.metrics import accuracy_score\n",
        "from imblearn.under_sampling import RandomUnderSampler\n",
        "from sklearn.model_selection import cross_val_predict\n",
        "\n",
        "# ラベルと入力データに分離する\n",
        "y = ret.loc[:,\"flg\"]\n",
        "y = y.values.tolist()\n",
        "\n",
        "x = ret.loc[:,[\"hh_00\",\"hh_01\",\"hh_02\",\"hh_03\",\"hh_04\",\"hh_05\",\"hh_06\",\"hh_07\",\"hh_08\",\"hh_09\",\"hh_10\",\"hh_11\",\n",
        "               \"hh_12\",\"hh_13\",\"hh_14\",\"hh_15\",\"hh_16\",\"hh_17\",\"hh_18\",\"hh_19\",\"hh_20\",\"hh_21\",\"hh_22\",\"hh_23\",\n",
        "               \"yobi_0\",\"yobi_1\",\"yobi_2\",\"yobi_3\",\"yobi_4\",\"yobi_5\",\"yobi_6\",\n",
        "               \"ninzu_1\",\"ninzu_2\",\"ninzu_3\",\"ninzu_4\",\"ninzu_5\",\"max_temp\",\"min_temp\",\"suntime\",\"diff_temp\"]]\n",
        "\n",
        "#ダウンサンプリング\n",
        "sampler = RandomUnderSampler(random_state=42)\n",
        "X_resampled, y_resampled = sampler.fit_resample(x, y)\n",
        "print(X_resampled.shape)"
      ],
      "execution_count": 62,
      "outputs": [
        {
          "output_type": "stream",
          "text": [
            "Requirement already satisfied: imbalanced-learn in /usr/local/lib/python3.6/dist-packages (0.4.3)\n",
            "Requirement already satisfied: scikit-learn>=0.20 in /usr/local/lib/python3.6/dist-packages (from imbalanced-learn) (0.21.3)\n",
            "Requirement already satisfied: scipy>=0.13.3 in /usr/local/lib/python3.6/dist-packages (from imbalanced-learn) (1.3.1)\n",
            "Requirement already satisfied: numpy>=1.8.2 in /usr/local/lib/python3.6/dist-packages (from imbalanced-learn) (1.16.4)\n",
            "Requirement already satisfied: joblib>=0.11 in /usr/local/lib/python3.6/dist-packages (from scikit-learn>=0.20->imbalanced-learn) (0.13.2)\n"
          ],
          "name": "stdout"
        },
        {
          "output_type": "stream",
          "text": [
            "/usr/local/lib/python3.6/dist-packages/sklearn/externals/six.py:31: DeprecationWarning: The module is deprecated in version 0.21 and will be removed in version 0.23 since we've dropped support for Python 2.7. Please rely on the official version of six (https://pypi.org/project/six/).\n",
            "  \"(https://pypi.org/project/six/).\", DeprecationWarning)\n"
          ],
          "name": "stderr"
        },
        {
          "output_type": "stream",
          "text": [
            "(9992, 40)\n"
          ],
          "name": "stdout"
        }
      ]
    },
    {
      "cell_type": "code",
      "metadata": {
        "id": "YR0nUQzqaea0",
        "colab_type": "code",
        "colab": {}
      },
      "source": [
        "#再データフレーム化\n",
        "X_resampled2 = pd.DataFrame(X_resampled,columns=[\"hh_00\",\"hh_01\",\"hh_02\",\"hh_03\",\"hh_04\",\"hh_05\",\"hh_06\",\"hh_07\",\"hh_08\",\"hh_09\",\"hh_10\",\"hh_11\",\n",
        "                                                 \"hh_12\",\"hh_13\",\"hh_14\",\"hh_15\",\"hh_16\",\"hh_17\",\"hh_18\",\"hh_19\",\"hh_20\",\"hh_21\",\"hh_22\",\"hh_23\",\n",
        "                                                 \"yobi_0\",\"yobi_1\",\"yobi_2\",\"yobi_3\",\"yobi_4\",\"yobi_5\",\"yobi_6\",\n",
        "                                                 \"ninzu_1\",\"ninzu_2\",\"ninzu_3\",\"ninzu_4\",\"ninzu_5\",\"max_temp\",\"min_temp\",\"suntime\",\"diff_temp\"])\n",
        "y_resampled2 = pd.DataFrame(y_resampled,columns=[\"flg\"])\n",
        "\n",
        "#結合\n",
        "resmp_df = pd.concat([X_resampled2, y_resampled2],axis=1).reset_index(drop=True)\n",
        "\n",
        "#特徴量作成\n",
        "y_lst = [\"yobi_0\",\"yobi_1\",\"yobi_2\",\"yobi_3\",\"yobi_4\",\"yobi_5\",\"yobi_6\"]\n",
        "lst = [\"hh_00\",\"hh_01\",\"hh_02\",\"hh_03\",\"hh_04\",\"hh_05\",\"hh_06\",\"hh_07\",\"hh_08\",\"hh_09\",\"hh_10\",\"hh_11\",\n",
        "       \"hh_12\",\"hh_13\",\"hh_14\",\"hh_15\",\"hh_16\",\"hh_17\",\"hh_18\",\"hh_19\",\"hh_20\",\"hh_21\",\"hh_22\",\"hh_23\"]\n",
        "\n",
        "for ii in range(len(y_lst)):\n",
        "  for i in range(len(lst)):\n",
        "    resmp_df = resmp_df.assign(col_wk=resmp_df[lst[i]].astype(int)*resmp_df[y_lst[ii]].astype(int))\n",
        "    #カラム名変更(col_wk -> XXXXXXX)\n",
        "    resmp_df = resmp_df.rename(columns={'col_wk': lst[i]+\"_\"+y_lst[ii]})\n",
        "\n",
        "resmp_df.to_csv(\"./drive/My Drive/TrainAccident/AccidentResample.csv\",index=False)"
      ],
      "execution_count": 0,
      "outputs": []
    },
    {
      "cell_type": "code",
      "metadata": {
        "colab_type": "code",
        "id": "4M0LUZlEaXIq",
        "outputId": "b10edaed-0bd9-481c-8267-11c053bcd2a3",
        "colab": {
          "base_uri": "https://localhost:8080/",
          "height": 34
        }
      },
      "source": [
        "from sklearn.model_selection import train_test_split\n",
        "from sklearn.ensemble import RandomForestClassifier\n",
        "from sklearn.ensemble import GradientBoostingClassifier\n",
        "\n",
        "# ラベルと入力データに分離する\n",
        "y = resmp_df.loc[:,\"flg\"]\n",
        "y = y.values.tolist()\n",
        "x = resmp_df.drop([\"flg\"],axis=1)\n",
        "\n",
        "# 学習用とテスト用に分離する\n",
        "x_train, x_test, y_train, y_test = train_test_split(x, y, test_size = 0.2, train_size = 0.8, shuffle = True)\n",
        "\n",
        "# 学習する\n",
        "model = RandomForestClassifier ()\n",
        "model.fit(x_train, y_train)\n",
        "\n",
        "# 評価する\n",
        "y_pred = model.predict(x_test)\n",
        "print(\"正解率 = \" , accuracy_score(y_test, y_pred))\n",
        "\n",
        "\n",
        "#参考：日本の天気予報は正解率87%"
      ],
      "execution_count": 130,
      "outputs": [
        {
          "output_type": "stream",
          "text": [
            "正解率 =  0.5547773886943472\n"
          ],
          "name": "stdout"
        }
      ]
    },
    {
      "cell_type": "code",
      "metadata": {
        "id": "7RsNqqcCUvjY",
        "colab_type": "code",
        "outputId": "8cf8e2b8-289c-4a51-afcb-a7876193c0db",
        "colab": {
          "base_uri": "https://localhost:8080/",
          "height": 34
        }
      },
      "source": [
        "#真陽性率 (Recall)\n",
        "#Positive なデータに対してモデルがどれだけ正解できているかを確認\n",
        "from sklearn.metrics import recall_score\n",
        "print(\"真陽性率 = \",recall_score(y_test, y_pred))"
      ],
      "execution_count": 131,
      "outputs": [
        {
          "output_type": "stream",
          "text": [
            "真陽性率 =  0.514018691588785\n"
          ],
          "name": "stdout"
        }
      ]
    },
    {
      "cell_type": "code",
      "metadata": {
        "id": "lCCe9jG2YfQN",
        "colab_type": "code",
        "outputId": "ba7ef236-7844-4ec0-f78e-47563aef5ac4",
        "colab": {
          "base_uri": "https://localhost:8080/",
          "height": 34
        }
      },
      "source": [
        "#適合率 (Precision) \n",
        "#モデルが Positive と判断したデータの中に、どれだけ本当に Positive なものがあったかを確認\n",
        "from sklearn.metrics import precision_score\n",
        "print(\"適合率 = \",precision_score(y_test, y_pred))"
      ],
      "execution_count": 132,
      "outputs": [
        {
          "output_type": "stream",
          "text": [
            "適合率 =  0.5398037077426391\n"
          ],
          "name": "stdout"
        }
      ]
    },
    {
      "cell_type": "code",
      "metadata": {
        "id": "JKeucIp_czsR",
        "colab_type": "code",
        "outputId": "cc495486-f6bc-4b25-be10-e5e7ff00cfcf",
        "colab": {
          "base_uri": "https://localhost:8080/",
          "height": 105
        }
      },
      "source": [
        "#他のアルゴリズムの場合の予測\n",
        "import warnings\n",
        "from sklearn.utils.testing import all_estimators\n",
        "from sklearn.metrics import accuracy_score\n",
        "\n",
        "# classifierのアルゴリズム全てを取得する --- (*1)\n",
        "warnings.filterwarnings('ignore')\n",
        "allAlgorithms = all_estimators(type_filter=\"classifier\")\n",
        "\n",
        "for(name, algorithm) in allAlgorithms:\n",
        "\n",
        "    #エラー回避\n",
        "    if name == 'GradientBoostingClassifier' or name == 'RandomForestClassifier' or name == 'KNeighborsClassifier' or name == 'LogisticRegression' or name == 'LogisticRegressionCV':\n",
        "\n",
        "      # 各アリゴリズムのオブジェクトを作成 --- (*2)\n",
        "      # 注意:一部のアルゴリズムは引数に何かを渡さないとエラーになる。\n",
        "      clf = algorithm()\n",
        "\n",
        "      # 学習して、評価する --- (*3)\n",
        "      #( x_train : 学習用データ / learn_label : ラベル)\n",
        "      clf.fit(x, y)\n",
        "      y_pred = clf.predict(x_test)\n",
        "      print(name,\"の正解率 = \" , accuracy_score(y_test, y_pred))"
      ],
      "execution_count": 108,
      "outputs": [
        {
          "output_type": "stream",
          "text": [
            "GradientBoostingClassifier の正解率 =  0.6203101550775387\n",
            "KNeighborsClassifier の正解率 =  0.7048524262131065\n",
            "LogisticRegression の正解率 =  0.5772886443221611\n",
            "LogisticRegressionCV の正解率 =  0.5757878939469735\n",
            "RandomForestClassifier の正解率 =  0.9869934967483742\n"
          ],
          "name": "stdout"
        }
      ]
    },
    {
      "cell_type": "code",
      "metadata": {
        "id": "_dAC61b2sRM1",
        "colab_type": "code",
        "outputId": "504b98f7-ba94-464f-b5d1-2fc328bc1210",
        "colab": {
          "base_uri": "https://localhost:8080/",
          "height": 282
        }
      },
      "source": [
        "#各特徴量の重要度を可視化\n",
        "import matplotlib.pyplot as plt\n",
        "% matplotlib inline\n",
        "import numpy as np\n",
        " \n",
        "def plot_feature_importances(model):\n",
        "  n_features = x_train.values.data.shape[1] # 全説明変数\n",
        "  plt.barh(range(n_features), model.feature_importances_, align='center') # 描画する際の枠組みを設定\n",
        "  plt.yticks(np.arange(n_features), x.columns) # 縦軸の設定\n",
        "  plt.xlabel('importances') # 横軸の設定\n",
        "  plt.ylabel('features') # 縦軸の設定\n",
        "  plt.show()\n",
        "\n",
        "#実行\n",
        "plot_feature_importances(clf)\n",
        " "
      ],
      "execution_count": 127,
      "outputs": [
        {
          "output_type": "display_data",
          "data": {
            "image/png": "[encoded data removed]",
            "text/plain": [
              "<Figure size 432x288 with 1 Axes>"
            ]
          },
          "metadata": {
            "tags": []
          }
        }
      ]
    },
    {
      "cell_type": "code",
      "metadata": {
        "id": "vYjzIDDZ2pc-",
        "colab_type": "code",
        "colab": {}
      },
      "source": [
        "#精度の追求\n",
        "#アンサンブル学習(Voting )\n",
        "# voting に使う分類器を用意する\n",
        "from collections import defaultdict\n",
        "\n",
        "import numpy as np\n",
        "from tqdm import tqdm\n",
        "from sklearn import datasets\n",
        "from sklearn.ensemble import RandomForestClassifier\n",
        "from sklearn.ensemble import VotingClassifier\n",
        "from sklearn.linear_model import LogisticRegression\n",
        "from sklearn.neighbors import KNeighborsClassifier\n",
        "from sklearn.metrics import accuracy_score\n",
        "from sklearn.svm import SVC\n",
        "from sklearn.model_selection import StratifiedKFold\n",
        "from sklearn.naive_bayes import GaussianNB\n",
        "\n",
        "def main():\n",
        "  X = x\n",
        "  y = y\n",
        "\n",
        "  estimators = [\n",
        "    ('svm', SVC(gamma='scale', probability=True)),\n",
        "    ('rf', RandomForestClassifier(n_estimators=100)),\n",
        "    ('logit', LogisticRegression(solver='lbfgs', max_iter=10000)),\n",
        "    ('knn', KNeighborsClassifier()),\n",
        "    ('nb', GaussianNB()),\n",
        "  ]\n",
        "\n",
        "  accs = defaultdict(list)\n",
        "  skf = StratifiedKFold(n_splits=5, shuffle=True, random_state=42)\n",
        "\n",
        "  for train_index, test_index in tqdm(list(skf.split(X, y))):\n",
        "    X_train, X_test = X[train_index], X[test_index]\n",
        "    y_train, y_test = y[train_index], y[test_index]\n",
        "\n",
        "    # 分類器に重みをつける\n",
        "    voting = VotingClassifier(estimators,weights=[1,3,1,1,1])\n",
        "    voting.fit(X_train, y_train)\n",
        "\n",
        "    y_pred = voting.predict(X_test)\n",
        "    acc = accuracy_score(y_test, y_pred)\n",
        "    accs['voting'].append(acc)\n",
        "\n",
        "    for name, estimator in voting.named_estimators_.items():\n",
        "      y_pred = estimator.predict(X_test)\n",
        "      acc = accuracy_score(y_test, y_pred)\n",
        "      accs[name].append(acc)\n",
        "\n",
        "  for name, acc_list in accs.items():\n",
        "      mean_acc = np.array(acc_list).mean()\n",
        "      print(name,':正解率 = ', mean_acc)\n",
        "      print(name,\":真陽性率 = \",recall_score(y_test, y_pred))\n",
        "      print(name,\":適合率 = \",precision_score(y_test, y_pred))\n",
        "      \n",
        "if __name__ == '__main__':\n",
        "  main()"
      ],
      "execution_count": 0,
      "outputs": []
    },
    {
      "cell_type": "code",
      "metadata": {
        "id": "rREX_w-qOzON",
        "colab_type": "code",
        "colab": {}
      },
      "source": [
        "# pickleでモデルを保存\n",
        "import pickle\n",
        "\n",
        "filename = './drive/My Drive/TrainAccident/Accident_RFC_model.sav'\n",
        "pickle.dump(model, open(filename, 'wb'))"
      ],
      "execution_count": 0,
      "outputs": []
    },
    {
      "cell_type": "code",
      "metadata": {
        "id": "pHSHX7x5WXZf",
        "colab_type": "code",
        "outputId": "c8911991-0242-4c0c-8447-223b8304199f",
        "colab": {
          "base_uri": "https://localhost:8080/",
          "height": 34
        }
      },
      "source": [
        "#保存したモデルをロードする(RFC)\n",
        "filename = './drive/My Drive/TrainAccident/Accident_RFC_model.sav'\n",
        "loaded_RFC_model = pickle.load(open(filename, 'rb'))\n",
        "result = loaded_RFC_model.score(x_test, y_test)\n",
        "print(result)"
      ],
      "execution_count": 81,
      "outputs": [
        {
          "output_type": "stream",
          "text": [
            "0.552776388194097\n"
          ],
          "name": "stdout"
        }
      ]
    }
  ]
}