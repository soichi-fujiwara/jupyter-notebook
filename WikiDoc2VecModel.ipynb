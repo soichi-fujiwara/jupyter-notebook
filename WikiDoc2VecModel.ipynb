{
  "nbformat": 4,
  "nbformat_minor": 0,
  "metadata": {
    "colab": {
      "name": "WikiDoc2VecModel.ipynb",
      "version": "0.3.2",
      "provenance": [],
      "toc_visible": true,
      "include_colab_link": true
    },
    "kernelspec": {
      "name": "python3",
      "display_name": "Python 3"
    },
    "accelerator": "GPU"
  },
  "cells": [
    {
      "cell_type": "markdown",
      "metadata": {
        "id": "view-in-github",
        "colab_type": "text"
      },
      "source": [
        "<a href=\"https://colab.research.google.com/github/soichi-fujiwara/jupyter-notebook/blob/master/WikiDoc2VecModel.ipynb\" target=\"_parent\"><img src=\"https://colab.research.google.com/assets/colab-badge.svg\" alt=\"Open In Colab\"/></a>"
      ]
    },
    {
      "cell_type": "code",
      "metadata": {
        "id": "HhJW_LSslFQy",
        "colab_type": "code",
        "colab": {
          "base_uri": "https://localhost:8080/",
          "height": 34
        },
        "outputId": "7d27be91-22fa-41b0-f447-e8ea2132c4ed"
      },
      "source": [
        "!cat /proc/uptime | awk '{print $1 /60 /60 \"hours\"}'"
      ],
      "execution_count": 1,
      "outputs": [
        {
          "output_type": "stream",
          "text": [
            "1.25564hours\n"
          ],
          "name": "stdout"
        }
      ]
    },
    {
      "cell_type": "markdown",
      "metadata": {
        "id": "QceaPBnKlGKq",
        "colab_type": "text"
      },
      "source": [
        "##Wikipediaからコーパス作成\n",
        "https://yululy.com/colaboratory_doc2vec_model/"
      ]
    },
    {
      "cell_type": "code",
      "metadata": {
        "id": "pW1-J0Kv3kxp",
        "colab_type": "code",
        "colab": {}
      },
      "source": [
        "from google.colab import drive\n",
        "drive.mount('/content/drive')"
      ],
      "execution_count": 0,
      "outputs": []
    },
    {
      "cell_type": "code",
      "metadata": {
        "id": "aIdSmjCMj-Ou",
        "colab_type": "code",
        "colab": {}
      },
      "source": [
        "!pip install gensim"
      ],
      "execution_count": 0,
      "outputs": []
    },
    {
      "cell_type": "code",
      "metadata": {
        "id": "d8F8y6qcxal0",
        "colab_type": "code",
        "colab": {}
      },
      "source": [
        "class TaggedWikiDocument(object):\n",
        "  def __init__(self, wiki):\n",
        "    self.wiki = wiki\n",
        "    self.wiki.metadata = True\n",
        "  def __iter__(self):\n",
        "    for content, (page_id, title) in self.wiki.get_texts():\n",
        "      yield TaggedDocument([c for c in content], [title])"
      ],
      "execution_count": 0,
      "outputs": []
    },
    {
      "cell_type": "code",
      "metadata": {
        "id": "Pn9EmuvNkLhc",
        "colab_type": "code",
        "colab": {}
      },
      "source": [
        "#ログ\n",
        "# import logging\n",
        "# logging.basicConfig(format='%(asctime)s : %(levelname)s : %(message)s', level=logging.INFO)\n",
        "\n",
        "#ダウンロードするための関数\n",
        "import urllib.request\n",
        "def download(url, title):\n",
        "    urllib.request.urlretrieve(url,\"{0}\".format(title))\n",
        "\n",
        "#コーパス作成\n",
        "import gensim\n",
        "from gensim.corpora.wikicorpus import WikiCorpus\n",
        "from gensim.models.doc2vec import Doc2Vec, Doc2VecVocab, TaggedDocument\n",
        "\n",
        "#ダウンロード済みの場合は不要\n",
        "# download('https://dumps.wikimedia.org/jawiki/latest/jawiki-latest-pages-articles.xml.bz2','jawiki-latest-pages-articles.xml.bz2')\n",
        "wiki = WikiCorpus('jawiki-latest-pages-articles.xml.bz2')\n",
        "\n",
        "document = TaggedWikiDocument(wiki)\n",
        "\n",
        "from gensim.models.doc2vec import Doc2Vec\n",
        "# min_count : 最低出現回数\n",
        "# epochs : エポック数\n",
        "#  (デフォルトの5より大きく指定することで推測結果の安定性と精度が上がる)\n",
        "# workers : 同時起動スレッド数\n",
        "model = Doc2Vec(documents=document, dm=1, vector_size=100, window=8, min_count=10, epochs=5, workers=6)\n",
        "model.save('./drive/My Drive/NLP/wiki.model')\n",
        "\n",
        "#モデルをローカルにダウンロードして保存\n",
        "# from google.colab import files\n",
        "# files.download('wiki.model')"
      ],
      "execution_count": 0,
      "outputs": []
    }
  ]
}